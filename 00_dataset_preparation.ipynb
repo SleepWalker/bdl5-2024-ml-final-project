{
 "cells": [
  {
   "cell_type": "markdown",
   "metadata": {},
   "source": [
    "## Завдання: Task #2 Модель визначення вікової категорії\n",
    "\n",
    "- Бізнес ціль: Визначення вікової категорії для доповнення портрету абонентів-користувачів послуг та для використання в рамках пропозицій цільового маркетингу\n",
    "- Задача: Визначити вікову категорію абонентів\n",
    "\n",
    "### Model Target\n",
    "\n",
    "- 1 – Age group <20 years\n",
    "- 2 – Age group 20-30 years\n",
    "- 3 – Age group 30-40 years\n",
    "- 4 – Age group 40-50 years\n",
    "- 5 – Age group >50 years\n",
    "\n",
    "### Sample size\n",
    "\n",
    "- Train 77% (147К)\n",
    "- Test 23% (44K)\n",
    "\n",
    "### Дані\n",
    "\n",
    "- TRAIN_AGE_MODEL_FE (Target - розмітка ) – абонентська вітрина\n",
    "- TRAIN_AGE_MODEL_B_NUM – дані про короткі номери\n",
    "- TRAIN_AGE_MODEL_DPI – трафік мобільних додатків\n",
    "\n",
    "Опис даних в файлі «Описание данных.xlsx»\n",
    "\n",
    "### Evaluation\n",
    "\n",
    "Метриками якості моделі визначені показники AUC, Classification report, Confusion matrix на Test Sample.\n",
    "За базову метрику для порівняння якості моделей студентів обрана Accuracy з базовим результатом\n",
    "(Baseline model) 0,45 на Test Sample.\n",
    "\n",
    "### Результат роботи\n",
    "\n",
    "Результатом роботи є Jupyter Notebook з коментарями до коду, за допомогою якого\n",
    "прогнозується результат на Test Sample та презентації (графіки, таблиці) результатів з\n",
    "орієнтацією на бізнес (не технічних) користувачів, що має включати наступні пункти: feature\n",
    "explorer, feature encoding, спосіб валідації, best model (best algorithm/best metrics), підхід до\n",
    "підбору hyperparameters model, features importance, shap\n"
   ]
  },
  {
   "cell_type": "code",
   "execution_count": 17,
   "metadata": {},
   "outputs": [
    {
     "name": "stdout",
     "output_type": "stream",
     "text": [
      "TRAIN_MODEL_FE: (146953, 817)\n",
      "TRAIN_MODEL_B_NUM: (803268, 8)\n",
      "TRAIN_MODEL_DPI: (7058446, 6)\n",
      "TEST_MODEL_FE: (44307, 817)\n",
      "TEST_MODEL_B_NUM: (244897, 8)\n",
      "TEST_MODEL_DPI: (2133277, 6)\n"
     ]
    }
   ],
   "source": [
    "import pickle\n",
    "\n",
    "with open(\"./age_model_pd2.pcl\", \"rb\") as f:\n",
    "    data = pickle.load(f)\n",
    "\n",
    "data_names = list(data[1][0].values()) + list(data[2][0].values())\n",
    "data = data[1][1:] + data[2][1:]\n",
    "\n",
    "for index, name in enumerate(data_names):\n",
    "    print(f\"{name}: {data[index].shape}\")"
   ]
  },
  {
   "cell_type": "markdown",
   "metadata": {},
   "source": [
    "`B_NUM` and `DPI` are many to one (one `abon_id` can have multiple num and dpi entries). Therefore we can not just merge this data in one df.\n"
   ]
  },
  {
   "cell_type": "code",
   "execution_count": 18,
   "metadata": {},
   "outputs": [
    {
     "name": "stdout",
     "output_type": "stream",
     "text": [
      "Mem. usage decreased to 238.53 Mb (73.9% reduction)\n",
      "Mem. usage decreased to 18.39 Mb (60.0% reduction)\n",
      "Mem. usage decreased to 94.24 Mb (65.0% reduction)\n",
      "Mem. usage decreased to 71.92 Mb (73.9% reduction)\n",
      "Mem. usage decreased to  5.61 Mb (60.0% reduction)\n",
      "Mem. usage decreased to 28.48 Mb (65.0% reduction)\n"
     ]
    }
   ],
   "source": [
    "# unpack the data\n",
    "from utils import compress_df\n",
    "import dask.dataframe as dd\n",
    "\n",
    "df_train_fe, df_train_num, df_train_dpi, df_test_fe, df_test_num, df_test_dpi = map(\n",
    "    lambda df: dd.from_pandas(compress_df(df))\n",
    "    .set_index(\"abon_id\")\n",
    "    .repartition(npartitions=2),\n",
    "    data,\n",
    ")\n",
    "del data\n",
    "\n",
    "TARGET_KEY = \"target\"\n",
    "df_train_fe[TARGET_KEY] = df_train_fe[TARGET_KEY].astype(\"int8\")\n",
    "df_test_fe[TARGET_KEY] = df_test_fe[TARGET_KEY].astype(\"int8\")"
   ]
  },
  {
   "cell_type": "code",
   "execution_count": 14,
   "metadata": {},
   "outputs": [],
   "source": [
    "import shutil\n",
    "\n",
    "shutil.rmtree('./data', ignore_errors=True)\n",
    "\n",
    "df_dict = {\n",
    "    \"train_fe\": df_train_fe,\n",
    "    \"train_num\": df_train_num,\n",
    "    \"train_dpi\": df_train_dpi,\n",
    "    \"test_fe\": df_test_fe,\n",
    "    \"test_num\": df_test_num,\n",
    "    \"test_dpi\": df_test_dpi,\n",
    "}\n",
    "\n",
    "for key, df in df_dict.items():\n",
    "    df.to_parquet(f\"./data/{key}\")"
   ]
  }
 ],
 "metadata": {
  "kernelspec": {
   "display_name": "Python 3",
   "language": "python",
   "name": "python3"
  },
  "language_info": {
   "codemirror_mode": {
    "name": "ipython",
    "version": 3
   },
   "file_extension": ".py",
   "mimetype": "text/x-python",
   "name": "python",
   "nbconvert_exporter": "python",
   "pygments_lexer": "ipython3",
   "version": "3.10.12"
  }
 },
 "nbformat": 4,
 "nbformat_minor": 2
}

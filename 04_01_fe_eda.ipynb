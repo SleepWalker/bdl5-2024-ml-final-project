{
 "cells": [
  {
   "cell_type": "markdown",
   "metadata": {},
   "source": [
    "## EDA of fe dataset (general features dataset)\n",
    "\n",
    "Examine data from `fe` dataset and select features to work with in the next notebooks.\n"
   ]
  },
  {
   "cell_type": "code",
   "execution_count": 1,
   "metadata": {},
   "outputs": [],
   "source": [
    "import pandas as pd\n",
    "from sklearn.inspection import permutation_importance\n",
    "from utils import io\n",
    "from utils import eda\n",
    "import utils.analyze as analyze\n",
    "import utils.model_lgb as model_lgb\n",
    "import project.project_api as project_api\n",
    "import plotly.express as px"
   ]
  },
  {
   "cell_type": "code",
   "execution_count": 2,
   "metadata": {},
   "outputs": [],
   "source": [
    "RANDOM_SEED = 42\n",
    "TARGET_KEY = \"target\"\n",
    "CLASS_NUM = 5\n",
    "\n",
    "train_fe_path = \"./data/train_fe\"\n",
    "test_fe_path = \"./data/test_fe\"\n",
    "baseline_model_name = \"2024_05_31_baseline_fe_acc_4699\""
   ]
  },
  {
   "cell_type": "code",
   "execution_count": 3,
   "metadata": {},
   "outputs": [
    {
     "name": "stdout",
     "output_type": "stream",
     "text": [
      "<class 'pandas.core.frame.DataFrame'>\n",
      "Index: 146953 entries, 1525928 to 132580172\n",
      "Data columns (total 816 columns):\n",
      " #    Column                            Non-Null Count   Dtype  \n",
      "---   ------                            --------------   -----  \n",
      " 0    Ama_rchrgmnt_sum_max_mnt1         146914 non-null  float16\n",
      " 1    content_clc_mea_mnt1              146914 non-null  float16\n",
      " 2    content_cnt_max_mnt1              146914 non-null  float16\n",
      " 3    voice_out_short_part_max_mnt1     146916 non-null  float16\n",
      " 4    voice_mts_in_nrest_part_std_mnt1  146916 non-null  float16\n",
      " 5    num_act_days_max_mnt1             146916 non-null  float16\n",
      " 6    sms_roam_clc_min_mnt1             146914 non-null  float16\n",
      " 7    voice_in_cmpttrs_avg_durmin_mnt1  146916 non-null  float16\n",
      " 8    com_num_part_mea_mnt1             146914 non-null  float16\n",
      " 9    pay_avg_mea_mnt1                  146916 non-null  float16\n",
      " 10   voice_out_tar_dur_std_mnt1        146902 non-null  float16\n",
      " 11   voice_out_tar_dur_min_mnt1        146914 non-null  float16\n",
      " 12   gprs_clc_mea_mnt1                 146914 non-null  float16\n",
      " 13   pay_max_min_mnt3                  146914 non-null  float16\n",
      " 14   voice_in_short_part_mea_mnt3      146916 non-null  float16\n",
      " 15   voice_in_roam_clc_std_mnt1        146902 non-null  float16\n",
      " 16   conn_out_uniq_cnt_std_mnt1        146902 non-null  float16\n",
      " 17   voice_mts_in_dwork_part_td_mnt3   146916 non-null  float16\n",
      " 18   data_3g_tar_vol_mea_mnt3          146914 non-null  float16\n",
      " 19   voice_in_fix_tar_dur_mea_mnt3     146914 non-null  float16\n",
      " 20   voice_in_tar_dur_max_mnt3         146914 non-null  float16\n",
      " 21   ks_num_part_td_mnt3               146914 non-null  float16\n",
      " 22   data_3g_dou_mea_mnt3              146916 non-null  float16\n",
      " 23   voice_mts_out_drest_partmea_mnt1  146916 non-null  float16\n",
      " 24   conn_com_part_min_mnt1            146914 non-null  float16\n",
      " 25   Ama_rchrgmnt_sum_mea_mnt3         146914 non-null  float16\n",
      " 26   voice_mts_in_dwork_part_mea_wk1   146916 non-null  float16\n",
      " 27   voice_mts_in_dwork_part_std_mnt1  146916 non-null  float16\n",
      " 28   gprs_clc_std_mnt1                 146902 non-null  float16\n",
      " 29   conn_com_part_td_mnt3             146914 non-null  float16\n",
      " 30   sms_clc_min_mnt3                  146914 non-null  float16\n",
      " 31   gprs_clc_mea_mnt3                 146914 non-null  float16\n",
      " 32   gprs_clc_min_mnt3                 146914 non-null  float16\n",
      " 33   voice_in_cmpttrs_avg_durmax_mnt3  146916 non-null  float16\n",
      " 34   voice_in_tar_dur_td_mnt3          146914 non-null  float16\n",
      " 35   conn_in_uniq_cnt_td_mnt3          146914 non-null  float16\n",
      " 36   voice_mts_out_nrest_partmax_mnt1  146916 non-null  float16\n",
      " 37   voice_in_tar_dur_std_mnt1         146902 non-null  float16\n",
      " 38   voice_mts_out_dwork_partmea_wk1   146916 non-null  float16\n",
      " 39   voice_out_fix_tar_dur_td_mnt3     146914 non-null  float16\n",
      " 40   all_clc_mea_mnt1                  146914 non-null  float16\n",
      " 41   voice_out_cmpttrs_td_cnttd_mnt3   146914 non-null  float16\n",
      " 42   all_roam_clc_mea_mnt1             146914 non-null  float16\n",
      " 43   voice_in_tar_dur_std_mnt3         146904 non-null  float16\n",
      " 44   voice_in_td_cnt_max_mnt3          146914 non-null  float16\n",
      " 45   voice_out_fix_tar_dur_mea_wk1     146914 non-null  float16\n",
      " 46   conn_com_part_std_mnt3            146904 non-null  float16\n",
      " 47   voice_in_roam_clc_mea_mnt3        146914 non-null  float16\n",
      " 48   pay_p2p_in_sum_max_mnt3           146914 non-null  float16\n",
      " 49   content_cnt_mea_mnt1              146914 non-null  float16\n",
      " 50   voice_in_roam_clc_mea_wk1         146914 non-null  float16\n",
      " 51   com_num_part_min_mnt1             146914 non-null  float16\n",
      " 52   pay_p2p_in_sum_mea_wk1            146914 non-null  float16\n",
      " 53   all_home_clc_td_mnt3              146914 non-null  float16\n",
      " 54   voice_out_td_cnt_mea_mnt1         146914 non-null  float16\n",
      " 55   vas_clc_mea_wk1                   146914 non-null  float16\n",
      " 56   com_num_part_max_mnt1             146914 non-null  float16\n",
      " 57   voice_mts_out_drest_partstd_mnt3  146916 non-null  float16\n",
      " 58   pay_sum_td_mnt3                   146914 non-null  float16\n",
      " 59   pay_p2p_in_sum_std_mnt1           146898 non-null  float16\n",
      " 60   conn_out_uniq_cnt_std_mnt3        146904 non-null  float16\n",
      " 61   all_clc_min_mnt3                  146914 non-null  float16\n",
      " 62   all_roam_clc_min_mnt3             146914 non-null  float16\n",
      " 63   pay_p2p_out_sum_max_mnt3          146914 non-null  float16\n",
      " 64   voice_in_cmpttrs_td_cnt_max_mnt1  146914 non-null  float16\n",
      " 65   voice_mts_out_nrest_partstd_mnt3  146916 non-null  float16\n",
      " 66   voice_in_td_cnt_mea_mnt3          146914 non-null  float16\n",
      " 67   data_3g_dou_min_mnt3              146916 non-null  float16\n",
      " 68   voice_mts_in_nrest_part_mea_wk1   146916 non-null  float16\n",
      " 69   voice_in_fix_tar_dur_max_mnt1     146914 non-null  float16\n",
      " 70   ks_num_part_mea_wk1               146914 non-null  float16\n",
      " 71   pay_p2p_out_sum_std_mnt1          146898 non-null  float16\n",
      " 72   block_all_dur_min_mnt1            146914 non-null  float16\n",
      " 73   voice_in_cmpttrs_td_cnt_max_mnt3  146914 non-null  float16\n",
      " 74   pay_sum_std_mnt1                  146898 non-null  float16\n",
      " 75   abon_part_max_mnt3                146916 non-null  float16\n",
      " 76   sms_out_cnt_std_mnt3              146904 non-null  float16\n",
      " 77   sms_in_cnt_min_mnt1               146914 non-null  float16\n",
      " 78   conn_in_uniq_cnt_mea_wk1          146914 non-null  float16\n",
      " 79   pay_sum_min_mnt3                  146914 non-null  float16\n",
      " 80   ama_volume_max_mnt3               146914 non-null  float16\n",
      " 81   vas_clc_min_mnt3                  146914 non-null  float16\n",
      " 82   voice_in_td_cnt_std_mnt1          146902 non-null  float16\n",
      " 83   sms_roam_clc_max_mnt1             146914 non-null  float16\n",
      " 84   all_cnt_min_mnt1                  146914 non-null  float16\n",
      " 85   voice_in_short_part_max_mnt1      146916 non-null  float16\n",
      " 86   accum_mts_dur_std_mnt3            146914 non-null  float16\n",
      " 87   data_3g_tv_cnt_mea_wk1            146914 non-null  float16\n",
      " 88   voice_out_td_cnt_min_mnt1         146914 non-null  float16\n",
      " 89   data_3g_tar_vol_mea_mnt1          146914 non-null  float16\n",
      " 90   voice_mts_out_nrest_partmin_mnt1  146916 non-null  float16\n",
      " 91   all_cnt_mea_mnt1                  146914 non-null  float16\n",
      " 92   data_3g_dou_std_mnt3              146916 non-null  float16\n",
      " 93   voice_in_short_part_min_mnt3      146916 non-null  float16\n",
      " 94   sms_in_cnt_td_mnt3                146914 non-null  float16\n",
      " 95   voice_mts_out_dwork_partstd_mnt1  146916 non-null  float16\n",
      " 96   voice_out_short_part_mea_wk1      146916 non-null  float16\n",
      " 97   voice_in_fix_tar_dur_mea_wk1      146914 non-null  float16\n",
      " 98   block_all_dur_min_mnt3            146914 non-null  float16\n",
      " 99   pay_sum_max_mnt1                  146914 non-null  float16\n",
      " 100  content_cnt_mea_wk1               146914 non-null  float16\n",
      " 101  voice_mts_out_nwork_partstd_mnt1  146916 non-null  float16\n",
      " 102  com_num_part_mea_mnt3             146914 non-null  float16\n",
      " 103  conn_out_uniq_cnt_max_mnt3        146914 non-null  float16\n",
      " 104  content_clc_mea_mnt3              146914 non-null  float16\n",
      " 105  Ama_rchrgmnt_sum_min_mnt3         146914 non-null  float16\n",
      " 106  abon_part_min_mnt3                146916 non-null  float16\n",
      " 107  conn_out_uniq_cnt_mea_mnt3        146914 non-null  float16\n",
      " 108  gprs_clc_std_mnt3                 146904 non-null  float16\n",
      " 109  voice_out_short_part_min_mnt1     146916 non-null  float16\n",
      " 110  all_cnt_std_mnt1                  146902 non-null  float16\n",
      " 111  conn_com_part_mea_wk1             146914 non-null  float16\n",
      " 112  com_num_part_max_mnt3             146914 non-null  float16\n",
      " 113  voice_out_fix_tar_dur_max_mnt1    146914 non-null  float16\n",
      " 114  pay_p2p_out_sum_mea_mnt1          146914 non-null  float16\n",
      " 115  abon_part_min_mnt1                146916 non-null  float16\n",
      " 116  accum_mts_dur_min_mnt1            146914 non-null  float16\n",
      " 117  content_clc_min_mnt1              146914 non-null  float16\n",
      " 118  voice_out_fix_tar_dur_std_mnt1    146902 non-null  float16\n",
      " 119  voice_mts_out_nwork_partmin_mnt1  146916 non-null  float16\n",
      " 120  vas_clc_max_mnt3                  146914 non-null  float16\n",
      " 121  sms_roam_clc_mea_wk1              146914 non-null  float16\n",
      " 122  pay_avg_std_mnt1                  146916 non-null  float16\n",
      " 123  content_clc_min_mnt3              146914 non-null  float16\n",
      " 124  pay_p2p_out_sum_mea_mnt3          146914 non-null  float16\n",
      " 125  data_3g_tar_vol_std_mnt1          146902 non-null  float16\n",
      " 126  vas_clc_min_mnt1                  146914 non-null  float16\n",
      " 127  sms_in_cnt_mea_mnt1               146914 non-null  float16\n",
      " 128  goodok_clc_max_mnt3               146914 non-null  float16\n",
      " 129  com_num_part_td_mnt3              146914 non-null  float16\n",
      " 130  all_home_clc_mea_mnt3             146914 non-null  float16\n",
      " 131  voice_in_short_part_max_mnt3      146916 non-null  float16\n",
      " 132  pay_max_max_mnt1                  146914 non-null  float16\n",
      " 133  sms_clc_std_mnt1                  146902 non-null  float16\n",
      " 134  pay_max_mea_mnt1                  146914 non-null  float16\n",
      " 135  accum_mts_dur_td_mnt3             146914 non-null  float16\n",
      " 136  gprs_clc_max_mnt3                 146914 non-null  float16\n",
      " 137  vas_clc_mea_mnt1                  146914 non-null  float16\n",
      " 138  all_clc_mea_mnt3                  146914 non-null  float16\n",
      " 139  voice_in_kievstar_part_min_mnt1   146916 non-null  float16\n",
      " 140  Ama_rchrgmnt_sum_mea_wk1          146914 non-null  float16\n",
      " 141  sms_in_cnt_min_mnt3               146914 non-null  float16\n",
      " 142  voice_mts_in_drest_part_td_mnt3   146916 non-null  float16\n",
      " 143  voice_mts_in_dwork_part_min_mnt1  146916 non-null  float16\n",
      " 144  voice_in_cmpttrs_td_cnt_mea_mnt1  146914 non-null  float16\n",
      " 145  sms_roam_clc_max_mnt3             146914 non-null  float16\n",
      " 146  pay_max_mea_mnt3                  146914 non-null  float16\n",
      " 147  gprs_clc_td_mnt3                  146914 non-null  float16\n",
      " 148  ks_num_part_std_mnt1              146902 non-null  float16\n",
      " 149  voice_in_mts_avg_dur_max_mnt1     146916 non-null  float16\n",
      " 150  voice_in_td_cnt_mea_mnt1          146914 non-null  float16\n",
      " 151  voice_mts_in_drest_part_max_mnt3  146916 non-null  float16\n",
      " 152  accum_mts_dur_max_mnt3            146914 non-null  float16\n",
      " 153  pay_p2p_out_sum_max_mnt1          146914 non-null  float16\n",
      " 154  sms_roam_clc_std_mnt3             146904 non-null  float16\n",
      " 155  voice_out_cmpttrs_td_cntmin_mnt3  146914 non-null  float16\n",
      " 156  voice_out_cmpttrs_avg_dumax_mnt1  146916 non-null  float16\n",
      " 157  voice_mts_in_nrest_part_mea_mnt3  146916 non-null  float16\n",
      " 158  voice_out_tar_dur_max_mnt1        146914 non-null  float16\n",
      " 159  voice_mts_in_drest_part_std_mnt1  146916 non-null  float16\n",
      " 160  clc_no_vas_roam_std_mnt3          146916 non-null  float16\n",
      " 161  non_accum_internet_vol_mea_wk1    146916 non-null  float16\n",
      " 162  voice_mts_out_nwork_partmea_mnt1  146916 non-null  float16\n",
      " 163  voice_mts_in_nrest_part_min_mnt1  146916 non-null  float16\n",
      " 164  data_3g_dou_td_mnt3               146916 non-null  float16\n",
      " 165  voice_out_cmpttrs_avg_dustd_mnt3  146916 non-null  float16\n",
      " 166  voice_in_roam_clc_min_mnt3        146914 non-null  float16\n",
      " 167  ama_volume_min_mnt1               146914 non-null  float16\n",
      " 168  ama_volume_td_mnt3                146914 non-null  float16\n",
      " 169  voice_in_td_cnt_max_mnt1          146914 non-null  float16\n",
      " 170  sms_clc_std_mnt3                  146904 non-null  float16\n",
      " 171  voice_in_kievstar_part_std_mnt3   146916 non-null  float16\n",
      " 172  gprs_tar_vol_td_mnt3              146914 non-null  float16\n",
      " 173  accum_mts_dur_mea_mnt3            146914 non-null  float16\n",
      " 174  goodok_clc_std_mnt1               146902 non-null  float16\n",
      " 175  voice_in_fix_tar_dur_mea_mnt1     146914 non-null  float16\n",
      " 176  conn_in_uniq_cnt_max_mnt1         146914 non-null  float16\n",
      " 177  pay_sum_std_mnt3                  146900 non-null  float16\n",
      " 178  pay_max_mea_wk1                   146914 non-null  float16\n",
      " 179  vas_clc_td_mnt3                   146914 non-null  float16\n",
      " 180  all_home_clc_mea_mnt1             146914 non-null  float16\n",
      " 181  voice_in_cmpttrs_td_cnt_std_mnt1  146902 non-null  float16\n",
      " 182  accum_oth_dur_min_mnt3            146914 non-null  float16\n",
      " 183  sms_in_cnt_mea_mnt3               146914 non-null  float16\n",
      " 184  voice_out_short_part_mea_mnt3     146916 non-null  float16\n",
      " 185  data_3g_tar_vol_std_mnt3          146904 non-null  float16\n",
      " 186  sms_out_cnt_mea_mnt1              146914 non-null  float16\n",
      " 187  voice_out_short_part_td_mnt3      146916 non-null  float16\n",
      " 188  pay_p2p_out_sum_std_mnt3          146900 non-null  float16\n",
      " 189  content_cnt_td_mnt3               146914 non-null  float16\n",
      " 190  gprs_tar_vol_mea_wk1              146914 non-null  float16\n",
      " 191  com_num_part_min_mnt3             146914 non-null  float16\n",
      " 192  conn_out_uniq_cnt_mea_mnt1        146914 non-null  float16\n",
      " 193  pay_p2p_in_sum_std_mnt3           146900 non-null  float16\n",
      " 194  voice_mts_in_nwork_part_td_mnt3   146916 non-null  float16\n",
      " 195  vas_clc_max_mnt1                  146914 non-null  float16\n",
      " 196  voice_in_cmpttrs_avg_durmea_mnt1  146916 non-null  float16\n",
      " 197  voice_mts_out_nrest_partmea_mnt3  146916 non-null  float16\n",
      " 198  non_accum_internet_vol_min_mnt1   146916 non-null  float16\n",
      " 199  pay_sum_mea_mnt3                  146914 non-null  float16\n",
      " 200  Ama_rchrgmnt_sum_std_mnt1         146914 non-null  float16\n",
      " 201  content_cnt_std_mnt1              146902 non-null  float16\n",
      " 202  voice_out_cmpttrs_td_cntmea_mnt1  146914 non-null  float16\n",
      " 203  voice_in_cmpttrs_avg_durmin_mnt3  146916 non-null  float16\n",
      " 204  conn_in_uniq_cnt_min_mnt1         146914 non-null  float16\n",
      " 205  voice_in_tar_dur_mea_mnt3         146914 non-null  float16\n",
      " 206  conn_out_uniq_cnt_mea_wk1         146914 non-null  float16\n",
      " 207  voice_out_td_cnt_max_mnt1         146914 non-null  float16\n",
      " 208  voice_in_fix_tar_dur_std_mnt3     146904 non-null  float16\n",
      " 209  voice_out_fix_tar_dur_mea_mnt1    146914 non-null  float16\n",
      " 210  all_roam_clc_std_mnt1             146902 non-null  float16\n",
      " 211  data_3g_tv_cnt_std_mnt3           146904 non-null  float16\n",
      " 212  voice_mts_out_drest_partmin_mnt1  146916 non-null  float16\n",
      " 213  voice_mts_out_dwork_partmea_mnt3  146916 non-null  float16\n",
      " 214  voice_out_fix_tar_dur_min_mnt1    146914 non-null  float16\n",
      " 215  pay_p2p_in_sum_mea_mnt1           146914 non-null  float16\n",
      " 216  non_accum_internet_vol_std_mnt1   146916 non-null  float16\n",
      " 217  voice_out_tar_dur_max_mnt3        146914 non-null  float16\n",
      " 218  pay_p2p_in_sum_min_mnt3           146914 non-null  float16\n",
      " 219  sms_out_cnt_min_mnt1              146914 non-null  float16\n",
      " 220  voice_in_life_part_mea_mnt1       146916 non-null  float16\n",
      " 221  clc_no_vas_roam_mea_mnt1          146916 non-null  float16\n",
      " 222  goodok_clc_min_mnt1               146914 non-null  float16\n",
      " 223  sms_roam_clc_td_mnt3              146914 non-null  float16\n",
      " 224  voice_in_cmpttrs_avg_durmea_wk1   146916 non-null  float16\n",
      " 225  voice_out_cmpttrs_td_cntmea_wk1   146914 non-null  float16\n",
      " 226  voice_mts_out_dwork_parttd_mnt3   146916 non-null  float16\n",
      " 227  voice_out_fix_tar_dur_max_mnt3    146914 non-null  float16\n",
      " 228  voice_in_kievstar_part_td_mnt3    146916 non-null  float16\n",
      " 229  voice_mts_in_drest_part_mea_wk1   146916 non-null  float16\n",
      " 230  data_3g_dou_mea_wk1               146916 non-null  float16\n",
      " 231  all_cnt_mea_mnt3                  146914 non-null  float16\n",
      " 232  voice_out_short_part_std_mnt3     146916 non-null  float16\n",
      " 233  voice_out_tar_dur_mea_wk1         146914 non-null  float16\n",
      " 234  voice_mts_out_nrest_parttd_mnt3   146916 non-null  float16\n",
      " 235  voice_mts_in_dwork_part_mea_mnt1  146916 non-null  float16\n",
      " 236  voice_in_kievstar_part_max_mnt3   146916 non-null  float16\n",
      " 237  clc_no_vas_roam_max_mnt3          146916 non-null  float16\n",
      " 238  data_3g_tar_vol_min_mnt3          146914 non-null  float16\n",
      " 239  data_3g_dou_max_mnt1              146916 non-null  float16\n",
      " 240  gprs_clc_mea_wk1                  146914 non-null  float16\n",
      " 241  gprs_tar_vol_min_mnt1             146914 non-null  float16\n",
      " 242  clc_no_vas_roam_mea_mnt3          146916 non-null  float16\n",
      " 243  data_3g_dou_max_mnt3              146916 non-null  float16\n",
      " 244  voice_mts_in_nrest_part_max_mnt3  146916 non-null  float16\n",
      " 245  voice_in_kievstar_part_std_mnt1   146916 non-null  float16\n",
      " 246  voice_in_mts_avg_dur_min_mnt1     146916 non-null  float16\n",
      " 247  data_3g_tv_cnt_std_mnt1           146902 non-null  float16\n",
      " 248  all_home_clc_min_mnt3             146914 non-null  float16\n",
      " 249  all_clc_mea_wk1                   146914 non-null  float16\n",
      " 250  all_clc_max_mnt1                  146914 non-null  float16\n",
      " 251  voice_in_roam_clc_mea_mnt1        146914 non-null  float16\n",
      " 252  conn_in_uniq_cnt_max_mnt3         146914 non-null  float16\n",
      " 253  voice_out_cmpttrs_avg_dustd_mnt1  146916 non-null  float16\n",
      " 254  gprs_clc_max_mnt1                 146914 non-null  float16\n",
      " 255  all_cnt_td_mnt3                   146914 non-null  float16\n",
      " 256  conn_out_uniq_cnt_td_mnt3         146914 non-null  float16\n",
      " 257  all_clc_min_mnt1                  146914 non-null  float16\n",
      " 258  all_roam_clc_mea_mnt3             146914 non-null  float16\n",
      " 259  voice_in_tar_dur_mea_mnt1         146914 non-null  float16\n",
      " 260  voice_mts_in_nwork_part_min_mnt1  146916 non-null  float16\n",
      " 261  sms_out_cnt_mea_wk1               146914 non-null  float16\n",
      " 262  pay_avg_min_mnt3                  146916 non-null  float16\n",
      " 263  all_roam_clc_mea_wk1              146914 non-null  float16\n",
      " 264  clc_no_vas_roam_min_mnt1          146916 non-null  float16\n",
      " 265  conn_out_uniq_cnt_min_mnt1        146914 non-null  float16\n",
      " 266  ks_num_part_min_mnt3              146914 non-null  float16\n",
      " 267  sms_roam_clc_mea_mnt1             146914 non-null  float16\n",
      " 268  content_clc_td_mnt3               146914 non-null  float16\n",
      " 269  voice_in_cmpttrs_td_cnt_std_mnt3  146904 non-null  float16\n",
      " 270  goodok_clc_mea_wk1                146914 non-null  float16\n",
      " 271  voice_mts_out_nwork_partmax_mnt3  146916 non-null  float16\n",
      " 272  ks_num_part_mea_mnt1              146914 non-null  float16\n",
      " 273  voice_mts_in_nrest_part_mea_mnt1  146916 non-null  float16\n",
      " 274  voice_out_short_part_max_mnt3     146916 non-null  float16\n",
      " 275  voice_mts_in_nrest_part_td_mnt3   146916 non-null  float16\n",
      " 276  voice_out_cmpttrs_td_cntstd_mnt1  146902 non-null  float16\n",
      " 277  accum_oth_dur_mea_mnt3            146914 non-null  float16\n",
      " 278  voice_mts_out_dwork_partmin_mnt1  146916 non-null  float16\n",
      " 279  conn_in_uniq_cnt_min_mnt3         146914 non-null  float16\n",
      " 280  data_3g_tv_cnt_max_mnt1           146914 non-null  float16\n",
      " 281  voice_in_fix_tar_dur_td_mnt3      146914 non-null  float16\n",
      " 282  num_act_days_std_mnt3             146916 non-null  float16\n",
      " 283  pay_p2p_in_sum_mea_mnt3           146914 non-null  float16\n",
      " 284  pay_p2p_in_sum_max_mnt1           146914 non-null  float16\n",
      " 285  voice_mts_in_nwork_part_max_mnt1  146916 non-null  float16\n",
      " 286  goodok_clc_td_mnt3                146914 non-null  float16\n",
      " 287  num_act_days_td_mnt3              146916 non-null  float16\n",
      " 288  ks_num_part_min_mnt1              146914 non-null  float16\n",
      " 289  all_home_clc_min_mnt1             146914 non-null  float16\n",
      " 290  block_all_dur_std_mnt1            146898 non-null  float16\n",
      " 291  voice_out_td_cnt_mea_wk1          146914 non-null  float16\n",
      " 292  ama_volume_std_mnt1               146914 non-null  float16\n",
      " 293  voice_in_roam_clc_std_mnt3        146904 non-null  float16\n",
      " 294  all_clc_td_mnt3                   146914 non-null  float16\n",
      " 295  num_act_days_mea_wk1              146916 non-null  float16\n",
      " 296  data_3g_tar_vol_td_mnt3           146914 non-null  float16\n",
      " 297  data_3g_dou_min_mnt1              146916 non-null  float16\n",
      " 298  clc_no_vas_roam_std_mnt1          146916 non-null  float16\n",
      " 299  all_home_clc_max_mnt1             146914 non-null  float16\n",
      " 300  voice_in_fix_tar_dur_std_mnt1     146902 non-null  float16\n",
      " 301  voice_in_cmpttrs_avg_durstd_mnt1  146916 non-null  float16\n",
      " 302  voice_out_td_cnt_mea_mnt3         146914 non-null  float16\n",
      " 303  voice_in_cmpttrs_td_cnt_td_mnt3   146914 non-null  float16\n",
      " 304  goodok_clc_mea_mnt1               146914 non-null  float16\n",
      " 305  abon_part_mea_wk1                 146916 non-null  float16\n",
      " 306  clc_no_vas_roam_td_mnt3           146916 non-null  float16\n",
      " 307  conn_in_uniq_cnt_std_mnt3         146904 non-null  float16\n",
      " 308  non_accum_internet_vol_max_mnt1   146916 non-null  float16\n",
      " 309  conn_out_uniq_cnt_min_mnt3        146914 non-null  float16\n",
      " 310  gprs_clc_min_mnt1                 146914 non-null  float16\n",
      " 311  voice_mts_in_drest_part_mea_mnt1  146916 non-null  float16\n",
      " 312  sms_out_cnt_max_mnt1              146914 non-null  float16\n",
      " 313  voice_in_fix_tar_dur_min_mnt3     146914 non-null  float16\n",
      " 314  pay_sum_min_mnt1                  146914 non-null  float16\n",
      " 315  abon_part_std_mnt3                146916 non-null  float16\n",
      " 316  all_home_clc_std_mnt3             146904 non-null  float16\n",
      " 317  content_cnt_mea_mnt3              146914 non-null  float16\n",
      " 318  all_home_clc_mea_wk1              146914 non-null  float16\n",
      " 319  voice_mts_out_nrest_partmax_mnt3  146916 non-null  float16\n",
      " 320  sms_out_cnt_td_mnt3               146914 non-null  float16\n",
      " 321  ama_volume_mea_mnt3               146914 non-null  float16\n",
      " 322  voice_in_mts_avg_dur_mea_mnt3     146916 non-null  float16\n",
      " 323  pay_p2p_out_sum_min_mnt1          146914 non-null  float16\n",
      " 324  voice_out_tar_dur_td_mnt3         146914 non-null  float16\n",
      " 325  voice_mts_out_nwork_partmax_mnt1  146916 non-null  float16\n",
      " 326  voice_out_cmpttrs_avg_dumea_mnt3  146916 non-null  float16\n",
      " 327  voice_mts_out_drest_partmax_mnt3  146916 non-null  float16\n",
      " 328  voice_in_short_part_min_mnt1      146916 non-null  float16\n",
      " 329  voice_mts_out_drest_partmea_mnt3  146916 non-null  float16\n",
      " 330  voice_mts_in_drest_part_min_mnt3  146916 non-null  float16\n",
      " 331  sms_out_cnt_mea_mnt3              146914 non-null  float16\n",
      " 332  voice_mts_out_dwork_partmax_mnt3  146916 non-null  float16\n",
      " 333  ks_num_part_std_mnt3              146904 non-null  float16\n",
      " 334  pay_avg_max_mnt3                  146916 non-null  float16\n",
      " 335  sms_clc_max_mnt3                  146914 non-null  float16\n",
      " 336  sms_clc_td_mnt3                   146914 non-null  float16\n",
      " 337  voice_mts_out_drest_partmax_mnt1  146916 non-null  float16\n",
      " 338  num_act_days_std_mnt1             146916 non-null  float16\n",
      " 339  all_cnt_min_mnt3                  146914 non-null  float16\n",
      " 340  voice_in_mts_avg_dur_std_mnt1     146916 non-null  float16\n",
      " 341  all_roam_clc_max_mnt3             146914 non-null  float16\n",
      " 342  voice_out_td_cnt_td_mnt3          146914 non-null  float16\n",
      " 343  sms_clc_mea_wk1                   146914 non-null  float16\n",
      " 344  sms_roam_clc_std_mnt1             146902 non-null  float16\n",
      " 345  voice_in_cmpttrs_td_cnt_min_mnt1  146914 non-null  float16\n",
      " 346  clc_no_vas_roam_mea_wk1           146916 non-null  float16\n",
      " 347  voice_mts_out_drest_partmea_wk1   146916 non-null  float16\n",
      " 348  voice_in_cmpttrs_td_cnt_mea_mnt3  146914 non-null  float16\n",
      " 349  voice_out_cmpttrs_avg_dumea_wk1   146916 non-null  float16\n",
      " 350  accum_oth_dur_max_mnt3            146914 non-null  float16\n",
      " 351  sms_roam_clc_mea_mnt3             146914 non-null  float16\n",
      " 352  gprs_tar_vol_std_mnt3             146904 non-null  float16\n",
      " 353  voice_out_tar_dur_min_mnt3        146914 non-null  float16\n",
      " 354  all_roam_clc_std_mnt3             146904 non-null  float16\n",
      " 355  voice_in_tar_dur_min_mnt1         146914 non-null  float16\n",
      " 356  pay_avg_td_mnt3                   146916 non-null  float16\n",
      " 357  voice_mts_out_dwork_partmax_mnt1  146916 non-null  float16\n",
      " 358  accum_oth_dur_mea_mnt1            146914 non-null  float16\n",
      " 359  ama_volume_mea_mnt1               146914 non-null  float16\n",
      " 360  voice_mts_out_dwork_partstd_mnt3  146916 non-null  float16\n",
      " 361  voice_mts_in_drest_part_min_mnt1  146916 non-null  float16\n",
      " 362  voice_mts_out_drest_partstd_mnt1  146916 non-null  float16\n",
      " 363  voice_mts_out_nwork_partmin_mnt3  146916 non-null  float16\n",
      " 364  voice_out_short_part_min_mnt3     146916 non-null  float16\n",
      " 365  accum_mts_dur_min_mnt3            146914 non-null  float16\n",
      " 366  conn_com_part_min_mnt3            146914 non-null  float16\n",
      " 367  content_clc_std_mnt3              146904 non-null  float16\n",
      " 368  all_roam_clc_td_mnt3              146914 non-null  float16\n",
      " 369  voice_in_td_cnt_std_mnt3          146904 non-null  float16\n",
      " 370  goodok_clc_min_mnt3               146914 non-null  float16\n",
      " 371  voice_in_life_part_min_mnt3       146916 non-null  float16\n",
      " 372  sms_in_cnt_max_mnt3               146914 non-null  float16\n",
      " 373  voice_in_cmpttrs_td_cnt_min_mnt3  146914 non-null  float16\n",
      " 374  accum_oth_dur_min_mnt1            146914 non-null  float16\n",
      " 375  voice_out_td_cnt_min_mnt3         146914 non-null  float16\n",
      " 376  gprs_tar_vol_min_mnt3             146914 non-null  float16\n",
      " 377  voice_mts_out_dwork_partmin_mnt3  146916 non-null  float16\n",
      " 378  content_cnt_min_mnt1              146914 non-null  float16\n",
      " 379  voice_mts_in_nwork_part_max_mnt3  146916 non-null  float16\n",
      " 380  pay_max_std_mnt3                  146900 non-null  float16\n",
      " 381  all_clc_std_mnt1                  146902 non-null  float16\n",
      " 382  data_3g_tv_cnt_min_mnt1           146914 non-null  float16\n",
      " 383  non_accum_internet_vol_td_mnt3    146916 non-null  float16\n",
      " 384  data_3g_tv_cnt_mea_mnt3           146914 non-null  float16\n",
      " 385  ama_volume_min_mnt3               146914 non-null  float16\n",
      " 386  ks_num_part_max_mnt1              146914 non-null  float16\n",
      " 387  voice_out_cmpttrs_avg_dutd_mnt3   146916 non-null  float16\n",
      " 388  data_3g_tar_vol_mea_wk1           146914 non-null  float16\n",
      " 389  voice_out_cmpttrs_avg_dumax_mnt3  146916 non-null  float16\n",
      " 390  voice_mts_in_nrest_part_max_mnt1  146916 non-null  float16\n",
      " 391  voice_mts_in_nrest_part_std_mnt3  146916 non-null  float16\n",
      " 392  sms_roam_clc_min_mnt3             146914 non-null  float16\n",
      " 393  sms_clc_min_mnt1                  146914 non-null  float16\n",
      " 394  all_cnt_max_mnt1                  146914 non-null  float16\n",
      " 395  voice_mts_in_nrest_part_min_mnt3  146916 non-null  float16\n",
      " 396  voice_in_kievstar_part_max_mnt1   146916 non-null  float16\n",
      " 397  all_clc_max_mnt3                  146914 non-null  float16\n",
      " 398  conn_in_uniq_cnt_mea_mnt1         146914 non-null  float16\n",
      " 399  clc_no_vas_roam_min_mnt3          146916 non-null  float16\n",
      " 400  Ama_rchrgmnt_sum_std_mnt3         146914 non-null  float16\n",
      " 401  voice_in_short_part_mea_wk1       146916 non-null  float16\n",
      " 402  accum_mts_dur_mea_mnt1            146914 non-null  float16\n",
      " 403  voice_mts_in_nwork_part_min_mnt3  146916 non-null  float16\n",
      " 404  ks_num_part_mea_mnt3              146914 non-null  float16\n",
      " 405  conn_in_uniq_cnt_std_mnt1         146902 non-null  float16\n",
      " 406  voice_in_cmpttrs_avg_durmea_mnt3  146916 non-null  float16\n",
      " 407  vas_clc_std_mnt3                  146904 non-null  float16\n",
      " 408  voice_in_kievstar_part_min_mnt3   146916 non-null  float16\n",
      " 409  voice_mts_in_nwork_part_std_mnt1  146916 non-null  float16\n",
      " 410  voice_mts_in_dwork_part_min_mnt3  146916 non-null  float16\n",
      " 411  gprs_tar_vol_std_mnt1             146902 non-null  float16\n",
      " 412  voice_out_fix_tar_dur_std_mnt3    146904 non-null  float16\n",
      " 413  voice_mts_out_nwork_partmea_mnt3  146916 non-null  float16\n",
      " 414  voice_in_mts_avg_dur_std_mnt3     146916 non-null  float16\n",
      " 415  block_all_dur_mea_wk1             146914 non-null  float16\n",
      " 416  voice_in_life_part_mea_wk1        146916 non-null  float16\n",
      " 417  sms_in_cnt_mea_wk1                146914 non-null  float16\n",
      " 418  voice_in_kievstar_part_mea_mnt3   146916 non-null  float16\n",
      " 419  voice_mts_out_nrest_partstd_mnt1  146916 non-null  float16\n",
      " 420  content_clc_max_mnt3              146914 non-null  float16\n",
      " 421  gprs_tar_vol_mea_mnt1             146914 non-null  float16\n",
      " 422  pay_p2p_in_sum_td_mnt3            146914 non-null  float16\n",
      " 423  voice_out_td_cnt_std_mnt1         146902 non-null  float16\n",
      " 424  voice_mts_in_drest_part_mea_mnt3  146916 non-null  float16\n",
      " 425  voice_in_roam_clc_max_mnt1        146914 non-null  float16\n",
      " 426  data_3g_tv_cnt_mea_mnt1           146914 non-null  float16\n",
      " 427  pay_p2p_out_sum_min_mnt3          146914 non-null  float16\n",
      " 428  voice_in_cmpttrs_td_cnt_mea_wk1   146914 non-null  float16\n",
      " 429  accum_oth_dur_std_mnt3            146914 non-null  float16\n",
      " 430  ama_volume_mea_wk1                146914 non-null  float16\n",
      " 431  voice_mts_in_dwork_part_max_mnt1  146916 non-null  float16\n",
      " 432  num_act_days_min_mnt3             146916 non-null  float16\n",
      " 433  pay_avg_mea_wk1                   146916 non-null  float16\n",
      " 434  data_3g_tv_cnt_max_mnt3           146914 non-null  float16\n",
      " 435  all_roam_clc_max_mnt1             146914 non-null  float16\n",
      " 436  voice_mts_in_dwork_part_std_mnt3  146916 non-null  float16\n",
      " 437  voice_mts_out_nwork_parttd_mnt3   146916 non-null  float16\n",
      " 438  data_3g_dou_mea_mnt1              146916 non-null  float16\n",
      " 439  non_accum_internet_vol_std_mnt3   146916 non-null  float16\n",
      " 440  content_clc_std_mnt1              146902 non-null  float16\n",
      " 441  content_clc_mea_wk1               146914 non-null  float16\n",
      " 442  pay_p2p_in_sum_min_mnt1           146914 non-null  float16\n",
      " 443  conn_com_part_mea_mnt3            146914 non-null  float16\n",
      " 444  voice_in_life_part_td_mnt3        146916 non-null  float16\n",
      " 445  pay_avg_std_mnt3                  146916 non-null  float16\n",
      " 446  voice_in_roam_clc_min_mnt1        146914 non-null  float16\n",
      " 447  voice_out_cmpttrs_td_cntmax_mnt1  146914 non-null  float16\n",
      " 448  voice_in_short_part_mea_mnt1      146916 non-null  float16\n",
      " 449  voice_in_tar_dur_min_mnt3         146914 non-null  float16\n",
      " 450  gprs_tar_vol_max_mnt3             146914 non-null  float16\n",
      " 451  vas_clc_mea_mnt3                  146914 non-null  float16\n",
      " 452  voice_out_cmpttrs_td_cntmin_mnt1  146914 non-null  float16\n",
      " 453  data_3g_tar_vol_max_mnt3          146914 non-null  float16\n",
      " 454  non_accum_internet_vol_min_mnt3   146916 non-null  float16\n",
      " 455  gprs_tar_vol_max_mnt1             146914 non-null  float16\n",
      " 456  conn_com_part_std_mnt1            146902 non-null  float16\n",
      " 457  voice_out_td_cnt_std_mnt3         146904 non-null  float16\n",
      " 458  voice_in_mts_avg_dur_td_mnt3      146916 non-null  float16\n",
      " 459  voice_out_cmpttrs_avg_dumea_mnt1  146916 non-null  float16\n",
      " 460  Ama_rchrgmnt_sum_max_mnt3         146914 non-null  float16\n",
      " 461  voice_out_cmpttrs_td_cntmea_mnt3  146914 non-null  float16\n",
      " 462  pay_p2p_out_sum_mea_wk1           146914 non-null  float16\n",
      " 463  com_num_part_mea_wk1              146914 non-null  float16\n",
      " 464  gprs_tar_vol_mea_mnt3             146914 non-null  float16\n",
      " 465  conn_in_uniq_cnt_mea_mnt3         146914 non-null  float16\n",
      " 466  voice_mts_out_nrest_partmea_wk1   146916 non-null  float16\n",
      " 467  voice_in_fix_tar_dur_min_mnt1     146914 non-null  float16\n",
      " 468  voice_in_short_part_std_mnt3      146916 non-null  float16\n",
      " 469  accum_oth_dur_std_mnt1            146914 non-null  float16\n",
      " 470  accum_mts_dur_max_mnt1            146914 non-null  float16\n",
      " 471  data_3g_tar_vol_min_mnt1          146914 non-null  float16\n",
      " 472  voice_out_cmpttrs_td_cntmax_mnt3  146914 non-null  float16\n",
      " 473  voice_in_mts_avg_dur_mea_mnt1     146916 non-null  float16\n",
      " 474  abon_part_mea_mnt1                146916 non-null  float16\n",
      " 475  vas_clc_std_mnt1                  146902 non-null  float16\n",
      " 476  data_3g_tv_cnt_min_mnt3           146914 non-null  float16\n",
      " 477  pay_avg_mea_mnt3                  146916 non-null  float16\n",
      " 478  abon_part_mea_mnt3                146916 non-null  float16\n",
      " 479  ks_num_part_max_mnt3              146914 non-null  float16\n",
      " 480  num_act_days_mea_mnt3             146916 non-null  float16\n",
      " 481  voice_in_mts_avg_dur_max_mnt3     146916 non-null  float16\n",
      " 482  conn_com_part_max_mnt1            146914 non-null  float16\n",
      " 483  voice_in_life_part_std_mnt3       146916 non-null  float16\n",
      " 484  goodok_clc_mea_mnt3               146914 non-null  float16\n",
      " 485  block_all_dur_mea_mnt3            146914 non-null  float16\n",
      " 486  voice_in_short_part_std_mnt1      146916 non-null  float16\n",
      " 487  accum_mts_dur_std_mnt1            146914 non-null  float16\n",
      " 488  num_act_days_mea_mnt1             146916 non-null  float16\n",
      " 489  sms_clc_mea_mnt1                  146914 non-null  float16\n",
      " 490  goodok_clc_max_mnt1               146914 non-null  float16\n",
      " 491  accum_mts_dur_mea_wk1             146914 non-null  float16\n",
      " 492  abon_part_max_mnt1                146916 non-null  float16\n",
      " 493  content_cnt_max_mnt3              146914 non-null  float16\n",
      " 494  pay_avg_max_mnt1                  146916 non-null  float16\n",
      " 495  voice_in_cmpttrs_avg_durtd_mnt3   146916 non-null  float16\n",
      " 496  all_home_clc_max_mnt3             146914 non-null  float16\n",
      " 497  block_all_dur_max_mnt3            146914 non-null  float16\n",
      " 498  voice_in_kievstar_part_mea_mnt1   146916 non-null  float16\n",
      " 499  voice_mts_in_dwork_part_mea_mnt3  146916 non-null  float16\n",
      " 500  clc_no_vas_roam_max_mnt1          146916 non-null  float16\n",
      " 501  voice_out_fix_tar_dur_mea_mnt3    146914 non-null  float16\n",
      " 502  Ama_rchrgmnt_sum_td_mnt3          146914 non-null  float16\n",
      " 503  voice_in_tar_dur_max_mnt1         146914 non-null  float16\n",
      " 504  sms_out_cnt_max_mnt3              146914 non-null  float16\n",
      " 505  data_3g_tar_vol_max_mnt1          146914 non-null  float16\n",
      " 506  abon_part_std_mnt1                146916 non-null  float16\n",
      " 507  pay_max_max_mnt3                  146914 non-null  float16\n",
      " 508  content_cnt_std_mnt3              146904 non-null  float16\n",
      " 509  voice_in_life_part_std_mnt1       146916 non-null  float16\n",
      " 510  non_accum_internet_vol_max_mnt3   146916 non-null  float16\n",
      " 511  voice_in_cmpttrs_avg_durmax_mnt1  146916 non-null  float16\n",
      " 512  voice_in_td_cnt_td_mnt3           146914 non-null  float16\n",
      " 513  accum_oth_dur_mea_wk1             146914 non-null  float16\n",
      " 514  voice_in_life_part_max_mnt1       146916 non-null  float16\n",
      " 515  Ama_rchrgmnt_sum_mea_mnt1         146914 non-null  float16\n",
      " 516  block_all_dur_mea_mnt1            146914 non-null  float16\n",
      " 517  all_clc_std_mnt3                  146904 non-null  float16\n",
      " 518  voice_in_kievstar_part_mea_wk1    146916 non-null  float16\n",
      " 519  voice_in_life_part_max_mnt3       146916 non-null  float16\n",
      " 520  block_all_dur_td_mnt3             146914 non-null  float16\n",
      " 521  num_act_days_max_mnt3             146916 non-null  float16\n",
      " 522  voice_mts_in_nwork_part_mea_mnt1  146916 non-null  float16\n",
      " 523  voice_out_short_part_std_mnt1     146916 non-null  float16\n",
      " 524  voice_in_tar_dur_mea_wk1          146914 non-null  float16\n",
      " 525  all_cnt_mea_wk1                   146914 non-null  float16\n",
      " 526  voice_mts_out_drest_parttd_mnt3   146916 non-null  float16\n",
      " 527  voice_in_roam_clc_td_mnt3         146914 non-null  float16\n",
      " 528  voice_mts_in_nwork_part_mea_wk1   146916 non-null  float16\n",
      " 529  voice_in_life_part_min_mnt1       146916 non-null  float16\n",
      " 530  voice_mts_in_dwork_part_max_mnt3  146916 non-null  float16\n",
      " 531  accum_oth_dur_td_mnt3             146914 non-null  float16\n",
      " 532  voice_mts_out_dwork_partmea_mnt1  146916 non-null  float16\n",
      " 533  content_cnt_min_mnt3              146914 non-null  float16\n",
      " 534  data_3g_tv_cnt_td_mnt3            146914 non-null  float16\n",
      " 535  voice_in_mts_avg_dur_mea_wk1      146916 non-null  float16\n",
      " 536  voice_mts_in_drest_part_max_mnt1  146916 non-null  float16\n",
      " 537  pay_avg_min_mnt1                  146916 non-null  float16\n",
      " 538  conn_out_uniq_cnt_max_mnt1        146914 non-null  float16\n",
      " 539  voice_mts_out_nwork_partmea_wk1   146916 non-null  float16\n",
      " 540  voice_out_tar_dur_mea_mnt3        146914 non-null  float16\n",
      " 541  sms_out_cnt_std_mnt1              146902 non-null  float16\n",
      " 542  non_accum_internet_vol_mea_mnt1   146916 non-null  float16\n",
      " 543  voice_in_td_cnt_min_mnt3          146914 non-null  float16\n",
      " 544  voice_in_td_cnt_min_mnt1          146914 non-null  float16\n",
      " 545  Ama_rchrgmnt_sum_min_mnt1         146914 non-null  float16\n",
      " 546  content_clc_max_mnt1              146914 non-null  float16\n",
      " 547  num_act_days_min_mnt1             146916 non-null  float16\n",
      " 548  sms_in_cnt_max_mnt1               146914 non-null  float16\n",
      " 549  voice_in_roam_clc_max_mnt3        146914 non-null  float16\n",
      " 550  pay_sum_mea_wk1                   146914 non-null  float16\n",
      " 551  voice_mts_out_nwork_partstd_mnt3  146916 non-null  float16\n",
      " 552  all_cnt_std_mnt3                  146904 non-null  float16\n",
      " 553  voice_mts_in_nwork_part_std_mnt3  146916 non-null  float16\n",
      " 554  sms_out_cnt_min_mnt3              146914 non-null  float16\n",
      " 555  pay_max_std_mnt1                  146898 non-null  float16\n",
      " 556  voice_out_td_cnt_max_mnt3         146914 non-null  float16\n",
      " 557  pay_max_min_mnt1                  146914 non-null  float16\n",
      " 558  pay_sum_max_mnt3                  146914 non-null  float16\n",
      " 559  voice_out_cmpttrs_td_cntstd_mnt3  146904 non-null  float16\n",
      " 560  voice_in_td_cnt_mea_wk1           146914 non-null  float16\n",
      " 561  goodok_clc_std_mnt3               146904 non-null  float16\n",
      " 562  voice_in_mts_avg_dur_min_mnt3     146916 non-null  float16\n",
      " 563  voice_mts_out_nrest_partmea_mnt1  146916 non-null  float16\n",
      " 564  voice_in_fix_tar_dur_max_mnt3     146914 non-null  float16\n",
      " 565  abon_part_td_mnt3                 146916 non-null  float16\n",
      " 566  all_home_clc_std_mnt1             146902 non-null  float16\n",
      " 567  voice_out_fix_tar_dur_min_mnt3    146914 non-null  float16\n",
      " 568  block_all_dur_std_mnt3            146900 non-null  float16\n",
      " 569  com_num_part_std_mnt1             146902 non-null  float16\n",
      " 570  voice_mts_in_nwork_part_mea_mnt3  146916 non-null  float16\n",
      " 571  sms_in_cnt_std_mnt1               146902 non-null  float16\n",
      " 572  voice_mts_out_drest_partmin_mnt3  146916 non-null  float16\n",
      " 573  non_accum_internet_vol_mea_mnt3   146916 non-null  float16\n",
      " 574  accum_oth_dur_max_mnt1            146914 non-null  float16\n",
      " 575  pay_p2p_out_sum_td_mnt3           146914 non-null  float16\n",
      " 576  voice_out_tar_dur_std_mnt3        146904 non-null  float16\n",
      " 577  data_3g_dou_std_mnt1              146916 non-null  float16\n",
      " 578  voice_mts_in_drest_part_std_mnt3  146916 non-null  float16\n",
      " 579  block_all_dur_max_mnt1            146914 non-null  float16\n",
      " 580  voice_in_life_part_mea_mnt3       146916 non-null  float16\n",
      " 581  pay_sum_mea_mnt1                  146914 non-null  float16\n",
      " 582  voice_out_short_part_mea_mnt1     146916 non-null  float16\n",
      " 583  ama_volume_max_mnt1               146914 non-null  float16\n",
      " 584  pay_max_td_mnt3                   146914 non-null  float16\n",
      " 585  voice_in_short_part_td_mnt3       146916 non-null  float16\n",
      " 586  ama_volume_std_mnt3               146914 non-null  float16\n",
      " 587  conn_com_part_mea_mnt1            146914 non-null  float16\n",
      " 588  voice_in_cmpttrs_avg_durstd_mnt3  146916 non-null  float16\n",
      " 589  voice_out_cmpttrs_avg_dumin_mnt3  146916 non-null  float16\n",
      " 590  sms_in_cnt_std_mnt3               146904 non-null  float16\n",
      " 591  voice_out_tar_dur_mea_mnt1        146914 non-null  float16\n",
      " 592  conn_com_part_max_mnt3            146914 non-null  float16\n",
      " 593  all_roam_clc_min_mnt1             146914 non-null  float16\n",
      " 594  sms_clc_mea_mnt3                  146914 non-null  float16\n",
      " 595  com_num_part_std_mnt3             146904 non-null  float16\n",
      " 596  voice_out_cmpttrs_avg_dumin_mnt1  146916 non-null  float16\n",
      " 597  voice_mts_out_nrest_partmin_mnt3  146916 non-null  float16\n",
      " 598  all_cnt_max_mnt3                  146914 non-null  float16\n",
      " 599  sms_clc_max_mnt1                  146914 non-null  float16\n",
      " 600  bs_count_ppm_mn3                  96999 non-null   float16\n",
      " 601  days_of_end_last_ppm              140985 non-null  float16\n",
      " 602  days_of_last_ppm                  140985 non-null  float16\n",
      " 603  active_ppm                        140985 non-null  float16\n",
      " 604  Balance_uah                       146953 non-null  float16\n",
      " 605  TM_ID                             146953 non-null  float16\n",
      " 606  lt                                146353 non-null  float16\n",
      " 607  DNZ_MEAN_days_closed_loan_year2   19627 non-null   float16\n",
      " 608  DNZ_MIN_days_closed_loan_year2    19627 non-null   float16\n",
      " 609  DNZ_DAYS_from_last_year2          20260 non-null   float16\n",
      " 610  DNZ_MAX_days_closed_loan_year2    19627 non-null   float16\n",
      " 611  DNZ_STD_days_closed_loan_year5    15747 non-null   float16\n",
      " 612  DNZ_MIN_days_closed_loan_year5    26684 non-null   float16\n",
      " 613  DNZ_COUNT_open_loan_year2         20260 non-null   float16\n",
      " 614  DNZ_MEAN_days_closed_loan_year5   26684 non-null   float16\n",
      " 615  DNZ_DAYS_from_last_year5          27142 non-null   float16\n",
      " 616  DNZ_MEAN_days_open_loan_year5     2518 non-null    float16\n",
      " 617  DNZ_COUNT_closed_loan_year5       27142 non-null   float16\n",
      " 618  DNZ_COUNT_closed_loan_year2       20260 non-null   float16\n",
      " 619  DNZ_MAX_days_closed_loan_year5    26684 non-null   float16\n",
      " 620  DNZ_COUNT_open_loan_year5         27142 non-null   float16\n",
      " 621  DNZ_MEAN_days_open_loan_year2     2410 non-null    float16\n",
      " 622  myvf_day_usage                    132703 non-null  float16\n",
      " 623  Fax                               494 non-null     float16\n",
      " 624  tsoa_call_cnt                     34388 non-null   float16\n",
      " 625  tsoa_direct_cnt                   11183 non-null   float16\n",
      " 626  tsoa_mail_cnt                     123 non-null     float16\n",
      " 627  SMS                               1073 non-null    float16\n",
      " 628  tsoa_chat_cnt                     12350 non-null   float16\n",
      " 629  CALCULATION_METHOD_ID             146953 non-null  float16\n",
      " 630  loc_is_obl_center                 112989 non-null  float16\n",
      " 631  loc_cnt_events                    112989 non-null  float16\n",
      " 632  loc_market_share                  112989 non-null  float16\n",
      " 633  device_sim_count                  111740 non-null  float16\n",
      " 634  device_days_usage                 116546 non-null  float16\n",
      " 635  device_has_wifi                   111740 non-null  float16\n",
      " 636  device_brand_nan                  116546 non-null  float16\n",
      " 637  device_type_tablet                116546 non-null  float16\n",
      " 638  device_brand_xiaomi               116546 non-null  float16\n",
      " 639  imei_mean_price                   141325 non-null  float16\n",
      " 640  device_brand_meizu                116546 non-null  float16\n",
      " 641  imei_max_price                    141325 non-null  float16\n",
      " 642  device_has_lte                    111740 non-null  float16\n",
      " 643  device_brand_lg                   116546 non-null  float16\n",
      " 644  device_brand_samsung              116546 non-null  float16\n",
      " 645  device_has_gprs                   0 non-null       float64\n",
      " 646  device_brand_other                116546 non-null  float16\n",
      " 647  device_type_nan                   116546 non-null  float16\n",
      " 648  imei_mean_days_usage              146602 non-null  float16\n",
      " 649  device_type_smartphone            116546 non-null  float16\n",
      " 650  device_type_rus_other             116546 non-null  float16\n",
      " 651  imei_mean_day_announced           141426 non-null  float16\n",
      " 652  device_brand_huawei               116546 non-null  float16\n",
      " 653  device_price                      25494 non-null   float16\n",
      " 654  imei_mean_long_days_usage         146511 non-null  float16\n",
      " 655  device_brand_apple                116546 non-null  float16\n",
      " 656  device_width_mm                   111740 non-null  float16\n",
      " 657  device_brand_prestigio            116546 non-null  float16\n",
      " 658  device_ios_version                15126 non-null   float16\n",
      " 659  device_type_module                116546 non-null  float16\n",
      " 660  device_android_version            75936 non-null   float16\n",
      " 661  device_brand_nokia                116546 non-null  float16\n",
      " 662  device_type_modem                 116546 non-null  float16\n",
      " 663  device_height_mm                  111740 non-null  float16\n",
      " 664  device_brand_sony                 116546 non-null  float16\n",
      " 665  device_brand_lenovo               116546 non-null  float16\n",
      " 666  device_type_phone                 116546 non-null  float16\n",
      " 667  std_paym_6_month                  109633 non-null  float16\n",
      " 668  max_paym_6_month                  123837 non-null  float16\n",
      " 669  avg_paym_6_month                  123837 non-null  float16\n",
      " 670  count_day_for_last_paym           123837 non-null  float16\n",
      " 671  is_max_paym                       123837 non-null  float16\n",
      " 672  cnt_paym_6_month                  123837 non-null  float16\n",
      " 673  is_avg_paym                       123837 non-null  float16\n",
      " 674  last_paym                         123837 non-null  float16\n",
      " 675  min_paym_6_month                  123837 non-null  float16\n",
      " 676  sum_paym_6_month                  123837 non-null  float16\n",
      " 677  bs_delte_omo_change_tp            11470 non-null   float16\n",
      " 678  bs_delte_mb_change_tp             11470 non-null   float16\n",
      " 679  bs_delte_ppm_change_tp            11470 non-null   float16\n",
      " 680  bs_delte_ppd_change_tp            11465 non-null   float16\n",
      " 681  bs_direct_change_tp               11470 non-null   float16\n",
      " 682  bs_arpu_change_tp                 11470 non-null   float16\n",
      " 683  bs_day_of_change_tp               11470 non-null   float16\n",
      " 684  bs_count_change_tp                11470 non-null   float16\n",
      " 685  BS_OVERBUNDLE_MB_SUM_M2           19192 non-null   float16\n",
      " 686  BS_OVERBUNDLE_MB_CNT_M3           20049 non-null   float16\n",
      " 687  bs_ovrl_OMO_CNT_M2                87499 non-null   float16\n",
      " 688  BS_OVERBUNDLE_MB_CNT_M2           19192 non-null   float16\n",
      " 689  bs_ovrl_OMO_SUM_M1                87504 non-null   float16\n",
      " 690  BS_OVERBUNDLE_MB_SUM_M1           18916 non-null   float16\n",
      " 691  bs_ovrl_OMO_SUM_M3                89307 non-null   float16\n",
      " 692  BS_OVERBUNDLE_MB_CNT_M1           18916 non-null   float16\n",
      " 693  bs_ovrl_OMO_CNT_M3                89307 non-null   float16\n",
      " 694  bs_ovrl_OMO_SUM_M2                87499 non-null   float16\n",
      " 695  bs_ovrl_OMO_CNT_M1                87504 non-null   float16\n",
      " 696  BS_OVERBUNDLE_MB_SUM_M3           20049 non-null   float16\n",
      " 697  entertainment                     6 non-null       float16\n",
      " 698  Food                              18 non-null      float16\n",
      " 699  Shops                             1078 non-null    float16\n",
      " 700  Internet                          40252 non-null   float16\n",
      " 701  Cars                              147 non-null     float16\n",
      " 702  Good_deed                         30345 non-null   float16\n",
      " 703  Minutes                           9068 non-null    float16\n",
      " 704  AMA                               5759 non-null    float16\n",
      " 705  day_end_gba                       13198 non-null   float16\n",
      " 706  active_gba                        13198 non-null   float16\n",
      " 707  bs_of_succ_m1                     0 non-null       float64\n",
      " 708  bs_drop_call_rate                 0 non-null       float64\n",
      " 709  bs_succ_rate                      0 non-null       float64\n",
      " 710  bs_drop_rate                      0 non-null       float64\n",
      " 711  bs_of_recall_m1                   0 non-null       float64\n",
      " 712  bs_of_attemps_all_m1              0 non-null       float64\n",
      " 713  bs_of_unsucc_low_balance_m1       0 non-null       float64\n",
      " 714  bs_recall_rate                    0 non-null       float64\n",
      " 715  bs_of_unsucc_attemp_equip_m1      0 non-null       float64\n",
      " 716  bs_of_succ_but_drop_m1            0 non-null       float64\n",
      " 717  MV_Traf_Cont_out_v_Min            126401 non-null  float16\n",
      " 718  MV_ot_mn_out_v                    96161 non-null   float16\n",
      " 719  MV_dou_Roam_v                     126401 non-null  float16\n",
      " 720  MV_ap_innet_out_v                 85767 non-null   float16\n",
      " 721  MV_ap_s                           85767 non-null   float16\n",
      " 722  MV_dou_out_s                      126401 non-null  float16\n",
      " 723  MV_ot_omo_out_v                   96161 non-null   float16\n",
      " 724  MV_ARPU_omo_out_s_Traf            126401 non-null  float16\n",
      " 725  MV_Traf_innet_out_s_Cnt           126401 non-null  float16\n",
      " 726  MV_ARPU_R_out_v_Traf              126401 non-null  float16\n",
      " 727  MV_ARPU_mn_out_v_Traf             126401 non-null  float16\n",
      " 728  MV_ARPU_omo_out_v_Traf            126401 non-null  float16\n",
      " 729  MV_Traf_Other_out_v_Min           126401 non-null  float16\n",
      " 730  MV_ap_omo_out_v                   85767 non-null   float16\n",
      " 731  MV_Traf_R_out_v_Min               126401 non-null  float16\n",
      " 732  MV_Traf_3G_d_Mb                   126401 non-null  float16\n",
      " 733  MV_Traf_2G_d_Mb                   126401 non-null  float16\n",
      " 734  MV_ARPU_R_out_s_Traf              126401 non-null  float16\n",
      " 735  MV_ot_3G_d                        96161 non-null   float16\n",
      " 736  MV_dou_Roam_d                     126401 non-null  float16\n",
      " 737  MV_ARPU_Roam_d_Traf               126401 non-null  float16\n",
      " 738  MV_ap_3G_d                        85767 non-null   float16\n",
      " 739  MV_dou_innet_out_v                126401 non-null  float16\n",
      " 740  MV_Traf_omo_inc_v_Min             126401 non-null  float16\n",
      " 741  MV_ARPU_Other_out_v_Traf          126401 non-null  float16\n",
      " 742  MV_dou_net                        126401 non-null  float16\n",
      " 743  MV_dou                            127798 non-null  float16\n",
      " 744  MV_Traf_Cont_out_s_Cnt            126401 non-null  float16\n",
      " 745  MV_VLR_Guest                      24441 non-null   float16\n",
      " 746  MV_ARPU_Other_inc_v_Traf          126401 non-null  float16\n",
      " 747  MV_Traf_4G_d_Mb                   126401 non-null  float16\n",
      " 748  MV_ot_R_v                         96161 non-null   float16\n",
      " 749  MV_Traf_innet_out_v_Min           126401 non-null  float16\n",
      " 750  MV_ap_Other                       85767 non-null   float16\n",
      " 751  MV_Traf_Other_inc_v_Min           126401 non-null  float16\n",
      " 752  MV_Traf_omo_out_v_Min             126401 non-null  float16\n",
      " 753  MV_Traf_pstn_out_v_Min            126401 non-null  float16\n",
      " 754  MV_net_total                      126401 non-null  float16\n",
      " 755  MV_ot_Cont_v                      96161 non-null   float16\n",
      " 756  MV_Traf_Cont_inc_s_Cnt            126401 non-null  float16\n",
      " 757  MV_Traf_Cont_inc_v_Min            126401 non-null  float16\n",
      " 758  MV_Traf_Roam_d_Mb                 126401 non-null  float16\n",
      " 759  MV_ARPU_3G_d_Traf                 126401 non-null  float16\n",
      " 760  MV_dou_4G_d                       126401 non-null  float16\n",
      " 761  MV_ARPU_4G_d_Traf                 126401 non-null  float16\n",
      " 762  MV_AP_total                       85767 non-null   float16\n",
      " 763  MV_ot_R_sm                        96161 non-null   float16\n",
      " 764  MV_ARPU_Cont_out_s_Traf           126401 non-null  float16\n",
      " 765  MV_ARPU_Cont_out_v_Traf           126401 non-null  float16\n",
      " 766  MV_DOU_AP                         85767 non-null   float16\n",
      " 767  MV_ot_Unkn                        96161 non-null   float16\n",
      " 768  MV_ot_Roam_d                      96161 non-null   float16\n",
      " 769  MV_Traf_R_inc_v_Min               126401 non-null  float16\n",
      " 770  MV_ap_2G_d                        85767 non-null   float16\n",
      " 771  MV_Traf_mn_inc_v_Min              126401 non-null  float16\n",
      " 772  MV_dou_3G_d                       126401 non-null  float16\n",
      " 773  MV_ap_Roam_d                      85767 non-null   float16\n",
      " 774  MV_ot_4G_d                        96161 non-null   float16\n",
      " 775  MV_ARPU_pstn_out_v_Traf           126401 non-null  float16\n",
      " 776  MV_ARPU_innet_out_s_Traf          126401 non-null  float16\n",
      " 777  MV_ARPU_mn_out_s_Traf             126401 non-null  float16\n",
      " 778  MV_Traf_inc_s_Cnt                 126401 non-null  float16\n",
      " 779  MV_Traf_mn_out_s_Cnt              126401 non-null  float16\n",
      " 780  MV_ARPU_innet_inc_v_Traf          126401 non-null  float16\n",
      " 781  MV_ap_inc_v                       85767 non-null   float16\n",
      " 782  MV_Traf_R_out_s_Cnt               126401 non-null  float16\n",
      " 783  MV_Traf_innet_inc_v_Min           126401 non-null  float16\n",
      " 784  MV_ot_inc_v                       96161 non-null   float16\n",
      " 785  MV_ARPU_innet_out_v_Traf          126401 non-null  float16\n",
      " 786  MV_ot_pstn_out_v                  96161 non-null   float16\n",
      " 787  MV_dou_data                       126401 non-null  float16\n",
      " 788  MV_dou_mn_out_v                   126401 non-null  float16\n",
      " 789  MV_ot_s                           96161 non-null   float16\n",
      " 790  MV_ap_pstn_out_v                  85767 non-null   float16\n",
      " 791  MV_ARPU                           127798 non-null  float16\n",
      " 792  MV_FRAUD_BLOCK                    12 non-null      float16\n",
      " 793  MV_dou_omo_out_v                  126401 non-null  float16\n",
      " 794  MV_ARPU_inc_s_Traf                126401 non-null  float16\n",
      " 795  MV_ap_4G_d                        85767 non-null   float16\n",
      " 796  MV_ot_innet_out_v                 96161 non-null   float16\n",
      " 797  MV_dou_Roam                       126401 non-null  float16\n",
      " 798  MV_ap_mn_out_v                    85767 non-null   float16\n",
      " 799  MV_Traf_omo_out_s_Cnt             126401 non-null  float16\n",
      " 800  MV_dou_2G_d                       126401 non-null  float16\n",
      " 801  MV_ap_Cont_v                      85767 non-null   float16\n",
      " 802  MV_Traf_pstn_inc_v_Min            126401 non-null  float16\n",
      " 803  MV_ARPU_R_inc_v_Traf              126401 non-null  float16\n",
      " 804  MV_ARPU_2G_d_Traf                 126401 non-null  float16\n",
      " 805  MV_ot_Other                       96161 non-null   float16\n",
      " 806  MV_Traf_ACCA_out_v_Min            126401 non-null  float16\n",
      " 807  MV_Traf_mn_out_v_Min              126401 non-null  float16\n",
      " 808  MV_DOU_OT                         96161 non-null   float16\n",
      " 809  MV_SERV_Y_WO_AF                   8278 non-null    float16\n",
      " 810  MV_Migr_To                        142801 non-null  float16\n",
      " 811  MV_SERV_RLH                       22 non-null      float16\n",
      " 812  MV_DOU_PPM_VF                     80687 non-null   float16\n",
      " 813  MV_DOU_Neg_Bal                    1027 non-null    float16\n",
      " 814  MV_ot_total                       96161 non-null   float16\n",
      " 815  target                            146953 non-null  int8   \n",
      "dtypes: float16(804), float64(11), int8(1)\n",
      "memory usage: 238.4 MB\n",
      "None\n"
     ]
    },
    {
     "data": {
      "text/html": [
       "<div>\n",
       "<style scoped>\n",
       "    .dataframe tbody tr th:only-of-type {\n",
       "        vertical-align: middle;\n",
       "    }\n",
       "\n",
       "    .dataframe tbody tr th {\n",
       "        vertical-align: top;\n",
       "    }\n",
       "\n",
       "    .dataframe thead th {\n",
       "        text-align: right;\n",
       "    }\n",
       "</style>\n",
       "<table border=\"1\" class=\"dataframe\">\n",
       "  <thead>\n",
       "    <tr style=\"text-align: right;\">\n",
       "      <th></th>\n",
       "      <th>Ama_rchrgmnt_sum_max_mnt1</th>\n",
       "      <th>content_clc_mea_mnt1</th>\n",
       "      <th>content_cnt_max_mnt1</th>\n",
       "      <th>voice_out_short_part_max_mnt1</th>\n",
       "      <th>voice_mts_in_nrest_part_std_mnt1</th>\n",
       "      <th>num_act_days_max_mnt1</th>\n",
       "      <th>sms_roam_clc_min_mnt1</th>\n",
       "      <th>voice_in_cmpttrs_avg_durmin_mnt1</th>\n",
       "      <th>com_num_part_mea_mnt1</th>\n",
       "      <th>pay_avg_mea_mnt1</th>\n",
       "      <th>...</th>\n",
       "      <th>MV_Traf_ACCA_out_v_Min</th>\n",
       "      <th>MV_Traf_mn_out_v_Min</th>\n",
       "      <th>MV_DOU_OT</th>\n",
       "      <th>MV_SERV_Y_WO_AF</th>\n",
       "      <th>MV_Migr_To</th>\n",
       "      <th>MV_SERV_RLH</th>\n",
       "      <th>MV_DOU_PPM_VF</th>\n",
       "      <th>MV_DOU_Neg_Bal</th>\n",
       "      <th>MV_ot_total</th>\n",
       "      <th>target</th>\n",
       "    </tr>\n",
       "    <tr>\n",
       "      <th>abon_id</th>\n",
       "      <th></th>\n",
       "      <th></th>\n",
       "      <th></th>\n",
       "      <th></th>\n",
       "      <th></th>\n",
       "      <th></th>\n",
       "      <th></th>\n",
       "      <th></th>\n",
       "      <th></th>\n",
       "      <th></th>\n",
       "      <th></th>\n",
       "      <th></th>\n",
       "      <th></th>\n",
       "      <th></th>\n",
       "      <th></th>\n",
       "      <th></th>\n",
       "      <th></th>\n",
       "      <th></th>\n",
       "      <th></th>\n",
       "      <th></th>\n",
       "      <th></th>\n",
       "    </tr>\n",
       "  </thead>\n",
       "  <tbody>\n",
       "    <tr>\n",
       "      <th>1525928</th>\n",
       "      <td>0.0</td>\n",
       "      <td>0.0</td>\n",
       "      <td>10.828125</td>\n",
       "      <td>1.000977</td>\n",
       "      <td>1.000000</td>\n",
       "      <td>5.324219</td>\n",
       "      <td>0.0</td>\n",
       "      <td>31.453125</td>\n",
       "      <td>1.226562</td>\n",
       "      <td>25.843750</td>\n",
       "      <td>...</td>\n",
       "      <td>0.000000</td>\n",
       "      <td>0.0</td>\n",
       "      <td>4.210938</td>\n",
       "      <td>NaN</td>\n",
       "      <td>0.0</td>\n",
       "      <td>NaN</td>\n",
       "      <td>12.789062</td>\n",
       "      <td>NaN</td>\n",
       "      <td>0.0</td>\n",
       "      <td>4</td>\n",
       "    </tr>\n",
       "    <tr>\n",
       "      <th>1530471</th>\n",
       "      <td>0.0</td>\n",
       "      <td>0.0</td>\n",
       "      <td>9.976562</td>\n",
       "      <td>1.000977</td>\n",
       "      <td>1.000000</td>\n",
       "      <td>5.324219</td>\n",
       "      <td>0.0</td>\n",
       "      <td>0.000000</td>\n",
       "      <td>1.005859</td>\n",
       "      <td>13.328125</td>\n",
       "      <td>...</td>\n",
       "      <td>0.000000</td>\n",
       "      <td>0.0</td>\n",
       "      <td>NaN</td>\n",
       "      <td>NaN</td>\n",
       "      <td>0.0</td>\n",
       "      <td>NaN</td>\n",
       "      <td>17.906250</td>\n",
       "      <td>NaN</td>\n",
       "      <td>NaN</td>\n",
       "      <td>4</td>\n",
       "    </tr>\n",
       "    <tr>\n",
       "      <th>1541528</th>\n",
       "      <td>0.0</td>\n",
       "      <td>0.0</td>\n",
       "      <td>12.101562</td>\n",
       "      <td>1.000977</td>\n",
       "      <td>1.000977</td>\n",
       "      <td>5.324219</td>\n",
       "      <td>0.0</td>\n",
       "      <td>10.625000</td>\n",
       "      <td>1.009766</td>\n",
       "      <td>4.980469</td>\n",
       "      <td>...</td>\n",
       "      <td>0.000000</td>\n",
       "      <td>0.0</td>\n",
       "      <td>2.207031</td>\n",
       "      <td>NaN</td>\n",
       "      <td>0.0</td>\n",
       "      <td>NaN</td>\n",
       "      <td>NaN</td>\n",
       "      <td>NaN</td>\n",
       "      <td>0.0</td>\n",
       "      <td>3</td>\n",
       "    </tr>\n",
       "    <tr>\n",
       "      <th>1542028</th>\n",
       "      <td>0.0</td>\n",
       "      <td>0.0</td>\n",
       "      <td>0.000000</td>\n",
       "      <td>0.000000</td>\n",
       "      <td>0.000000</td>\n",
       "      <td>0.000000</td>\n",
       "      <td>0.0</td>\n",
       "      <td>0.000000</td>\n",
       "      <td>0.000000</td>\n",
       "      <td>0.000000</td>\n",
       "      <td>...</td>\n",
       "      <td>NaN</td>\n",
       "      <td>NaN</td>\n",
       "      <td>NaN</td>\n",
       "      <td>NaN</td>\n",
       "      <td>NaN</td>\n",
       "      <td>NaN</td>\n",
       "      <td>NaN</td>\n",
       "      <td>NaN</td>\n",
       "      <td>NaN</td>\n",
       "      <td>3</td>\n",
       "    </tr>\n",
       "    <tr>\n",
       "      <th>1542203</th>\n",
       "      <td>0.0</td>\n",
       "      <td>0.0</td>\n",
       "      <td>0.000000</td>\n",
       "      <td>0.000000</td>\n",
       "      <td>0.000000</td>\n",
       "      <td>1.480469</td>\n",
       "      <td>0.0</td>\n",
       "      <td>0.000000</td>\n",
       "      <td>0.000000</td>\n",
       "      <td>0.000000</td>\n",
       "      <td>...</td>\n",
       "      <td>0.000000</td>\n",
       "      <td>0.0</td>\n",
       "      <td>NaN</td>\n",
       "      <td>NaN</td>\n",
       "      <td>0.0</td>\n",
       "      <td>NaN</td>\n",
       "      <td>12.789062</td>\n",
       "      <td>NaN</td>\n",
       "      <td>NaN</td>\n",
       "      <td>5</td>\n",
       "    </tr>\n",
       "    <tr>\n",
       "      <th>...</th>\n",
       "      <td>...</td>\n",
       "      <td>...</td>\n",
       "      <td>...</td>\n",
       "      <td>...</td>\n",
       "      <td>...</td>\n",
       "      <td>...</td>\n",
       "      <td>...</td>\n",
       "      <td>...</td>\n",
       "      <td>...</td>\n",
       "      <td>...</td>\n",
       "      <td>...</td>\n",
       "      <td>...</td>\n",
       "      <td>...</td>\n",
       "      <td>...</td>\n",
       "      <td>...</td>\n",
       "      <td>...</td>\n",
       "      <td>...</td>\n",
       "      <td>...</td>\n",
       "      <td>...</td>\n",
       "      <td>...</td>\n",
       "      <td>...</td>\n",
       "    </tr>\n",
       "    <tr>\n",
       "      <th>132486100</th>\n",
       "      <td>0.0</td>\n",
       "      <td>0.0</td>\n",
       "      <td>6.750000</td>\n",
       "      <td>0.000000</td>\n",
       "      <td>0.000000</td>\n",
       "      <td>5.324219</td>\n",
       "      <td>0.0</td>\n",
       "      <td>0.000000</td>\n",
       "      <td>0.000000</td>\n",
       "      <td>26.171875</td>\n",
       "      <td>...</td>\n",
       "      <td>0.000000</td>\n",
       "      <td>0.0</td>\n",
       "      <td>1.480469</td>\n",
       "      <td>NaN</td>\n",
       "      <td>0.0</td>\n",
       "      <td>NaN</td>\n",
       "      <td>NaN</td>\n",
       "      <td>NaN</td>\n",
       "      <td>0.0</td>\n",
       "      <td>4</td>\n",
       "    </tr>\n",
       "    <tr>\n",
       "      <th>132550466</th>\n",
       "      <td>0.0</td>\n",
       "      <td>0.0</td>\n",
       "      <td>4.785156</td>\n",
       "      <td>0.000000</td>\n",
       "      <td>0.000000</td>\n",
       "      <td>5.324219</td>\n",
       "      <td>0.0</td>\n",
       "      <td>0.000000</td>\n",
       "      <td>1.001953</td>\n",
       "      <td>24.390625</td>\n",
       "      <td>...</td>\n",
       "      <td>6.195312</td>\n",
       "      <td>0.0</td>\n",
       "      <td>3.589844</td>\n",
       "      <td>NaN</td>\n",
       "      <td>0.0</td>\n",
       "      <td>NaN</td>\n",
       "      <td>NaN</td>\n",
       "      <td>NaN</td>\n",
       "      <td>0.0</td>\n",
       "      <td>3</td>\n",
       "    </tr>\n",
       "    <tr>\n",
       "      <th>132551440</th>\n",
       "      <td>0.0</td>\n",
       "      <td>0.0</td>\n",
       "      <td>2.921875</td>\n",
       "      <td>0.000000</td>\n",
       "      <td>0.000000</td>\n",
       "      <td>5.324219</td>\n",
       "      <td>0.0</td>\n",
       "      <td>0.000000</td>\n",
       "      <td>0.000000</td>\n",
       "      <td>21.093750</td>\n",
       "      <td>...</td>\n",
       "      <td>0.000000</td>\n",
       "      <td>0.0</td>\n",
       "      <td>2.207031</td>\n",
       "      <td>NaN</td>\n",
       "      <td>0.0</td>\n",
       "      <td>NaN</td>\n",
       "      <td>NaN</td>\n",
       "      <td>NaN</td>\n",
       "      <td>0.0</td>\n",
       "      <td>3</td>\n",
       "    </tr>\n",
       "    <tr>\n",
       "      <th>132571143</th>\n",
       "      <td>0.0</td>\n",
       "      <td>0.0</td>\n",
       "      <td>0.000000</td>\n",
       "      <td>0.000000</td>\n",
       "      <td>0.000000</td>\n",
       "      <td>2.921875</td>\n",
       "      <td>0.0</td>\n",
       "      <td>0.000000</td>\n",
       "      <td>0.000000</td>\n",
       "      <td>0.000000</td>\n",
       "      <td>...</td>\n",
       "      <td>NaN</td>\n",
       "      <td>NaN</td>\n",
       "      <td>NaN</td>\n",
       "      <td>NaN</td>\n",
       "      <td>NaN</td>\n",
       "      <td>NaN</td>\n",
       "      <td>NaN</td>\n",
       "      <td>NaN</td>\n",
       "      <td>NaN</td>\n",
       "      <td>4</td>\n",
       "    </tr>\n",
       "    <tr>\n",
       "      <th>132580172</th>\n",
       "      <td>0.0</td>\n",
       "      <td>0.0</td>\n",
       "      <td>9.351562</td>\n",
       "      <td>0.000000</td>\n",
       "      <td>0.000000</td>\n",
       "      <td>4.210938</td>\n",
       "      <td>0.0</td>\n",
       "      <td>0.000000</td>\n",
       "      <td>1.164062</td>\n",
       "      <td>18.234375</td>\n",
       "      <td>...</td>\n",
       "      <td>NaN</td>\n",
       "      <td>NaN</td>\n",
       "      <td>NaN</td>\n",
       "      <td>NaN</td>\n",
       "      <td>NaN</td>\n",
       "      <td>NaN</td>\n",
       "      <td>NaN</td>\n",
       "      <td>NaN</td>\n",
       "      <td>NaN</td>\n",
       "      <td>3</td>\n",
       "    </tr>\n",
       "  </tbody>\n",
       "</table>\n",
       "<p>146953 rows × 816 columns</p>\n",
       "</div>"
      ],
      "text/plain": [
       "           Ama_rchrgmnt_sum_max_mnt1  content_clc_mea_mnt1  \\\n",
       "abon_id                                                      \n",
       "1525928                          0.0                   0.0   \n",
       "1530471                          0.0                   0.0   \n",
       "1541528                          0.0                   0.0   \n",
       "1542028                          0.0                   0.0   \n",
       "1542203                          0.0                   0.0   \n",
       "...                              ...                   ...   \n",
       "132486100                        0.0                   0.0   \n",
       "132550466                        0.0                   0.0   \n",
       "132551440                        0.0                   0.0   \n",
       "132571143                        0.0                   0.0   \n",
       "132580172                        0.0                   0.0   \n",
       "\n",
       "           content_cnt_max_mnt1  voice_out_short_part_max_mnt1  \\\n",
       "abon_id                                                          \n",
       "1525928               10.828125                       1.000977   \n",
       "1530471                9.976562                       1.000977   \n",
       "1541528               12.101562                       1.000977   \n",
       "1542028                0.000000                       0.000000   \n",
       "1542203                0.000000                       0.000000   \n",
       "...                         ...                            ...   \n",
       "132486100              6.750000                       0.000000   \n",
       "132550466              4.785156                       0.000000   \n",
       "132551440              2.921875                       0.000000   \n",
       "132571143              0.000000                       0.000000   \n",
       "132580172              9.351562                       0.000000   \n",
       "\n",
       "           voice_mts_in_nrest_part_std_mnt1  num_act_days_max_mnt1  \\\n",
       "abon_id                                                              \n",
       "1525928                            1.000000               5.324219   \n",
       "1530471                            1.000000               5.324219   \n",
       "1541528                            1.000977               5.324219   \n",
       "1542028                            0.000000               0.000000   \n",
       "1542203                            0.000000               1.480469   \n",
       "...                                     ...                    ...   \n",
       "132486100                          0.000000               5.324219   \n",
       "132550466                          0.000000               5.324219   \n",
       "132551440                          0.000000               5.324219   \n",
       "132571143                          0.000000               2.921875   \n",
       "132580172                          0.000000               4.210938   \n",
       "\n",
       "           sms_roam_clc_min_mnt1  voice_in_cmpttrs_avg_durmin_mnt1  \\\n",
       "abon_id                                                              \n",
       "1525928                      0.0                         31.453125   \n",
       "1530471                      0.0                          0.000000   \n",
       "1541528                      0.0                         10.625000   \n",
       "1542028                      0.0                          0.000000   \n",
       "1542203                      0.0                          0.000000   \n",
       "...                          ...                               ...   \n",
       "132486100                    0.0                          0.000000   \n",
       "132550466                    0.0                          0.000000   \n",
       "132551440                    0.0                          0.000000   \n",
       "132571143                    0.0                          0.000000   \n",
       "132580172                    0.0                          0.000000   \n",
       "\n",
       "           com_num_part_mea_mnt1  pay_avg_mea_mnt1  ...  \\\n",
       "abon_id                                             ...   \n",
       "1525928                 1.226562         25.843750  ...   \n",
       "1530471                 1.005859         13.328125  ...   \n",
       "1541528                 1.009766          4.980469  ...   \n",
       "1542028                 0.000000          0.000000  ...   \n",
       "1542203                 0.000000          0.000000  ...   \n",
       "...                          ...               ...  ...   \n",
       "132486100               0.000000         26.171875  ...   \n",
       "132550466               1.001953         24.390625  ...   \n",
       "132551440               0.000000         21.093750  ...   \n",
       "132571143               0.000000          0.000000  ...   \n",
       "132580172               1.164062         18.234375  ...   \n",
       "\n",
       "           MV_Traf_ACCA_out_v_Min  MV_Traf_mn_out_v_Min  MV_DOU_OT  \\\n",
       "abon_id                                                              \n",
       "1525928                  0.000000                   0.0   4.210938   \n",
       "1530471                  0.000000                   0.0        NaN   \n",
       "1541528                  0.000000                   0.0   2.207031   \n",
       "1542028                       NaN                   NaN        NaN   \n",
       "1542203                  0.000000                   0.0        NaN   \n",
       "...                           ...                   ...        ...   \n",
       "132486100                0.000000                   0.0   1.480469   \n",
       "132550466                6.195312                   0.0   3.589844   \n",
       "132551440                0.000000                   0.0   2.207031   \n",
       "132571143                     NaN                   NaN        NaN   \n",
       "132580172                     NaN                   NaN        NaN   \n",
       "\n",
       "           MV_SERV_Y_WO_AF  MV_Migr_To  MV_SERV_RLH  MV_DOU_PPM_VF  \\\n",
       "abon_id                                                              \n",
       "1525928                NaN         0.0          NaN      12.789062   \n",
       "1530471                NaN         0.0          NaN      17.906250   \n",
       "1541528                NaN         0.0          NaN            NaN   \n",
       "1542028                NaN         NaN          NaN            NaN   \n",
       "1542203                NaN         0.0          NaN      12.789062   \n",
       "...                    ...         ...          ...            ...   \n",
       "132486100              NaN         0.0          NaN            NaN   \n",
       "132550466              NaN         0.0          NaN            NaN   \n",
       "132551440              NaN         0.0          NaN            NaN   \n",
       "132571143              NaN         NaN          NaN            NaN   \n",
       "132580172              NaN         NaN          NaN            NaN   \n",
       "\n",
       "           MV_DOU_Neg_Bal  MV_ot_total  target  \n",
       "abon_id                                         \n",
       "1525928               NaN          0.0       4  \n",
       "1530471               NaN          NaN       4  \n",
       "1541528               NaN          0.0       3  \n",
       "1542028               NaN          NaN       3  \n",
       "1542203               NaN          NaN       5  \n",
       "...                   ...          ...     ...  \n",
       "132486100             NaN          0.0       4  \n",
       "132550466             NaN          0.0       3  \n",
       "132551440             NaN          0.0       3  \n",
       "132571143             NaN          NaN       4  \n",
       "132580172             NaN          NaN       3  \n",
       "\n",
       "[146953 rows x 816 columns]"
      ]
     },
     "execution_count": 3,
     "metadata": {},
     "output_type": "execute_result"
    }
   ],
   "source": [
    "df_train = pd.read_parquet(train_fe_path)\n",
    "\n",
    "X_train = df_train.drop(columns=[TARGET_KEY])\n",
    "# lgb wants zero-based categories\n",
    "y_train = df_train[TARGET_KEY] - 1\n",
    "\n",
    "df_test = pd.read_parquet(test_fe_path)\n",
    "X_test = df_test.drop(columns=[TARGET_KEY])\n",
    "# lgb requires class to be zero-based\n",
    "y_test = df_test[TARGET_KEY] - 1\n",
    "del df_test\n",
    "\n",
    "print(df_train.info(max_cols=1000))\n",
    "df_train"
   ]
  },
  {
   "cell_type": "code",
   "execution_count": 4,
   "metadata": {},
   "outputs": [
    {
     "name": "stdout",
     "output_type": "stream",
     "text": [
      "Missing values report:\n",
      "Features count without missing values: 4\n",
      "\n",
      "Percent of missing values by feature (features count 812):\n",
      "                                   Total    Rate\n",
      "bs_of_unsucc_attemp_equip_m1      146953  100.00\n",
      "bs_drop_call_rate                 146953  100.00\n",
      "bs_of_succ_m1                     146953  100.00\n",
      "bs_succ_rate                      146953  100.00\n",
      "bs_drop_rate                      146953  100.00\n",
      "bs_of_recall_m1                   146953  100.00\n",
      "bs_of_attemps_all_m1              146953  100.00\n",
      "bs_of_succ_but_drop_m1            146953  100.00\n",
      "bs_of_unsucc_low_balance_m1       146953  100.00\n",
      "device_has_gprs                   146953  100.00\n",
      "bs_recall_rate                    146953  100.00\n",
      "entertainment                     146947  100.00\n",
      "MV_FRAUD_BLOCK                    146941   99.99\n",
      "Food                              146935   99.99\n",
      "MV_SERV_RLH                       146931   99.99\n",
      "tsoa_mail_cnt                     146830   99.92\n",
      "Cars                              146806   99.90\n",
      "Fax                               146459   99.66\n",
      "MV_DOU_Neg_Bal                    145926   99.30\n",
      "SMS                               145880   99.27\n",
      "Shops                             145875   99.27\n",
      "DNZ_MEAN_days_open_loan_year2     144543   98.36\n",
      "DNZ_MEAN_days_open_loan_year5     144435   98.29\n",
      "AMA                               141194   96.08\n",
      "MV_SERV_Y_WO_AF                   138675   94.37\n",
      "Minutes                           137885   93.83\n",
      "tsoa_direct_cnt                   135770   92.39\n",
      "bs_delte_ppd_change_tp            135488   92.20\n",
      "bs_direct_change_tp               135483   92.19\n",
      "bs_arpu_change_tp                 135483   92.19\n",
      "bs_day_of_change_tp               135483   92.19\n",
      "bs_count_change_tp                135483   92.19\n",
      "bs_delte_ppm_change_tp            135483   92.19\n",
      "bs_delte_mb_change_tp             135483   92.19\n",
      "bs_delte_omo_change_tp            135483   92.19\n",
      "tsoa_chat_cnt                     134603   91.60\n",
      "active_gba                        133755   91.02\n",
      "day_end_gba                       133755   91.02\n",
      "device_ios_version                131827   89.71\n",
      "DNZ_STD_days_closed_loan_year5    131206   89.28\n",
      "BS_OVERBUNDLE_MB_SUM_M1           128037   87.13\n",
      "BS_OVERBUNDLE_MB_CNT_M1           128037   87.13\n",
      "BS_OVERBUNDLE_MB_CNT_M2           127761   86.94\n",
      "BS_OVERBUNDLE_MB_SUM_M2           127761   86.94\n",
      "DNZ_MAX_days_closed_loan_year2    127326   86.64\n",
      "DNZ_MIN_days_closed_loan_year2    127326   86.64\n",
      "DNZ_MEAN_days_closed_loan_year2   127326   86.64\n",
      "BS_OVERBUNDLE_MB_SUM_M3           126904   86.36\n",
      "BS_OVERBUNDLE_MB_CNT_M3           126904   86.36\n",
      "DNZ_COUNT_open_loan_year2         126693   86.21\n",
      "DNZ_COUNT_closed_loan_year2       126693   86.21\n",
      "DNZ_DAYS_from_last_year2          126693   86.21\n",
      "MV_VLR_Guest                      122512   83.37\n",
      "device_price                      121459   82.65\n",
      "DNZ_MIN_days_closed_loan_year5    120269   81.84\n",
      "DNZ_MEAN_days_closed_loan_year5   120269   81.84\n",
      "DNZ_MAX_days_closed_loan_year5    120269   81.84\n",
      "DNZ_DAYS_from_last_year5          119811   81.53\n",
      "DNZ_COUNT_closed_loan_year5       119811   81.53\n",
      "DNZ_COUNT_open_loan_year5         119811   81.53\n",
      "Good_deed                         116608   79.35\n",
      "tsoa_call_cnt                     112565   76.60\n",
      "Internet                          106701   72.61\n",
      "device_android_version             71017   48.33\n",
      "MV_DOU_PPM_VF                      66266   45.09\n",
      "MV_ap_s                            61186   41.64\n",
      "MV_ap_omo_out_v                    61186   41.64\n",
      "MV_ap_3G_d                         61186   41.64\n",
      "MV_ap_Other                        61186   41.64\n",
      "MV_ap_innet_out_v                  61186   41.64\n",
      "MV_AP_total                        61186   41.64\n",
      "MV_DOU_AP                          61186   41.64\n",
      "MV_ap_2G_d                         61186   41.64\n",
      "MV_ap_Cont_v                       61186   41.64\n",
      "MV_ap_mn_out_v                     61186   41.64\n",
      "MV_ap_Roam_d                       61186   41.64\n",
      "MV_ap_4G_d                         61186   41.64\n",
      "MV_ap_pstn_out_v                   61186   41.64\n",
      "MV_ap_inc_v                        61186   41.64\n",
      "bs_ovrl_OMO_SUM_M2                 59454   40.46\n",
      "bs_ovrl_OMO_CNT_M2                 59454   40.46\n",
      "bs_ovrl_OMO_CNT_M1                 59449   40.45\n",
      "bs_ovrl_OMO_SUM_M1                 59449   40.45\n",
      "bs_ovrl_OMO_CNT_M3                 57646   39.23\n",
      "bs_ovrl_OMO_SUM_M3                 57646   39.23\n",
      "MV_ot_omo_out_v                    50792   34.56\n",
      "MV_ot_inc_v                        50792   34.56\n",
      "MV_ot_pstn_out_v                   50792   34.56\n",
      "MV_ot_s                            50792   34.56\n",
      "MV_ot_4G_d                         50792   34.56\n",
      "MV_ot_innet_out_v                  50792   34.56\n",
      "MV_ot_Other                        50792   34.56\n",
      "MV_ot_Roam_d                       50792   34.56\n",
      "MV_ot_Unkn                         50792   34.56\n",
      "MV_DOU_OT                          50792   34.56\n",
      "MV_ot_mn_out_v                     50792   34.56\n",
      "MV_ot_R_sm                         50792   34.56\n",
      "MV_ot_total                        50792   34.56\n",
      "MV_ot_3G_d                         50792   34.56\n",
      "MV_ot_Cont_v                       50792   34.56\n",
      "MV_ot_R_v                          50792   34.56\n",
      "bs_count_ppm_mn3                   49954   33.99\n",
      "std_paym_6_month                   37320   25.40\n",
      "device_sim_count                   35213   23.96\n",
      "device_has_wifi                    35213   23.96\n",
      "device_width_mm                    35213   23.96\n",
      "device_height_mm                   35213   23.96\n",
      "device_has_lte                     35213   23.96\n",
      "loc_is_obl_center                  33964   23.11\n",
      "loc_cnt_events                     33964   23.11\n",
      "loc_market_share                   33964   23.11\n",
      "device_brand_nokia                 30407   20.69\n",
      "device_brand_prestigio             30407   20.69\n",
      "device_type_module                 30407   20.69\n",
      "device_brand_lenovo                30407   20.69\n",
      "device_type_modem                  30407   20.69\n",
      "device_brand_sony                  30407   20.69\n",
      "device_type_rus_other              30407   20.69\n",
      "device_type_phone                  30407   20.69\n",
      "device_brand_huawei                30407   20.69\n",
      "device_brand_apple                 30407   20.69\n",
      "device_type_smartphone             30407   20.69\n",
      "device_brand_samsung               30407   20.69\n",
      "device_days_usage                  30407   20.69\n",
      "device_brand_nan                   30407   20.69\n",
      "device_type_tablet                 30407   20.69\n",
      "device_brand_xiaomi                30407   20.69\n",
      "device_brand_meizu                 30407   20.69\n",
      "device_brand_lg                    30407   20.69\n",
      "device_brand_other                 30407   20.69\n",
      "device_type_nan                    30407   20.69\n",
      "is_max_paym                        23116   15.73\n",
      "max_paym_6_month                   23116   15.73\n",
      "count_day_for_last_paym            23116   15.73\n",
      "cnt_paym_6_month                   23116   15.73\n",
      "is_avg_paym                        23116   15.73\n",
      "last_paym                          23116   15.73\n",
      "avg_paym_6_month                   23116   15.73\n",
      "min_paym_6_month                   23116   15.73\n",
      "sum_paym_6_month                   23116   15.73\n",
      "MV_Traf_Other_out_v_Min            20552   13.99\n",
      "MV_ARPU_3G_d_Traf                  20552   13.99\n",
      "MV_Traf_Other_inc_v_Min            20552   13.99\n",
      "MV_Traf_omo_out_s_Cnt              20552   13.99\n",
      "MV_dou_2G_d                        20552   13.99\n",
      "MV_dou_omo_out_v                   20552   13.99\n",
      "MV_Traf_pstn_inc_v_Min             20552   13.99\n",
      "MV_ARPU_R_inc_v_Traf               20552   13.99\n",
      "MV_ARPU_2G_d_Traf                  20552   13.99\n",
      "MV_Traf_omo_out_v_Min              20552   13.99\n",
      "MV_Traf_ACCA_out_v_Min             20552   13.99\n",
      "MV_Traf_mn_out_v_Min               20552   13.99\n",
      "MV_Traf_pstn_out_v_Min             20552   13.99\n",
      "MV_ARPU_inc_s_Traf                 20552   13.99\n",
      "MV_dou_Roam                        20552   13.99\n",
      "MV_dou_3G_d                        20552   13.99\n",
      "MV_dou_Roam_v                      20552   13.99\n",
      "MV_dou_innet_out_v                 20552   13.99\n",
      "MV_Traf_mn_inc_v_Min               20552   13.99\n",
      "MV_Traf_Roam_d_Mb                  20552   13.99\n",
      "MV_Traf_R_inc_v_Min                20552   13.99\n",
      "MV_ARPU_Roam_d_Traf                20552   13.99\n",
      "MV_dou_Roam_d                      20552   13.99\n",
      "MV_ARPU_Cont_out_v_Traf            20552   13.99\n",
      "MV_ARPU_Cont_out_s_Traf            20552   13.99\n",
      "MV_Traf_Cont_out_v_Min             20552   13.99\n",
      "MV_ARPU_R_out_s_Traf               20552   13.99\n",
      "MV_Traf_2G_d_Mb                    20552   13.99\n",
      "MV_ARPU_pstn_out_v_Traf            20552   13.99\n",
      "MV_Traf_3G_d_Mb                    20552   13.99\n",
      "MV_ARPU_4G_d_Traf                  20552   13.99\n",
      "MV_dou_4G_d                        20552   13.99\n",
      "MV_dou_out_s                       20552   13.99\n",
      "MV_Traf_R_out_v_Min                20552   13.99\n",
      "MV_ARPU_omo_out_s_Traf             20552   13.99\n",
      "MV_Traf_innet_out_s_Cnt            20552   13.99\n",
      "MV_ARPU_R_out_v_Traf               20552   13.99\n",
      "MV_ARPU_mn_out_v_Traf              20552   13.99\n",
      "MV_ARPU_omo_out_v_Traf             20552   13.99\n",
      "MV_Traf_omo_inc_v_Min              20552   13.99\n",
      "MV_net_total                       20552   13.99\n",
      "MV_dou_net                         20552   13.99\n",
      "MV_Traf_inc_s_Cnt                  20552   13.99\n",
      "MV_Traf_innet_inc_v_Min            20552   13.99\n",
      "MV_Traf_Cont_inc_v_Min             20552   13.99\n",
      "MV_Traf_R_out_s_Cnt                20552   13.99\n",
      "MV_ARPU_Other_out_v_Traf           20552   13.99\n",
      "MV_Traf_Cont_inc_s_Cnt             20552   13.99\n",
      "MV_ARPU_innet_inc_v_Traf           20552   13.99\n",
      "MV_Traf_mn_out_s_Cnt               20552   13.99\n",
      "MV_ARPU_innet_out_v_Traf           20552   13.99\n",
      "MV_ARPU_Other_inc_v_Traf           20552   13.99\n",
      "MV_ARPU_mn_out_s_Traf              20552   13.99\n",
      "MV_Traf_4G_d_Mb                    20552   13.99\n",
      "MV_dou_data                        20552   13.99\n",
      "MV_dou_mn_out_v                    20552   13.99\n",
      "MV_ARPU_innet_out_s_Traf           20552   13.99\n",
      "MV_Traf_innet_out_v_Min            20552   13.99\n",
      "MV_Traf_Cont_out_s_Cnt             20552   13.99\n",
      "MV_dou                             19155   13.03\n",
      "MV_ARPU                            19155   13.03\n",
      "myvf_day_usage                     14250    9.70\n",
      "days_of_last_ppm                    5968    4.06\n",
      "active_ppm                          5968    4.06\n",
      "days_of_end_last_ppm                5968    4.06\n",
      "imei_max_price                      5628    3.83\n",
      "imei_mean_price                     5628    3.83\n",
      "imei_mean_day_announced             5527    3.76\n",
      "MV_Migr_To                          4152    2.83\n",
      "lt                                   600    0.41\n",
      "imei_mean_long_days_usage            442    0.30\n",
      "imei_mean_days_usage                 351    0.24\n",
      "pay_p2p_out_sum_std_mnt1              55    0.04\n",
      "pay_p2p_in_sum_std_mnt1               55    0.04\n",
      "pay_sum_std_mnt1                      55    0.04\n",
      "pay_max_std_mnt1                      55    0.04\n",
      "block_all_dur_std_mnt1                55    0.04\n",
      "pay_max_std_mnt3                      53    0.04\n",
      "block_all_dur_std_mnt3                53    0.04\n",
      "pay_p2p_in_sum_std_mnt3               53    0.04\n",
      "pay_p2p_out_sum_std_mnt3              53    0.04\n",
      "pay_sum_std_mnt3                      53    0.04\n",
      "sms_out_cnt_std_mnt1                  51    0.03\n",
      "conn_out_uniq_cnt_std_mnt1            51    0.03\n",
      "conn_com_part_std_mnt1                51    0.03\n",
      "data_3g_tv_cnt_std_mnt1               51    0.03\n",
      "all_clc_std_mnt1                      51    0.03\n",
      "voice_out_tar_dur_std_mnt1            51    0.03\n",
      "voice_out_td_cnt_std_mnt1             51    0.03\n",
      "voice_out_cmpttrs_td_cntstd_mnt1      51    0.03\n",
      "vas_clc_std_mnt1                      51    0.03\n",
      "content_clc_std_mnt1                  51    0.03\n",
      "conn_in_uniq_cnt_std_mnt1             51    0.03\n",
      "gprs_tar_vol_std_mnt1                 51    0.03\n",
      "all_home_clc_std_mnt1                 51    0.03\n",
      "sms_in_cnt_std_mnt1                   51    0.03\n",
      "com_num_part_std_mnt1                 51    0.03\n",
      "voice_in_tar_dur_std_mnt1             51    0.03\n",
      "gprs_clc_std_mnt1                     51    0.03\n",
      "voice_in_td_cnt_std_mnt1              51    0.03\n",
      "data_3g_tar_vol_std_mnt1              51    0.03\n",
      "goodok_clc_std_mnt1                   51    0.03\n",
      "all_roam_clc_std_mnt1                 51    0.03\n",
      "ks_num_part_std_mnt1                  51    0.03\n",
      "sms_clc_std_mnt1                      51    0.03\n",
      "voice_out_fix_tar_dur_std_mnt1        51    0.03\n",
      "all_cnt_std_mnt1                      51    0.03\n",
      "sms_roam_clc_std_mnt1                 51    0.03\n",
      "voice_in_roam_clc_std_mnt1            51    0.03\n",
      "content_cnt_std_mnt1                  51    0.03\n",
      "voice_in_fix_tar_dur_std_mnt1         51    0.03\n",
      "voice_in_cmpttrs_td_cnt_std_mnt1      51    0.03\n",
      "goodok_clc_std_mnt3                   49    0.03\n",
      "content_clc_std_mnt3                  49    0.03\n",
      "voice_in_cmpttrs_td_cnt_std_mnt3      49    0.03\n",
      "voice_in_roam_clc_std_mnt3            49    0.03\n",
      "gprs_tar_vol_std_mnt3                 49    0.03\n",
      "voice_out_cmpttrs_td_cntstd_mnt3      49    0.03\n",
      "all_roam_clc_std_mnt3                 49    0.03\n",
      "all_cnt_std_mnt3                      49    0.03\n",
      "voice_out_td_cnt_std_mnt3             49    0.03\n",
      "conn_in_uniq_cnt_std_mnt3             49    0.03\n",
      "voice_in_td_cnt_std_mnt3              49    0.03\n",
      "content_cnt_std_mnt3                  49    0.03\n",
      "data_3g_tv_cnt_std_mnt3               49    0.03\n",
      "voice_out_tar_dur_std_mnt3            49    0.03\n",
      "conn_com_part_std_mnt3                49    0.03\n",
      "sms_out_cnt_std_mnt3                  49    0.03\n",
      "voice_out_fix_tar_dur_std_mnt3        49    0.03\n",
      "all_clc_std_mnt3                      49    0.03\n",
      "vas_clc_std_mnt3                      49    0.03\n",
      "all_home_clc_std_mnt3                 49    0.03\n",
      "ks_num_part_std_mnt3                  49    0.03\n",
      "voice_in_fix_tar_dur_std_mnt3         49    0.03\n",
      "conn_out_uniq_cnt_std_mnt3            49    0.03\n",
      "voice_in_tar_dur_std_mnt3             49    0.03\n",
      "sms_in_cnt_std_mnt3                   49    0.03\n",
      "data_3g_tar_vol_std_mnt3              49    0.03\n",
      "sms_clc_std_mnt3                      49    0.03\n",
      "com_num_part_std_mnt3                 49    0.03\n",
      "sms_roam_clc_std_mnt3                 49    0.03\n",
      "gprs_clc_std_mnt3                     49    0.03\n",
      "com_num_part_mea_wk1                  39    0.03\n",
      "gprs_tar_vol_max_mnt3                 39    0.03\n",
      "data_3g_tar_vol_min_mnt1              39    0.03\n",
      "data_3g_tar_vol_max_mnt3              39    0.03\n",
      "vas_clc_mea_mnt3                      39    0.03\n",
      "voice_out_cmpttrs_td_cntmin_mnt1      39    0.03\n",
      "accum_mts_dur_max_mnt1                39    0.03\n",
      "pay_p2p_out_sum_mea_wk1               39    0.03\n",
      "gprs_tar_vol_max_mnt1                 39    0.03\n",
      "accum_oth_dur_std_mnt1                39    0.03\n",
      "voice_in_fix_tar_dur_min_mnt1         39    0.03\n",
      "conn_in_uniq_cnt_mea_mnt3             39    0.03\n",
      "gprs_tar_vol_mea_mnt3                 39    0.03\n",
      "Ama_rchrgmnt_sum_max_mnt3             39    0.03\n",
      "voice_out_cmpttrs_td_cntmea_mnt3      39    0.03\n",
      "voice_in_tar_dur_min_mnt3             39    0.03\n",
      "content_clc_max_mnt3                  39    0.03\n",
      "voice_out_cmpttrs_td_cntmax_mnt1      39    0.03\n",
      "voice_in_roam_clc_min_mnt1            39    0.03\n",
      "sms_clc_min_mnt1                      39    0.03\n",
      "all_cnt_max_mnt1                      39    0.03\n",
      "all_clc_max_mnt3                      39    0.03\n",
      "conn_in_uniq_cnt_mea_mnt1             39    0.03\n",
      "Ama_rchrgmnt_sum_std_mnt3             39    0.03\n",
      "accum_mts_dur_mea_mnt1                39    0.03\n",
      "ks_num_part_mea_mnt3                  39    0.03\n",
      "content_clc_mea_mnt1                  39    0.03\n",
      "block_all_dur_mea_wk1                 39    0.03\n",
      "sms_in_cnt_mea_wk1                    39    0.03\n",
      "gprs_tar_vol_mea_mnt1                 39    0.03\n",
      "pay_p2p_in_sum_td_mnt3                39    0.03\n",
      "voice_in_roam_clc_max_mnt1            39    0.03\n",
      "data_3g_tv_cnt_mea_mnt1               39    0.03\n",
      "pay_p2p_out_sum_min_mnt3              39    0.03\n",
      "voice_in_cmpttrs_td_cnt_mea_wk1       39    0.03\n",
      "accum_oth_dur_std_mnt3                39    0.03\n",
      "ama_volume_mea_wk1                    39    0.03\n",
      "data_3g_tv_cnt_max_mnt3               39    0.03\n",
      "all_roam_clc_max_mnt1                 39    0.03\n",
      "content_clc_mea_wk1                   39    0.03\n",
      "pay_p2p_in_sum_min_mnt1               39    0.03\n",
      "conn_com_part_mea_mnt3                39    0.03\n",
      "voice_out_cmpttrs_td_cntmax_mnt3      39    0.03\n",
      "voice_in_td_cnt_td_mnt3               39    0.03\n",
      "data_3g_tv_cnt_min_mnt3               39    0.03\n",
      "ks_num_part_max_mnt3                  39    0.03\n",
      "Ama_rchrgmnt_sum_min_mnt1             39    0.03\n",
      "content_clc_max_mnt1                  39    0.03\n",
      "sms_in_cnt_max_mnt1                   39    0.03\n",
      "voice_in_roam_clc_max_mnt3            39    0.03\n",
      "pay_sum_mea_wk1                       39    0.03\n",
      "sms_out_cnt_min_mnt3                  39    0.03\n",
      "voice_out_td_cnt_max_mnt3             39    0.03\n",
      "pay_max_min_mnt1                      39    0.03\n",
      "pay_sum_max_mnt3                      39    0.03\n",
      "voice_in_td_cnt_mea_wk1               39    0.03\n",
      "voice_in_fix_tar_dur_max_mnt3         39    0.03\n",
      "voice_out_fix_tar_dur_min_mnt3        39    0.03\n",
      "accum_oth_dur_max_mnt1                39    0.03\n",
      "pay_p2p_out_sum_td_mnt3               39    0.03\n",
      "block_all_dur_max_mnt1                39    0.03\n",
      "pay_sum_mea_mnt1                      39    0.03\n",
      "ama_volume_max_mnt1                   39    0.03\n",
      "pay_max_td_mnt3                       39    0.03\n",
      "ama_volume_std_mnt3                   39    0.03\n",
      "conn_com_part_mea_mnt1                39    0.03\n",
      "voice_out_tar_dur_mea_mnt1            39    0.03\n",
      "conn_com_part_max_mnt3                39    0.03\n",
      "all_roam_clc_min_mnt1                 39    0.03\n",
      "sms_clc_mea_mnt3                      39    0.03\n",
      "all_cnt_max_mnt3                      39    0.03\n",
      "sms_clc_max_mnt1                      39    0.03\n",
      "data_3g_tar_vol_mea_wk1               39    0.03\n",
      "voice_in_td_cnt_min_mnt1              39    0.03\n",
      "voice_in_td_cnt_min_mnt3              39    0.03\n",
      "voice_out_tar_dur_mea_mnt3            39    0.03\n",
      "voice_in_tar_dur_max_mnt1             39    0.03\n",
      "conn_com_part_max_mnt1                39    0.03\n",
      "goodok_clc_mea_mnt3                   39    0.03\n",
      "block_all_dur_mea_mnt3                39    0.03\n",
      "accum_mts_dur_std_mnt1                39    0.03\n",
      "sms_clc_mea_mnt1                      39    0.03\n",
      "goodok_clc_max_mnt1                   39    0.03\n",
      "accum_mts_dur_mea_wk1                 39    0.03\n",
      "content_cnt_max_mnt3                  39    0.03\n",
      "all_home_clc_max_mnt3                 39    0.03\n",
      "block_all_dur_max_mnt3                39    0.03\n",
      "voice_out_fix_tar_dur_mea_mnt3        39    0.03\n",
      "Ama_rchrgmnt_sum_td_mnt3              39    0.03\n",
      "sms_out_cnt_max_mnt3                  39    0.03\n",
      "conn_out_uniq_cnt_max_mnt1            39    0.03\n",
      "data_3g_tar_vol_max_mnt1              39    0.03\n",
      "pay_max_max_mnt3                      39    0.03\n",
      "accum_oth_dur_mea_wk1                 39    0.03\n",
      "Ama_rchrgmnt_sum_mea_mnt1             39    0.03\n",
      "block_all_dur_mea_mnt1                39    0.03\n",
      "block_all_dur_td_mnt3                 39    0.03\n",
      "voice_in_tar_dur_mea_wk1              39    0.03\n",
      "all_cnt_mea_wk1                       39    0.03\n",
      "voice_in_roam_clc_td_mnt3             39    0.03\n",
      "accum_oth_dur_td_mnt3                 39    0.03\n",
      "content_cnt_min_mnt3                  39    0.03\n",
      "data_3g_tv_cnt_td_mnt3                39    0.03\n",
      "sms_roam_clc_min_mnt3                 39    0.03\n",
      "Ama_rchrgmnt_sum_max_mnt1             39    0.03\n",
      "com_num_part_mea_mnt3                 39    0.03\n",
      "content_clc_min_mnt1                  39    0.03\n",
      "conn_out_uniq_cnt_mea_mnt3            39    0.03\n",
      "all_clc_td_mnt3                       39    0.03\n",
      "conn_com_part_mea_wk1                 39    0.03\n",
      "com_num_part_max_mnt3                 39    0.03\n",
      "voice_out_fix_tar_dur_max_mnt1        39    0.03\n",
      "ama_volume_std_mnt1                   39    0.03\n",
      "pay_p2p_out_sum_mea_mnt1              39    0.03\n",
      "voice_out_td_cnt_mea_wk1              39    0.03\n",
      "all_home_clc_min_mnt1                 39    0.03\n",
      "goodok_clc_min_mnt1                   39    0.03\n",
      "accum_mts_dur_min_mnt1                39    0.03\n",
      "ks_num_part_min_mnt1                  39    0.03\n",
      "accum_mts_dur_std_mnt3                39    0.03\n",
      "sms_roam_clc_td_mnt3                  39    0.03\n",
      "vas_clc_max_mnt3                      39    0.03\n",
      "goodok_clc_td_mnt3                    39    0.03\n",
      "sms_roam_clc_mea_wk1                  39    0.03\n",
      "voice_in_td_cnt_max_mnt1              39    0.03\n",
      "pay_p2p_in_sum_max_mnt1               39    0.03\n",
      "pay_p2p_in_sum_mea_mnt3               39    0.03\n",
      "content_clc_min_mnt3                  39    0.03\n",
      "pay_p2p_out_sum_mea_mnt3              39    0.03\n",
      "voice_in_fix_tar_dur_td_mnt3          39    0.03\n",
      "data_3g_tv_cnt_max_mnt1               39    0.03\n",
      "data_3g_tar_vol_td_mnt3               39    0.03\n",
      "gprs_tar_vol_td_mnt3                  39    0.03\n",
      "Ama_rchrgmnt_sum_min_mnt3             39    0.03\n",
      "content_clc_mea_mnt3                  39    0.03\n",
      "data_3g_tv_cnt_mea_wk1                39    0.03\n",
      "voice_out_td_cnt_min_mnt1             39    0.03\n",
      "data_3g_tar_vol_mea_mnt1              39    0.03\n",
      "voice_out_fix_tar_dur_min_mnt1        39    0.03\n",
      "gprs_clc_min_mnt1                     39    0.03\n",
      "conn_out_uniq_cnt_min_mnt3            39    0.03\n",
      "all_cnt_mea_mnt1                      39    0.03\n",
      "pay_p2p_in_sum_mea_mnt1               39    0.03\n",
      "accum_mts_dur_mea_mnt3                39    0.03\n",
      "sms_in_cnt_td_mnt3                    39    0.03\n",
      "goodok_clc_mea_mnt1                   39    0.03\n",
      "voice_out_tar_dur_max_mnt3            39    0.03\n",
      "pay_p2p_in_sum_min_mnt3               39    0.03\n",
      "voice_in_fix_tar_dur_mea_wk1          39    0.03\n",
      "voice_in_cmpttrs_td_cnt_td_mnt3       39    0.03\n",
      "voice_out_td_cnt_mea_mnt3             39    0.03\n",
      "block_all_dur_min_mnt3                39    0.03\n",
      "pay_sum_max_mnt1                      39    0.03\n",
      "all_home_clc_max_mnt1                 39    0.03\n",
      "content_cnt_mea_wk1                   39    0.03\n",
      "sms_out_cnt_min_mnt1                  39    0.03\n",
      "sms_out_cnt_mea_mnt1                  39    0.03\n",
      "conn_out_uniq_cnt_max_mnt3            39    0.03\n",
      "conn_in_uniq_cnt_min_mnt3             39    0.03\n",
      "vas_clc_min_mnt1                      39    0.03\n",
      "sms_in_cnt_mea_mnt1                   39    0.03\n",
      "all_roam_clc_mea_mnt3                 39    0.03\n",
      "all_clc_min_mnt1                      39    0.03\n",
      "pay_max_mea_mnt3                      39    0.03\n",
      "conn_out_uniq_cnt_td_mnt3             39    0.03\n",
      "all_cnt_td_mnt3                       39    0.03\n",
      "gprs_clc_td_mnt3                      39    0.03\n",
      "gprs_clc_max_mnt1                     39    0.03\n",
      "voice_in_roam_clc_min_mnt3            39    0.03\n",
      "voice_in_td_cnt_mea_mnt1              39    0.03\n",
      "conn_in_uniq_cnt_max_mnt3             39    0.03\n",
      "voice_in_roam_clc_mea_mnt1            39    0.03\n",
      "all_clc_max_mnt1                      39    0.03\n",
      "all_clc_mea_wk1                       39    0.03\n",
      "all_home_clc_min_mnt3                 39    0.03\n",
      "accum_mts_dur_max_mnt3                39    0.03\n",
      "pay_p2p_out_sum_max_mnt1              39    0.03\n",
      "voice_out_cmpttrs_td_cntmin_mnt3      39    0.03\n",
      "all_cnt_mea_mnt3                      39    0.03\n",
      "ks_num_part_max_mnt1                  39    0.03\n",
      "voice_out_tar_dur_max_mnt1            39    0.03\n",
      "gprs_tar_vol_min_mnt1                 39    0.03\n",
      "gprs_clc_mea_wk1                      39    0.03\n",
      "voice_out_tar_dur_mea_wk1             39    0.03\n",
      "data_3g_tar_vol_min_mnt3              39    0.03\n",
      "sms_roam_clc_max_mnt3                 39    0.03\n",
      "voice_in_cmpttrs_td_cnt_mea_mnt1      39    0.03\n",
      "goodok_clc_max_mnt3                   39    0.03\n",
      "ama_volume_min_mnt1                   39    0.03\n",
      "accum_oth_dur_mea_mnt3                39    0.03\n",
      "com_num_part_td_mnt3                  39    0.03\n",
      "all_home_clc_mea_mnt3                 39    0.03\n",
      "voice_out_cmpttrs_td_cntmea_wk1       39    0.03\n",
      "ks_num_part_mea_mnt1                  39    0.03\n",
      "pay_max_max_mnt1                      39    0.03\n",
      "goodok_clc_mea_wk1                    39    0.03\n",
      "content_clc_td_mnt3                   39    0.03\n",
      "pay_max_mea_mnt1                      39    0.03\n",
      "accum_mts_dur_td_mnt3                 39    0.03\n",
      "sms_roam_clc_mea_mnt1                 39    0.03\n",
      "gprs_clc_max_mnt3                     39    0.03\n",
      "ks_num_part_min_mnt3                  39    0.03\n",
      "conn_out_uniq_cnt_min_mnt1            39    0.03\n",
      "vas_clc_mea_mnt1                      39    0.03\n",
      "all_roam_clc_mea_wk1                  39    0.03\n",
      "all_clc_mea_mnt3                      39    0.03\n",
      "ama_volume_td_mnt3                    39    0.03\n",
      "Ama_rchrgmnt_sum_mea_wk1              39    0.03\n",
      "sms_in_cnt_min_mnt3                   39    0.03\n",
      "sms_out_cnt_mea_wk1                   39    0.03\n",
      "voice_out_fix_tar_dur_max_mnt3        39    0.03\n",
      "voice_in_tar_dur_mea_mnt1             39    0.03\n",
      "voice_in_fix_tar_dur_min_mnt3         39    0.03\n",
      "sms_out_cnt_max_mnt1                  39    0.03\n",
      "voice_in_fix_tar_dur_mea_mnt1         39    0.03\n",
      "gprs_clc_mea_mnt3                     39    0.03\n",
      "all_home_clc_mea_mnt1                 39    0.03\n",
      "all_roam_clc_td_mnt3                  39    0.03\n",
      "vas_clc_td_mnt3                       39    0.03\n",
      "conn_com_part_min_mnt1                39    0.03\n",
      "conn_com_part_min_mnt3                39    0.03\n",
      "accum_mts_dur_min_mnt3                39    0.03\n",
      "Ama_rchrgmnt_sum_mea_mnt3             39    0.03\n",
      "pay_sum_mea_mnt3                      39    0.03\n",
      "Ama_rchrgmnt_sum_std_mnt1             39    0.03\n",
      "conn_com_part_td_mnt3                 39    0.03\n",
      "sms_clc_min_mnt3                      39    0.03\n",
      "ama_volume_mea_mnt1                   39    0.03\n",
      "accum_oth_dur_max_mnt3                39    0.03\n",
      "accum_oth_dur_mea_mnt1                39    0.03\n",
      "gprs_clc_min_mnt3                     39    0.03\n",
      "voice_out_cmpttrs_td_cntmea_mnt1      39    0.03\n",
      "voice_in_tar_dur_td_mnt3              39    0.03\n",
      "conn_in_uniq_cnt_td_mnt3              39    0.03\n",
      "pay_max_mea_wk1                       39    0.03\n",
      "voice_in_tar_dur_min_mnt1             39    0.03\n",
      "conn_in_uniq_cnt_min_mnt1             39    0.03\n",
      "voice_out_fix_tar_dur_td_mnt3         39    0.03\n",
      "all_clc_mea_mnt1                      39    0.03\n",
      "voice_out_cmpttrs_td_cnttd_mnt3       39    0.03\n",
      "goodok_clc_min_mnt3                   39    0.03\n",
      "ks_num_part_td_mnt3                   39    0.03\n",
      "voice_in_tar_dur_max_mnt3             39    0.03\n",
      "voice_in_fix_tar_dur_mea_mnt3         39    0.03\n",
      "content_cnt_max_mnt1                  39    0.03\n",
      "content_cnt_td_mnt3                   39    0.03\n",
      "gprs_tar_vol_mea_wk1                  39    0.03\n",
      "ama_volume_min_mnt3                   39    0.03\n",
      "data_3g_tv_cnt_mea_mnt3               39    0.03\n",
      "com_num_part_min_mnt3                 39    0.03\n",
      "sms_roam_clc_min_mnt1                 39    0.03\n",
      "conn_out_uniq_cnt_mea_mnt1            39    0.03\n",
      "data_3g_tv_cnt_min_mnt1               39    0.03\n",
      "com_num_part_mea_mnt1                 39    0.03\n",
      "sms_in_cnt_mea_mnt3                   39    0.03\n",
      "content_cnt_min_mnt1                  39    0.03\n",
      "voice_out_tar_dur_min_mnt1            39    0.03\n",
      "gprs_clc_mea_mnt1                     39    0.03\n",
      "pay_max_min_mnt3                      39    0.03\n",
      "gprs_tar_vol_min_mnt3                 39    0.03\n",
      "voice_out_td_cnt_min_mnt3             39    0.03\n",
      "accum_oth_dur_min_mnt1                39    0.03\n",
      "voice_in_cmpttrs_td_cnt_min_mnt3      39    0.03\n",
      "vas_clc_max_mnt1                      39    0.03\n",
      "accum_oth_dur_min_mnt3                39    0.03\n",
      "data_3g_tar_vol_mea_mnt3              39    0.03\n",
      "sms_in_cnt_max_mnt3                   39    0.03\n",
      "voice_out_tar_dur_min_mnt3            39    0.03\n",
      "sms_roam_clc_mea_mnt3                 39    0.03\n",
      "pay_p2p_out_sum_max_mnt3              39    0.03\n",
      "all_cnt_min_mnt1                      39    0.03\n",
      "all_roam_clc_mea_mnt1                 39    0.03\n",
      "voice_in_cmpttrs_td_cnt_max_mnt1      39    0.03\n",
      "conn_out_uniq_cnt_mea_wk1             39    0.03\n",
      "voice_in_td_cnt_mea_mnt3              39    0.03\n",
      "voice_out_td_cnt_max_mnt1             39    0.03\n",
      "voice_out_fix_tar_dur_mea_mnt1        39    0.03\n",
      "voice_in_fix_tar_dur_max_mnt1         39    0.03\n",
      "voice_out_tar_dur_td_mnt3             39    0.03\n",
      "ks_num_part_mea_wk1                   39    0.03\n",
      "block_all_dur_min_mnt1                39    0.03\n",
      "pay_p2p_out_sum_min_mnt1              39    0.03\n",
      "all_clc_min_mnt3                      39    0.03\n",
      "voice_in_cmpttrs_td_cnt_max_mnt3      39    0.03\n",
      "conn_in_uniq_cnt_max_mnt1             39    0.03\n",
      "sms_in_cnt_min_mnt1                   39    0.03\n",
      "conn_in_uniq_cnt_mea_wk1              39    0.03\n",
      "ama_volume_mea_mnt3                   39    0.03\n",
      "sms_out_cnt_td_mnt3                   39    0.03\n",
      "pay_sum_min_mnt3                      39    0.03\n",
      "ama_volume_max_mnt3                   39    0.03\n",
      "vas_clc_min_mnt3                      39    0.03\n",
      "sms_roam_clc_max_mnt1                 39    0.03\n",
      "all_roam_clc_min_mnt3                 39    0.03\n",
      "pay_sum_td_mnt3                       39    0.03\n",
      "content_cnt_mea_mnt3                  39    0.03\n",
      "voice_in_roam_clc_mea_wk1             39    0.03\n",
      "voice_in_td_cnt_max_mnt3              39    0.03\n",
      "voice_out_fix_tar_dur_mea_wk1         39    0.03\n",
      "voice_in_cmpttrs_td_cnt_mea_mnt3      39    0.03\n",
      "voice_in_roam_clc_mea_mnt3            39    0.03\n",
      "pay_p2p_in_sum_max_mnt3               39    0.03\n",
      "content_cnt_mea_mnt1                  39    0.03\n",
      "voice_in_cmpttrs_td_cnt_min_mnt1      39    0.03\n",
      "sms_clc_mea_wk1                       39    0.03\n",
      "voice_out_td_cnt_td_mnt3              39    0.03\n",
      "all_roam_clc_max_mnt3                 39    0.03\n",
      "com_num_part_min_mnt1                 39    0.03\n",
      "pay_sum_min_mnt1                      39    0.03\n",
      "all_cnt_min_mnt3                      39    0.03\n",
      "pay_p2p_in_sum_mea_wk1                39    0.03\n",
      "all_home_clc_td_mnt3                  39    0.03\n",
      "voice_out_td_cnt_mea_mnt1             39    0.03\n",
      "vas_clc_mea_wk1                       39    0.03\n",
      "sms_clc_td_mnt3                       39    0.03\n",
      "sms_clc_max_mnt3                      39    0.03\n",
      "com_num_part_max_mnt1                 39    0.03\n",
      "voice_in_tar_dur_mea_mnt3             39    0.03\n",
      "sms_out_cnt_mea_mnt3                  39    0.03\n",
      "all_home_clc_mea_wk1                  39    0.03\n",
      "voice_mts_out_nwork_partmea_mnt1      37    0.03\n",
      "data_3g_dou_td_mnt3                   37    0.03\n",
      "voice_out_cmpttrs_avg_dustd_mnt3      37    0.03\n",
      "voice_in_kievstar_part_std_mnt3       37    0.03\n",
      "voice_mts_in_nrest_part_min_mnt1      37    0.03\n",
      "voice_out_cmpttrs_avg_dutd_mnt3       37    0.03\n",
      "non_accum_internet_vol_mea_wk1        37    0.03\n",
      "voice_mts_in_dwork_part_mea_wk1       37    0.03\n",
      "voice_mts_in_nrest_part_mea_wk1       37    0.03\n",
      "data_3g_dou_min_mnt3                  37    0.03\n",
      "voice_mts_out_nrest_partstd_mnt3      37    0.03\n",
      "voice_mts_out_drest_partstd_mnt3      37    0.03\n",
      "voice_mts_out_dwork_partmea_wk1       37    0.03\n",
      "voice_mts_out_nrest_partmax_mnt1      37    0.03\n",
      "voice_in_cmpttrs_avg_durmax_mnt3      37    0.03\n",
      "voice_mts_in_dwork_part_std_mnt1      37    0.03\n",
      "voice_mts_out_drest_partmea_mnt1      37    0.03\n",
      "voice_in_short_part_max_mnt1          37    0.03\n",
      "data_3g_dou_mea_mnt3                  37    0.03\n",
      "voice_mts_in_dwork_part_td_mnt3       37    0.03\n",
      "voice_in_short_part_mea_mnt3          37    0.03\n",
      "pay_avg_mea_mnt1                      37    0.03\n",
      "voice_in_cmpttrs_avg_durmin_mnt1      37    0.03\n",
      "num_act_days_max_mnt1                 37    0.03\n",
      "voice_mts_in_nrest_part_std_mnt1      37    0.03\n",
      "voice_out_short_part_max_mnt1         37    0.03\n",
      "abon_part_max_mnt3                    37    0.03\n",
      "voice_mts_out_nrest_partmin_mnt1      37    0.03\n",
      "clc_no_vas_roam_std_mnt3              37    0.03\n",
      "voice_in_short_part_max_mnt3          37    0.03\n",
      "voice_mts_in_drest_part_std_mnt1      37    0.03\n",
      "voice_mts_in_nrest_part_mea_mnt3      37    0.03\n",
      "voice_out_cmpttrs_avg_dumax_mnt1      37    0.03\n",
      "voice_mts_in_drest_part_max_mnt3      37    0.03\n",
      "voice_in_mts_avg_dur_max_mnt1         37    0.03\n",
      "voice_mts_in_dwork_part_min_mnt1      37    0.03\n",
      "voice_mts_in_drest_part_td_mnt3       37    0.03\n",
      "voice_in_kievstar_part_min_mnt1       37    0.03\n",
      "pay_avg_std_mnt1                      37    0.03\n",
      "data_3g_dou_std_mnt3                  37    0.03\n",
      "voice_mts_out_nwork_partmin_mnt1      37    0.03\n",
      "abon_part_min_mnt1                    37    0.03\n",
      "voice_out_short_part_min_mnt1         37    0.03\n",
      "abon_part_min_mnt3                    37    0.03\n",
      "voice_mts_out_nwork_partstd_mnt1      37    0.03\n",
      "voice_out_short_part_mea_wk1          37    0.03\n",
      "voice_mts_out_dwork_partstd_mnt1      37    0.03\n",
      "voice_in_short_part_min_mnt3          37    0.03\n",
      "voice_out_short_part_mea_mnt3         37    0.03\n",
      "voice_mts_in_nrest_part_max_mnt3      37    0.03\n",
      "voice_out_short_part_td_mnt3          37    0.03\n",
      "voice_mts_in_nwork_part_td_mnt3       37    0.03\n",
      "voice_in_mts_avg_dur_mea_mnt1         37    0.03\n",
      "voice_out_cmpttrs_avg_dumea_mnt3      37    0.03\n",
      "voice_mts_out_drest_partmax_mnt3      37    0.03\n",
      "voice_in_short_part_min_mnt1          37    0.03\n",
      "voice_mts_out_drest_partmea_mnt3      37    0.03\n",
      "voice_in_short_part_std_mnt3          37    0.03\n",
      "voice_mts_in_drest_part_min_mnt3      37    0.03\n",
      "voice_mts_out_nrest_partmea_wk1       37    0.03\n",
      "voice_mts_out_dwork_partmax_mnt3      37    0.03\n",
      "pay_avg_max_mnt3                      37    0.03\n",
      "voice_mts_out_drest_partmax_mnt1      37    0.03\n",
      "voice_out_cmpttrs_avg_dumea_mnt1      37    0.03\n",
      "voice_in_mts_avg_dur_td_mnt3          37    0.03\n",
      "num_act_days_std_mnt1                 37    0.03\n",
      "voice_in_mts_avg_dur_std_mnt1         37    0.03\n",
      "non_accum_internet_vol_min_mnt3       37    0.03\n",
      "clc_no_vas_roam_mea_wk1               37    0.03\n",
      "abon_part_mea_mnt1                    37    0.03\n",
      "voice_mts_out_nwork_partmax_mnt1      37    0.03\n",
      "pay_avg_mea_mnt3                      37    0.03\n",
      "abon_part_max_mnt1                    37    0.03\n",
      "non_accum_internet_vol_max_mnt1       37    0.03\n",
      "voice_mts_in_drest_part_mea_mnt1      37    0.03\n",
      "clc_no_vas_roam_max_mnt1              37    0.03\n",
      "voice_mts_in_dwork_part_mea_mnt3      37    0.03\n",
      "voice_in_kievstar_part_mea_mnt1       37    0.03\n",
      "voice_in_cmpttrs_avg_durtd_mnt3       37    0.03\n",
      "pay_avg_max_mnt1                      37    0.03\n",
      "abon_part_std_mnt3                    37    0.03\n",
      "abon_part_mea_mnt3                    37    0.03\n",
      "num_act_days_mea_mnt1                 37    0.03\n",
      "voice_mts_out_nrest_partmax_mnt3      37    0.03\n",
      "voice_in_short_part_std_mnt1          37    0.03\n",
      "voice_in_life_part_std_mnt3           37    0.03\n",
      "voice_in_mts_avg_dur_mea_mnt3         37    0.03\n",
      "voice_in_mts_avg_dur_max_mnt3         37    0.03\n",
      "num_act_days_mea_mnt3                 37    0.03\n",
      "voice_in_short_part_mea_mnt1          37    0.03\n",
      "voice_mts_out_drest_partmea_wk1       37    0.03\n",
      "pay_avg_std_mnt3                      37    0.03\n",
      "voice_in_short_part_mea_wk1           37    0.03\n",
      "voice_mts_out_nwork_partmea_mnt3      37    0.03\n",
      "voice_in_life_part_min_mnt3           37    0.03\n",
      "voice_mts_in_dwork_part_min_mnt3      37    0.03\n",
      "voice_mts_in_nwork_part_std_mnt1      37    0.03\n",
      "voice_in_kievstar_part_min_mnt3       37    0.03\n",
      "voice_mts_in_nwork_part_min_mnt3      37    0.03\n",
      "voice_mts_out_dwork_partmin_mnt3      37    0.03\n",
      "clc_no_vas_roam_min_mnt3              37    0.03\n",
      "voice_in_life_part_mea_wk1            37    0.03\n",
      "voice_mts_in_nwork_part_max_mnt3      37    0.03\n",
      "voice_in_kievstar_part_max_mnt1       37    0.03\n",
      "voice_mts_in_nrest_part_min_mnt3      37    0.03\n",
      "non_accum_internet_vol_td_mnt3        37    0.03\n",
      "voice_mts_in_nrest_part_std_mnt3      37    0.03\n",
      "voice_mts_in_nrest_part_max_mnt1      37    0.03\n",
      "voice_out_cmpttrs_avg_dumax_mnt3      37    0.03\n",
      "voice_in_mts_avg_dur_std_mnt3         37    0.03\n",
      "voice_in_kievstar_part_mea_mnt3       37    0.03\n",
      "voice_in_life_part_td_mnt3            37    0.03\n",
      "num_act_days_min_mnt3                 37    0.03\n",
      "voice_out_cmpttrs_avg_dumea_wk1       37    0.03\n",
      "non_accum_internet_vol_std_mnt3       37    0.03\n",
      "data_3g_dou_mea_mnt1                  37    0.03\n",
      "voice_mts_out_nwork_parttd_mnt3       37    0.03\n",
      "voice_mts_in_dwork_part_std_mnt3      37    0.03\n",
      "pay_avg_td_mnt3                       37    0.03\n",
      "pay_avg_mea_wk1                       37    0.03\n",
      "voice_mts_in_dwork_part_max_mnt1      37    0.03\n",
      "voice_mts_out_nrest_partstd_mnt1      37    0.03\n",
      "voice_mts_out_dwork_partmax_mnt1      37    0.03\n",
      "voice_mts_out_dwork_partstd_mnt3      37    0.03\n",
      "voice_mts_in_drest_part_min_mnt1      37    0.03\n",
      "voice_mts_out_drest_partstd_mnt1      37    0.03\n",
      "voice_mts_in_drest_part_mea_mnt3      37    0.03\n",
      "voice_mts_out_nwork_partmin_mnt3      37    0.03\n",
      "voice_out_short_part_min_mnt3         37    0.03\n",
      "clc_no_vas_roam_td_mnt3               37    0.03\n",
      "abon_part_std_mnt1                    37    0.03\n",
      "abon_part_mea_wk1                     37    0.03\n",
      "voice_in_cmpttrs_avg_durstd_mnt3      37    0.03\n",
      "clc_no_vas_roam_mea_mnt3              37    0.03\n",
      "data_3g_dou_max_mnt3                  37    0.03\n",
      "voice_in_kievstar_part_std_mnt1       37    0.03\n",
      "voice_mts_out_nrest_partmin_mnt3      37    0.03\n",
      "voice_out_cmpttrs_avg_dumin_mnt1      37    0.03\n",
      "voice_in_mts_avg_dur_min_mnt1         37    0.03\n",
      "voice_out_cmpttrs_avg_dumin_mnt3      37    0.03\n",
      "voice_out_cmpttrs_avg_dustd_mnt1      37    0.03\n",
      "clc_no_vas_roam_max_mnt3              37    0.03\n",
      "voice_in_short_part_td_mnt3           37    0.03\n",
      "voice_out_short_part_mea_mnt1         37    0.03\n",
      "voice_in_life_part_mea_mnt3           37    0.03\n",
      "voice_mts_in_drest_part_std_mnt3      37    0.03\n",
      "data_3g_dou_std_mnt1                  37    0.03\n",
      "voice_mts_in_nwork_part_min_mnt1      37    0.03\n",
      "non_accum_internet_vol_mea_mnt3       37    0.03\n",
      "data_3g_dou_max_mnt1                  37    0.03\n",
      "voice_in_kievstar_part_max_mnt3       37    0.03\n",
      "pay_avg_min_mnt3                      37    0.03\n",
      "voice_in_life_part_mea_mnt1           37    0.03\n",
      "voice_in_cmpttrs_avg_durmea_mnt1      37    0.03\n",
      "voice_mts_out_nrest_partmea_mnt3      37    0.03\n",
      "non_accum_internet_vol_min_mnt1       37    0.03\n",
      "voice_in_cmpttrs_avg_durmin_mnt3      37    0.03\n",
      "voice_mts_out_drest_partmin_mnt1      37    0.03\n",
      "voice_mts_out_dwork_partmea_mnt3      37    0.03\n",
      "non_accum_internet_vol_std_mnt1       37    0.03\n",
      "clc_no_vas_roam_mea_mnt1              37    0.03\n",
      "voice_mts_in_dwork_part_mea_mnt1      37    0.03\n",
      "voice_in_cmpttrs_avg_durmea_wk1       37    0.03\n",
      "voice_mts_out_dwork_parttd_mnt3       37    0.03\n",
      "voice_in_kievstar_part_td_mnt3        37    0.03\n",
      "voice_mts_in_drest_part_mea_wk1       37    0.03\n",
      "data_3g_dou_mea_wk1                   37    0.03\n",
      "voice_out_short_part_std_mnt3         37    0.03\n",
      "voice_mts_out_nrest_parttd_mnt3       37    0.03\n",
      "voice_mts_out_drest_partmin_mnt3      37    0.03\n",
      "voice_mts_in_nwork_part_mea_mnt3      37    0.03\n",
      "voice_in_life_part_std_mnt1           37    0.03\n",
      "num_act_days_max_mnt3                 37    0.03\n",
      "voice_mts_in_dwork_part_max_mnt3      37    0.03\n",
      "voice_in_life_part_min_mnt1           37    0.03\n",
      "voice_mts_in_nwork_part_mea_wk1       37    0.03\n",
      "voice_mts_out_drest_parttd_mnt3       37    0.03\n",
      "num_act_days_mea_wk1                  37    0.03\n",
      "voice_out_short_part_std_mnt1         37    0.03\n",
      "voice_mts_in_nwork_part_mea_mnt1      37    0.03\n",
      "data_3g_dou_min_mnt1                  37    0.03\n",
      "voice_in_mts_avg_dur_mea_wk1          37    0.03\n",
      "voice_in_life_part_max_mnt3           37    0.03\n",
      "voice_in_kievstar_part_mea_wk1        37    0.03\n",
      "clc_no_vas_roam_std_mnt1              37    0.03\n",
      "voice_in_cmpttrs_avg_durstd_mnt1      37    0.03\n",
      "voice_in_life_part_max_mnt1           37    0.03\n",
      "voice_in_cmpttrs_avg_durmax_mnt1      37    0.03\n",
      "non_accum_internet_vol_max_mnt3       37    0.03\n",
      "voice_mts_out_dwork_partmea_mnt1      37    0.03\n",
      "voice_mts_in_drest_part_max_mnt1      37    0.03\n",
      "clc_no_vas_roam_min_mnt1              37    0.03\n",
      "voice_mts_in_nwork_part_std_mnt3      37    0.03\n",
      "abon_part_td_mnt3                     37    0.03\n",
      "voice_mts_out_nrest_partmea_mnt1      37    0.03\n",
      "voice_in_mts_avg_dur_min_mnt3         37    0.03\n",
      "voice_mts_out_nwork_partmax_mnt3      37    0.03\n",
      "voice_mts_in_nrest_part_mea_mnt1      37    0.03\n",
      "voice_out_short_part_max_mnt3         37    0.03\n",
      "voice_mts_in_nrest_part_td_mnt3       37    0.03\n",
      "voice_mts_out_dwork_partmin_mnt1      37    0.03\n",
      "pay_avg_min_mnt1                      37    0.03\n",
      "voice_mts_out_nwork_partstd_mnt3      37    0.03\n",
      "num_act_days_min_mnt1                 37    0.03\n",
      "num_act_days_std_mnt3                 37    0.03\n",
      "voice_mts_in_nwork_part_max_mnt1      37    0.03\n",
      "non_accum_internet_vol_mea_mnt1       37    0.03\n",
      "num_act_days_td_mnt3                  37    0.03\n",
      "voice_mts_out_nwork_partmea_wk1       37    0.03\n",
      "voice_in_cmpttrs_avg_durmea_mnt3      37    0.03\n",
      "\n"
     ]
    }
   ],
   "source": [
    "eda.print_missing(df_train)\n",
    "print()"
   ]
  },
  {
   "cell_type": "code",
   "execution_count": 5,
   "metadata": {},
   "outputs": [
    {
     "name": "stdout",
     "output_type": "stream",
     "text": [
      "Unique values report:\n",
      "                                   uniq      rate\n",
      "bs_drop_call_rate                     0  0.000000\n",
      "bs_succ_rate                          0  0.000000\n",
      "bs_drop_rate                          0  0.000000\n",
      "bs_of_recall_m1                       0  0.000000\n",
      "bs_of_attemps_all_m1                  0  0.000000\n",
      "device_has_gprs                       0  0.000000\n",
      "bs_of_unsucc_low_balance_m1           0  0.000000\n",
      "bs_recall_rate                        0  0.000000\n",
      "bs_of_unsucc_attemp_equip_m1          0  0.000000\n",
      "bs_of_succ_but_drop_m1                0  0.000000\n",
      "bs_of_succ_m1                         0  0.000000\n",
      "Ama_rchrgmnt_sum_max_mnt1             1  0.000007\n",
      "goodok_clc_std_mnt3                   1  0.000007\n",
      "Ama_rchrgmnt_sum_min_mnt1             1  0.000007\n",
      "Ama_rchrgmnt_sum_mea_mnt1             1  0.000007\n",
      "Ama_rchrgmnt_sum_td_mnt3              1  0.000007\n",
      "goodok_clc_max_mnt1                   1  0.000007\n",
      "Ama_rchrgmnt_sum_max_mnt3             1  0.000007\n",
      "Ama_rchrgmnt_sum_std_mnt3             1  0.000007\n",
      "sms_roam_clc_min_mnt3                 1  0.000007\n",
      "goodok_clc_min_mnt3                   1  0.000007\n",
      "goodok_clc_mea_mnt1                   1  0.000007\n",
      "goodok_clc_td_mnt3                    1  0.000007\n",
      "Ama_rchrgmnt_sum_min_mnt3             1  0.000007\n",
      "goodok_clc_mea_wk1                    1  0.000007\n",
      "goodok_clc_min_mnt1                   1  0.000007\n",
      "pay_p2p_in_sum_min_mnt3               1  0.000007\n",
      "Ama_rchrgmnt_sum_std_mnt1             1  0.000007\n",
      "goodok_clc_std_mnt1                   1  0.000007\n",
      "voice_in_roam_clc_min_mnt3            1  0.000007\n",
      "Ama_rchrgmnt_sum_mea_wk1              1  0.000007\n",
      "goodok_clc_mea_mnt3                   1  0.000007\n",
      "entertainment                         1  0.000007\n",
      "goodok_clc_max_mnt3                   1  0.000007\n",
      "MV_ap_3G_d                            1  0.000007\n",
      "MV_ARPU_inc_s_Traf                    1  0.000007\n",
      "sms_roam_clc_min_mnt1                 1  0.000007\n",
      "MV_SERV_Y_WO_AF                       1  0.000007\n",
      "MV_FRAUD_BLOCK                        1  0.000007\n",
      "MV_ARPU_Other_out_v_Traf              1  0.000007\n",
      "MV_VLR_Guest                          1  0.000007\n",
      "active_gba                            1  0.000007\n",
      "Ama_rchrgmnt_sum_mea_mnt3             1  0.000007\n",
      "MV_SERV_RLH                           1  0.000007\n",
      "MV_ARPU_Other_inc_v_Traf              1  0.000007\n",
      "MV_ARPU_innet_inc_v_Traf              1  0.000007\n",
      "MV_Traf_Cont_inc_v_Min                1  0.000007\n",
      "MV_ot_R_sm                            1  0.000007\n",
      "active_ppm                            2  0.000014\n",
      "ama_volume_std_mnt3                   2  0.000014\n",
      "ama_volume_min_mnt1                   2  0.000014\n",
      "ama_volume_max_mnt1                   2  0.000014\n",
      "ama_volume_mea_mnt1                   2  0.000014\n",
      "MV_ot_3G_d                            2  0.000014\n",
      "ama_volume_std_mnt1                   2  0.000014\n",
      "MV_ap_2G_d                            2  0.000014\n",
      "accum_mts_dur_std_mnt3                2  0.000014\n",
      "pay_p2p_in_sum_min_mnt1               2  0.000014\n",
      "ama_volume_max_mnt3                   2  0.000014\n",
      "accum_oth_dur_std_mnt3                2  0.000014\n",
      "ama_volume_mea_wk1                    2  0.000014\n",
      "abon_part_min_mnt3                    2  0.000014\n",
      "MV_Migr_To                            2  0.000014\n",
      "MV_ot_Cont_v                          2  0.000014\n",
      "voice_in_roam_clc_min_mnt1            2  0.000014\n",
      "MV_ap_inc_v                           2  0.000014\n",
      "pay_p2p_out_sum_max_mnt1              2  0.000014\n",
      "DNZ_COUNT_open_loan_year2             2  0.000014\n",
      "CALCULATION_METHOD_ID                 2  0.000014\n",
      "gprs_clc_min_mnt3                     2  0.000014\n",
      "MV_ap_Cont_v                          2  0.000014\n",
      "device_type_phone                     2  0.000014\n",
      "device_brand_lenovo                   2  0.000014\n",
      "device_brand_sony                     2  0.000014\n",
      "device_type_modem                     2  0.000014\n",
      "device_brand_nokia                    2  0.000014\n",
      "device_type_module                    2  0.000014\n",
      "device_brand_prestigio                2  0.000014\n",
      "device_brand_apple                    2  0.000014\n",
      "device_brand_huawei                   2  0.000014\n",
      "DNZ_COUNT_open_loan_year5             2  0.000014\n",
      "device_type_smartphone                2  0.000014\n",
      "device_type_rus_other                 2  0.000014\n",
      "device_brand_other                    2  0.000014\n",
      "pay_p2p_out_sum_max_mnt3              2  0.000014\n",
      "loc_is_obl_center                     2  0.000014\n",
      "content_clc_min_mnt3                  2  0.000014\n",
      "device_has_wifi                       2  0.000014\n",
      "device_type_nan                       2  0.000014\n",
      "device_brand_nan                      2  0.000014\n",
      "device_brand_xiaomi                   2  0.000014\n",
      "device_brand_meizu                    2  0.000014\n",
      "device_has_lte                        2  0.000014\n",
      "device_brand_lg                       2  0.000014\n",
      "device_brand_samsung                  2  0.000014\n",
      "device_type_tablet                    2  0.000014\n",
      "ama_volume_mea_mnt3                   2  0.000014\n",
      "accum_mts_dur_min_mnt1                3  0.000020\n",
      "ama_volume_td_mnt3                    3  0.000020\n",
      "accum_oth_dur_mea_mnt3                3  0.000020\n",
      "accum_oth_dur_min_mnt3                3  0.000020\n",
      "accum_mts_dur_std_mnt1                3  0.000020\n",
      "accum_mts_dur_min_mnt3                3  0.000020\n",
      "accum_oth_dur_min_mnt1                3  0.000020\n",
      "ama_volume_min_mnt3                   3  0.000020\n",
      "accum_mts_dur_mea_mnt1                3  0.000020\n",
      "accum_oth_dur_std_mnt1                3  0.000020\n",
      "sms_roam_clc_mea_wk1                  3  0.000020\n",
      "accum_oth_dur_td_mnt3                 3  0.000020\n",
      "MV_Traf_Other_out_v_Min               3  0.000020\n",
      "accum_mts_dur_td_mnt3                 3  0.000020\n",
      "bs_direct_change_tp                   3  0.000020\n",
      "Food                                  3  0.000020\n",
      "accum_mts_dur_mea_mnt3                3  0.000020\n",
      "content_clc_min_mnt1                  4  0.000027\n",
      "Cars                                  4  0.000027\n",
      "accum_oth_dur_mea_mnt1                4  0.000027\n",
      "sms_roam_clc_max_mnt1                 4  0.000027\n",
      "all_roam_clc_min_mnt3                 4  0.000027\n",
      "MV_ot_inc_v                           5  0.000034\n",
      "sms_roam_clc_std_mnt1                 5  0.000034\n",
      "accum_mts_dur_mea_wk1                 5  0.000034\n",
      "accum_oth_dur_mea_wk1                 5  0.000034\n",
      "tsoa_mail_cnt                         5  0.000034\n",
      "device_sim_count                      5  0.000034\n",
      "sms_roam_clc_mea_mnt1                 5  0.000034\n",
      "target                                5  0.000034\n",
      "MV_ot_Unkn                            6  0.000041\n",
      "accum_mts_dur_max_mnt1                6  0.000041\n",
      "Fax                                   6  0.000041\n",
      "accum_mts_dur_max_mnt3                6  0.000041\n",
      "accum_oth_dur_max_mnt1                6  0.000041\n",
      "bs_count_change_tp                    7  0.000048\n",
      "sms_roam_clc_max_mnt3                 7  0.000048\n",
      "accum_oth_dur_max_mnt3                7  0.000048\n",
      "abon_part_min_mnt1                    7  0.000048\n",
      "bs_count_ppm_mn3                      7  0.000048\n",
      "num_act_days_max_mnt1                 8  0.000054\n",
      "num_act_days_min_mnt1                 8  0.000054\n",
      "data_3g_dou_max_mnt3                  8  0.000054\n",
      "data_3g_dou_min_mnt1                  8  0.000054\n",
      "data_3g_dou_max_mnt1                  8  0.000054\n",
      "num_act_days_mea_wk1                  8  0.000054\n",
      "num_act_days_max_mnt3                 8  0.000054\n",
      "bs_delte_ppd_change_tp                8  0.000054\n",
      "data_3g_dou_min_mnt3                  8  0.000054\n",
      "data_3g_dou_mea_wk1                   8  0.000054\n",
      "num_act_days_min_mnt3                 8  0.000054\n",
      "sms_roam_clc_mea_mnt3                 9  0.000061\n",
      "all_roam_clc_min_mnt1                 9  0.000061\n",
      "is_avg_paym                          10  0.000068\n",
      "gprs_clc_min_mnt1                    10  0.000068\n",
      "MV_ap_Roam_d                         10  0.000068\n",
      "SMS                                  10  0.000068\n",
      "is_max_paym                          10  0.000068\n",
      "MV_ot_s                              12  0.000082\n",
      "voice_mts_out_nrest_parttd_mnt3      12  0.000082\n",
      "sms_roam_clc_std_mnt3                13  0.000088\n",
      "voice_in_roam_clc_mea_wk1            13  0.000088\n",
      "sms_clc_min_mnt3                     13  0.000088\n",
      "device_ios_version                   14  0.000095\n",
      "voice_mts_in_nrest_part_td_mnt3      15  0.000102\n",
      "voice_in_roam_clc_max_mnt1           16  0.000109\n",
      "voice_out_fix_tar_dur_min_mnt3       16  0.000109\n",
      "voice_mts_in_nrest_part_min_mnt3     17  0.000116\n",
      "voice_in_short_part_td_mnt3          18  0.000122\n",
      "voice_out_short_part_td_mnt3         18  0.000122\n",
      "abon_part_td_mnt3                    19  0.000129\n",
      "MV_ARPU_R_out_s_Traf                 19  0.000129\n",
      "bs_arpu_change_tp                    19  0.000129\n",
      "tsoa_direct_cnt                      19  0.000129\n",
      "device_android_version               20  0.000136\n",
      "voice_mts_out_drest_parttd_mnt3      20  0.000136\n",
      "voice_mts_in_nwork_part_td_mnt3      20  0.000136\n",
      "voice_mts_out_nrest_partmin_mnt3     21  0.000143\n",
      "voice_mts_out_nwork_parttd_mnt3      21  0.000143\n",
      "voice_mts_in_drest_part_td_mnt3      22  0.000150\n",
      "Internet                             23  0.000157\n",
      "voice_in_roam_clc_mea_mnt1           23  0.000157\n",
      "Minutes                              25  0.000170\n",
      "voice_in_roam_clc_std_mnt1           25  0.000170\n",
      "loc_market_share                     26  0.000177\n",
      "voice_out_short_part_min_mnt3        26  0.000177\n",
      "MV_ot_R_v                            26  0.000177\n",
      "MV_DOU_OT                            27  0.000184\n",
      "voice_in_life_part_td_mnt3           27  0.000184\n",
      "Shops                                27  0.000184\n",
      "voice_out_fix_tar_dur_min_mnt1       28  0.000191\n",
      "ks_num_part_td_mnt3                  28  0.000191\n",
      "AMA                                  29  0.000197\n",
      "sms_clc_min_mnt1                     29  0.000197\n",
      "num_act_days_mea_mnt1                29  0.000197\n",
      "data_3g_dou_mea_mnt1                 29  0.000197\n",
      "MV_dou_mn_out_v                      30  0.000204\n",
      "MV_DOU_AP                            30  0.000204\n",
      "voice_in_roam_clc_max_mnt3           30  0.000204\n",
      "MV_dou                               30  0.000204\n",
      "MV_DOU_Neg_Bal                       30  0.000204\n",
      "MV_dou_net                           30  0.000204\n",
      "MV_dou_data                          31  0.000211\n",
      "MV_dou_Roam                          31  0.000211\n",
      "voice_in_kievstar_part_td_mnt3       31  0.000211\n",
      "voice_mts_out_dwork_parttd_mnt3      31  0.000211\n",
      "MV_dou_omo_out_v                     31  0.000211\n",
      "MV_dou_2G_d                          31  0.000211\n",
      "MV_dou_3G_d                          31  0.000211\n",
      "MV_dou_4G_d                          31  0.000211\n",
      "MV_dou_Roam_v                        31  0.000211\n",
      "voice_mts_in_dwork_part_td_mnt3      31  0.000211\n",
      "MV_dou_innet_out_v                   31  0.000211\n",
      "MV_dou_out_s                         31  0.000211\n",
      "conn_com_part_td_mnt3                31  0.000211\n",
      "MV_dou_Roam_d                        31  0.000211\n",
      "all_roam_clc_mea_wk1                 32  0.000218\n",
      "voice_in_short_part_min_mnt3         32  0.000218\n",
      "tsoa_chat_cnt                        34  0.000231\n",
      "MV_Traf_mn_out_s_Cnt                 34  0.000231\n",
      "vas_clc_min_mnt3                     35  0.000238\n",
      "gprs_clc_mea_wk1                     36  0.000245\n",
      "sms_roam_clc_td_mnt3                 37  0.000252\n",
      "sms_out_cnt_min_mnt3                 40  0.000272\n",
      "com_num_part_td_mnt3                 41  0.000279\n",
      "MV_ARPU_mn_out_s_Traf                45  0.000306\n",
      "voice_in_roam_clc_mea_mnt3           45  0.000306\n",
      "MV_ap_s                              46  0.000313\n",
      "TM_ID                                48  0.000327\n",
      "voice_out_short_part_min_mnt1        49  0.000333\n",
      "tsoa_call_cnt                        51  0.000347\n",
      "bs_delte_omo_change_tp               51  0.000347\n",
      "pay_p2p_out_sum_mea_wk1              52  0.000354\n",
      "MV_ARPU_Cont_out_s_Traf              52  0.000354\n",
      "MV_ARPU_Roam_d_Traf                  53  0.000361\n",
      "num_act_days_std_mnt1                53  0.000361\n",
      "data_3g_dou_std_mnt1                 53  0.000361\n",
      "voice_mts_in_drest_part_min_mnt3     54  0.000367\n",
      "voice_mts_out_nrest_partmin_mnt1     54  0.000367\n",
      "voice_mts_in_nrest_part_min_mnt1     55  0.000374\n",
      "MV_ap_Other                          56  0.000381\n",
      "MV_Traf_Cont_out_s_Cnt               58  0.000395\n",
      "voice_mts_out_drest_partmin_mnt3     58  0.000395\n",
      "MV_ot_Roam_d                         60  0.000408\n",
      "voice_in_roam_clc_std_mnt3           60  0.000408\n",
      "MV_DOU_PPM_VF                        60  0.000408\n",
      "pay_max_min_mnt3                     62  0.000422\n",
      "gprs_clc_max_mnt1                    62  0.000422\n",
      "sms_in_cnt_min_mnt3                  63  0.000429\n",
      "MV_ARPU_2G_d_Traf                    64  0.000436\n",
      "all_roam_clc_max_mnt1                64  0.000436\n",
      "voice_in_short_part_min_mnt1         65  0.000442\n",
      "content_clc_mea_wk1                  65  0.000442\n",
      "voice_out_fix_tar_dur_mea_wk1        66  0.000449\n",
      "pay_p2p_in_sum_mea_wk1               66  0.000449\n",
      "bs_delte_ppm_change_tp               69  0.000470\n",
      "MV_ARPU_R_inc_v_Traf                 69  0.000470\n",
      "sms_out_cnt_min_mnt1                 69  0.000470\n",
      "block_all_dur_min_mnt3               70  0.000476\n",
      "MV_ot_Other                          72  0.000490\n",
      "bs_delte_mb_change_tp                73  0.000497\n",
      "MV_ot_pstn_out_v                     73  0.000497\n",
      "pay_sum_min_mnt3                     74  0.000504\n",
      "device_price                         75  0.000510\n",
      "voice_in_cmpttrs_td_cnt_min_mnt3     76  0.000517\n",
      "clc_no_vas_roam_min_mnt3             77  0.000524\n",
      "all_home_clc_min_mnt3                77  0.000524\n",
      "voice_out_cmpttrs_td_cntmin_mnt3     77  0.000524\n",
      "voice_mts_out_nrest_partmea_mnt3     80  0.000544\n",
      "gprs_clc_mea_mnt1                    80  0.000544\n",
      "pay_avg_min_mnt3                     82  0.000558\n",
      "MV_ARPU_mn_out_v_Traf                82  0.000558\n",
      "all_roam_clc_mea_mnt1                83  0.000565\n",
      "num_act_days_mea_mnt3                85  0.000578\n",
      "conn_out_uniq_cnt_min_mnt3           85  0.000578\n",
      "data_3g_dou_mea_mnt3                 85  0.000578\n",
      "voice_mts_in_nrest_part_mea_mnt3     86  0.000585\n",
      "MV_ARPU_R_out_v_Traf                 86  0.000585\n",
      "MV_ARPU_Cont_out_v_Traf              88  0.000599\n",
      "imei_max_price                       89  0.000606\n",
      "sms_in_cnt_min_mnt1                  91  0.000619\n",
      "content_cnt_min_mnt3                 91  0.000619\n",
      "bs_day_of_change_tp                  92  0.000626\n",
      "voice_out_fix_tar_dur_max_mnt1       94  0.000640\n",
      "block_all_dur_min_mnt1               95  0.000646\n",
      "conn_in_uniq_cnt_min_mnt3            96  0.000653\n",
      "MV_Traf_R_out_s_Cnt                  96  0.000653\n",
      "vas_clc_min_mnt1                     96  0.000653\n",
      "pay_p2p_out_sum_min_mnt1             97  0.000660\n",
      "voice_out_cmpttrs_td_cntmin_mnt1     99  0.000674\n",
      "voice_mts_in_nwork_part_min_mnt3     99  0.000674\n",
      "voice_in_cmpttrs_td_cnt_min_mnt1    100  0.000680\n",
      "gprs_clc_max_mnt3                   100  0.000680\n",
      "pay_p2p_out_sum_mea_mnt1            100  0.000680\n",
      "voice_out_short_part_mea_mnt3       101  0.000687\n",
      "all_roam_clc_max_mnt3               102  0.000694\n",
      "sms_clc_mea_wk1                     105  0.000715\n",
      "conn_out_uniq_cnt_min_mnt1          105  0.000715\n",
      "pay_p2p_out_sum_std_mnt1            105  0.000715\n",
      "MV_ot_innet_out_v                   106  0.000721\n",
      "conn_in_uniq_cnt_min_mnt1           109  0.000742\n",
      "voice_out_short_part_mea_wk1        111  0.000755\n",
      "voice_in_short_part_mea_wk1         111  0.000755\n",
      "MV_ARPU_omo_out_s_Traf              112  0.000762\n",
      "voice_in_short_part_mea_mnt3        112  0.000762\n",
      "MV_ot_mn_out_v                      113  0.000769\n",
      "pay_max_min_mnt1                    117  0.000796\n",
      "MV_Traf_Other_inc_v_Min             118  0.000803\n",
      "DNZ_COUNT_closed_loan_year2         120  0.000817\n",
      "voice_mts_out_nrest_partstd_mnt3    120  0.000817\n",
      "voice_out_fix_tar_dur_max_mnt3      121  0.000823\n",
      "voice_out_fix_tar_dur_mea_mnt1      122  0.000830\n",
      "conn_in_uniq_cnt_mea_wk1            122  0.000830\n",
      "voice_out_short_part_mea_mnt1       123  0.000837\n",
      "voice_in_short_part_std_mnt3        123  0.000837\n",
      "conn_out_uniq_cnt_mea_wk1           124  0.000844\n",
      "content_cnt_min_mnt1                126  0.000857\n",
      "voice_in_short_part_std_mnt1        128  0.000871\n",
      "all_clc_min_mnt3                    129  0.000878\n",
      "voice_mts_out_nwork_partmin_mnt3    131  0.000891\n",
      "sms_out_cnt_mea_wk1                 131  0.000891\n",
      "voice_mts_in_nrest_part_std_mnt3    131  0.000891\n",
      "voice_out_short_part_std_mnt1       132  0.000898\n",
      "voice_out_short_part_std_mnt3       133  0.000905\n",
      "conn_in_uniq_cnt_max_mnt1           133  0.000905\n",
      "voice_in_fix_tar_dur_min_mnt3       136  0.000925\n",
      "voice_in_cmpttrs_td_cnt_mea_wk1     137  0.000932\n",
      "gprs_clc_std_mnt1                   137  0.000932\n",
      "content_clc_mea_mnt1                138  0.000939\n",
      "all_roam_clc_std_mnt1               138  0.000939\n",
      "voice_mts_out_nrest_partmea_mnt1    139  0.000946\n",
      "voice_in_roam_clc_td_mnt3           139  0.000946\n",
      "content_clc_max_mnt1                141  0.000959\n",
      "conn_out_uniq_cnt_max_mnt1          145  0.000987\n",
      "MV_Traf_omo_out_s_Cnt               145  0.000987\n",
      "conn_in_uniq_cnt_max_mnt3           146  0.000994\n",
      "DNZ_COUNT_closed_loan_year5         147  0.001000\n",
      "gprs_clc_mea_mnt3                   148  0.001007\n",
      "abon_part_mea_mnt3                  149  0.001014\n",
      "voice_mts_in_nrest_part_mea_mnt1    149  0.001014\n",
      "pay_sum_min_mnt1                    149  0.001014\n",
      "sms_in_cnt_mea_wk1                  150  0.001021\n",
      "voice_out_cmpttrs_td_cntmea_wk1     150  0.001021\n",
      "voice_in_short_part_mea_mnt1        150  0.001021\n",
      "abon_part_mea_mnt1                  153  0.001041\n",
      "BS_OVERBUNDLE_MB_CNT_M1             153  0.001041\n",
      "voice_mts_out_nwork_partstd_mnt3    153  0.001041\n",
      "voice_in_short_part_max_mnt1        154  0.001048\n",
      "voice_in_cmpttrs_td_cnt_max_mnt1    155  0.001055\n",
      "BS_OVERBUNDLE_MB_CNT_M2             155  0.001055\n",
      "voice_mts_in_nwork_part_std_mnt3    157  0.001068\n",
      "voice_out_short_part_max_mnt1       157  0.001068\n",
      "block_all_dur_mea_wk1               158  0.001075\n",
      "MV_ARPU_pstn_out_v_Traf             160  0.001089\n",
      "voice_mts_out_drest_partmin_mnt1    160  0.001089\n",
      "conn_out_uniq_cnt_max_mnt3          161  0.001096\n",
      "MV_ap_pstn_out_v                    165  0.001123\n",
      "voice_mts_out_drest_partstd_mnt3    167  0.001136\n",
      "voice_mts_in_drest_part_std_mnt3    168  0.001143\n",
      "voice_out_cmpttrs_td_cntmax_mnt1    168  0.001143\n",
      "MV_ARPU_3G_d_Traf                   170  0.001157\n",
      "content_clc_std_mnt1                171  0.001164\n",
      "all_roam_clc_mea_mnt3               172  0.001170\n",
      "voice_in_cmpttrs_td_cnt_max_mnt3    172  0.001170\n",
      "pay_p2p_out_sum_min_mnt3            173  0.001177\n",
      "voice_in_life_part_std_mnt3         173  0.001177\n",
      "pay_p2p_in_sum_max_mnt1             173  0.001177\n",
      "voice_mts_in_drest_part_min_mnt1    176  0.001198\n",
      "ks_num_part_std_mnt3                176  0.001198\n",
      "cnt_paym_6_month                    177  0.001204\n",
      "BS_OVERBUNDLE_MB_CNT_M3             177  0.001204\n",
      "voice_in_short_part_max_mnt3        178  0.001211\n",
      "voice_mts_out_nrest_partstd_mnt1    178  0.001211\n",
      "pay_p2p_in_sum_mea_mnt1             178  0.001211\n",
      "ks_num_part_std_mnt1                178  0.001211\n",
      "voice_mts_out_dwork_partstd_mnt3    181  0.001232\n",
      "content_clc_td_mnt3                 181  0.001232\n",
      "voice_in_kievstar_part_std_mnt3     181  0.001232\n",
      "abon_part_std_mnt3                  182  0.001238\n",
      "voice_mts_in_dwork_part_std_mnt3    183  0.001245\n",
      "voice_mts_in_nrest_part_std_mnt1    183  0.001245\n",
      "voice_in_life_part_std_mnt1         184  0.001252\n",
      "content_cnt_mea_wk1                 184  0.001252\n",
      "sms_out_cnt_max_mnt1                186  0.001266\n",
      "conn_com_part_std_mnt3              186  0.001266\n",
      "MV_ARPU_innet_out_s_Traf            189  0.001286\n",
      "pay_p2p_in_sum_std_mnt1             189  0.001286\n",
      "voice_out_cmpttrs_td_cntmax_mnt3    190  0.001293\n",
      "pay_p2p_out_sum_mea_mnt3            191  0.001300\n",
      "voice_mts_out_nwork_partstd_mnt1    193  0.001313\n",
      "voice_in_kievstar_part_std_mnt1     194  0.001320\n",
      "pay_avg_min_mnt1                    197  0.001341\n",
      "voice_in_td_cnt_min_mnt3            197  0.001341\n",
      "voice_out_td_cnt_min_mnt3           197  0.001341\n",
      "voice_out_short_part_max_mnt3       201  0.001368\n",
      "voice_mts_in_nwork_part_std_mnt1    205  0.001395\n",
      "abon_part_std_mnt1                  205  0.001395\n",
      "voice_mts_in_drest_part_mea_mnt3    207  0.001409\n",
      "voice_mts_in_nwork_part_min_mnt1    208  0.001415\n",
      "sms_clc_max_mnt1                    208  0.001415\n",
      "voice_mts_out_drest_partmea_mnt3    209  0.001422\n",
      "conn_com_part_std_mnt1              211  0.001436\n",
      "voice_mts_out_drest_partstd_mnt1    212  0.001443\n",
      "voice_mts_out_dwork_partstd_mnt1    213  0.001449\n",
      "voice_mts_in_drest_part_std_mnt1    214  0.001456\n",
      "voice_mts_in_dwork_part_std_mnt1    215  0.001463\n",
      "voice_mts_out_nwork_partmin_mnt1    216  0.001470\n",
      "ks_num_part_min_mnt3                219  0.001490\n",
      "voice_in_life_part_min_mnt3         223  0.001517\n",
      "sms_in_cnt_max_mnt1                 225  0.001531\n",
      "content_clc_mea_mnt3                232  0.001579\n",
      "voice_in_td_cnt_min_mnt1            235  0.001599\n",
      "voice_out_td_cnt_min_mnt1           238  0.001620\n",
      "sms_clc_mea_mnt1                    238  0.001620\n",
      "MV_Traf_innet_out_s_Cnt             239  0.001626\n",
      "voice_out_fix_tar_dur_mea_mnt3      243  0.001654\n",
      "content_cnt_max_mnt1                245  0.001667\n",
      "sms_out_cnt_max_mnt3                246  0.001674\n",
      "abon_part_mea_wk1                   251  0.001708\n",
      "voice_mts_in_nwork_part_mea_mnt3    255  0.001735\n",
      "pay_p2p_out_sum_std_mnt3            255  0.001735\n",
      "MV_ot_omo_out_v                     257  0.001749\n",
      "ks_num_part_min_mnt1                263  0.001790\n",
      "voice_mts_out_nwork_partmea_mnt3    264  0.001796\n",
      "all_home_clc_min_mnt1               265  0.001803\n",
      "sms_out_cnt_mea_mnt1                279  0.001899\n",
      "voice_in_td_cnt_mea_wk1             280  0.001905\n",
      "voice_in_fix_tar_dur_min_mnt1       283  0.001926\n",
      "MV_ap_innet_out_v                   283  0.001926\n",
      "content_clc_max_mnt3                285  0.001939\n",
      "sms_in_cnt_max_mnt3                 288  0.001960\n",
      "voice_in_life_part_min_mnt1         291  0.001980\n",
      "com_num_part_std_mnt1               292  0.001987\n",
      "MV_ARPU_4G_d_Traf                   295  0.002007\n",
      "BS_OVERBUNDLE_MB_SUM_M2             298  0.002028\n",
      "MV_ap_mn_out_v                      302  0.002055\n",
      "voice_out_td_cnt_mea_wk1            302  0.002055\n",
      "ks_num_part_mea_wk1                 304  0.002069\n",
      "clc_no_vas_roam_min_mnt1            304  0.002069\n",
      "com_num_part_std_mnt3               306  0.002082\n",
      "voice_mts_out_drest_partmea_mnt1    306  0.002082\n",
      "voice_mts_in_nwork_part_mea_mnt1    309  0.002103\n",
      "data_3g_tv_cnt_min_mnt3             310  0.002110\n",
      "voice_mts_out_nwork_partmea_mnt1    313  0.002130\n",
      "voice_in_td_cnt_max_mnt1            314  0.002137\n",
      "BS_OVERBUNDLE_MB_SUM_M1             318  0.002164\n",
      "BS_OVERBUNDLE_MB_SUM_M3             322  0.002191\n",
      "voice_in_kievstar_part_min_mnt3     324  0.002205\n",
      "pay_p2p_in_sum_max_mnt3             329  0.002239\n",
      "all_roam_clc_std_mnt3               331  0.002252\n",
      "device_width_mm                     332  0.002259\n",
      "sms_clc_max_mnt3                    332  0.002259\n",
      "voice_mts_in_drest_part_mea_mnt1    333  0.002266\n",
      "content_cnt_max_mnt3                334  0.002273\n",
      "ks_num_part_max_mnt1                334  0.002273\n",
      "voice_in_td_cnt_max_mnt3            338  0.002300\n",
      "voice_out_td_cnt_max_mnt1           339  0.002307\n",
      "pay_p2p_in_sum_mea_mnt3             343  0.002334\n",
      "gprs_clc_std_mnt3                   346  0.002354\n",
      "ks_num_part_max_mnt3                351  0.002389\n",
      "com_num_part_min_mnt3               352  0.002395\n",
      "device_height_mm                    358  0.002436\n",
      "voice_mts_out_nrest_partmea_wk1     358  0.002436\n",
      "day_end_gba                         364  0.002477\n",
      "conn_out_uniq_cnt_mea_mnt1          365  0.002484\n",
      "MV_Traf_inc_s_Cnt                   365  0.002484\n",
      "voice_out_td_cnt_max_mnt3           369  0.002511\n",
      "sms_in_cnt_mea_mnt1                 369  0.002511\n",
      "num_act_days_std_mnt3               370  0.002518\n",
      "data_3g_dou_std_mnt3                370  0.002518\n",
      "voice_in_life_part_mea_wk1          374  0.002545\n",
      "abon_part_max_mnt1                  376  0.002559\n",
      "voice_mts_in_dwork_part_min_mnt3    379  0.002579\n",
      "count_day_for_last_paym             380  0.002586\n",
      "conn_in_uniq_cnt_mea_mnt1           381  0.002593\n",
      "bs_ovrl_OMO_CNT_M2                  383  0.002606\n",
      "voice_in_cmpttrs_td_cnt_mea_mnt1    384  0.002613\n",
      "bs_ovrl_OMO_CNT_M3                  386  0.002627\n",
      "voice_mts_out_dwork_partmin_mnt3    391  0.002661\n",
      "pay_p2p_out_sum_td_mnt3             393  0.002674\n",
      "MV_ot_4G_d                          394  0.002681\n",
      "bs_ovrl_OMO_CNT_M1                  394  0.002681\n",
      "voice_in_kievstar_part_min_mnt1     395  0.002688\n",
      "voice_out_cmpttrs_td_cntmea_mnt1    397  0.002702\n",
      "ks_num_part_mea_mnt1                398  0.002708\n",
      "com_num_part_min_mnt1               405  0.002756\n",
      "ks_num_part_mea_mnt3                410  0.002790\n",
      "data_3g_tv_cnt_min_mnt1             411  0.002797\n",
      "voice_in_life_part_mea_mnt3         412  0.002804\n",
      "gprs_clc_td_mnt3                    415  0.002824\n",
      "DNZ_MIN_days_closed_loan_year2      416  0.002831\n",
      "voice_in_life_part_max_mnt1         422  0.002872\n",
      "voice_mts_in_nrest_part_mea_wk1     422  0.002872\n",
      "all_clc_min_mnt1                    428  0.002912\n",
      "sms_clc_std_mnt1                    431  0.002933\n",
      "abon_part_max_mnt3                  436  0.002967\n",
      "voice_in_life_part_max_mnt3         438  0.002981\n",
      "MV_ARPU_innet_out_v_Traf            440  0.002994\n",
      "pay_p2p_in_sum_std_mnt3             441  0.003001\n",
      "voice_in_kievstar_part_mea_wk1      446  0.003035\n",
      "content_clc_std_mnt3                447  0.003042\n",
      "block_all_dur_max_mnt1              448  0.003049\n",
      "voice_in_life_part_mea_mnt1         448  0.003049\n",
      "conn_com_part_min_mnt3              450  0.003062\n",
      "voice_mts_out_nwork_partmea_wk1     456  0.003103\n",
      "voice_mts_out_nrest_partmax_mnt1    456  0.003103\n",
      "data_3g_dou_td_mnt3                 459  0.003123\n",
      "voice_in_kievstar_part_max_mnt1     460  0.003130\n",
      "num_act_days_td_mnt3                461  0.003137\n",
      "sms_out_cnt_mea_mnt3                462  0.003144\n",
      "all_roam_clc_td_mnt3                462  0.003144\n",
      "sms_clc_mea_mnt3                    464  0.003157\n",
      "voice_in_kievstar_part_max_mnt3     466  0.003171\n",
      "voice_mts_out_drest_partmea_wk1     469  0.003191\n",
      "voice_mts_in_dwork_part_mea_mnt3    472  0.003212\n",
      "voice_mts_out_dwork_partmea_mnt3    475  0.003232\n",
      "conn_com_part_min_mnt1              475  0.003232\n",
      "com_num_part_mea_wk1                480  0.003266\n",
      "voice_mts_out_dwork_partmin_mnt1    481  0.003273\n",
      "voice_mts_out_nrest_partmax_mnt3    483  0.003287\n",
      "DNZ_MAX_days_closed_loan_year2      484  0.003294\n",
      "voice_in_kievstar_part_mea_mnt3     485  0.003300\n",
      "voice_mts_in_nwork_part_mea_wk1     485  0.003300\n",
      "voice_mts_in_nrest_part_max_mnt1    487  0.003314\n",
      "voice_mts_in_dwork_part_min_mnt1    487  0.003314\n",
      "conn_com_part_mea_wk1               487  0.003314\n",
      "voice_in_kievstar_part_mea_mnt1     487  0.003314\n",
      "voice_mts_out_nwork_partmax_mnt1    487  0.003314\n",
      "conn_com_part_max_mnt1              488  0.003321\n",
      "voice_mts_out_drest_partmax_mnt1    489  0.003328\n",
      "conn_com_part_max_mnt3              490  0.003334\n",
      "voice_mts_out_drest_partmax_mnt3    491  0.003341\n",
      "voice_mts_out_nwork_partmax_mnt3    492  0.003348\n",
      "content_cnt_mea_mnt1                492  0.003348\n",
      "voice_mts_out_dwork_partmea_wk1     492  0.003348\n",
      "conn_com_part_mea_mnt1              492  0.003348\n",
      "voice_mts_out_dwork_partmax_mnt3    493  0.003355\n",
      "voice_mts_out_dwork_partmax_mnt1    493  0.003355\n",
      "voice_mts_in_drest_part_mea_wk1     493  0.003355\n",
      "voice_mts_in_nwork_part_max_mnt3    494  0.003362\n",
      "conn_com_part_mea_mnt3              494  0.003362\n",
      "voice_mts_out_dwork_partmea_mnt1    494  0.003362\n",
      "voice_mts_in_drest_part_max_mnt3    494  0.003362\n",
      "voice_mts_in_dwork_part_mea_wk1     494  0.003362\n",
      "voice_mts_in_dwork_part_max_mnt1    494  0.003362\n",
      "voice_mts_in_drest_part_max_mnt1    494  0.003362\n",
      "voice_mts_in_nrest_part_max_mnt3    494  0.003362\n",
      "voice_mts_in_dwork_part_mea_mnt1    494  0.003362\n",
      "voice_mts_in_nwork_part_max_mnt1    494  0.003362\n",
      "voice_mts_in_dwork_part_max_mnt3    494  0.003362\n",
      "MV_ot_total                         495  0.003368\n",
      "MV_Traf_Cont_inc_s_Cnt              504  0.003430\n",
      "vas_clc_mea_wk1                     513  0.003491\n",
      "com_num_part_max_mnt1               528  0.003593\n",
      "com_num_part_max_mnt3               539  0.003668\n",
      "pay_p2p_in_sum_td_mnt3              540  0.003675\n",
      "voice_out_fix_tar_dur_std_mnt1      556  0.003784\n",
      "block_all_dur_std_mnt1              569  0.003872\n",
      "data_3g_tv_cnt_mea_wk1              580  0.003947\n",
      "all_cnt_min_mnt3                    582  0.003960\n",
      "DNZ_MEAN_days_open_loan_year2       594  0.004042\n",
      "com_num_part_mea_mnt3               599  0.004076\n",
      "DNZ_MIN_days_closed_loan_year5      602  0.004097\n",
      "sms_clc_td_mnt3                     610  0.004151\n",
      "com_num_part_mea_mnt1               613  0.004171\n",
      "Good_deed                           615  0.004185\n",
      "block_all_dur_mea_mnt1              622  0.004233\n",
      "lt                                  624  0.004246\n",
      "voice_out_tar_dur_min_mnt3          638  0.004342\n",
      "DNZ_DAYS_from_last_year2            642  0.004369\n",
      "DNZ_MAX_days_closed_loan_year5      673  0.004580\n",
      "DNZ_MEAN_days_open_loan_year5       675  0.004593\n",
      "all_cnt_min_mnt1                    693  0.004716\n",
      "data_3g_tv_cnt_max_mnt1             698  0.004750\n",
      "MV_AP_total                         705  0.004797\n",
      "voice_out_cmpttrs_avg_dumin_mnt3    707  0.004811\n",
      "sms_in_cnt_mea_mnt3                 717  0.004879\n",
      "block_all_dur_max_mnt3              735  0.005002\n",
      "voice_out_tar_dur_min_mnt1          754  0.005131\n",
      "data_3g_tv_cnt_max_mnt3             820  0.005580\n",
      "voice_in_cmpttrs_td_cnt_mea_mnt3    840  0.005716\n",
      "voice_in_td_cnt_mea_mnt1            844  0.005743\n",
      "conn_in_uniq_cnt_std_mnt1           848  0.005771\n",
      "voice_out_cmpttrs_td_cntmea_mnt3    850  0.005784\n",
      "conn_out_uniq_cnt_mea_mnt3          860  0.005852\n",
      "all_cnt_mea_wk1                     873  0.005941\n",
      "sms_out_cnt_std_mnt1                879  0.005982\n",
      "voice_out_tar_dur_mea_wk1           881  0.005995\n",
      "voice_out_td_cnt_mea_mnt1           884  0.006016\n",
      "conn_in_uniq_cnt_mea_mnt3           885  0.006022\n",
      "vas_clc_max_mnt1                    886  0.006029\n",
      "pay_max_mea_wk1                     897  0.006104\n",
      "block_all_dur_std_mnt3              915  0.006226\n",
      "days_of_last_ppm                    917  0.006240\n",
      "MV_ap_omo_out_v                     929  0.006322\n",
      "days_of_end_last_ppm                936  0.006369\n",
      "voice_out_tar_dur_max_mnt1          950  0.006465\n",
      "voice_in_fix_tar_dur_mea_wk1        955  0.006499\n",
      "voice_out_fix_tar_dur_td_mnt3       964  0.006560\n",
      "voice_out_tar_dur_max_mnt3          973  0.006621\n",
      "all_cnt_max_mnt1                    977  0.006648\n",
      "DNZ_DAYS_from_last_year5            994  0.006764\n",
      "MV_ap_4G_d                          996  0.006778\n",
      "conn_out_uniq_cnt_std_mnt1          997  0.006784\n",
      "content_cnt_mea_mnt3               1037  0.007057\n",
      "all_home_clc_mea_wk1               1039  0.007070\n",
      "voice_out_cmpttrs_avg_dumin_mnt1   1058  0.007200\n",
      "myvf_day_usage                     1113  0.007574\n",
      "sms_clc_std_mnt3                   1114  0.007581\n",
      "pay_sum_mea_wk1                    1125  0.007656\n",
      "voice_in_cmpttrs_td_cnt_std_mnt1   1144  0.007785\n",
      "voice_out_fix_tar_dur_std_mnt3     1146  0.007798\n",
      "all_cnt_max_mnt3                   1146  0.007798\n",
      "MV_ARPU_omo_out_v_Traf             1161  0.007900\n",
      "bs_ovrl_OMO_SUM_M3                 1194  0.008125\n",
      "bs_ovrl_OMO_SUM_M1                 1195  0.008132\n",
      "clc_no_vas_roam_mea_wk1            1197  0.008145\n",
      "voice_in_fix_tar_dur_max_mnt1      1207  0.008214\n",
      "bs_ovrl_OMO_SUM_M2                 1211  0.008241\n",
      "block_all_dur_mea_mnt3             1217  0.008282\n",
      "voice_out_tar_dur_mea_mnt1         1224  0.008329\n",
      "data_3g_tv_cnt_mea_mnt1            1258  0.008561\n",
      "vas_clc_mea_mnt1                   1260  0.008574\n",
      "sms_in_cnt_std_mnt1                1277  0.008690\n",
      "pay_avg_mea_wk1                    1281  0.008717\n",
      "pay_max_max_mnt1                   1284  0.008737\n",
      "sms_out_cnt_td_mnt3                1297  0.008826\n",
      "vas_clc_max_mnt3                   1325  0.009016\n",
      "loc_cnt_events                     1328  0.009037\n",
      "voice_out_cmpttrs_td_cntstd_mnt1   1337  0.009098\n",
      "device_days_usage                  1337  0.009098\n",
      "voice_in_fix_tar_dur_max_mnt3      1375  0.009357\n",
      "MV_Traf_ACCA_out_v_Min             1385  0.009425\n",
      "MV_Traf_mn_out_v_Min               1429  0.009724\n",
      "voice_in_td_cnt_mea_mnt3           1460  0.009935\n",
      "imei_mean_price                    1475  0.010037\n",
      "voice_in_fix_tar_dur_mea_mnt1      1478  0.010058\n",
      "voice_out_td_cnt_mea_mnt3          1499  0.010201\n",
      "pay_max_max_mnt3                   1500  0.010207\n",
      "voice_out_cmpttrs_avg_dumea_wk1    1522  0.010357\n",
      "all_cnt_mea_mnt1                   1540  0.010480\n",
      "voice_out_tar_dur_mea_mnt3         1578  0.010738\n",
      "all_home_clc_max_mnt1              1585  0.010786\n",
      "pay_sum_max_mnt1                   1591  0.010827\n",
      "block_all_dur_td_mnt3              1591  0.010827\n",
      "voice_out_cmpttrs_avg_dumax_mnt1   1666  0.011337\n",
      "voice_out_tar_dur_std_mnt1         1672  0.011378\n",
      "clc_no_vas_roam_max_mnt1           1699  0.011562\n",
      "MV_Traf_pstn_inc_v_Min             1704  0.011596\n",
      "conn_in_uniq_cnt_td_mnt3           1712  0.011650\n",
      "content_cnt_std_mnt1               1719  0.011698\n",
      "all_clc_mea_wk1                    1720  0.011704\n",
      "max_paym_6_month                   1722  0.011718\n",
      "MV_Traf_pstn_out_v_Min             1722  0.011718\n",
      "voice_out_cmpttrs_avg_dumax_mnt3   1733  0.011793\n",
      "voice_in_td_cnt_std_mnt1           1767  0.012024\n",
      "pay_avg_max_mnt1                   1780  0.012113\n",
      "pay_avg_max_mnt3                   1827  0.012433\n",
      "pay_sum_max_mnt3                   1850  0.012589\n",
      "data_3g_tv_cnt_mea_mnt3            1862  0.012671\n",
      "conn_out_uniq_cnt_td_mnt3          1877  0.012773\n",
      "pay_max_mea_mnt1                   1889  0.012854\n",
      "voice_out_td_cnt_std_mnt1          1892  0.012875\n",
      "clc_no_vas_roam_max_mnt3           1911  0.013004\n",
      "imei_mean_long_days_usage          1916  0.013038\n",
      "MV_Traf_R_inc_v_Min                1919  0.013059\n",
      "all_home_clc_max_mnt3              1925  0.013099\n",
      "sms_out_cnt_std_mnt3               1943  0.013222\n",
      "voice_in_tar_dur_min_mnt3          1948  0.013256\n",
      "voice_in_fix_tar_dur_mea_mnt3      1954  0.013297\n",
      "sms_in_cnt_td_mnt3                 1957  0.013317\n",
      "MV_Traf_Cont_out_v_Min             2000  0.013610\n",
      "conn_in_uniq_cnt_std_mnt3          2022  0.013760\n",
      "voice_in_cmpttrs_avg_durmin_mnt3   2064  0.014045\n",
      "voice_out_cmpttrs_avg_dumea_mnt1   2066  0.014059\n",
      "voice_in_tar_dur_min_mnt1          2067  0.014066\n",
      "pay_sum_mea_mnt1                   2110  0.014358\n",
      "voice_in_cmpttrs_td_cnt_td_mnt3    2111  0.014365\n",
      "conn_out_uniq_cnt_std_mnt3         2138  0.014549\n",
      "all_cnt_mea_mnt3                   2147  0.014610\n",
      "vas_clc_std_mnt1                   2158  0.014685\n",
      "last_paym                          2166  0.014739\n",
      "voice_out_tar_dur_std_mnt3         2171  0.014773\n",
      "all_home_clc_mea_mnt1              2174  0.014794\n",
      "clc_no_vas_roam_mea_mnt1           2184  0.014862\n",
      "all_clc_max_mnt1                   2196  0.014944\n",
      "voice_in_tar_dur_mea_wk1           2199  0.014964\n",
      "pay_max_std_mnt1                   2225  0.015141\n",
      "voice_in_cmpttrs_td_cnt_std_mnt3   2254  0.015338\n",
      "voice_in_tar_dur_max_mnt1          2256  0.015352\n",
      "voice_in_mts_avg_dur_max_mnt3      2293  0.015604\n",
      "voice_out_cmpttrs_td_cnttd_mnt3    2294  0.015610\n",
      "voice_in_tar_dur_max_mnt3          2301  0.015658\n",
      "voice_in_cmpttrs_avg_durmax_mnt3   2318  0.015774\n",
      "imei_mean_days_usage               2340  0.015923\n",
      "min_paym_6_month                   2340  0.015923\n",
      "pay_sum_std_mnt1                   2370  0.016128\n",
      "all_clc_max_mnt3                   2389  0.016257\n",
      "pay_avg_mea_mnt1                   2392  0.016277\n",
      "voice_in_cmpttrs_avg_durmin_mnt1   2413  0.016420\n",
      "voice_out_cmpttrs_td_cntstd_mnt3   2418  0.016454\n",
      "MV_ARPU                            2418  0.016454\n",
      "MV_net_total                       2439  0.016597\n",
      "voice_in_mts_avg_dur_max_mnt1      2471  0.016815\n",
      "sms_in_cnt_std_mnt3                2474  0.016835\n",
      "vas_clc_mea_mnt3                   2500  0.017012\n",
      "voice_in_mts_avg_dur_min_mnt3      2507  0.017060\n",
      "sum_paym_6_month                   2517  0.017128\n",
      "MV_Traf_R_out_v_Min                2519  0.017142\n",
      "voice_in_cmpttrs_avg_durmax_mnt1   2525  0.017182\n",
      "data_3g_tv_cnt_std_mnt1            2532  0.017230\n",
      "voice_in_mts_avg_dur_min_mnt1      2586  0.017597\n",
      "pay_avg_std_mnt1                   2601  0.017700\n",
      "voice_out_cmpttrs_avg_dumea_mnt3   2659  0.018094\n",
      "DNZ_MEAN_days_closed_loan_year2    2667  0.018149\n",
      "pay_max_mea_mnt3                   2696  0.018346\n",
      "voice_in_mts_avg_dur_mea_wk1       2721  0.018516\n",
      "content_cnt_td_mnt3                2744  0.018673\n",
      "voice_in_cmpttrs_avg_durmea_wk1    2765  0.018816\n",
      "content_cnt_std_mnt3               2802  0.019067\n",
      "pay_sum_mea_mnt3                   2834  0.019285\n",
      "clc_no_vas_roam_std_mnt1           2860  0.019462\n",
      "gprs_tar_vol_min_mnt3              2873  0.019550\n",
      "voice_in_tar_dur_mea_mnt1          2881  0.019605\n",
      "voice_in_td_cnt_std_mnt3           2881  0.019605\n",
      "all_clc_mea_mnt1                   2881  0.019605\n",
      "all_cnt_std_mnt1                   2915  0.019836\n",
      "MV_Traf_mn_inc_v_Min               2950  0.020074\n",
      "voice_out_td_cnt_std_mnt3          2968  0.020197\n",
      "voice_in_mts_avg_dur_mea_mnt1      2981  0.020285\n",
      "all_home_clc_std_mnt1              3003  0.020435\n",
      "pay_avg_mea_mnt3                   3039  0.020680\n",
      "voice_in_cmpttrs_avg_durmea_mnt1   3061  0.020830\n",
      "pay_max_std_mnt3                   3116  0.021204\n",
      "clc_no_vas_roam_mea_mnt3           3162  0.021517\n",
      "avg_paym_6_month                   3178  0.021626\n",
      "pay_sum_std_mnt3                   3180  0.021640\n",
      "voice_in_fix_tar_dur_std_mnt1      3204  0.021803\n",
      "pay_avg_std_mnt3                   3217  0.021891\n",
      "all_home_clc_mea_mnt3              3229  0.021973\n",
      "MV_Traf_omo_out_v_Min              3289  0.022381\n",
      "MV_Traf_omo_inc_v_Min              3359  0.022858\n",
      "DNZ_MEAN_days_closed_loan_year5    3381  0.023007\n",
      "imei_mean_day_announced            3393  0.023089\n",
      "all_home_clc_td_mnt3               3409  0.023198\n",
      "voice_out_cmpttrs_avg_dustd_mnt3   3426  0.023314\n",
      "voice_in_tar_dur_mea_mnt3          3454  0.023504\n",
      "voice_in_tar_dur_std_mnt1          3455  0.023511\n",
      "voice_in_mts_avg_dur_std_mnt3      3466  0.023586\n",
      "voice_in_cmpttrs_avg_durstd_mnt3   3492  0.023763\n",
      "DNZ_STD_days_closed_loan_year5     3521  0.023960\n",
      "voice_in_tar_dur_std_mnt3          3523  0.023974\n",
      "MV_Traf_Roam_d_Mb                  3593  0.024450\n",
      "all_clc_std_mnt1                   3612  0.024579\n",
      "voice_in_mts_avg_dur_mea_mnt3      3634  0.024729\n",
      "data_3g_tv_cnt_std_mnt3            3693  0.025130\n",
      "voice_in_cmpttrs_avg_durmea_mnt3   3700  0.025178\n",
      "all_clc_mea_mnt3                   3736  0.025423\n",
      "clc_no_vas_roam_std_mnt3           3771  0.025661\n",
      "voice_in_td_cnt_td_mnt3            3819  0.025988\n",
      "all_home_clc_std_mnt3              3829  0.026056\n",
      "gprs_tar_vol_min_mnt1              3845  0.026165\n",
      "MV_Traf_innet_inc_v_Min            3923  0.026696\n",
      "MV_Traf_innet_out_v_Min            3961  0.026954\n",
      "vas_clc_std_mnt3                   3969  0.027009\n",
      "voice_in_fix_tar_dur_std_mnt3      4008  0.027274\n",
      "all_cnt_std_mnt3                   4025  0.027390\n",
      "voice_in_cmpttrs_avg_durstd_mnt1   4026  0.027397\n",
      "voice_out_td_cnt_td_mnt3           4076  0.027737\n",
      "voice_out_cmpttrs_avg_dustd_mnt1   4136  0.028145\n",
      "voice_in_mts_avg_dur_std_mnt1      4169  0.028370\n",
      "gprs_tar_vol_mea_wk1               4355  0.029635\n",
      "std_paym_6_month                   4365  0.029703\n",
      "all_clc_std_mnt3                   4420  0.030078\n",
      "gprs_tar_vol_max_mnt1              4443  0.030234\n",
      "gprs_tar_vol_max_mnt3              4540  0.030894\n",
      "voice_out_tar_dur_td_mnt3          4597  0.031282\n",
      "vas_clc_td_mnt3                    4636  0.031548\n",
      "gprs_tar_vol_mea_mnt1              5073  0.034521\n",
      "data_3g_tar_vol_max_mnt3           5098  0.034691\n",
      "non_accum_internet_vol_max_mnt3    5339  0.036331\n",
      "data_3g_tv_cnt_td_mnt3             5369  0.036535\n",
      "data_3g_tar_vol_max_mnt1           5388  0.036665\n",
      "MV_Traf_4G_d_Mb                    5396  0.036719\n",
      "non_accum_internet_vol_max_mnt1    5439  0.037012\n",
      "data_3g_tar_vol_std_mnt3           5551  0.037774\n",
      "data_3g_tar_vol_min_mnt3           5611  0.038182\n",
      "data_3g_tar_vol_std_mnt1           5653  0.038468\n",
      "gprs_tar_vol_mea_mnt3              5702  0.038802\n",
      "data_3g_tar_vol_mea_mnt3           5704  0.038815\n",
      "data_3g_tar_vol_mea_mnt1           5756  0.039169\n",
      "data_3g_tar_vol_mea_wk1            5764  0.039223\n",
      "gprs_tar_vol_std_mnt1              5855  0.039843\n",
      "data_3g_tar_vol_min_mnt1           5857  0.039856\n",
      "non_accum_internet_vol_std_mnt1    5996  0.040802\n",
      "non_accum_internet_vol_mea_mnt1    6062  0.041251\n",
      "clc_no_vas_roam_td_mnt3            6118  0.041632\n",
      "non_accum_internet_vol_std_mnt3    6146  0.041823\n",
      "non_accum_internet_vol_mea_wk1     6306  0.042912\n",
      "Balance_uah                        6369  0.043340\n",
      "gprs_tar_vol_std_mnt3              6375  0.043381\n",
      "non_accum_internet_vol_mea_mnt3    6411  0.043626\n",
      "pay_max_td_mnt3                    6550  0.044572\n",
      "MV_Traf_3G_d_Mb                    6571  0.044715\n",
      "MV_Traf_2G_d_Mb                    6729  0.045790\n",
      "pay_avg_td_mnt3                    6830  0.046477\n",
      "all_clc_td_mnt3                    6963  0.047382\n",
      "pay_sum_td_mnt3                    6971  0.047437\n",
      "all_cnt_td_mnt3                    6992  0.047580\n",
      "voice_in_fix_tar_dur_td_mnt3       6996  0.047607\n",
      "non_accum_internet_vol_min_mnt1    7397  0.050336\n",
      "non_accum_internet_vol_min_mnt3    8237  0.056052\n",
      "voice_in_cmpttrs_avg_durtd_mnt3    8850  0.060223\n",
      "voice_in_mts_avg_dur_td_mnt3       8895  0.060530\n",
      "voice_out_cmpttrs_avg_dutd_mnt3    9265  0.063047\n",
      "data_3g_tar_vol_td_mnt3            9961  0.067784\n",
      "voice_in_tar_dur_td_mnt3          10458  0.071166\n",
      "non_accum_internet_vol_td_mnt3    10590  0.072064\n",
      "gprs_tar_vol_td_mnt3              13903  0.094608\n",
      "Total rows: 146953\n",
      "\n"
     ]
    }
   ],
   "source": [
    "eda.print_uniq(df_train)\n",
    "print()"
   ]
  },
  {
   "cell_type": "markdown",
   "metadata": {},
   "source": [
    "## Category distribution\n"
   ]
  },
  {
   "cell_type": "code",
   "execution_count": 6,
   "metadata": {},
   "outputs": [
    {
     "name": "stdout",
     "output_type": "stream",
     "text": [
      "   target        label  count  dataset%\n",
      "0       1    <20 years  18960     12.90\n",
      "1       2  20-30 years  27428     18.66\n",
      "2       3  30-40 years  39579     26.93\n",
      "3       4  40-50 years  31692     21.57\n",
      "4       5    >50 years  29294     19.93\n"
     ]
    },
    {
     "data": {
      "application/vnd.plotly.v1+json": {
       "config": {
        "plotlyServerURL": "https://plot.ly"
       },
       "data": [
        {
         "domain": {
          "x": [
           0,
           1
          ],
          "y": [
           0,
           1
          ]
         },
         "hovertemplate": "label=%{label}<br>count=%{value}<extra></extra>",
         "labels": [
          "<20 years",
          "20-30 years",
          "30-40 years",
          "40-50 years",
          ">50 years"
         ],
         "legendgroup": "",
         "name": "",
         "showlegend": true,
         "textinfo": "percent+value+label",
         "textposition": "inside",
         "type": "pie",
         "values": [
          18960,
          27428,
          39579,
          31692,
          29294
         ]
        }
       ],
       "layout": {
        "legend": {
         "tracegroupgap": 0
        },
        "template": {
         "data": {
          "bar": [
           {
            "error_x": {
             "color": "#2a3f5f"
            },
            "error_y": {
             "color": "#2a3f5f"
            },
            "marker": {
             "line": {
              "color": "#E5ECF6",
              "width": 0.5
             },
             "pattern": {
              "fillmode": "overlay",
              "size": 10,
              "solidity": 0.2
             }
            },
            "type": "bar"
           }
          ],
          "barpolar": [
           {
            "marker": {
             "line": {
              "color": "#E5ECF6",
              "width": 0.5
             },
             "pattern": {
              "fillmode": "overlay",
              "size": 10,
              "solidity": 0.2
             }
            },
            "type": "barpolar"
           }
          ],
          "carpet": [
           {
            "aaxis": {
             "endlinecolor": "#2a3f5f",
             "gridcolor": "white",
             "linecolor": "white",
             "minorgridcolor": "white",
             "startlinecolor": "#2a3f5f"
            },
            "baxis": {
             "endlinecolor": "#2a3f5f",
             "gridcolor": "white",
             "linecolor": "white",
             "minorgridcolor": "white",
             "startlinecolor": "#2a3f5f"
            },
            "type": "carpet"
           }
          ],
          "choropleth": [
           {
            "colorbar": {
             "outlinewidth": 0,
             "ticks": ""
            },
            "type": "choropleth"
           }
          ],
          "contour": [
           {
            "colorbar": {
             "outlinewidth": 0,
             "ticks": ""
            },
            "colorscale": [
             [
              0,
              "#0d0887"
             ],
             [
              0.1111111111111111,
              "#46039f"
             ],
             [
              0.2222222222222222,
              "#7201a8"
             ],
             [
              0.3333333333333333,
              "#9c179e"
             ],
             [
              0.4444444444444444,
              "#bd3786"
             ],
             [
              0.5555555555555556,
              "#d8576b"
             ],
             [
              0.6666666666666666,
              "#ed7953"
             ],
             [
              0.7777777777777778,
              "#fb9f3a"
             ],
             [
              0.8888888888888888,
              "#fdca26"
             ],
             [
              1,
              "#f0f921"
             ]
            ],
            "type": "contour"
           }
          ],
          "contourcarpet": [
           {
            "colorbar": {
             "outlinewidth": 0,
             "ticks": ""
            },
            "type": "contourcarpet"
           }
          ],
          "heatmap": [
           {
            "colorbar": {
             "outlinewidth": 0,
             "ticks": ""
            },
            "colorscale": [
             [
              0,
              "#0d0887"
             ],
             [
              0.1111111111111111,
              "#46039f"
             ],
             [
              0.2222222222222222,
              "#7201a8"
             ],
             [
              0.3333333333333333,
              "#9c179e"
             ],
             [
              0.4444444444444444,
              "#bd3786"
             ],
             [
              0.5555555555555556,
              "#d8576b"
             ],
             [
              0.6666666666666666,
              "#ed7953"
             ],
             [
              0.7777777777777778,
              "#fb9f3a"
             ],
             [
              0.8888888888888888,
              "#fdca26"
             ],
             [
              1,
              "#f0f921"
             ]
            ],
            "type": "heatmap"
           }
          ],
          "heatmapgl": [
           {
            "colorbar": {
             "outlinewidth": 0,
             "ticks": ""
            },
            "colorscale": [
             [
              0,
              "#0d0887"
             ],
             [
              0.1111111111111111,
              "#46039f"
             ],
             [
              0.2222222222222222,
              "#7201a8"
             ],
             [
              0.3333333333333333,
              "#9c179e"
             ],
             [
              0.4444444444444444,
              "#bd3786"
             ],
             [
              0.5555555555555556,
              "#d8576b"
             ],
             [
              0.6666666666666666,
              "#ed7953"
             ],
             [
              0.7777777777777778,
              "#fb9f3a"
             ],
             [
              0.8888888888888888,
              "#fdca26"
             ],
             [
              1,
              "#f0f921"
             ]
            ],
            "type": "heatmapgl"
           }
          ],
          "histogram": [
           {
            "marker": {
             "pattern": {
              "fillmode": "overlay",
              "size": 10,
              "solidity": 0.2
             }
            },
            "type": "histogram"
           }
          ],
          "histogram2d": [
           {
            "colorbar": {
             "outlinewidth": 0,
             "ticks": ""
            },
            "colorscale": [
             [
              0,
              "#0d0887"
             ],
             [
              0.1111111111111111,
              "#46039f"
             ],
             [
              0.2222222222222222,
              "#7201a8"
             ],
             [
              0.3333333333333333,
              "#9c179e"
             ],
             [
              0.4444444444444444,
              "#bd3786"
             ],
             [
              0.5555555555555556,
              "#d8576b"
             ],
             [
              0.6666666666666666,
              "#ed7953"
             ],
             [
              0.7777777777777778,
              "#fb9f3a"
             ],
             [
              0.8888888888888888,
              "#fdca26"
             ],
             [
              1,
              "#f0f921"
             ]
            ],
            "type": "histogram2d"
           }
          ],
          "histogram2dcontour": [
           {
            "colorbar": {
             "outlinewidth": 0,
             "ticks": ""
            },
            "colorscale": [
             [
              0,
              "#0d0887"
             ],
             [
              0.1111111111111111,
              "#46039f"
             ],
             [
              0.2222222222222222,
              "#7201a8"
             ],
             [
              0.3333333333333333,
              "#9c179e"
             ],
             [
              0.4444444444444444,
              "#bd3786"
             ],
             [
              0.5555555555555556,
              "#d8576b"
             ],
             [
              0.6666666666666666,
              "#ed7953"
             ],
             [
              0.7777777777777778,
              "#fb9f3a"
             ],
             [
              0.8888888888888888,
              "#fdca26"
             ],
             [
              1,
              "#f0f921"
             ]
            ],
            "type": "histogram2dcontour"
           }
          ],
          "mesh3d": [
           {
            "colorbar": {
             "outlinewidth": 0,
             "ticks": ""
            },
            "type": "mesh3d"
           }
          ],
          "parcoords": [
           {
            "line": {
             "colorbar": {
              "outlinewidth": 0,
              "ticks": ""
             }
            },
            "type": "parcoords"
           }
          ],
          "pie": [
           {
            "automargin": true,
            "type": "pie"
           }
          ],
          "scatter": [
           {
            "fillpattern": {
             "fillmode": "overlay",
             "size": 10,
             "solidity": 0.2
            },
            "type": "scatter"
           }
          ],
          "scatter3d": [
           {
            "line": {
             "colorbar": {
              "outlinewidth": 0,
              "ticks": ""
             }
            },
            "marker": {
             "colorbar": {
              "outlinewidth": 0,
              "ticks": ""
             }
            },
            "type": "scatter3d"
           }
          ],
          "scattercarpet": [
           {
            "marker": {
             "colorbar": {
              "outlinewidth": 0,
              "ticks": ""
             }
            },
            "type": "scattercarpet"
           }
          ],
          "scattergeo": [
           {
            "marker": {
             "colorbar": {
              "outlinewidth": 0,
              "ticks": ""
             }
            },
            "type": "scattergeo"
           }
          ],
          "scattergl": [
           {
            "marker": {
             "colorbar": {
              "outlinewidth": 0,
              "ticks": ""
             }
            },
            "type": "scattergl"
           }
          ],
          "scattermapbox": [
           {
            "marker": {
             "colorbar": {
              "outlinewidth": 0,
              "ticks": ""
             }
            },
            "type": "scattermapbox"
           }
          ],
          "scatterpolar": [
           {
            "marker": {
             "colorbar": {
              "outlinewidth": 0,
              "ticks": ""
             }
            },
            "type": "scatterpolar"
           }
          ],
          "scatterpolargl": [
           {
            "marker": {
             "colorbar": {
              "outlinewidth": 0,
              "ticks": ""
             }
            },
            "type": "scatterpolargl"
           }
          ],
          "scatterternary": [
           {
            "marker": {
             "colorbar": {
              "outlinewidth": 0,
              "ticks": ""
             }
            },
            "type": "scatterternary"
           }
          ],
          "surface": [
           {
            "colorbar": {
             "outlinewidth": 0,
             "ticks": ""
            },
            "colorscale": [
             [
              0,
              "#0d0887"
             ],
             [
              0.1111111111111111,
              "#46039f"
             ],
             [
              0.2222222222222222,
              "#7201a8"
             ],
             [
              0.3333333333333333,
              "#9c179e"
             ],
             [
              0.4444444444444444,
              "#bd3786"
             ],
             [
              0.5555555555555556,
              "#d8576b"
             ],
             [
              0.6666666666666666,
              "#ed7953"
             ],
             [
              0.7777777777777778,
              "#fb9f3a"
             ],
             [
              0.8888888888888888,
              "#fdca26"
             ],
             [
              1,
              "#f0f921"
             ]
            ],
            "type": "surface"
           }
          ],
          "table": [
           {
            "cells": {
             "fill": {
              "color": "#EBF0F8"
             },
             "line": {
              "color": "white"
             }
            },
            "header": {
             "fill": {
              "color": "#C8D4E3"
             },
             "line": {
              "color": "white"
             }
            },
            "type": "table"
           }
          ]
         },
         "layout": {
          "annotationdefaults": {
           "arrowcolor": "#2a3f5f",
           "arrowhead": 0,
           "arrowwidth": 1
          },
          "autotypenumbers": "strict",
          "coloraxis": {
           "colorbar": {
            "outlinewidth": 0,
            "ticks": ""
           }
          },
          "colorscale": {
           "diverging": [
            [
             0,
             "#8e0152"
            ],
            [
             0.1,
             "#c51b7d"
            ],
            [
             0.2,
             "#de77ae"
            ],
            [
             0.3,
             "#f1b6da"
            ],
            [
             0.4,
             "#fde0ef"
            ],
            [
             0.5,
             "#f7f7f7"
            ],
            [
             0.6,
             "#e6f5d0"
            ],
            [
             0.7,
             "#b8e186"
            ],
            [
             0.8,
             "#7fbc41"
            ],
            [
             0.9,
             "#4d9221"
            ],
            [
             1,
             "#276419"
            ]
           ],
           "sequential": [
            [
             0,
             "#0d0887"
            ],
            [
             0.1111111111111111,
             "#46039f"
            ],
            [
             0.2222222222222222,
             "#7201a8"
            ],
            [
             0.3333333333333333,
             "#9c179e"
            ],
            [
             0.4444444444444444,
             "#bd3786"
            ],
            [
             0.5555555555555556,
             "#d8576b"
            ],
            [
             0.6666666666666666,
             "#ed7953"
            ],
            [
             0.7777777777777778,
             "#fb9f3a"
            ],
            [
             0.8888888888888888,
             "#fdca26"
            ],
            [
             1,
             "#f0f921"
            ]
           ],
           "sequentialminus": [
            [
             0,
             "#0d0887"
            ],
            [
             0.1111111111111111,
             "#46039f"
            ],
            [
             0.2222222222222222,
             "#7201a8"
            ],
            [
             0.3333333333333333,
             "#9c179e"
            ],
            [
             0.4444444444444444,
             "#bd3786"
            ],
            [
             0.5555555555555556,
             "#d8576b"
            ],
            [
             0.6666666666666666,
             "#ed7953"
            ],
            [
             0.7777777777777778,
             "#fb9f3a"
            ],
            [
             0.8888888888888888,
             "#fdca26"
            ],
            [
             1,
             "#f0f921"
            ]
           ]
          },
          "colorway": [
           "#636efa",
           "#EF553B",
           "#00cc96",
           "#ab63fa",
           "#FFA15A",
           "#19d3f3",
           "#FF6692",
           "#B6E880",
           "#FF97FF",
           "#FECB52"
          ],
          "font": {
           "color": "#2a3f5f"
          },
          "geo": {
           "bgcolor": "white",
           "lakecolor": "white",
           "landcolor": "#E5ECF6",
           "showlakes": true,
           "showland": true,
           "subunitcolor": "white"
          },
          "hoverlabel": {
           "align": "left"
          },
          "hovermode": "closest",
          "mapbox": {
           "style": "light"
          },
          "paper_bgcolor": "white",
          "plot_bgcolor": "#E5ECF6",
          "polar": {
           "angularaxis": {
            "gridcolor": "white",
            "linecolor": "white",
            "ticks": ""
           },
           "bgcolor": "#E5ECF6",
           "radialaxis": {
            "gridcolor": "white",
            "linecolor": "white",
            "ticks": ""
           }
          },
          "scene": {
           "xaxis": {
            "backgroundcolor": "#E5ECF6",
            "gridcolor": "white",
            "gridwidth": 2,
            "linecolor": "white",
            "showbackground": true,
            "ticks": "",
            "zerolinecolor": "white"
           },
           "yaxis": {
            "backgroundcolor": "#E5ECF6",
            "gridcolor": "white",
            "gridwidth": 2,
            "linecolor": "white",
            "showbackground": true,
            "ticks": "",
            "zerolinecolor": "white"
           },
           "zaxis": {
            "backgroundcolor": "#E5ECF6",
            "gridcolor": "white",
            "gridwidth": 2,
            "linecolor": "white",
            "showbackground": true,
            "ticks": "",
            "zerolinecolor": "white"
           }
          },
          "shapedefaults": {
           "line": {
            "color": "#2a3f5f"
           }
          },
          "ternary": {
           "aaxis": {
            "gridcolor": "white",
            "linecolor": "white",
            "ticks": ""
           },
           "baxis": {
            "gridcolor": "white",
            "linecolor": "white",
            "ticks": ""
           },
           "bgcolor": "#E5ECF6",
           "caxis": {
            "gridcolor": "white",
            "linecolor": "white",
            "ticks": ""
           }
          },
          "title": {
           "x": 0.05
          },
          "xaxis": {
           "automargin": true,
           "gridcolor": "white",
           "linecolor": "white",
           "ticks": "",
           "title": {
            "standoff": 15
           },
           "zerolinecolor": "white",
           "zerolinewidth": 2
          },
          "yaxis": {
           "automargin": true,
           "gridcolor": "white",
           "linecolor": "white",
           "ticks": "",
           "title": {
            "standoff": 15
           },
           "zerolinecolor": "white",
           "zerolinewidth": 2
          }
         }
        },
        "title": {
         "text": "Total records: 146953"
        }
       }
      }
     },
     "metadata": {},
     "output_type": "display_data"
    }
   ],
   "source": [
    "target_counts = df_train.groupby(TARGET_KEY)[TARGET_KEY].count()\n",
    "\n",
    "target_labels = {\n",
    "    1: \"<20 years\",\n",
    "    2: \"20-30 years\",\n",
    "    3: \"30-40 years\",\n",
    "    4: \"40-50 years\",\n",
    "    5: \">50 years\",\n",
    "}\n",
    "\n",
    "df_target_dist = pd.DataFrame(\n",
    "    {\n",
    "        \"label\": target_counts.index.map(lambda x: target_labels[x]),\n",
    "        \"count\": target_counts,\n",
    "        \"dataset%\": target_counts.apply(lambda x: round(x / len(df_train) * 100, 2)),\n",
    "    }\n",
    ").reset_index()\n",
    "\n",
    "print(df_target_dist)\n",
    "\n",
    "fig = px.pie(\n",
    "    df_target_dist,\n",
    "    values=\"count\",\n",
    "    names=\"label\",\n",
    "    title=f\"Total records: {len(df_train)}\",\n",
    ")\n",
    "\n",
    "fig.update_traces(textposition=\"inside\", textinfo=\"percent+value+label\")\n",
    "fig.show()"
   ]
  },
  {
   "cell_type": "markdown",
   "metadata": {},
   "source": [
    "## Permutation feature importance for baseline model\n"
   ]
  },
  {
   "cell_type": "code",
   "execution_count": 7,
   "metadata": {},
   "outputs": [],
   "source": [
    "predict_baseline_model, baseline_model = model_lgb.load(baseline_model_name)\n",
    "\n",
    "\n",
    "def calc_permutation():\n",
    "    class LgbAdapter:\n",
    "        def __init__(self, predict: callable):\n",
    "            self.do_predict = predict\n",
    "\n",
    "        def fit(self):\n",
    "            raise Exception(\"Unexpected fit call\")\n",
    "\n",
    "        def predict(self, df):\n",
    "            return self.do_predict(df)\n",
    "\n",
    "    df_test = pd.read_parquet(test_fe_path)\n",
    "    X_test = df_test.drop(columns=[TARGET_KEY])\n",
    "    # lgb requires class to be zero-based\n",
    "    y_test = df_test[TARGET_KEY] - 1\n",
    "\n",
    "    p_importance_result = permutation_importance(\n",
    "        LgbAdapter(predict_baseline_model),\n",
    "        X_test,\n",
    "        y_test,\n",
    "        scoring=[\"accuracy\"],\n",
    "        n_jobs=-1,\n",
    "        random_state=RANDOM_SEED,\n",
    "    )\n",
    "\n",
    "    return pd.concat(\n",
    "        [\n",
    "            pd.DataFrame(\n",
    "                {\n",
    "                    \"feature\": X_test.columns,\n",
    "                    \"mean\": p_importance_result[\"accuracy\"][\"importances_mean\"],\n",
    "                    \"std\": p_importance_result[\"accuracy\"][\"importances_std\"],\n",
    "                },\n",
    "            ),\n",
    "            pd.DataFrame(\n",
    "                p_importance_result[\"accuracy\"][\"importances\"],\n",
    "                columns=[\"run1\", \"run2\", \"run3\", \"run4\", \"run5\"],\n",
    "            ),\n",
    "        ],\n",
    "        axis=1,\n",
    "    )\n",
    "\n",
    "\n",
    "p_imp_df = io.run_cached(\"./data/fe_permutation_importance.parquet\", calc_permutation)\n",
    "\n",
    "p_imp_df[\"importance_tree\"] = baseline_model.feature_importance()\n",
    "p_imp_df[\"p_importance%\"] = p_imp_df[\"mean\"] / p_imp_df[\"mean\"].sum() * 100\n",
    "p_imp_df[\"importance_tree%\"] = (\n",
    "    p_imp_df[\"importance_tree\"] / p_imp_df[\"importance_tree\"].sum() * 100\n",
    ")\n",
    "\n",
    "# count how much rows (subscribers) have values per feature to get abon_count per feature\n",
    "p_imp_df[\"abon_count\"] = X_train.agg(lambda series: series[series > 0].count()).values\n",
    "p_imp_df[\"coverage\"] = p_imp_df[\"abon_count\"] / len(X_train)\n",
    "p_imp_df = p_imp_df.sort_values(by=\"mean\", ascending=False)"
   ]
  },
  {
   "cell_type": "code",
   "execution_count": 8,
   "metadata": {},
   "outputs": [
    {
     "data": {
      "text/html": [
       "<div>\n",
       "<style scoped>\n",
       "    .dataframe tbody tr th:only-of-type {\n",
       "        vertical-align: middle;\n",
       "    }\n",
       "\n",
       "    .dataframe tbody tr th {\n",
       "        vertical-align: top;\n",
       "    }\n",
       "\n",
       "    .dataframe thead th {\n",
       "        text-align: right;\n",
       "    }\n",
       "</style>\n",
       "<table border=\"1\" class=\"dataframe\">\n",
       "  <thead>\n",
       "    <tr style=\"text-align: right;\">\n",
       "      <th></th>\n",
       "      <th>feature</th>\n",
       "      <th>mean</th>\n",
       "      <th>std</th>\n",
       "      <th>run1</th>\n",
       "      <th>run2</th>\n",
       "      <th>run3</th>\n",
       "      <th>run4</th>\n",
       "      <th>run5</th>\n",
       "      <th>importance_tree</th>\n",
       "      <th>p_importance%</th>\n",
       "      <th>importance_tree%</th>\n",
       "      <th>abon_count</th>\n",
       "      <th>coverage</th>\n",
       "    </tr>\n",
       "  </thead>\n",
       "  <tbody>\n",
       "    <tr>\n",
       "      <th>606</th>\n",
       "      <td>lt</td>\n",
       "      <td>0.061995</td>\n",
       "      <td>0.000931</td>\n",
       "      <td>0.063015</td>\n",
       "      <td>0.062202</td>\n",
       "      <td>0.060510</td>\n",
       "      <td>0.061412</td>\n",
       "      <td>0.062834</td>\n",
       "      <td>307</td>\n",
       "      <td>22.742929</td>\n",
       "      <td>3.231579</td>\n",
       "      <td>146350</td>\n",
       "      <td>0.995897</td>\n",
       "    </tr>\n",
       "    <tr>\n",
       "      <th>648</th>\n",
       "      <td>imei_mean_days_usage</td>\n",
       "      <td>0.024439</td>\n",
       "      <td>0.000720</td>\n",
       "      <td>0.023473</td>\n",
       "      <td>0.025278</td>\n",
       "      <td>0.025233</td>\n",
       "      <td>0.024330</td>\n",
       "      <td>0.023879</td>\n",
       "      <td>191</td>\n",
       "      <td>8.965357</td>\n",
       "      <td>2.010526</td>\n",
       "      <td>146580</td>\n",
       "      <td>0.997462</td>\n",
       "    </tr>\n",
       "    <tr>\n",
       "      <th>651</th>\n",
       "      <td>imei_mean_day_announced</td>\n",
       "      <td>0.007322</td>\n",
       "      <td>0.000560</td>\n",
       "      <td>0.008351</td>\n",
       "      <td>0.007313</td>\n",
       "      <td>0.007200</td>\n",
       "      <td>0.006658</td>\n",
       "      <td>0.007087</td>\n",
       "      <td>155</td>\n",
       "      <td>2.685964</td>\n",
       "      <td>1.631579</td>\n",
       "      <td>139756</td>\n",
       "      <td>0.951025</td>\n",
       "    </tr>\n",
       "    <tr>\n",
       "      <th>622</th>\n",
       "      <td>myvf_day_usage</td>\n",
       "      <td>0.007191</td>\n",
       "      <td>0.000893</td>\n",
       "      <td>0.008373</td>\n",
       "      <td>0.005936</td>\n",
       "      <td>0.006523</td>\n",
       "      <td>0.007945</td>\n",
       "      <td>0.007177</td>\n",
       "      <td>187</td>\n",
       "      <td>2.637941</td>\n",
       "      <td>1.968421</td>\n",
       "      <td>132692</td>\n",
       "      <td>0.902955</td>\n",
       "    </tr>\n",
       "    <tr>\n",
       "      <th>322</th>\n",
       "      <td>voice_in_mts_avg_dur_mea_mnt3</td>\n",
       "      <td>0.006681</td>\n",
       "      <td>0.000294</td>\n",
       "      <td>0.006681</td>\n",
       "      <td>0.006162</td>\n",
       "      <td>0.006929</td>\n",
       "      <td>0.006636</td>\n",
       "      <td>0.006997</td>\n",
       "      <td>96</td>\n",
       "      <td>2.450818</td>\n",
       "      <td>1.010526</td>\n",
       "      <td>114229</td>\n",
       "      <td>0.777317</td>\n",
       "    </tr>\n",
       "    <tr>\n",
       "      <th>639</th>\n",
       "      <td>imei_mean_price</td>\n",
       "      <td>0.005281</td>\n",
       "      <td>0.000468</td>\n",
       "      <td>0.005304</td>\n",
       "      <td>0.005236</td>\n",
       "      <td>0.005056</td>\n",
       "      <td>0.004695</td>\n",
       "      <td>0.006116</td>\n",
       "      <td>135</td>\n",
       "      <td>1.937471</td>\n",
       "      <td>1.421053</td>\n",
       "      <td>141325</td>\n",
       "      <td>0.961702</td>\n",
       "    </tr>\n",
       "    <tr>\n",
       "      <th>655</th>\n",
       "      <td>device_brand_apple</td>\n",
       "      <td>0.005114</td>\n",
       "      <td>0.000417</td>\n",
       "      <td>0.004965</td>\n",
       "      <td>0.004582</td>\n",
       "      <td>0.004898</td>\n",
       "      <td>0.005326</td>\n",
       "      <td>0.005800</td>\n",
       "      <td>86</td>\n",
       "      <td>1.876201</td>\n",
       "      <td>0.905263</td>\n",
       "      <td>19578</td>\n",
       "      <td>0.133226</td>\n",
       "    </tr>\n",
       "    <tr>\n",
       "      <th>654</th>\n",
       "      <td>imei_mean_long_days_usage</td>\n",
       "      <td>0.004528</td>\n",
       "      <td>0.000778</td>\n",
       "      <td>0.004514</td>\n",
       "      <td>0.005755</td>\n",
       "      <td>0.004559</td>\n",
       "      <td>0.003295</td>\n",
       "      <td>0.004514</td>\n",
       "      <td>117</td>\n",
       "      <td>1.660926</td>\n",
       "      <td>1.231579</td>\n",
       "      <td>146511</td>\n",
       "      <td>0.996992</td>\n",
       "    </tr>\n",
       "    <tr>\n",
       "      <th>103</th>\n",
       "      <td>conn_out_uniq_cnt_max_mnt3</td>\n",
       "      <td>0.004401</td>\n",
       "      <td>0.001039</td>\n",
       "      <td>0.002821</td>\n",
       "      <td>0.004785</td>\n",
       "      <td>0.004514</td>\n",
       "      <td>0.003905</td>\n",
       "      <td>0.005981</td>\n",
       "      <td>52</td>\n",
       "      <td>1.614559</td>\n",
       "      <td>0.547368</td>\n",
       "      <td>110180</td>\n",
       "      <td>0.749764</td>\n",
       "    </tr>\n",
       "    <tr>\n",
       "      <th>562</th>\n",
       "      <td>voice_in_mts_avg_dur_min_mnt3</td>\n",
       "      <td>0.003977</td>\n",
       "      <td>0.000200</td>\n",
       "      <td>0.003882</td>\n",
       "      <td>0.003814</td>\n",
       "      <td>0.004130</td>\n",
       "      <td>0.004288</td>\n",
       "      <td>0.003769</td>\n",
       "      <td>68</td>\n",
       "      <td>1.458899</td>\n",
       "      <td>0.715789</td>\n",
       "      <td>79775</td>\n",
       "      <td>0.542861</td>\n",
       "    </tr>\n",
       "    <tr>\n",
       "      <th>107</th>\n",
       "      <td>conn_out_uniq_cnt_mea_mnt3</td>\n",
       "      <td>0.003756</td>\n",
       "      <td>0.000342</td>\n",
       "      <td>0.003498</td>\n",
       "      <td>0.004266</td>\n",
       "      <td>0.003972</td>\n",
       "      <td>0.003747</td>\n",
       "      <td>0.003295</td>\n",
       "      <td>75</td>\n",
       "      <td>1.377757</td>\n",
       "      <td>0.789474</td>\n",
       "      <td>110180</td>\n",
       "      <td>0.749764</td>\n",
       "    </tr>\n",
       "    <tr>\n",
       "      <th>641</th>\n",
       "      <td>imei_max_price</td>\n",
       "      <td>0.003733</td>\n",
       "      <td>0.001079</td>\n",
       "      <td>0.004085</td>\n",
       "      <td>0.003814</td>\n",
       "      <td>0.003160</td>\n",
       "      <td>0.002167</td>\n",
       "      <td>0.005439</td>\n",
       "      <td>119</td>\n",
       "      <td>1.369477</td>\n",
       "      <td>1.252632</td>\n",
       "      <td>141325</td>\n",
       "      <td>0.961702</td>\n",
       "    </tr>\n",
       "    <tr>\n",
       "      <th>700</th>\n",
       "      <td>Internet</td>\n",
       "      <td>0.003674</td>\n",
       "      <td>0.000508</td>\n",
       "      <td>0.003092</td>\n",
       "      <td>0.003792</td>\n",
       "      <td>0.003092</td>\n",
       "      <td>0.004356</td>\n",
       "      <td>0.004040</td>\n",
       "      <td>38</td>\n",
       "      <td>1.347950</td>\n",
       "      <td>0.400000</td>\n",
       "      <td>40252</td>\n",
       "      <td>0.273911</td>\n",
       "    </tr>\n",
       "    <tr>\n",
       "      <th>369</th>\n",
       "      <td>voice_in_td_cnt_std_mnt3</td>\n",
       "      <td>0.003652</td>\n",
       "      <td>0.000332</td>\n",
       "      <td>0.003498</td>\n",
       "      <td>0.003814</td>\n",
       "      <td>0.003092</td>\n",
       "      <td>0.004063</td>\n",
       "      <td>0.003792</td>\n",
       "      <td>44</td>\n",
       "      <td>1.339670</td>\n",
       "      <td>0.463158</td>\n",
       "      <td>115819</td>\n",
       "      <td>0.788136</td>\n",
       "    </tr>\n",
       "    <tr>\n",
       "      <th>624</th>\n",
       "      <td>tsoa_call_cnt</td>\n",
       "      <td>0.002875</td>\n",
       "      <td>0.000472</td>\n",
       "      <td>0.003069</td>\n",
       "      <td>0.001986</td>\n",
       "      <td>0.003385</td>\n",
       "      <td>0.003024</td>\n",
       "      <td>0.002912</td>\n",
       "      <td>75</td>\n",
       "      <td>1.054845</td>\n",
       "      <td>0.789474</td>\n",
       "      <td>34388</td>\n",
       "      <td>0.234007</td>\n",
       "    </tr>\n",
       "    <tr>\n",
       "      <th>510</th>\n",
       "      <td>non_accum_internet_vol_max_mnt3</td>\n",
       "      <td>0.002848</td>\n",
       "      <td>0.000408</td>\n",
       "      <td>0.002257</td>\n",
       "      <td>0.002663</td>\n",
       "      <td>0.002776</td>\n",
       "      <td>0.003476</td>\n",
       "      <td>0.003069</td>\n",
       "      <td>54</td>\n",
       "      <td>1.044910</td>\n",
       "      <td>0.568421</td>\n",
       "      <td>114064</td>\n",
       "      <td>0.776194</td>\n",
       "    </tr>\n",
       "    <tr>\n",
       "      <th>632</th>\n",
       "      <td>loc_market_share</td>\n",
       "      <td>0.002690</td>\n",
       "      <td>0.000657</td>\n",
       "      <td>0.003160</td>\n",
       "      <td>0.002708</td>\n",
       "      <td>0.003543</td>\n",
       "      <td>0.001625</td>\n",
       "      <td>0.002415</td>\n",
       "      <td>103</td>\n",
       "      <td>0.986951</td>\n",
       "      <td>1.084211</td>\n",
       "      <td>112989</td>\n",
       "      <td>0.768878</td>\n",
       "    </tr>\n",
       "    <tr>\n",
       "      <th>573</th>\n",
       "      <td>non_accum_internet_vol_mea_mnt3</td>\n",
       "      <td>0.002510</td>\n",
       "      <td>0.000336</td>\n",
       "      <td>0.002708</td>\n",
       "      <td>0.001851</td>\n",
       "      <td>0.002550</td>\n",
       "      <td>0.002708</td>\n",
       "      <td>0.002731</td>\n",
       "      <td>63</td>\n",
       "      <td>0.920713</td>\n",
       "      <td>0.663158</td>\n",
       "      <td>113921</td>\n",
       "      <td>0.775221</td>\n",
       "    </tr>\n",
       "    <tr>\n",
       "      <th>138</th>\n",
       "      <td>all_clc_mea_mnt3</td>\n",
       "      <td>0.002433</td>\n",
       "      <td>0.000228</td>\n",
       "      <td>0.002731</td>\n",
       "      <td>0.002460</td>\n",
       "      <td>0.002528</td>\n",
       "      <td>0.002415</td>\n",
       "      <td>0.002031</td>\n",
       "      <td>64</td>\n",
       "      <td>0.892561</td>\n",
       "      <td>0.673684</td>\n",
       "      <td>106609</td>\n",
       "      <td>0.725463</td>\n",
       "    </tr>\n",
       "    <tr>\n",
       "      <th>570</th>\n",
       "      <td>voice_mts_in_nwork_part_mea_mnt3</td>\n",
       "      <td>0.002257</td>\n",
       "      <td>0.000529</td>\n",
       "      <td>0.001828</td>\n",
       "      <td>0.001964</td>\n",
       "      <td>0.002076</td>\n",
       "      <td>0.003295</td>\n",
       "      <td>0.002122</td>\n",
       "      <td>41</td>\n",
       "      <td>0.827979</td>\n",
       "      <td>0.431579</td>\n",
       "      <td>104522</td>\n",
       "      <td>0.711261</td>\n",
       "    </tr>\n",
       "    <tr>\n",
       "      <th>605</th>\n",
       "      <td>TM_ID</td>\n",
       "      <td>0.002257</td>\n",
       "      <td>0.000635</td>\n",
       "      <td>0.003295</td>\n",
       "      <td>0.002144</td>\n",
       "      <td>0.001399</td>\n",
       "      <td>0.001918</td>\n",
       "      <td>0.002528</td>\n",
       "      <td>81</td>\n",
       "      <td>0.827979</td>\n",
       "      <td>0.852632</td>\n",
       "      <td>146953</td>\n",
       "      <td>1.000000</td>\n",
       "    </tr>\n",
       "    <tr>\n",
       "      <th>675</th>\n",
       "      <td>min_paym_6_month</td>\n",
       "      <td>0.002252</td>\n",
       "      <td>0.000640</td>\n",
       "      <td>0.001602</td>\n",
       "      <td>0.003453</td>\n",
       "      <td>0.002302</td>\n",
       "      <td>0.001941</td>\n",
       "      <td>0.001964</td>\n",
       "      <td>76</td>\n",
       "      <td>0.826323</td>\n",
       "      <td>0.800000</td>\n",
       "      <td>123837</td>\n",
       "      <td>0.842698</td>\n",
       "    </tr>\n",
       "    <tr>\n",
       "      <th>619</th>\n",
       "      <td>DNZ_MAX_days_closed_loan_year5</td>\n",
       "      <td>0.002221</td>\n",
       "      <td>0.000448</td>\n",
       "      <td>0.001512</td>\n",
       "      <td>0.002821</td>\n",
       "      <td>0.001964</td>\n",
       "      <td>0.002460</td>\n",
       "      <td>0.002347</td>\n",
       "      <td>41</td>\n",
       "      <td>0.814731</td>\n",
       "      <td>0.431579</td>\n",
       "      <td>24345</td>\n",
       "      <td>0.165665</td>\n",
       "    </tr>\n",
       "    <tr>\n",
       "      <th>634</th>\n",
       "      <td>device_days_usage</td>\n",
       "      <td>0.002212</td>\n",
       "      <td>0.000498</td>\n",
       "      <td>0.001851</td>\n",
       "      <td>0.002031</td>\n",
       "      <td>0.001851</td>\n",
       "      <td>0.002144</td>\n",
       "      <td>0.003182</td>\n",
       "      <td>102</td>\n",
       "      <td>0.811419</td>\n",
       "      <td>1.073684</td>\n",
       "      <td>116546</td>\n",
       "      <td>0.793084</td>\n",
       "    </tr>\n",
       "    <tr>\n",
       "      <th>604</th>\n",
       "      <td>Balance_uah</td>\n",
       "      <td>0.002167</td>\n",
       "      <td>0.000302</td>\n",
       "      <td>0.002054</td>\n",
       "      <td>0.001828</td>\n",
       "      <td>0.002302</td>\n",
       "      <td>0.001964</td>\n",
       "      <td>0.002686</td>\n",
       "      <td>92</td>\n",
       "      <td>0.794860</td>\n",
       "      <td>0.968421</td>\n",
       "      <td>146287</td>\n",
       "      <td>0.995468</td>\n",
       "    </tr>\n",
       "    <tr>\n",
       "      <th>269</th>\n",
       "      <td>voice_in_cmpttrs_td_cnt_std_mnt3</td>\n",
       "      <td>0.002158</td>\n",
       "      <td>0.000459</td>\n",
       "      <td>0.001670</td>\n",
       "      <td>0.002257</td>\n",
       "      <td>0.002596</td>\n",
       "      <td>0.001580</td>\n",
       "      <td>0.002686</td>\n",
       "      <td>40</td>\n",
       "      <td>0.791548</td>\n",
       "      <td>0.421053</td>\n",
       "      <td>110381</td>\n",
       "      <td>0.751131</td>\n",
       "    </tr>\n",
       "    <tr>\n",
       "      <th>457</th>\n",
       "      <td>voice_out_td_cnt_std_mnt3</td>\n",
       "      <td>0.002104</td>\n",
       "      <td>0.000240</td>\n",
       "      <td>0.001851</td>\n",
       "      <td>0.002031</td>\n",
       "      <td>0.002302</td>\n",
       "      <td>0.002460</td>\n",
       "      <td>0.001873</td>\n",
       "      <td>36</td>\n",
       "      <td>0.771676</td>\n",
       "      <td>0.378947</td>\n",
       "      <td>109341</td>\n",
       "      <td>0.744054</td>\n",
       "    </tr>\n",
       "    <tr>\n",
       "      <th>465</th>\n",
       "      <td>conn_in_uniq_cnt_mea_mnt3</td>\n",
       "      <td>0.001977</td>\n",
       "      <td>0.000460</td>\n",
       "      <td>0.001174</td>\n",
       "      <td>0.001986</td>\n",
       "      <td>0.002415</td>\n",
       "      <td>0.002438</td>\n",
       "      <td>0.001873</td>\n",
       "      <td>51</td>\n",
       "      <td>0.725310</td>\n",
       "      <td>0.536842</td>\n",
       "      <td>116609</td>\n",
       "      <td>0.793512</td>\n",
       "    </tr>\n",
       "    <tr>\n",
       "      <th>556</th>\n",
       "      <td>voice_out_td_cnt_max_mnt3</td>\n",
       "      <td>0.001955</td>\n",
       "      <td>0.000540</td>\n",
       "      <td>0.001377</td>\n",
       "      <td>0.001580</td>\n",
       "      <td>0.001602</td>\n",
       "      <td>0.002550</td>\n",
       "      <td>0.002663</td>\n",
       "      <td>22</td>\n",
       "      <td>0.717030</td>\n",
       "      <td>0.231579</td>\n",
       "      <td>109344</td>\n",
       "      <td>0.744075</td>\n",
       "    </tr>\n",
       "    <tr>\n",
       "      <th>192</th>\n",
       "      <td>conn_out_uniq_cnt_mea_mnt1</td>\n",
       "      <td>0.001837</td>\n",
       "      <td>0.000490</td>\n",
       "      <td>0.001670</td>\n",
       "      <td>0.002460</td>\n",
       "      <td>0.002370</td>\n",
       "      <td>0.001264</td>\n",
       "      <td>0.001422</td>\n",
       "      <td>32</td>\n",
       "      <td>0.673975</td>\n",
       "      <td>0.336842</td>\n",
       "      <td>101690</td>\n",
       "      <td>0.691990</td>\n",
       "    </tr>\n",
       "  </tbody>\n",
       "</table>\n",
       "</div>"
      ],
      "text/plain": [
       "                              feature      mean       std      run1      run2  \\\n",
       "606                                lt  0.061995  0.000931  0.063015  0.062202   \n",
       "648              imei_mean_days_usage  0.024439  0.000720  0.023473  0.025278   \n",
       "651           imei_mean_day_announced  0.007322  0.000560  0.008351  0.007313   \n",
       "622                    myvf_day_usage  0.007191  0.000893  0.008373  0.005936   \n",
       "322     voice_in_mts_avg_dur_mea_mnt3  0.006681  0.000294  0.006681  0.006162   \n",
       "639                   imei_mean_price  0.005281  0.000468  0.005304  0.005236   \n",
       "655                device_brand_apple  0.005114  0.000417  0.004965  0.004582   \n",
       "654         imei_mean_long_days_usage  0.004528  0.000778  0.004514  0.005755   \n",
       "103        conn_out_uniq_cnt_max_mnt3  0.004401  0.001039  0.002821  0.004785   \n",
       "562     voice_in_mts_avg_dur_min_mnt3  0.003977  0.000200  0.003882  0.003814   \n",
       "107        conn_out_uniq_cnt_mea_mnt3  0.003756  0.000342  0.003498  0.004266   \n",
       "641                    imei_max_price  0.003733  0.001079  0.004085  0.003814   \n",
       "700                          Internet  0.003674  0.000508  0.003092  0.003792   \n",
       "369          voice_in_td_cnt_std_mnt3  0.003652  0.000332  0.003498  0.003814   \n",
       "624                     tsoa_call_cnt  0.002875  0.000472  0.003069  0.001986   \n",
       "510   non_accum_internet_vol_max_mnt3  0.002848  0.000408  0.002257  0.002663   \n",
       "632                  loc_market_share  0.002690  0.000657  0.003160  0.002708   \n",
       "573   non_accum_internet_vol_mea_mnt3  0.002510  0.000336  0.002708  0.001851   \n",
       "138                  all_clc_mea_mnt3  0.002433  0.000228  0.002731  0.002460   \n",
       "570  voice_mts_in_nwork_part_mea_mnt3  0.002257  0.000529  0.001828  0.001964   \n",
       "605                             TM_ID  0.002257  0.000635  0.003295  0.002144   \n",
       "675                  min_paym_6_month  0.002252  0.000640  0.001602  0.003453   \n",
       "619    DNZ_MAX_days_closed_loan_year5  0.002221  0.000448  0.001512  0.002821   \n",
       "634                 device_days_usage  0.002212  0.000498  0.001851  0.002031   \n",
       "604                       Balance_uah  0.002167  0.000302  0.002054  0.001828   \n",
       "269  voice_in_cmpttrs_td_cnt_std_mnt3  0.002158  0.000459  0.001670  0.002257   \n",
       "457         voice_out_td_cnt_std_mnt3  0.002104  0.000240  0.001851  0.002031   \n",
       "465         conn_in_uniq_cnt_mea_mnt3  0.001977  0.000460  0.001174  0.001986   \n",
       "556         voice_out_td_cnt_max_mnt3  0.001955  0.000540  0.001377  0.001580   \n",
       "192        conn_out_uniq_cnt_mea_mnt1  0.001837  0.000490  0.001670  0.002460   \n",
       "\n",
       "         run3      run4      run5  importance_tree  p_importance%  \\\n",
       "606  0.060510  0.061412  0.062834              307      22.742929   \n",
       "648  0.025233  0.024330  0.023879              191       8.965357   \n",
       "651  0.007200  0.006658  0.007087              155       2.685964   \n",
       "622  0.006523  0.007945  0.007177              187       2.637941   \n",
       "322  0.006929  0.006636  0.006997               96       2.450818   \n",
       "639  0.005056  0.004695  0.006116              135       1.937471   \n",
       "655  0.004898  0.005326  0.005800               86       1.876201   \n",
       "654  0.004559  0.003295  0.004514              117       1.660926   \n",
       "103  0.004514  0.003905  0.005981               52       1.614559   \n",
       "562  0.004130  0.004288  0.003769               68       1.458899   \n",
       "107  0.003972  0.003747  0.003295               75       1.377757   \n",
       "641  0.003160  0.002167  0.005439              119       1.369477   \n",
       "700  0.003092  0.004356  0.004040               38       1.347950   \n",
       "369  0.003092  0.004063  0.003792               44       1.339670   \n",
       "624  0.003385  0.003024  0.002912               75       1.054845   \n",
       "510  0.002776  0.003476  0.003069               54       1.044910   \n",
       "632  0.003543  0.001625  0.002415              103       0.986951   \n",
       "573  0.002550  0.002708  0.002731               63       0.920713   \n",
       "138  0.002528  0.002415  0.002031               64       0.892561   \n",
       "570  0.002076  0.003295  0.002122               41       0.827979   \n",
       "605  0.001399  0.001918  0.002528               81       0.827979   \n",
       "675  0.002302  0.001941  0.001964               76       0.826323   \n",
       "619  0.001964  0.002460  0.002347               41       0.814731   \n",
       "634  0.001851  0.002144  0.003182              102       0.811419   \n",
       "604  0.002302  0.001964  0.002686               92       0.794860   \n",
       "269  0.002596  0.001580  0.002686               40       0.791548   \n",
       "457  0.002302  0.002460  0.001873               36       0.771676   \n",
       "465  0.002415  0.002438  0.001873               51       0.725310   \n",
       "556  0.001602  0.002550  0.002663               22       0.717030   \n",
       "192  0.002370  0.001264  0.001422               32       0.673975   \n",
       "\n",
       "     importance_tree%  abon_count  coverage  \n",
       "606          3.231579      146350  0.995897  \n",
       "648          2.010526      146580  0.997462  \n",
       "651          1.631579      139756  0.951025  \n",
       "622          1.968421      132692  0.902955  \n",
       "322          1.010526      114229  0.777317  \n",
       "639          1.421053      141325  0.961702  \n",
       "655          0.905263       19578  0.133226  \n",
       "654          1.231579      146511  0.996992  \n",
       "103          0.547368      110180  0.749764  \n",
       "562          0.715789       79775  0.542861  \n",
       "107          0.789474      110180  0.749764  \n",
       "641          1.252632      141325  0.961702  \n",
       "700          0.400000       40252  0.273911  \n",
       "369          0.463158      115819  0.788136  \n",
       "624          0.789474       34388  0.234007  \n",
       "510          0.568421      114064  0.776194  \n",
       "632          1.084211      112989  0.768878  \n",
       "573          0.663158      113921  0.775221  \n",
       "138          0.673684      106609  0.725463  \n",
       "570          0.431579      104522  0.711261  \n",
       "605          0.852632      146953  1.000000  \n",
       "675          0.800000      123837  0.842698  \n",
       "619          0.431579       24345  0.165665  \n",
       "634          1.073684      116546  0.793084  \n",
       "604          0.968421      146287  0.995468  \n",
       "269          0.421053      110381  0.751131  \n",
       "457          0.378947      109341  0.744054  \n",
       "465          0.536842      116609  0.793512  \n",
       "556          0.231579      109344  0.744075  \n",
       "192          0.336842      101690  0.691990  "
      ]
     },
     "execution_count": 8,
     "metadata": {},
     "output_type": "execute_result"
    }
   ],
   "source": [
    "p_imp_df.nlargest(30, columns=[\"mean\"])"
   ]
  },
  {
   "cell_type": "code",
   "execution_count": 9,
   "metadata": {},
   "outputs": [
    {
     "data": {
      "application/vnd.plotly.v1+json": {
       "config": {
        "plotlyServerURL": "https://plot.ly"
       },
       "data": [
        {
         "customdata": [
          [
           "lt"
          ],
          [
           "imei_mean_days_usage"
          ],
          [
           "imei_mean_day_announced"
          ],
          [
           "myvf_day_usage"
          ],
          [
           "voice_in_mts_avg_dur_mea_mnt3"
          ],
          [
           "imei_mean_price"
          ],
          [
           "device_brand_apple"
          ],
          [
           "imei_mean_long_days_usage"
          ],
          [
           "conn_out_uniq_cnt_max_mnt3"
          ],
          [
           "voice_in_mts_avg_dur_min_mnt3"
          ],
          [
           "conn_out_uniq_cnt_mea_mnt3"
          ],
          [
           "imei_max_price"
          ],
          [
           "Internet"
          ],
          [
           "voice_in_td_cnt_std_mnt3"
          ],
          [
           "tsoa_call_cnt"
          ],
          [
           "non_accum_internet_vol_max_mnt3"
          ],
          [
           "loc_market_share"
          ],
          [
           "non_accum_internet_vol_mea_mnt3"
          ],
          [
           "all_clc_mea_mnt3"
          ],
          [
           "voice_mts_in_nwork_part_mea_mnt3"
          ],
          [
           "TM_ID"
          ],
          [
           "min_paym_6_month"
          ],
          [
           "DNZ_MAX_days_closed_loan_year5"
          ],
          [
           "device_days_usage"
          ],
          [
           "Balance_uah"
          ],
          [
           "voice_in_cmpttrs_td_cnt_std_mnt3"
          ],
          [
           "voice_out_td_cnt_std_mnt3"
          ],
          [
           "conn_in_uniq_cnt_mea_mnt3"
          ],
          [
           "voice_out_td_cnt_max_mnt3"
          ],
          [
           "conn_out_uniq_cnt_mea_mnt1"
          ],
          [
           "device_ios_version"
          ],
          [
           "content_cnt_mea_mnt3"
          ],
          [
           "voice_mts_in_nrest_part_max_mnt3"
          ],
          [
           "device_height_mm"
          ],
          [
           "DNZ_DAYS_from_last_year5"
          ],
          [
           "clc_no_vas_roam_std_mnt3"
          ],
          [
           "MV_Traf_Cont_inc_s_Cnt"
          ],
          [
           "voice_in_fix_tar_dur_mea_mnt3"
          ],
          [
           "device_price"
          ],
          [
           "non_accum_internet_vol_mea_mnt1"
          ],
          [
           "voice_in_cmpttrs_avg_durmea_mnt3"
          ],
          [
           "DNZ_MIN_days_closed_loan_year5"
          ],
          [
           "tsoa_chat_cnt"
          ],
          [
           "voice_in_td_cnt_max_mnt3"
          ],
          [
           "block_all_dur_min_mnt3"
          ],
          [
           "voice_out_cmpttrs_avg_dumax_mnt3"
          ],
          [
           "voice_mts_in_nrest_part_mea_mnt3"
          ],
          [
           "DNZ_COUNT_closed_loan_year5"
          ],
          [
           "non_accum_internet_vol_std_mnt3"
          ],
          [
           "conn_in_uniq_cnt_std_mnt3"
          ],
          [
           "device_width_mm"
          ],
          [
           "AMA"
          ],
          [
           "day_end_gba"
          ],
          [
           "voice_mts_out_drest_partmea_mnt3"
          ],
          [
           "days_of_last_ppm"
          ],
          [
           "pay_sum_mea_mnt3"
          ],
          [
           "non_accum_internet_vol_min_mnt1"
          ],
          [
           "voice_mts_in_drest_part_mea_mnt3"
          ],
          [
           "MV_Traf_Cont_out_s_Cnt"
          ],
          [
           "voice_in_td_cnt_mea_mnt3"
          ],
          [
           "voice_out_tar_dur_std_mnt3"
          ],
          [
           "voice_in_mts_avg_dur_min_mnt1"
          ],
          [
           "conn_out_uniq_cnt_mea_wk1"
          ],
          [
           "sms_in_cnt_std_mnt3"
          ],
          [
           "block_all_dur_mea_mnt3"
          ],
          [
           "sms_in_cnt_mea_mnt3"
          ],
          [
           "clc_no_vas_roam_mea_mnt3"
          ],
          [
           "voice_out_td_cnt_mea_mnt3"
          ],
          [
           "voice_in_cmpttrs_td_cnt_mea_mnt3"
          ],
          [
           "voice_mts_in_dwork_part_mea_mnt3"
          ],
          [
           "DNZ_DAYS_from_last_year2"
          ],
          [
           "MV_Traf_innet_out_v_Min"
          ],
          [
           "content_cnt_min_mnt1"
          ],
          [
           "voice_mts_in_nwork_part_max_mnt3"
          ],
          [
           "days_of_end_last_ppm"
          ],
          [
           "DNZ_MEAN_days_closed_loan_year5"
          ],
          [
           "DNZ_STD_days_closed_loan_year5"
          ],
          [
           "MV_Traf_Cont_out_v_Min"
          ],
          [
           "active_gba"
          ],
          [
           "voice_in_td_cnt_mea_wk1"
          ],
          [
           "voice_in_fix_tar_dur_td_mnt3"
          ],
          [
           "MV_Traf_4G_d_Mb"
          ],
          [
           "com_num_part_mea_mnt3"
          ],
          [
           "voice_in_td_cnt_max_mnt1"
          ],
          [
           "voice_in_fix_tar_dur_std_mnt3"
          ],
          [
           "MV_SERV_Y_WO_AF"
          ],
          [
           "sms_in_cnt_mea_mnt1"
          ],
          [
           "MV_Traf_2G_d_Mb"
          ],
          [
           "voice_mts_out_dwork_partmin_mnt3"
          ],
          [
           "data_3g_dou_max_mnt3"
          ],
          [
           "voice_in_cmpttrs_avg_durstd_mnt3"
          ],
          [
           "all_clc_max_mnt3"
          ],
          [
           "voice_in_mts_avg_dur_std_mnt3"
          ],
          [
           "BS_OVERBUNDLE_MB_SUM_M3"
          ],
          [
           "non_accum_internet_vol_td_mnt3"
          ],
          [
           "MV_dou_innet_out_v"
          ],
          [
           "all_clc_std_mnt3"
          ],
          [
           "all_cnt_std_mnt3"
          ],
          [
           "MV_ap_innet_out_v"
          ],
          [
           "DNZ_MEAN_days_closed_loan_year2"
          ],
          [
           "voice_in_kievstar_part_mea_wk1"
          ],
          [
           "data_3g_tar_vol_mea_mnt3"
          ],
          [
           "abon_part_max_mnt3"
          ],
          [
           "content_cnt_max_mnt3"
          ],
          [
           "sms_out_cnt_std_mnt3"
          ],
          [
           "MV_Traf_mn_inc_v_Min"
          ],
          [
           "conn_in_uniq_cnt_mea_mnt1"
          ],
          [
           "voice_mts_in_dwork_part_std_mnt3"
          ],
          [
           "voice_out_cmpttrs_avg_dustd_mnt3"
          ],
          [
           "voice_mts_out_drest_partmea_wk1"
          ],
          [
           "voice_in_mts_avg_dur_mea_mnt1"
          ],
          [
           "voice_mts_out_dwork_partstd_mnt3"
          ],
          [
           "voice_out_tar_dur_mea_mnt3"
          ],
          [
           "voice_in_td_cnt_std_mnt1"
          ],
          [
           "MV_dou_Roam"
          ],
          [
           "tsoa_direct_cnt"
          ],
          [
           "all_cnt_min_mnt3"
          ],
          [
           "voice_in_mts_avg_dur_max_mnt3"
          ],
          [
           "clc_no_vas_roam_mea_mnt1"
          ],
          [
           "gprs_tar_vol_std_mnt3"
          ],
          [
           "ks_num_part_min_mnt1"
          ],
          [
           "non_accum_internet_vol_max_mnt1"
          ],
          [
           "conn_in_uniq_cnt_mea_wk1"
          ],
          [
           "non_accum_internet_vol_mea_wk1"
          ],
          [
           "MV_Traf_omo_inc_v_Min"
          ],
          [
           "DNZ_COUNT_closed_loan_year2"
          ],
          [
           "voice_in_fix_tar_dur_max_mnt3"
          ],
          [
           "voice_in_cmpttrs_avg_durstd_mnt1"
          ],
          [
           "voice_mts_out_nwork_partmea_mnt3"
          ],
          [
           "com_num_part_max_mnt3"
          ],
          [
           "voice_in_cmpttrs_td_cnt_max_mnt3"
          ],
          [
           "voice_in_cmpttrs_avg_durmax_mnt1"
          ],
          [
           "voice_mts_out_nrest_partmax_mnt3"
          ],
          [
           "voice_in_tar_dur_max_mnt1"
          ],
          [
           "voice_in_short_part_max_mnt3"
          ],
          [
           "pay_avg_std_mnt3"
          ],
          [
           "sum_paym_6_month"
          ],
          [
           "voice_mts_out_dwork_partmax_mnt3"
          ],
          [
           "sms_out_cnt_mea_mnt3"
          ],
          [
           "pay_sum_td_mnt3"
          ],
          [
           "avg_paym_6_month"
          ],
          [
           "voice_mts_out_nwork_partmin_mnt1"
          ],
          [
           "MV_ARPU"
          ],
          [
           "device_brand_xiaomi"
          ],
          [
           "voice_out_tar_dur_min_mnt3"
          ],
          [
           "voice_out_short_part_std_mnt3"
          ],
          [
           "device_sim_count"
          ],
          [
           "count_day_for_last_paym"
          ],
          [
           "content_cnt_mea_wk1"
          ],
          [
           "data_3g_tv_cnt_max_mnt3"
          ],
          [
           "BS_OVERBUNDLE_MB_SUM_M2"
          ],
          [
           "voice_in_mts_avg_dur_max_mnt1"
          ],
          [
           "MV_dou_data"
          ],
          [
           "pay_avg_mea_mnt1"
          ],
          [
           "voice_out_cmpttrs_avg_dumea_mnt3"
          ],
          [
           "conn_out_uniq_cnt_std_mnt3"
          ],
          [
           "sms_out_cnt_std_mnt1"
          ],
          [
           "conn_out_uniq_cnt_min_mnt3"
          ],
          [
           "conn_in_uniq_cnt_max_mnt1"
          ],
          [
           "bs_count_ppm_mn3"
          ],
          [
           "device_android_version"
          ],
          [
           "data_3g_tv_cnt_mea_mnt1"
          ],
          [
           "abon_part_std_mnt3"
          ],
          [
           "voice_in_cmpttrs_td_cnt_max_mnt1"
          ],
          [
           "voice_mts_out_drest_partmea_mnt1"
          ],
          [
           "content_cnt_min_mnt3"
          ],
          [
           "voice_in_td_cnt_min_mnt3"
          ],
          [
           "MV_dou_4G_d"
          ],
          [
           "block_all_dur_std_mnt1"
          ],
          [
           "voice_out_cmpttrs_td_cntmea_mnt3"
          ],
          [
           "device_has_lte"
          ],
          [
           "data_3g_tar_vol_std_mnt3"
          ],
          [
           "voice_in_life_part_mea_mnt3"
          ],
          [
           "clc_no_vas_roam_td_mnt3"
          ],
          [
           "voice_out_td_cnt_mea_wk1"
          ],
          [
           "voice_out_cmpttrs_avg_dumin_mnt3"
          ],
          [
           "voice_in_cmpttrs_avg_durmin_mnt3"
          ],
          [
           "MV_Traf_R_inc_v_Min"
          ],
          [
           "ks_num_part_mea_mnt3"
          ],
          [
           "voice_mts_out_drest_partstd_mnt3"
          ],
          [
           "all_cnt_td_mnt3"
          ],
          [
           "MV_Traf_Roam_d_Mb"
          ],
          [
           "voice_in_kievstar_part_max_mnt1"
          ],
          [
           "voice_in_short_part_mea_mnt3"
          ],
          [
           "voice_in_tar_dur_mea_mnt1"
          ],
          [
           "gprs_tar_vol_min_mnt1"
          ],
          [
           "voice_mts_out_nwork_partmea_mnt1"
          ],
          [
           "MV_Traf_R_out_v_Min"
          ],
          [
           "voice_in_cmpttrs_td_cnt_td_mnt3"
          ],
          [
           "Shops"
          ],
          [
           "voice_mts_in_nwork_part_std_mnt3"
          ],
          [
           "data_3g_dou_mea_mnt3"
          ],
          [
           "com_num_part_min_mnt1"
          ],
          [
           "data_3g_dou_td_mnt3"
          ],
          [
           "voice_in_cmpttrs_td_cnt_mea_wk1"
          ],
          [
           "ks_num_part_std_mnt3"
          ],
          [
           "MV_DOU_PPM_VF"
          ],
          [
           "data_3g_tv_cnt_mea_mnt3"
          ],
          [
           "voice_in_short_part_max_mnt1"
          ],
          [
           "voice_in_tar_dur_min_mnt3"
          ],
          [
           "voice_mts_out_dwork_partmax_mnt1"
          ],
          [
           "pay_sum_std_mnt3"
          ],
          [
           "bs_ovrl_OMO_CNT_M2"
          ],
          [
           "voice_mts_in_drest_part_mea_wk1"
          ],
          [
           "voice_out_fix_tar_dur_mea_mnt3"
          ],
          [
           "voice_in_cmpttrs_avg_durmea_wk1"
          ],
          [
           "num_act_days_mea_mnt3"
          ],
          [
           "conn_in_uniq_cnt_min_mnt1"
          ],
          [
           "voice_mts_in_drest_part_std_mnt3"
          ],
          [
           "bs_ovrl_OMO_CNT_M3"
          ],
          [
           "MV_ap_4G_d"
          ],
          [
           "content_cnt_mea_mnt1"
          ],
          [
           "content_cnt_max_mnt1"
          ],
          [
           "conn_in_uniq_cnt_max_mnt3"
          ],
          [
           "voice_in_tar_dur_td_mnt3"
          ],
          [
           "voice_out_fix_tar_dur_std_mnt1"
          ],
          [
           "all_clc_std_mnt1"
          ],
          [
           "all_home_clc_mea_mnt3"
          ],
          [
           "sms_clc_mea_mnt3"
          ],
          [
           "MV_Traf_omo_out_s_Cnt"
          ],
          [
           "voice_out_tar_dur_min_mnt1"
          ],
          [
           "sms_clc_std_mnt3"
          ],
          [
           "MV_ap_pstn_out_v"
          ],
          [
           "non_accum_internet_vol_min_mnt3"
          ],
          [
           "MV_ARPU_4G_d_Traf"
          ],
          [
           "voice_in_mts_avg_dur_std_mnt1"
          ],
          [
           "voice_out_fix_tar_dur_td_mnt3"
          ],
          [
           "all_home_clc_std_mnt3"
          ],
          [
           "voice_out_td_cnt_min_mnt1"
          ],
          [
           "conn_com_part_mea_mnt1"
          ],
          [
           "sms_in_cnt_min_mnt3"
          ],
          [
           "data_3g_dou_std_mnt1"
          ],
          [
           "all_cnt_mea_mnt3"
          ],
          [
           "loc_is_obl_center"
          ],
          [
           "voice_mts_out_nrest_partmin_mnt1"
          ],
          [
           "voice_in_life_part_max_mnt3"
          ],
          [
           "conn_out_uniq_cnt_max_mnt1"
          ],
          [
           "DNZ_MAX_days_closed_loan_year2"
          ],
          [
           "all_cnt_max_mnt1"
          ],
          [
           "voice_in_td_cnt_mea_mnt1"
          ],
          [
           "pay_sum_mea_mnt1"
          ],
          [
           "voice_in_life_part_mea_mnt1"
          ],
          [
           "pay_max_max_mnt3"
          ],
          [
           "MV_Traf_innet_out_s_Cnt"
          ],
          [
           "BS_OVERBUNDLE_MB_CNT_M3"
          ],
          [
           "clc_no_vas_roam_std_mnt1"
          ],
          [
           "last_paym"
          ],
          [
           "voice_mts_out_nwork_partstd_mnt1"
          ],
          [
           "all_cnt_mea_mnt1"
          ],
          [
           "MV_DOU_AP"
          ],
          [
           "all_clc_mea_mnt1"
          ],
          [
           "Good_deed"
          ],
          [
           "voice_mts_out_dwork_partmea_mnt3"
          ],
          [
           "voice_out_cmpttrs_td_cntmin_mnt1"
          ],
          [
           "abon_part_td_mnt3"
          ],
          [
           "com_num_part_std_mnt3"
          ],
          [
           "data_3g_dou_std_mnt3"
          ],
          [
           "voice_in_short_part_mea_wk1"
          ],
          [
           "MV_ARPU_mn_out_s_Traf"
          ],
          [
           "MV_AP_total"
          ],
          [
           "bs_ovrl_OMO_CNT_M1"
          ],
          [
           "voice_out_td_cnt_min_mnt3"
          ],
          [
           "voice_mts_out_drest_partmax_mnt3"
          ],
          [
           "data_3g_tv_cnt_std_mnt1"
          ],
          [
           "pay_max_std_mnt3"
          ],
          [
           "ks_num_part_min_mnt3"
          ],
          [
           "MV_Traf_3G_d_Mb"
          ],
          [
           "conn_out_uniq_cnt_td_mnt3"
          ],
          [
           "sms_out_cnt_mea_mnt1"
          ],
          [
           "num_act_days_std_mnt3"
          ],
          [
           "voice_out_cmpttrs_td_cntstd_mnt1"
          ],
          [
           "pay_sum_mea_wk1"
          ],
          [
           "voice_in_td_cnt_min_mnt1"
          ],
          [
           "device_type_smartphone"
          ],
          [
           "com_num_part_mea_wk1"
          ],
          [
           "pay_avg_mea_mnt3"
          ],
          [
           "MV_Traf_innet_inc_v_Min"
          ],
          [
           "MV_ARPU_3G_d_Traf"
          ],
          [
           "ks_num_part_mea_mnt1"
          ],
          [
           "voice_out_cmpttrs_td_cntmax_mnt3"
          ],
          [
           "all_home_clc_max_mnt3"
          ],
          [
           "accum_mts_dur_min_mnt1"
          ],
          [
           "MV_ot_omo_out_v"
          ],
          [
           "MV_ARPU_omo_out_v_Traf"
          ],
          [
           "pay_max_std_mnt1"
          ],
          [
           "voice_mts_out_dwork_partmin_mnt1"
          ],
          [
           "all_cnt_std_mnt1"
          ],
          [
           "content_clc_max_mnt3"
          ],
          [
           "voice_mts_out_nwork_partmea_wk1"
          ],
          [
           "pay_sum_std_mnt1"
          ],
          [
           "voice_mts_in_nrest_part_std_mnt3"
          ],
          [
           "data_3g_tar_vol_max_mnt3"
          ],
          [
           "voice_out_short_part_max_mnt3"
          ],
          [
           "content_cnt_std_mnt1"
          ],
          [
           "sms_clc_mea_mnt1"
          ],
          [
           "com_num_part_min_mnt3"
          ],
          [
           "block_all_dur_max_mnt1"
          ],
          [
           "voice_mts_out_drest_partmin_mnt3"
          ],
          [
           "gprs_tar_vol_td_mnt3"
          ],
          [
           "voice_in_kievstar_part_mea_mnt3"
          ],
          [
           "Minutes"
          ],
          [
           "ks_num_part_mea_wk1"
          ],
          [
           "voice_mts_out_dwork_partstd_mnt1"
          ],
          [
           "MV_dou_Roam_d"
          ],
          [
           "all_cnt_max_mnt3"
          ],
          [
           "pay_max_mea_wk1"
          ],
          [
           "voice_mts_out_nwork_parttd_mnt3"
          ],
          [
           "MV_Traf_ACCA_out_v_Min"
          ],
          [
           "sms_in_cnt_max_mnt3"
          ],
          [
           "block_all_dur_td_mnt3"
          ],
          [
           "vas_clc_std_mnt3"
          ],
          [
           "voice_out_tar_dur_td_mnt3"
          ],
          [
           "conn_com_part_min_mnt1"
          ],
          [
           "voice_mts_out_nwork_partmax_mnt3"
          ],
          [
           "voice_mts_in_dwork_part_min_mnt3"
          ],
          [
           "bs_delte_mb_change_tp"
          ],
          [
           "active_ppm"
          ],
          [
           "voice_out_cmpttrs_avg_dustd_mnt1"
          ],
          [
           "sms_in_cnt_td_mnt3"
          ],
          [
           "voice_in_life_part_std_mnt1"
          ],
          [
           "voice_mts_out_nrest_partmea_wk1"
          ],
          [
           "voice_out_td_cnt_max_mnt1"
          ],
          [
           "vas_clc_max_mnt1"
          ],
          [
           "voice_in_life_part_mea_wk1"
          ],
          [
           "accum_mts_dur_std_mnt1"
          ],
          [
           "voice_mts_in_drest_part_td_mnt3"
          ],
          [
           "voice_mts_in_nwork_part_mea_wk1"
          ],
          [
           "voice_out_cmpttrs_avg_dumin_mnt1"
          ],
          [
           "MV_Traf_Other_inc_v_Min"
          ],
          [
           "vas_clc_mea_mnt3"
          ],
          [
           "MV_dou_out_s"
          ],
          [
           "device_brand_nokia"
          ],
          [
           "block_all_dur_mea_mnt1"
          ],
          [
           "voice_out_short_part_max_mnt1"
          ],
          [
           "data_3g_tar_vol_td_mnt3"
          ],
          [
           "MV_ARPU_Cont_out_s_Traf"
          ],
          [
           "voice_in_fix_tar_dur_mea_wk1"
          ],
          [
           "num_act_days_std_mnt1"
          ],
          [
           "voice_in_td_cnt_td_mnt3"
          ],
          [
           "abon_part_mea_mnt3"
          ],
          [
           "voice_in_life_part_std_mnt3"
          ],
          [
           "gprs_clc_std_mnt3"
          ],
          [
           "content_clc_td_mnt3"
          ],
          [
           "gprs_tar_vol_mea_mnt3"
          ],
          [
           "voice_mts_out_drest_partstd_mnt1"
          ],
          [
           "voice_mts_in_drest_part_max_mnt3"
          ],
          [
           "com_num_part_max_mnt1"
          ],
          [
           "voice_mts_out_drest_partmin_mnt1"
          ],
          [
           "voice_mts_in_nrest_part_mea_wk1"
          ],
          [
           "clc_no_vas_roam_max_mnt1"
          ],
          [
           "voice_mts_in_nwork_part_min_mnt3"
          ],
          [
           "voice_out_cmpttrs_td_cntmea_wk1"
          ],
          [
           "MV_ot_mn_out_v"
          ],
          [
           "bs_delte_omo_change_tp"
          ],
          [
           "data_3g_tar_vol_max_mnt1"
          ],
          [
           "sms_clc_td_mnt3"
          ],
          [
           "DNZ_MEAN_days_open_loan_year2"
          ],
          [
           "voice_out_td_cnt_td_mnt3"
          ],
          [
           "voice_mts_out_dwork_parttd_mnt3"
          ],
          [
           "pay_max_mea_mnt3"
          ],
          [
           "MV_dou_net"
          ],
          [
           "conn_com_part_max_mnt3"
          ],
          [
           "voice_mts_out_nrest_partstd_mnt1"
          ],
          [
           "content_clc_std_mnt1"
          ],
          [
           "voice_mts_in_nrest_part_td_mnt3"
          ],
          [
           "MV_VLR_Guest"
          ],
          [
           "all_home_clc_min_mnt1"
          ],
          [
           "voice_in_fix_tar_dur_std_mnt1"
          ],
          [
           "accum_oth_dur_td_mnt3"
          ],
          [
           "voice_in_kievstar_part_min_mnt3"
          ],
          [
           "ks_num_part_std_mnt1"
          ],
          [
           "voice_mts_in_dwork_part_min_mnt1"
          ],
          [
           "conn_com_part_mea_mnt3"
          ],
          [
           "voice_mts_out_nrest_partmea_mnt3"
          ],
          [
           "com_num_part_td_mnt3"
          ],
          [
           "MV_ARPU_innet_out_s_Traf"
          ],
          [
           "MV_ot_s"
          ],
          [
           "voice_mts_in_nwork_part_std_mnt1"
          ],
          [
           "voice_in_tar_dur_std_mnt1"
          ],
          [
           "MV_net_total"
          ],
          [
           "conn_out_uniq_cnt_min_mnt1"
          ],
          [
           "bs_day_of_change_tp"
          ],
          [
           "voice_in_kievstar_part_max_mnt3"
          ],
          [
           "voice_in_fix_tar_dur_max_mnt1"
          ],
          [
           "pay_max_td_mnt3"
          ],
          [
           "MV_ARPU_R_out_v_Traf"
          ],
          [
           "pay_p2p_out_sum_td_mnt3"
          ],
          [
           "all_roam_clc_mea_mnt3"
          ],
          [
           "all_clc_min_mnt1"
          ],
          [
           "all_roam_clc_td_mnt3"
          ],
          [
           "all_clc_max_mnt1"
          ],
          [
           "BS_OVERBUNDLE_MB_SUM_M1"
          ],
          [
           "com_num_part_mea_mnt1"
          ],
          [
           "voice_mts_in_nwork_part_mea_mnt1"
          ],
          [
           "vas_clc_mea_wk1"
          ],
          [
           "all_home_clc_max_mnt1"
          ],
          [
           "block_all_dur_std_mnt3"
          ],
          [
           "gprs_clc_max_mnt3"
          ],
          [
           "voice_out_fix_tar_dur_mea_mnt1"
          ],
          [
           "bs_direct_change_tp"
          ],
          [
           "bs_arpu_change_tp"
          ],
          [
           "voice_in_cmpttrs_td_cnt_std_mnt1"
          ],
          [
           "MV_dou_Roam_v"
          ],
          [
           "clc_no_vas_roam_max_mnt3"
          ],
          [
           "pay_avg_mea_wk1"
          ],
          [
           "voice_in_short_part_min_mnt1"
          ],
          [
           "sms_out_cnt_max_mnt3"
          ],
          [
           "max_paym_6_month"
          ],
          [
           "vas_clc_min_mnt1"
          ],
          [
           "MV_Migr_To"
          ],
          [
           "MV_ot_Roam_d"
          ],
          [
           "ama_volume_max_mnt3"
          ],
          [
           "conn_com_part_max_mnt1"
          ],
          [
           "voice_out_tar_dur_max_mnt3"
          ],
          [
           "voice_mts_in_drest_part_min_mnt3"
          ],
          [
           "all_cnt_mea_wk1"
          ],
          [
           "data_3g_tar_vol_mea_mnt1"
          ],
          [
           "MV_ot_innet_out_v"
          ],
          [
           "data_3g_dou_mea_wk1"
          ],
          [
           "sms_out_cnt_mea_wk1"
          ],
          [
           "voice_mts_out_nrest_parttd_mnt3"
          ],
          [
           "abon_part_mea_wk1"
          ],
          [
           "pay_p2p_in_sum_mea_mnt3"
          ],
          [
           "data_3g_tv_cnt_min_mnt1"
          ],
          [
           "data_3g_tar_vol_mea_wk1"
          ],
          [
           "voice_in_tar_dur_min_mnt1"
          ],
          [
           "content_clc_mea_mnt3"
          ],
          [
           "SMS"
          ],
          [
           "voice_out_cmpttrs_td_cntmax_mnt1"
          ],
          [
           "bs_of_succ_m1"
          ],
          [
           "MV_Traf_mn_out_s_Cnt"
          ],
          [
           "DNZ_COUNT_open_loan_year5"
          ],
          [
           "MV_ARPU_innet_inc_v_Traf"
          ],
          [
           "device_has_gprs"
          ],
          [
           "device_brand_other"
          ],
          [
           "pay_avg_min_mnt1"
          ],
          [
           "MV_ARPU_pstn_out_v_Traf"
          ],
          [
           "MV_ap_Roam_d"
          ],
          [
           "device_type_nan"
          ],
          [
           "MV_ap_2G_d"
          ],
          [
           "device_brand_lg"
          ],
          [
           "bs_recall_rate"
          ],
          [
           "num_act_days_max_mnt3"
          ],
          [
           "MV_ap_inc_v"
          ],
          [
           "CALCULATION_METHOD_ID"
          ],
          [
           "Fax"
          ],
          [
           "MV_SERV_RLH"
          ],
          [
           "Food"
          ],
          [
           "MV_ot_Other"
          ],
          [
           "MV_ARPU_2G_d_Traf"
          ],
          [
           "Cars"
          ],
          [
           "accum_oth_dur_mea_wk1"
          ],
          [
           "MV_ARPU_R_inc_v_Traf"
          ],
          [
           "Ama_rchrgmnt_sum_mea_mnt1"
          ],
          [
           "device_type_tablet"
          ],
          [
           "MV_ap_Cont_v"
          ],
          [
           "MV_ARPU_inc_s_Traf"
          ],
          [
           "MV_FRAUD_BLOCK"
          ],
          [
           "MV_dou_mn_out_v"
          ],
          [
           "device_brand_meizu"
          ],
          [
           "MV_ot_inc_v"
          ],
          [
           "device_type_rus_other"
          ],
          [
           "entertainment"
          ],
          [
           "MV_ot_Unkn"
          ],
          [
           "bs_succ_rate"
          ],
          [
           "MV_ARPU_R_out_s_Traf"
          ],
          [
           "MV_Traf_Other_out_v_Min"
          ],
          [
           "voice_out_fix_tar_dur_min_mnt3"
          ],
          [
           "ama_volume_max_mnt1"
          ],
          [
           "MV_ARPU_mn_out_v_Traf"
          ],
          [
           "device_type_phone"
          ],
          [
           "is_avg_paym"
          ],
          [
           "voice_mts_out_nrest_partmin_mnt3"
          ],
          [
           "bs_drop_rate"
          ],
          [
           "MV_ap_3G_d"
          ],
          [
           "accum_oth_dur_max_mnt1"
          ],
          [
           "bs_delte_ppd_change_tp"
          ],
          [
           "all_roam_clc_min_mnt1"
          ],
          [
           "bs_of_recall_m1"
          ],
          [
           "bs_of_attemps_all_m1"
          ],
          [
           "bs_of_succ_but_drop_m1"
          ],
          [
           "bs_of_unsucc_low_balance_m1"
          ],
          [
           "bs_of_unsucc_attemp_equip_m1"
          ],
          [
           "MV_ot_3G_d"
          ],
          [
           "MV_ARPU_Other_out_v_Traf"
          ],
          [
           "ama_volume_std_mnt3"
          ],
          [
           "num_act_days_min_mnt1"
          ],
          [
           "DNZ_COUNT_open_loan_year2"
          ],
          [
           "MV_ARPU_Cont_out_v_Traf"
          ],
          [
           "device_brand_huawei"
          ],
          [
           "MV_ot_R_sm"
          ],
          [
           "Ama_rchrgmnt_sum_min_mnt1"
          ],
          [
           "bs_count_change_tp"
          ],
          [
           "MV_Traf_Cont_inc_v_Min"
          ],
          [
           "bs_drop_call_rate"
          ],
          [
           "MV_ot_Cont_v"
          ],
          [
           "goodok_clc_std_mnt3"
          ],
          [
           "voice_in_roam_clc_max_mnt3"
          ],
          [
           "device_brand_prestigio"
          ],
          [
           "MV_ot_R_v"
          ],
          [
           "device_type_module"
          ],
          [
           "sms_out_cnt_min_mnt3"
          ],
          [
           "device_type_modem"
          ],
          [
           "MV_ARPU_Other_inc_v_Traf"
          ],
          [
           "device_brand_sony"
          ],
          [
           "tsoa_mail_cnt"
          ],
          [
           "Ama_rchrgmnt_sum_max_mnt1"
          ],
          [
           "abon_part_std_mnt1"
          ],
          [
           "accum_mts_dur_td_mnt3"
          ],
          [
           "accum_mts_dur_min_mnt3"
          ],
          [
           "pay_p2p_in_sum_mea_mnt1"
          ],
          [
           "voice_out_fix_tar_dur_min_mnt1"
          ],
          [
           "Ama_rchrgmnt_sum_std_mnt1"
          ],
          [
           "goodok_clc_min_mnt3"
          ],
          [
           "pay_p2p_in_sum_std_mnt3"
          ],
          [
           "accum_oth_dur_min_mnt1"
          ],
          [
           "ama_volume_min_mnt3"
          ],
          [
           "pay_p2p_out_sum_std_mnt3"
          ],
          [
           "voice_out_short_part_td_mnt3"
          ],
          [
           "accum_oth_dur_min_mnt3"
          ],
          [
           "sms_roam_clc_min_mnt3"
          ],
          [
           "all_home_clc_mea_mnt1"
          ],
          [
           "sms_clc_min_mnt1"
          ],
          [
           "goodok_clc_std_mnt1"
          ],
          [
           "ama_volume_td_mnt3"
          ],
          [
           "clc_no_vas_roam_min_mnt3"
          ],
          [
           "Ama_rchrgmnt_sum_std_mnt3"
          ],
          [
           "accum_mts_dur_mea_mnt1"
          ],
          [
           "ama_volume_min_mnt1"
          ],
          [
           "content_clc_mea_mnt1"
          ],
          [
           "voice_in_roam_clc_min_mnt3"
          ],
          [
           "sms_roam_clc_std_mnt3"
          ],
          [
           "pay_p2p_out_sum_max_mnt1"
          ],
          [
           "accum_mts_dur_max_mnt3"
          ],
          [
           "gprs_clc_td_mnt3"
          ],
          [
           "num_act_days_mea_wk1"
          ],
          [
           "voice_out_short_part_min_mnt3"
          ],
          [
           "pay_p2p_in_sum_min_mnt3"
          ],
          [
           "sms_out_cnt_min_mnt1"
          ],
          [
           "all_roam_clc_mea_wk1"
          ],
          [
           "goodok_clc_mea_mnt1"
          ],
          [
           "ama_volume_std_mnt1"
          ],
          [
           "gprs_clc_min_mnt1"
          ],
          [
           "goodok_clc_td_mnt3"
          ],
          [
           "pay_p2p_in_sum_max_mnt1"
          ],
          [
           "pay_sum_min_mnt1"
          ],
          [
           "accum_oth_dur_mea_mnt3"
          ],
          [
           "goodok_clc_mea_wk1"
          ],
          [
           "ama_volume_mea_mnt3"
          ],
          [
           "pay_p2p_out_sum_min_mnt1"
          ],
          [
           "sms_roam_clc_mea_mnt1"
          ],
          [
           "clc_no_vas_roam_min_mnt1"
          ],
          [
           "pay_avg_min_mnt3"
          ],
          [
           "ama_volume_mea_mnt1"
          ],
          [
           "all_roam_clc_max_mnt3"
          ],
          [
           "gprs_clc_max_mnt1"
          ],
          [
           "voice_in_roam_clc_mea_mnt1"
          ],
          [
           "sms_roam_clc_std_mnt1"
          ],
          [
           "all_home_clc_min_mnt3"
          ],
          [
           "gprs_clc_mea_wk1"
          ],
          [
           "accum_oth_dur_max_mnt3"
          ],
          [
           "sms_roam_clc_mea_mnt3"
          ],
          [
           "sms_roam_clc_td_mnt3"
          ],
          [
           "all_roam_clc_std_mnt3"
          ],
          [
           "goodok_clc_min_mnt1"
          ],
          [
           "accum_oth_dur_mea_mnt1"
          ],
          [
           "Ama_rchrgmnt_sum_mea_wk1"
          ],
          [
           "sms_roam_clc_max_mnt3"
          ],
          [
           "voice_in_roam_clc_max_mnt1"
          ],
          [
           "gprs_clc_min_mnt3"
          ],
          [
           "pay_max_mea_mnt1"
          ],
          [
           "accum_oth_dur_std_mnt1"
          ],
          [
           "pay_p2p_out_sum_std_mnt1"
          ],
          [
           "data_3g_dou_min_mnt3"
          ],
          [
           "accum_mts_dur_max_mnt1"
          ],
          [
           "pay_p2p_out_sum_max_mnt3"
          ],
          [
           "all_roam_clc_min_mnt3"
          ],
          [
           "all_clc_min_mnt3"
          ],
          [
           "pay_p2p_in_sum_std_mnt1"
          ],
          [
           "abon_part_mea_mnt1"
          ],
          [
           "pay_p2p_in_sum_mea_wk1"
          ],
          [
           "voice_in_roam_clc_mea_mnt3"
          ],
          [
           "gprs_clc_mea_mnt3"
          ],
          [
           "Ama_rchrgmnt_sum_max_mnt3"
          ],
          [
           "sms_clc_min_mnt3"
          ],
          [
           "gprs_clc_std_mnt1"
          ],
          [
           "goodok_clc_mea_mnt3"
          ],
          [
           "Ama_rchrgmnt_sum_mea_mnt3"
          ],
          [
           "goodok_clc_max_mnt1"
          ],
          [
           "accum_mts_dur_mea_wk1"
          ],
          [
           "abon_part_max_mnt1"
          ],
          [
           "voice_in_roam_clc_std_mnt1"
          ],
          [
           "pay_max_min_mnt3"
          ],
          [
           "gprs_clc_mea_mnt1"
          ],
          [
           "sms_roam_clc_min_mnt1"
          ],
          [
           "Ama_rchrgmnt_sum_td_mnt3"
          ],
          [
           "pay_p2p_out_sum_mea_wk1"
          ],
          [
           "pay_sum_min_mnt3"
          ],
          [
           "vas_clc_min_mnt3"
          ],
          [
           "voice_out_short_part_min_mnt1"
          ],
          [
           "pay_p2p_out_sum_min_mnt3"
          ],
          [
           "accum_oth_dur_std_mnt3"
          ],
          [
           "sms_clc_std_mnt1"
          ],
          [
           "ama_volume_mea_wk1"
          ],
          [
           "goodok_clc_max_mnt3"
          ],
          [
           "content_clc_min_mnt3"
          ],
          [
           "sms_roam_clc_mea_wk1"
          ],
          [
           "content_clc_min_mnt1"
          ],
          [
           "abon_part_min_mnt1"
          ],
          [
           "all_roam_clc_max_mnt1"
          ],
          [
           "pay_p2p_out_sum_mea_mnt1"
          ],
          [
           "content_clc_mea_wk1"
          ],
          [
           "sms_roam_clc_max_mnt1"
          ],
          [
           "voice_out_fix_tar_dur_max_mnt1"
          ],
          [
           "pay_p2p_in_sum_min_mnt1"
          ],
          [
           "voice_in_roam_clc_std_mnt3"
          ],
          [
           "voice_in_roam_clc_min_mnt1"
          ],
          [
           "abon_part_min_mnt3"
          ],
          [
           "Ama_rchrgmnt_sum_min_mnt3"
          ],
          [
           "pay_sum_max_mnt1"
          ],
          [
           "data_3g_tv_cnt_mea_wk1"
          ],
          [
           "voice_in_short_part_min_mnt3"
          ],
          [
           "voice_mts_in_drest_part_mea_mnt1"
          ],
          [
           "bs_ovrl_OMO_SUM_M1"
          ],
          [
           "pay_avg_max_mnt1"
          ],
          [
           "data_3g_tv_cnt_td_mnt3"
          ],
          [
           "MV_dou_omo_out_v"
          ],
          [
           "block_all_dur_mea_wk1"
          ],
          [
           "clc_no_vas_roam_mea_wk1"
          ],
          [
           "voice_mts_in_nwork_part_td_mnt3"
          ],
          [
           "voice_in_fix_tar_dur_min_mnt1"
          ],
          [
           "voice_in_roam_clc_td_mnt3"
          ],
          [
           "BS_OVERBUNDLE_MB_CNT_M1"
          ],
          [
           "voice_out_short_part_mea_wk1"
          ],
          [
           "data_3g_dou_max_mnt1"
          ],
          [
           "voice_in_cmpttrs_avg_durtd_mnt3"
          ],
          [
           "ks_num_part_td_mnt3"
          ],
          [
           "pay_max_min_mnt1"
          ],
          [
           "voice_in_life_part_min_mnt3"
          ],
          [
           "pay_avg_std_mnt1"
          ],
          [
           "conn_com_part_min_mnt3"
          ],
          [
           "voice_out_cmpttrs_td_cntmin_mnt3"
          ],
          [
           "voice_mts_in_dwork_part_max_mnt1"
          ],
          [
           "DNZ_MIN_days_closed_loan_year2"
          ],
          [
           "voice_in_cmpttrs_td_cnt_min_mnt1"
          ],
          [
           "voice_mts_in_nrest_part_min_mnt1"
          ],
          [
           "sms_clc_max_mnt3"
          ],
          [
           "vas_clc_td_mnt3"
          ],
          [
           "pay_p2p_in_sum_td_mnt3"
          ],
          [
           "sms_out_cnt_max_mnt1"
          ],
          [
           "std_paym_6_month"
          ],
          [
           "voice_mts_in_nwork_part_min_mnt1"
          ],
          [
           "voice_in_kievstar_part_std_mnt1"
          ],
          [
           "voice_in_mts_avg_dur_td_mnt3"
          ],
          [
           "non_accum_internet_vol_std_mnt1"
          ],
          [
           "MV_dou_3G_d"
          ],
          [
           "loc_cnt_events"
          ],
          [
           "voice_in_cmpttrs_avg_durmea_mnt1"
          ],
          [
           "voice_mts_out_drest_partmax_mnt1"
          ],
          [
           "accum_mts_dur_mea_mnt3"
          ],
          [
           "MV_Traf_mn_out_v_Min"
          ],
          [
           "MV_ap_Other"
          ],
          [
           "pay_p2p_in_sum_max_mnt3"
          ],
          [
           "pay_p2p_out_sum_mea_mnt3"
          ],
          [
           "voice_in_fix_tar_dur_min_mnt3"
          ],
          [
           "accum_mts_dur_std_mnt3"
          ],
          [
           "MV_DOU_Neg_Bal"
          ],
          [
           "conn_in_uniq_cnt_min_mnt3"
          ],
          [
           "voice_in_tar_dur_max_mnt3"
          ],
          [
           "sms_clc_max_mnt1"
          ],
          [
           "voice_mts_out_nwork_partmax_mnt1"
          ],
          [
           "voice_out_td_cnt_mea_mnt1"
          ],
          [
           "MV_ARPU_Roam_d_Traf"
          ],
          [
           "device_brand_lenovo"
          ],
          [
           "sms_clc_mea_wk1"
          ],
          [
           "all_home_clc_std_mnt1"
          ],
          [
           "voice_out_cmpttrs_td_cnttd_mnt3"
          ],
          [
           "voice_out_fix_tar_dur_mea_wk1"
          ],
          [
           "voice_out_cmpttrs_td_cntstd_mnt3"
          ],
          [
           "voice_out_short_part_mea_mnt1"
          ],
          [
           "voice_mts_out_drest_parttd_mnt3"
          ],
          [
           "sms_in_cnt_mea_wk1"
          ],
          [
           "content_clc_max_mnt1"
          ],
          [
           "all_clc_mea_wk1"
          ],
          [
           "num_act_days_mea_mnt1"
          ],
          [
           "conn_com_part_std_mnt1"
          ],
          [
           "BS_OVERBUNDLE_MB_CNT_M2"
          ],
          [
           "voice_in_short_part_td_mnt3"
          ],
          [
           "data_3g_tar_vol_min_mnt1"
          ],
          [
           "conn_com_part_mea_wk1"
          ],
          [
           "all_home_clc_mea_wk1"
          ],
          [
           "MV_dou"
          ],
          [
           "block_all_dur_max_mnt3"
          ],
          [
           "data_3g_tv_cnt_max_mnt1"
          ],
          [
           "MV_ot_pstn_out_v"
          ],
          [
           "block_all_dur_min_mnt1"
          ],
          [
           "num_act_days_min_mnt3"
          ],
          [
           "data_3g_tar_vol_std_mnt1"
          ],
          [
           "MV_ARPU_omo_out_s_Traf"
          ],
          [
           "data_3g_tv_cnt_min_mnt3"
          ],
          [
           "voice_in_life_part_min_mnt1"
          ],
          [
           "voice_mts_out_nwork_partmin_mnt3"
          ],
          [
           "all_roam_clc_std_mnt1"
          ],
          [
           "voice_out_cmpttrs_td_cntmea_mnt1"
          ],
          [
           "vas_clc_max_mnt3"
          ],
          [
           "voice_mts_out_nrest_partmea_mnt1"
          ],
          [
           "device_brand_nan"
          ],
          [
           "all_roam_clc_mea_mnt1"
          ],
          [
           "device_has_wifi"
          ],
          [
           "voice_mts_out_dwork_partmea_wk1"
          ],
          [
           "MV_ap_s"
          ],
          [
           "num_act_days_max_mnt1"
          ],
          [
           "gprs_tar_vol_mea_mnt1"
          ],
          [
           "voice_mts_in_dwork_part_max_mnt3"
          ],
          [
           "voice_in_life_part_td_mnt3"
          ],
          [
           "MV_ARPU_innet_out_v_Traf"
          ],
          [
           "data_3g_dou_min_mnt1"
          ],
          [
           "voice_in_roam_clc_mea_wk1"
          ],
          [
           "data_3g_tv_cnt_std_mnt3"
          ],
          [
           "voice_mts_in_drest_part_min_mnt1"
          ],
          [
           "voice_out_tar_dur_mea_mnt1"
          ],
          [
           "voice_in_cmpttrs_avg_durmax_mnt3"
          ],
          [
           "voice_mts_out_dwork_partmea_mnt1"
          ],
          [
           "MV_DOU_OT"
          ],
          [
           "DNZ_MEAN_days_open_loan_year5"
          ],
          [
           "voice_out_short_part_mea_mnt3"
          ],
          [
           "conn_in_uniq_cnt_td_mnt3"
          ],
          [
           "pay_avg_max_mnt3"
          ],
          [
           "voice_mts_in_dwork_part_td_mnt3"
          ],
          [
           "voice_in_life_part_max_mnt1"
          ],
          [
           "data_3g_tar_vol_min_mnt3"
          ],
          [
           "MV_ot_4G_d"
          ],
          [
           "voice_in_cmpttrs_td_cnt_min_mnt3"
          ],
          [
           "is_max_paym"
          ],
          [
           "sms_in_cnt_min_mnt1"
          ],
          [
           "voice_out_cmpttrs_avg_dutd_mnt3"
          ],
          [
           "voice_in_kievstar_part_td_mnt3"
          ],
          [
           "conn_out_uniq_cnt_std_mnt1"
          ],
          [
           "sms_in_cnt_max_mnt1"
          ],
          [
           "content_cnt_td_mnt3"
          ],
          [
           "gprs_tar_vol_std_mnt1"
          ],
          [
           "voice_out_cmpttrs_avg_dumea_mnt1"
          ],
          [
           "all_cnt_min_mnt1"
          ],
          [
           "voice_out_td_cnt_std_mnt1"
          ],
          [
           "voice_out_cmpttrs_avg_dumax_mnt1"
          ],
          [
           "vas_clc_std_mnt1"
          ],
          [
           "voice_in_short_part_mea_mnt1"
          ],
          [
           "MV_Traf_pstn_out_v_Min"
          ],
          [
           "MV_Traf_omo_out_v_Min"
          ],
          [
           "voice_out_tar_dur_std_mnt1"
          ],
          [
           "voice_out_tar_dur_max_mnt1"
          ],
          [
           "gprs_tar_vol_min_mnt3"
          ],
          [
           "content_clc_std_mnt3"
          ],
          [
           "voice_out_short_part_std_mnt1"
          ],
          [
           "conn_com_part_std_mnt3"
          ],
          [
           "voice_in_kievstar_part_min_mnt1"
          ],
          [
           "device_brand_samsung"
          ],
          [
           "bs_delte_ppm_change_tp"
          ],
          [
           "voice_mts_in_drest_part_std_mnt1"
          ],
          [
           "pay_max_max_mnt1"
          ],
          [
           "vas_clc_mea_mnt1"
          ],
          [
           "MV_Traf_pstn_inc_v_Min"
          ],
          [
           "MV_Traf_R_out_s_Cnt"
          ],
          [
           "voice_out_fix_tar_dur_std_mnt3"
          ],
          [
           "voice_in_kievstar_part_std_mnt3"
          ],
          [
           "voice_in_cmpttrs_td_cnt_mea_mnt1"
          ],
          [
           "ks_num_part_max_mnt1"
          ],
          [
           "sms_out_cnt_td_mnt3"
          ],
          [
           "voice_in_kievstar_part_mea_mnt1"
          ],
          [
           "voice_in_cmpttrs_avg_durmin_mnt1"
          ],
          [
           "gprs_tar_vol_mea_wk1"
          ],
          [
           "cnt_paym_6_month"
          ],
          [
           "gprs_tar_vol_max_mnt3"
          ],
          [
           "num_act_days_td_mnt3"
          ],
          [
           "voice_out_cmpttrs_avg_dumea_wk1"
          ],
          [
           "voice_in_fix_tar_dur_mea_mnt1"
          ],
          [
           "voice_mts_in_dwork_part_mea_wk1"
          ],
          [
           "voice_mts_in_nrest_part_max_mnt1"
          ],
          [
           "voice_in_tar_dur_mea_mnt3"
          ],
          [
           "all_home_clc_td_mnt3"
          ],
          [
           "voice_in_mts_avg_dur_mea_wk1"
          ],
          [
           "voice_mts_out_nwork_partstd_mnt3"
          ],
          [
           "com_num_part_std_mnt1"
          ],
          [
           "sms_in_cnt_std_mnt1"
          ],
          [
           "MV_ot_total"
          ],
          [
           "voice_mts_out_nrest_partmax_mnt1"
          ],
          [
           "voice_out_tar_dur_mea_wk1"
          ],
          [
           "voice_out_fix_tar_dur_max_mnt3"
          ],
          [
           "voice_in_short_part_std_mnt1"
          ],
          [
           "voice_in_tar_dur_std_mnt3"
          ],
          [
           "bs_ovrl_OMO_SUM_M2"
          ],
          [
           "voice_mts_in_nrest_part_mea_mnt1"
          ],
          [
           "voice_mts_in_drest_part_max_mnt1"
          ],
          [
           "data_3g_dou_mea_mnt1"
          ],
          [
           "content_cnt_std_mnt3"
          ],
          [
           "voice_mts_in_dwork_part_std_mnt1"
          ],
          [
           "voice_mts_in_nrest_part_min_mnt3"
          ],
          [
           "conn_in_uniq_cnt_std_mnt1"
          ],
          [
           "pay_avg_td_mnt3"
          ],
          [
           "all_clc_td_mnt3"
          ],
          [
           "MV_Traf_inc_s_Cnt"
          ],
          [
           "ks_num_part_max_mnt3"
          ],
          [
           "bs_ovrl_OMO_SUM_M3"
          ],
          [
           "voice_mts_in_nwork_part_max_mnt1"
          ],
          [
           "voice_mts_out_nrest_partstd_mnt3"
          ],
          [
           "pay_sum_max_mnt3"
          ],
          [
           "gprs_tar_vol_max_mnt1"
          ],
          [
           "MV_ap_mn_out_v"
          ],
          [
           "conn_com_part_td_mnt3"
          ],
          [
           "voice_mts_in_nrest_part_std_mnt1"
          ],
          [
           "MV_ap_omo_out_v"
          ],
          [
           "voice_in_short_part_std_mnt3"
          ],
          [
           "MV_dou_2G_d"
          ],
          [
           "voice_in_tar_dur_mea_wk1"
          ],
          [
           "voice_mts_in_dwork_part_mea_mnt1"
          ]
         ],
         "hovertemplate": "p_importance%=%{x}<br>importance_tree%=%{y}<br>feature=%{customdata[0]}<br>coverage=%{marker.color}<extra></extra>",
         "legendgroup": "",
         "marker": {
          "color": [
           0.9958966472273448,
           0.997461773492205,
           0.9510251577034834,
           0.9029553666818643,
           0.7773165569944132,
           0.9617020407885515,
           0.13322626962362116,
           0.996992235612747,
           0.7497635298360701,
           0.5428606425183562,
           0.7497635298360701,
           0.9617020407885515,
           0.2739107061441413,
           0.7881363429123598,
           0.23400679128701013,
           0.776193749021796,
           0.7688784849577757,
           0.7752206487788613,
           0.7254632433499146,
           0.7112614237205093,
           1,
           0.8426980054847468,
           0.1656652126870496,
           0.7930835028886787,
           0.9954679387287092,
           0.7511313140936218,
           0.7440542214177323,
           0.7935122113873143,
           0.7440746361081434,
           0.6919899559723177,
           0.1029308690533708,
           0.8021748450184752,
           0.638884541315931,
           0.6971752873367676,
           0.1846985090471103,
           0.64121181602281,
           0.7578817717229318,
           0.5729518961844944,
           0.17348403911454682,
           0.7194817390594271,
           0.7511449238872292,
           0.12389675610569366,
           0.08404047552618865,
           0.7881567576027709,
           0.22367015304212912,
           0.6979170210883752,
           0.638884541315931,
           0.1815818663109974,
           0.7764455302035345,
           0.7933829183480432,
           0.6971752873367676,
           0.0391894006927385,
           0.08981102801576014,
           0.6872605526937184,
           0.9379733656339102,
           0.7311385272842338,
           0.6116921736881861,
           0.7453811762944615,
           0.07329554347308323,
           0.7881567576027709,
           0.744061026314536,
           0.6205317346362442,
           0.6386191503405851,
           0.7587187740297918,
           0.24835831864609773,
           0.7587255789265955,
           0.6411982062292025,
           0.7440746361081434,
           0.7511449238872292,
           0.7726007635094214,
           0.13786720924377183,
           0.6768014263063701,
           0.5112859213490027,
           0.7112614237205093,
           0.3875252631793839,
           0.1656652126870496,
           0.10453682469905344,
           0.1758793627894633,
           0.08981102801576014,
           0.712969452818248,
           0.27895313467571264,
           0.6130327383585228,
           0.7739481330765619,
           0.7510156308479582,
           0.5729518961844944,
           0.05633093574135948,
           0.6593264513143658,
           0.5776812994630937,
           0.4086340530645853,
           0.7132212339999864,
           0.7511449238872292,
           0.7254632433499146,
           0.7773165569944132,
           0.12190972623900159,
           0.4271229576803468,
           0.7169639272420434,
           0.7254496335563071,
           0.9059495212755099,
           0.5688825678958579,
           0.12046028321980497,
           0.44053540928051826,
           0.7127040618429021,
           0.1811599627091655,
           0.8021748450184752,
           0.34971045164100084,
           0.1209910651704967,
           0.7569631106544269,
           0.7726007635094214,
           0.697896606397964,
           0.5055766129306649,
           0.7362626145774499,
           0.7132144291031827,
           0.7440746361081434,
           0.7505460929685002,
           0.11164113696215797,
           0.0760991609562241,
           0.7472184984314713,
           0.7773165569944132,
           0.3993998081019101,
           0.6797683613128007,
           0.3296292011731642,
           0.7202234728110348,
           0.7198900328676515,
           0.6663150803318068,
           0.6822317339557545,
           0.13355970956700441,
           0.5729518961844944,
           0.6757466673017903,
           0.6527869454859717,
           0.7739481330765619,
           0.7511449238872292,
           0.6757466673017903,
           0.5849829537335066,
           0.7510156308479582,
           0.6536851918640654,
           0.730138207454084,
           0.8426980054847468,
           0.7132280388967901,
           0.3497240614346083,
           0.38595333201772,
           0.8426980054847468,
           0.2018944832701612,
           0.6736643688798459,
           0.26888869230298124,
           0.4930624077085871,
           0.6392860302273516,
           0.7400121127163106,
           0.8426980054847468,
           0.6480575422073724,
           0.7127040618429021,
           0.11887474226453355,
           0.7362626145774499,
           0.7209379869754275,
           0.5779875198192619,
           0.6979170210883752,
           0.7496682612808176,
           0.18997910896681253,
           0.4951719257177465,
           0.7569631106544269,
           0.6600681850659734,
           0.5114152143882738,
           0.6339237715460045,
           0.1811599627091655,
           0.6757466673017903,
           0.6195654392901132,
           0.34657339421447675,
           0.6003756303035664,
           0.6132913244370649,
           0.017345681952733186,
           0.6979170210883752,
           0.73704517770988,
           0.7126564275652759,
           0.617421896796935,
           0.3178635345994978,
           0.6358971916190891,
           0.1882574700754663,
           0.2281273604485788,
           0.049444380175974634,
           0.7364327369975434,
           0.6872605526937184,
           0.42642205330956157,
           0.10552353473559574,
           0.6097663878927276,
           0.6536851918640654,
           0.7510156308479582,
           0.18931903397684974,
           0.5419964206242812,
           0.047225983817955404,
           0.38072717127244765,
           0.007335678754431689,
           0.7112614237205093,
           0.7132212339999864,
           0.45955509584697146,
           0.353527998747899,
           0.5297816308615679,
           0.7363987125135247,
           0.549066708403367,
           0.7127040618429021,
           0.48080678856505144,
           0.6003756303035664,
           0.6553864160650004,
           0.7311453321810375,
           0.5954216654304437,
           0.5598728845277061,
           0.30479813273631706,
           0.5297816308615679,
           0.8874470068661409,
           0.6754472518424258,
           0.7453811762944615,
           0.6077249188516056,
           0.5713527454356154,
           0.7574938926051187,
           0.7574938926051187,
           0.7935122113873143,
           0.3787061169217369,
           0.1621062516586936,
           0.5020857008703463,
           0.47148407994392766,
           0.2974488441882779,
           0.08889917184405899,
           0.5762999054119344,
           0.2974488441882779,
           0.5609616680163045,
           0.5271413309017169,
           0.10414214068443652,
           0.7362626145774499,
           0.14882309309779318,
           0.47148407994392766,
           0.5762999054119344,
           0.7127993303981545,
           0.11550631834668228,
           0.5961429844916402,
           0.9060311800371548,
           0.3761610855171381,
           0.05896443080440685,
           0.617421896796935,
           0.6919899559723177,
           0.12046028321980497,
           0.8567773369716848,
           0.7510156308479582,
           0.5791511571727015,
           0.4788605880791818,
           0.7311657468714486,
           0.13249134076881725,
           0.13643137601818267,
           0.3993793934114989,
           0.8426980054847468,
           0.5419964206242812,
           0.8567773369716848,
           0.5836355841663661,
           0.5024395555041408,
           0.20649459350948943,
           0.7132280388967901,
           0.30934380380121534,
           0.08482303865861875,
           0.7738800841085245,
           0.6960660891577579,
           0.22488822956999857,
           0.019795444802079575,
           0.5719924057351671,
           0.5954556899144624,
           0.4930624077085871,
           0.6872605526937184,
           0.6334950630473689,
           0.73113172238743,
           0.20929140609582655,
           0.6390274441488095,
           0.38148251481766277,
           0.19017645097412098,
           0.40913761542806204,
           0.6067858430926895,
           0.1734976489081543,
           0.6661789823957319,
           0.7513694854817526,
           0.5973678659163134,
           0.7300973780732615,
           0.7388484753628711,
           0.03567807394200867,
           0.6496430831626439,
           0.6979170210883752,
           0.47148407994392766,
           0.01839363606050914,
           0.027607466332773063,
           0.07544589086306507,
           0.5788789613005518,
           0.5065497131735998,
           0.8565936047579839,
           0.029274666049689358,
           0.3691112124284635,
           0.579083108204664,
           0.638884541315931,
           0.7127040618429021,
           0.6392860302273516,
           0.7573645995658476,
           0.15428062033439263,
           0.3316026212462488,
           0.24313215790082543,
           0.22179200152429687,
           0.3449198042911679,
           0.7056882132382463,
           0.06170680421631406,
           0.496022537818214,
           0.6548556341143087,
           0.10593182854382013,
           0.9060311800371548,
           0.1735112587017618,
           0.2641388743339707,
           0.13479139588848135,
           0.7587255789265955,
           0.02295972181581866,
           0.48183432798241616,
           0.3722278551645764,
           0.45955509584697146,
           0.6527869454859717,
           0.4852980204555198,
           0.035997904091784445,
           0.5672766122501752,
           0.6052411315182405,
           0.35483453893421707,
           0.47875851462712565,
           0.2199546793872871,
           0.688002286445326,
           0.2770205439834505,
           0.2907392159397903,
           0.1533891788531027,
           0.3982565854388818,
           0.41169625662626824,
           0.30924173034915925,
           0.0017216388913462127,
           0.48183432798241616,
           0.1968860792226086,
           0.009070927439385382,
           0.24313215790082543,
           0.49174225772866154,
           0.37969282695827916,
           0.012718352126190007,
           0.14134451151048294,
           0.2688274482317476,
           0.388124094098113,
           0.1811599627091655,
           0.617421896796935,
           0.044572074064496814,
           0.014705381992882079,
           0.6798023857968194,
           0.6195586343933094,
           0.7453811762944615,
           0.7127993303981545,
           0.3524051907752819,
           0.24179159323048866,
           0.3993998081019101,
           0.12987145549937734,
           0.46548216096302897,
           0.022707940634080284,
           0.0381346416881588,
           0.6339237715460045,
           0.14736004028498909,
           0.01639980129701333,
           0.376766721332671,
           0.3943914040543575,
           0.7311453321810375,
           0.8601457608895361,
           0.7739481330765619,
           0.41734432097337243,
           0.0143855518431063,
           0.26114471974032516,
           0.16631848278020864,
           0.012834035371853587,
           0.3629936102019013,
           0.2748497819030574,
           0.14833994542472764,
           0.6491259110055596,
           0.5801991112804774,
           0.7739481330765619,
           0.5849829537335066,
           0.40008029778228416,
           0.0992698345729587,
           0.011289323797404612,
           0.6013759501337163,
           0.7509816063639395,
           0.34811130089212194,
           0.5784366430083088,
           0.07805216633889747,
           0.7056882132382463,
           0.3630072199955088,
           0.38534089130538335,
           0.00699543391424469,
           0.0029873496968418475,
           0.02173484039114547,
           0.019645737072397296,
           0.010867420195572734,
           0.5024395555041408,
           0.11800371547365485,
           0.7127993303981545,
           0.6013759501337163,
           0.10508121644335264,
           0.27745605737888984,
           0.03203745415200779,
           0.044572074064496814,
           0.1621402761427123,
           0.0370118337155417,
           0.025007995753744395,
           0.6736235394990235,
           0.05806618442631317,
           0.6411982062292025,
           0.17277632984695787,
           0.041366967669935285,
           0.3497240614346083,
           0.8426980054847468,
           0.009785441603778079,
           0.026947391342810285,
           0.008465291623852525,
           0.03552156131552265,
           0.7127993303981545,
           0.7440746361081434,
           0.253979163405987,
           0.8228413166114336,
           0.6339237715460045,
           0.027464563499894522,
           0.5048689036630759,
           0.07206385715160629,
           0.23931461079392732,
           0.023578967424959,
           0.008567365075908624,
           0.3414084775404381,
           0.49907793648309323,
           0.6661789823957319,
           0.029274666049689358,
           0.007301654270412989,
           0.6082965301831198,
           0,
           0.020026811293406735,
           0.017134730151817247,
           0,
           0,
           0.7603791688499044,
           0.003062203561682987,
           0.008145461474076746,
           0.0004150987050281382,
           0.03309901805339122,
           0.0000476342776261798,
           0.0014562479160003538,
           0,
           0.8874470068661409,
           0.000013609793607479943,
           1,
           0.003361619021047546,
           0.00014970772968227937,
           0.0001224881424673195,
           0.003912815662150484,
           0.015569603886957054,
           0.0010003198301497757,
           0.3187958054616102,
           0.009370342898749941,
           0,
           0.0015311017808414935,
           0.000006804896803739972,
           0,
           0.00008165876164487965,
           0.03061523072002613,
           0.007791606840282267,
           0.00005443917442991977,
           0.7603791688499044,
           0.000040829380822439824,
           0.000034024484018699854,
           0,
           0.005260185229290998,
           0.000013609793607479943,
           0.0005988309187291175,
           0.014827870135349397,
           0.007614679523385028,
           0.005756942695964016,
           0.6395378114090899,
           0.019781835008472096,
           0,
           0,
           0.42004586500445723,
           0.002837641967159568,
           0.000238171388130899,
           0,
           0,
           0,
           0,
           0,
           0.0025382265077950094,
           0,
           0.03552156131552265,
           0.7887555885215001,
           0.01639980129701333,
           0.0008506121004674965,
           0.04449041530285193,
           0,
           0,
           0.07805216633889747,
           0,
           0,
           0.000040829380822439824,
           0,
           0.003926425455757963,
           0.00031983014977577865,
           0.0013813940511592142,
           0.0001429028328785394,
           0.0025654460950099694,
           0.0011432226630283151,
           0,
           0.00240893346852395,
           0.0008370023068600164,
           0,
           0.0898042231189564,
           0.147257966832933,
           0.008587779766319843,
           0.003388838608262506,
           0.004382353541608541,
           0,
           0,
           0.008567365075908624,
           0.20111872503453485,
           0.000027219587214959886,
           0.006083577742543534,
           0.31770702197301176,
           0.1140296557402707,
           0,
           0.27745605737888984,
           0.006056358155328574,
           0,
           0.016767265724415288,
           0.0010275394173647357,
           0,
           0.09576531271903262,
           0.00034704973699073856,
           0.0143855518431063,
           0,
           0.0012929303927105946,
           0,
           0.15661469993807545,
           0.02064605690254707,
           0.8197791130497506,
           0.01178608126407763,
           0,
           0.010404687212918417,
           0.0029737399032343675,
           0,
           0.014827870135349397,
           0.00006124407123365974,
           0,
           0.003388838608262506,
           0.0031234476329166467,
           0.49208250256884856,
           0,
           0.03552156131552265,
           0,
           0.0005239770538879778,
           0.005893040632038815,
           0.00040829380822439827,
           0.014827870135349397,
           0.02173484039114547,
           0.01652228943948065,
           0.0020686886283369514,
           0.0005239770538879778,
           0.0024293481589351697,
           0.004484426993664641,
           0.4921097221560635,
           0.0012929303927105946,
           0.000714514164392697,
           0.02173484039114547,
           0,
           0.42003906010765346,
           0,
           0.0012929303927105946,
           0.0020686886283369514,
           0.000006804896803739972,
           0.5791715718631127,
           0.43293433955074073,
           0.0022524208420379305,
           0.2248610099827836,
           0.09627567997931312,
           0,
           0.000034024484018699854,
           0.0038515715909168235,
           0.003388838608262506,
           0.08981102801576014,
           0.000945880655719856,
           0.003926425455757963,
           0.044572074064496814,
           0,
           0.001184052043850755,
           0.01652228943948065,
           0,
           0,
           0,
           0.04937633120793723,
           0.08981102801576014,
           0.002061883731533211,
           0.0004491231890468381,
           0.01652228943948065,
           0,
           0,
           0,
           0.00044231829224309813,
           0.0018645417242247522,
           0.05859016148020115,
           0,
           0.5170496689417705,
           0.15375664328050465,
           0.005301014610113438,
           0,
           0.000006804896803739972,
           0.00013609793607479941,
           0.000027219587214959886,
           0.000040829380822439824,
           0.009771831810170599,
           0,
           0.006035943464917355,
           0.0005239770538879778,
           0.1621402761427123,
           0.00005443917442991977,
           0.003926425455757963,
           0.000006804896803739972,
           0.000006804896803739972,
           0,
           0.5791579620695052,
           0.49907793648309323,
           0.006464651963552973,
           0.682116050710091,
           0.07765067742747682,
           0.5779943247160657,
           0.36126516641375134,
           0.6128285914544106,
           0.2394507087300021,
           0.1259994692180493,
           0.2877178417589297,
           0.01901288166964948,
           0.0024837873333650893,
           0.1287214279395453,
           0.25250250079957537,
           0.6353936292556124,
           0.371663048729866,
           0.38044136560669056,
           0.0031370574265241267,
           0.05886235735235075,
           0.5778582267799909,
           0.3316026212462488,
           0.18847522677318598,
           0.7280831286193545,
           0.09165515504957367,
           0.35915564840459197,
           0.062026634366089836,
           0.2974488441882779,
           0.23471450055459908,
           0.004239450708730002,
           0.19017645097412098,
           0.6840690560927644,
           0.22508557157730702,
           0.6091471422835872,
           0.3770253074112131,
           0.7205228882703993,
           0.6392656155369404,
           0.7688784849577757,
           0.6757466673017903,
           0.6195654392901132,
           0.15409688812069164,
           0.030213741808605473,
           0.003252740672187706,
           0.008567365075908624,
           0,
           0.003075813355290467,
           0.27642171306472135,
           0.00698862901744095,
           0.6126380543439058,
           0.7881567576027709,
           0.15428062033439263,
           0.5419964206242812,
           0.688002286445326,
           0.012167155485087068,
           0.0034160581954774654,
           0.05653508264547168,
           0.27708178805468414,
           0.3572911066803672,
           0.059005260185229294,
           0.6979034112947677,
           0.49174225772866154,
           0.3692064809837159,
           0.4535463719692691,
           0.0143855518431063,
           0.19243567671296266,
           0.8501085381040197,
           0.711581253870285,
           0.13059957945737752,
           0.3400815226637088,
           0.3414084775404381,
           0.5973678659163134,
           0.1085993480908862,
           0.8696522017243609,
           0.24835831864609773,
           0.6339237715460045,
           0.027607466332773063,
           0.23462603689615047,
           0.7449048335181997,
           0.6338761372683783,
           0.0686409940593251,
           0.2159397902730805,
           0.12714949677788137,
           0.11807176444169225,
           0.009717392635740679,
           0.6082965301831198,
           0.48183432798241616,
           0.41734432097337243,
           0.032704334038774305,
           0.009771831810170599,
           0.694494157996094,
           0.5878342054942737,
           0.08037944104577655,
           0.8501085381040197,
           0.5514688369750873,
           0.7726007635094214,
           0.31224949473641234,
           0.1065034398753343,
           0.3511598946601975,
           0.0005103672602804979,
           0.7126564275652759,
           0.3989983191904895,
           0.688002286445326,
           0.7511449238872292,
           0.6553864160650004,
           0.6543656815444394,
           0.017134730151817247,
           0.6392860302273516,
           0.4023054990371071,
           0.730110987866869,
           0.4202159874245507,
           0.4788605880791818,
           0.2159397902730805,
           0.03935271821602825,
           0.2282498485910461,
           0.4727497907494233,
           0.23645655413635652,
           0.35418807373786176,
           0.3649670302749859,
           0.6882540676270644,
           0.6593264513143658,
           0.33642729308010044,
           0.5514143978006574,
           0.6082965301831198,
           0.7912529856484727,
           0.6876348220179241,
           0.6082965301831198,
           0.27641490816791764,
           0.48080678856505144,
           0.17528053187073417,
           0.6128285914544106,
           0.6879614570645036,
           0.688002286445326,
           0.09650704647064028,
           0.029274666049689358,
           0.49174225772866154,
           0.7738324498308983,
           0.2638258490809987,
           0.19964206242812327,
           0.0370118337155417,
           0.6821092458132872,
           0.5791715718631127,
           0.2770205439834505,
           0.3783862867719611,
           0.020394275720808694,
           0.30479813273631706,
           0.7056473838574238,
           0.6757466673017903,
           0.6496430831626439,
           0.16948275979394772,
           0.6097663878927276,
           0.3590671847461433,
           0.36613747252522916,
           0.8426980054847468,
           0.6798023857968194,
           0.20991745660177064,
           0.46548216096302897,
           0.3630072199955088,
           0.6620416051390581,
           0.46079358706525214,
           0.7881567576027709,
           0.23218307894360782,
           0.6848448143283907,
           0.6527869454859717,
           0.7114383510374065,
           0.6569311276394494,
           0.05999877511857533,
           0.41734432097337243,
           0.6358971916190891,
           0.30479813273631706,
           0.48080678856505144,
           0.7881363429123598,
           0.08235966601566487,
           0.46079358706525214,
           0.682116050710091,
           0.6353936292556124,
           0.8021067960504379,
           0.7277224690887563,
           0.019169394296135497,
           0.752512708144781,
           0.3858920879464863,
           0.3589310868100685,
           0.6675739862404987,
           0.7364327369975434,
           0.08261144719740325,
           0.6013759501337163,
           0.5849829537335066,
           0.7311521370778412,
           0.5514688369750873,
           0.3105890999162998,
           0.398487951930209,
           0.46079358706525214,
           0.5609548631195008,
           0.6536851918640654,
           0.5780759834777106,
           0.712969452818248,
           0.7280831286193545
          ],
          "coloraxis": "coloraxis",
          "symbol": "circle"
         },
         "mode": "markers",
         "name": "",
         "orientation": "v",
         "showlegend": false,
         "type": "scatter",
         "x": [
          22.742929058752622,
          8.965357355765745,
          2.685964098827494,
          2.6379413128435276,
          2.450818043319784,
          1.9374710207325334,
          1.8762005696495394,
          1.6609260117903708,
          1.6145591839437787,
          1.4588991190302338,
          1.3777571702986944,
          1.369477379611802,
          1.3479499238258825,
          1.3396701331389942,
          1.0548453335099395,
          1.0449095846856649,
          0.9869510498774315,
          0.9207127243823021,
          0.8925614360468768,
          0.8279790686891257,
          0.8279790686891217,
          0.8263231105517435,
          0.8147314035900984,
          0.8114194873153374,
          0.7948599059415571,
          0.7915479896668003,
          0.771676492018263,
          0.7253096641716748,
          0.7170298734847826,
          0.6739749619129474,
          0.6458236735775139,
          0.619328343379463,
          0.6110485526925747,
          0.5978008875935432,
          0.5845532224945198,
          0.5795853480823885,
          0.5762734318076317,
          0.5746174736702532,
          0.5679936411207395,
          0.5365304365105531,
          0.5216268132741513,
          0.5100351063125022,
          0.5000993574882356,
          0.47194806915280213,
          0.4686361528780453,
          0.466980194740671,
          0.4653242366032885,
          0.46035636219115716,
          0.4471086970921256,
          0.43054911571834537,
          0.42061336689407874,
          0.3908061204212668,
          0.3841822878717571,
          0.37921441345962176,
          0.37259058091010805,
          0.36596674836059434,
          0.36431079022321994,
          0.36431079022321994,
          0.35768695767370623,
          0.3460952507120571,
          0.34278333443730025,
          0.34112737629992185,
          0.3129760879644883,
          0.3030403391402258,
          0.29641650659070395,
          0.29476054845333366,
          0.29476054845333366,
          0.29310459031594704,
          0.2881367159038199,
          0.2881367159038199,
          0.27985692521692773,
          0.2765450089421708,
          0.2732330926674139,
          0.2666092601179043,
          0.26495330198052175,
          0.2550175531562511,
          0.23514605550771797,
          0.22852222295820013,
          0.2268662648208217,
          0.22024243227131207,
          0.2152745578591767,
          0.21361859972180236,
          0.20865072530966705,
          0.20699476717228452,
          0.20202689276014918,
          0.19209114393588672,
          0.19209114393587856,
          0.1904351857985042,
          0.18877922766112576,
          0.18712326952374328,
          0.1854673113863689,
          0.18381135324899045,
          0.17884347883685514,
          0.17884347883685103,
          0.1771875206994767,
          0.17387560442472388,
          0.1738756044247198,
          0.17221964628734138,
          0.15897198118831793,
          0.15566006491356105,
          0.15234814863880417,
          0.15069219050142982,
          0.15069219050142574,
          0.15069219050142574,
          0.14903623236405136,
          0.1490362323640473,
          0.1490362323640473,
          0.14572431608929043,
          0.14572431608929043,
          0.14406835795191605,
          0.14406835795191197,
          0.14241239981453355,
          0.14075644167715917,
          0.1391004835397848,
          0.13910048353977666,
          0.13578856726502386,
          0.13578856726501978,
          0.1341326091276454,
          0.13247665099026698,
          0.13247665099026293,
          0.13082069285288855,
          0.13082069285288855,
          0.12750877657813167,
          0.12419686030337478,
          0.12254090216599228,
          0.12088494402862197,
          0.12088494402861792,
          0.11922898589124353,
          0.11922898589123945,
          0.11591706961647853,
          0.11426111147910822,
          0.11426111147910822,
          0.11426111147910414,
          0.11426111147910414,
          0.11426111147910006,
          0.11260515334172573,
          0.11094919520434728,
          0.11094919520434728,
          0.10929323706697291,
          0.10929323706696883,
          0.10929323706696883,
          0.10598132079221603,
          0.10432536265483353,
          0.10432536265482945,
          0.10266940451745508,
          0.102669404517451,
          0.10101344638008072,
          0.09935748824270227,
          0.09935748824269819,
          0.09770153010532384,
          0.09770153010532384,
          0.09770153010531978,
          0.09604557196794539,
          0.09604557196794539,
          0.09604557196794133,
          0.09438961383056696,
          0.09273365569319257,
          0.09107769755581008,
          0.09107769755581008,
          0.091077697555806,
          0.091077697555806,
          0.08942173941843572,
          0.08942173941843165,
          0.08776578128105726,
          0.0877657812810532,
          0.08776578128104912,
          0.08776578128104912,
          0.08610982314367069,
          0.0844538650063004,
          0.08279790686892195,
          0.08279790686891787,
          0.08279790686891787,
          0.08114194873154351,
          0.08114194873153945,
          0.08114194873153538,
          0.07948599059416507,
          0.079485990594161,
          0.079485990594161,
          0.07783003245678664,
          0.07783003245677848,
          0.07617407431940412,
          0.07617407431940412,
          0.07451811618202568,
          0.07451811618202162,
          0.07286215804465132,
          0.07120619990727288,
          0.07120619990727288,
          0.06955024176989444,
          0.06789428363252006,
          0.067894283632516,
          0.067894283632516,
          0.067894283632516,
          0.06789428363251193,
          0.06623832549514164,
          0.06623832549513757,
          0.06623832549513757,
          0.06623832549512942,
          0.06458236735775912,
          0.06458236735775912,
          0.06458236735775912,
          0.06292640922038475,
          0.06292640922038067,
          0.06292640922037661,
          0.06292640922037661,
          0.061270451083002254,
          0.061270451083002254,
          0.061270451082998174,
          0.059614492945623807,
          0.059614492945623807,
          0.059614492945623807,
          0.059614492945619726,
          0.057958534808249446,
          0.057958534808245366,
          0.057958534808245366,
          0.05630257667086693,
          0.05630257667086693,
          0.056302576670862865,
          0.054646618533488484,
          0.054646618533488484,
          0.054646618533488484,
          0.054646618533488484,
          0.054646618533488484,
          0.054646618533488484,
          0.052990660396110056,
          0.052990660396110056,
          0.05133470225873568,
          0.05133470225873568,
          0.051334702258731615,
          0.051334702258731615,
          0.051334702258731615,
          0.051334702258731615,
          0.051334702258731615,
          0.04967874412135725,
          0.04967874412135725,
          0.04967874412135725,
          0.04967874412135317,
          0.04967874412135317,
          0.049678744121349094,
          0.04802278598397881,
          0.04802278598397473,
          0.04802278598397473,
          0.046366827846600366,
          0.046366827846596285,
          0.046366827846596285,
          0.046366827846596285,
          0.046366827846592226,
          0.044710869709221925,
          0.04471086970921786,
          0.04471086970921786,
          0.04471086970921786,
          0.04305491157184349,
          0.04305491157184349,
          0.04305491157183942,
          0.041398953434460976,
          0.041398953434460976,
          0.039742995297086615,
          0.039742995297086615,
          0.039742995297082535,
          0.039742995297082535,
          0.0380870371597041,
          0.0380870371597041,
          0.0380870371597041,
          0.0380870371597041,
          0.0380870371597041,
          0.036431079022329727,
          0.03643107902232566,
          0.03643107902232566,
          0.03643107902232566,
          0.03643107902232566,
          0.03643107902232566,
          0.0347751208849513,
          0.03477512088494722,
          0.03477512088494722,
          0.03477512088494722,
          0.03477512088494722,
          0.03477512088494722,
          0.03311916274757285,
          0.033119162747568785,
          0.03146320461019442,
          0.03146320461019034,
          0.03146320461019034,
          0.03146320461019034,
          0.03146320461019034,
          0.03146320461019034,
          0.02980724647281598,
          0.02980724647281598,
          0.029807246472811903,
          0.029807246472811903,
          0.029807246472811903,
          0.029807246472811903,
          0.029807246472811903,
          0.028151288335441612,
          0.028151288335437535,
          0.028151288335437535,
          0.028151288335433466,
          0.028151288335433466,
          0.028151288335433466,
          0.028151288335433466,
          0.026495330198059098,
          0.026495330198059098,
          0.026495330198055028,
          0.026495330198055028,
          0.026495330198055028,
          0.026495330198055028,
          0.026495330198055028,
          0.024839372060676584,
          0.024839372060676584,
          0.024839372060676584,
          0.024839372060676584,
          0.024839372060676584,
          0.02318341392330222,
          0.02318341392330222,
          0.023183413923298143,
          0.023183413923298143,
          0.023183413923298143,
          0.023183413923298143,
          0.023183413923298143,
          0.02152745578592785,
          0.02152745578592785,
          0.021527455785923782,
          0.021527455785923782,
          0.021527455785923782,
          0.02152745578591971,
          0.02152745578591971,
          0.02152745578591971,
          0.02152745578591971,
          0.019871497648549414,
          0.019871497648545344,
          0.019871497648541268,
          0.019871497648541268,
          0.019871497648541268,
          0.019871497648541268,
          0.019871497648541268,
          0.019871497648541268,
          0.019871497648541268,
          0.018215539511166903,
          0.018215539511166903,
          0.018215539511166903,
          0.018215539511166903,
          0.01821553951116283,
          0.01821553951116283,
          0.01821553951116283,
          0.01821553951116283,
          0.016559581373792535,
          0.016559581373788462,
          0.016559581373788462,
          0.016559581373784393,
          0.016559581373784393,
          0.014903623236410025,
          0.014903623236410025,
          0.014903623236410025,
          0.014903623236405952,
          0.014903623236405952,
          0.014903623236405952,
          0.014903623236405952,
          0.014903623236405952,
          0.014903623236405952,
          0.013247665099035659,
          0.013247665099031585,
          0.013247665099031585,
          0.013247665099031585,
          0.013247665099031585,
          0.013247665099027514,
          0.013247665099027514,
          0.01159170696165722,
          0.011591706961653148,
          0.011591706961649071,
          0.011591706961649071,
          0.011591706961649071,
          0.011591706961649071,
          0.00993574882427878,
          0.00993574882427878,
          0.009935748824274707,
          0.009935748824274707,
          0.009935748824270634,
          0.009935748824270634,
          0.009935748824270634,
          0.008279790686900343,
          0.008279790686900343,
          0.008279790686896268,
          0.008279790686896268,
          0.008279790686896268,
          0.008279790686896268,
          0.008279790686896268,
          0.008279790686892196,
          0.008279790686892196,
          0.008279790686892196,
          0.008279790686892196,
          0.008279790686892196,
          0.008279790686892196,
          0.006623832549517829,
          0.006623832549517829,
          0.006623832549517829,
          0.006623832549517829,
          0.006623832549517829,
          0.006623832549513757,
          0.006623832549513757,
          0.006623832549513757,
          0.006623832549513757,
          0.006623832549513757,
          0.006623832549513757,
          0.006623832549513757,
          0.004967874412143463,
          0.00496787441213939,
          0.004967874412135317,
          0.004967874412135317,
          0.004967874412135317,
          0.0033119162747650244,
          0.0033119162747568785,
          0.0033119162747568785,
          0.0033119162747568785,
          0.0033119162747568785,
          0.0033119162747568785,
          0.0016559581373865849,
          0.0016559581373825122,
          0.0016559581373825122,
          0.0016559581373825122,
          0.0016559581373784393,
          0.0016559581373784393,
          0.0016559581373784393,
          0.0016559581373784393,
          0.0016559581373784393,
          0.0016559581373784393,
          0.0016559581373784393,
          8.145765972058214e-15,
          8.145765972058214e-15,
          8.145765972058214e-15,
          4.072882986029107e-15,
          4.072882986029107e-15,
          0,
          0,
          0,
          0,
          0,
          0,
          0,
          0,
          0,
          0,
          0,
          0,
          0,
          0,
          0,
          0,
          0,
          0,
          0,
          0,
          0,
          0,
          0,
          0,
          0,
          0,
          0,
          0,
          0,
          0,
          0,
          0,
          0,
          0,
          0,
          0,
          0,
          0,
          0,
          0,
          0,
          0,
          0,
          0,
          0,
          0,
          0,
          0,
          0,
          0,
          0,
          0,
          0,
          0,
          0,
          0,
          0,
          0,
          0,
          0,
          0,
          0,
          0,
          0,
          0,
          0,
          0,
          0,
          0,
          0,
          0,
          0,
          0,
          0,
          0,
          0,
          0,
          0,
          0,
          0,
          0,
          0,
          0,
          0,
          0,
          0,
          0,
          0,
          0,
          0,
          0,
          0,
          0,
          0,
          0,
          0,
          0,
          0,
          0,
          0,
          0,
          0,
          0,
          0,
          0,
          0,
          0,
          0,
          0,
          0,
          0,
          0,
          0,
          0,
          0,
          0,
          0,
          0,
          0,
          0,
          0,
          0,
          0,
          0,
          0,
          0,
          0,
          0,
          0,
          0,
          0,
          0,
          0,
          0,
          0,
          0,
          0,
          0,
          0,
          0,
          0,
          0,
          0,
          0,
          0,
          0,
          0,
          0,
          0,
          0,
          0,
          0,
          0,
          0,
          0,
          0,
          0,
          0,
          0,
          0,
          0,
          0,
          0,
          0,
          0,
          0,
          0,
          0,
          0,
          0,
          0,
          0,
          0,
          0,
          0,
          0,
          0,
          0,
          0,
          0,
          0,
          0,
          0,
          0,
          0,
          0,
          0,
          0,
          0,
          0,
          0,
          0,
          0,
          -0.0016559581373702932,
          -0.001655958137374366,
          -0.001655958137374366,
          -0.001655958137374366,
          -0.001655958137374366,
          -0.0016559581373784393,
          -0.0016559581373784393,
          -0.0016559581373784393,
          -0.0016559581373784393,
          -0.0016559581373784393,
          -0.0033119162747528054,
          -0.0033119162747528054,
          -0.0033119162747528054,
          -0.0033119162747528054,
          -0.0033119162747568785,
          -0.0033119162747568785,
          -0.0033119162747568785,
          -0.0033119162747568785,
          -0.0033119162747568785,
          -0.0033119162747568785,
          -0.004967874412131245,
          -0.004967874412131245,
          -0.004967874412131245,
          -0.004967874412135317,
          -0.004967874412135317,
          -0.004967874412135317,
          -0.004967874412135317,
          -0.004967874412135317,
          -0.006623832549505611,
          -0.006623832549505611,
          -0.006623832549505611,
          -0.006623832549509684,
          -0.006623832549509684,
          -0.006623832549513757,
          -0.00827979068688405,
          -0.00827979068688405,
          -0.008279790686888121,
          -0.008279790686888121,
          -0.008279790686888121,
          -0.008279790686888121,
          -0.008279790686892196,
          -0.008279790686892196,
          -0.008279790686892196,
          -0.008279790686892196,
          -0.008279790686892196,
          -0.009935748824258416,
          -0.00993574882426249,
          -0.009935748824266562,
          -0.009935748824266562,
          -0.009935748824266562,
          -0.009935748824270634,
          -0.009935748824270634,
          -0.009935748824270634,
          -0.009935748824270634,
          -0.011591706961640929,
          -0.011591706961645002,
          -0.011591706961645002,
          -0.011591706961645002,
          -0.011591706961649071,
          -0.011591706961649071,
          -0.011591706961649071,
          -0.011591706961649071,
          -0.013247665099019368,
          -0.013247665099019368,
          -0.013247665099027514,
          -0.014903623236397805,
          -0.014903623236397805,
          -0.014903623236397805,
          -0.014903623236397805,
          -0.014903623236397805,
          -0.014903623236401877,
          -0.014903623236401877,
          -0.014903623236405952,
          -0.016559581373772173,
          -0.016559581373776243,
          -0.016559581373776243,
          -0.01655958137378032,
          -0.01655958137378032,
          -0.01655958137378032,
          -0.01655958137378032,
          -0.01655958137378032,
          -0.01655958137378032,
          -0.01655958137378032,
          -0.01655958137378032,
          -0.016559581373784393,
          -0.016559581373784393,
          -0.016559581373784393,
          -0.018215539511154684,
          -0.018215539511158757,
          -0.018215539511158757,
          -0.018215539511158757,
          -0.019871497648529052,
          -0.019871497648537195,
          -0.019871497648537195,
          -0.019871497648537195,
          -0.019871497648541268,
          -0.02152745578590749,
          -0.021527455785911562,
          -0.023183413923281857,
          -0.02318341392328593,
          -0.023183413923290003,
          -0.023183413923290003,
          -0.023183413923294073,
          -0.024839372060660295,
          -0.02483937206066844,
          -0.02483937206066844,
          -0.02649533019804281,
          -0.02649533019804281,
          -0.02649533019804281,
          -0.028151288335425316,
          -0.02980724647279561,
          -0.029807246472803754,
          -0.029807246472803754,
          -0.03146320461017406,
          -0.031463204610178125,
          -0.031463204610178125,
          -0.031463204610178125,
          -0.0314632046101822,
          -0.0314632046101822,
          -0.03311916274756064,
          -0.03311916274756064,
          -0.03477512088493907,
          -0.03477512088493907,
          -0.03643107902230937,
          -0.03643107902230937,
          -0.03643107902231345,
          -0.03643107902231345,
          -0.03808703715968781,
          -0.038087037159695955,
          -0.038087037159695955,
          -0.03974299529707032,
          -0.03974299529707032,
          -0.03974299529707032,
          -0.041398953434444684,
          -0.041398953434444684,
          -0.04139895343444876,
          -0.04139895343444876,
          -0.04139895343444876,
          -0.0430549115718272,
          -0.04471086970920156,
          -0.04471086970920564,
          -0.04636682784658001,
          -0.04636682784658001,
          -0.04636682784658001,
          -0.04636682784658408,
          -0.04802278598395437,
          -0.048022785983962514,
          -0.048022785983962514,
          -0.04967874412134095,
          -0.04967874412134095,
          -0.051334702258719396,
          -0.05299066039609784,
          -0.05464661853347627,
          -0.05795853480822501,
          -0.05795853480822908,
          -0.05961449294560751,
          -0.05961449294560751,
          -0.06127045108298188,
          -0.061270451082990035,
          -0.06292640922036848,
          -0.06458236735774284,
          -0.06789428363249564,
          -0.06789428363249564,
          -0.06955024176987408,
          -0.0712061999072566,
          -0.07120619990726067,
          -0.07286215804463095,
          -0.07286215804463503,
          -0.0728621580446391,
          -0.07617407431939191,
          -0.07617407431939599,
          -0.07948599059414471,
          -0.07948599059414878,
          -0.08114194873152723,
          -0.08445386500628004,
          -0.08610982314365848,
          -0.09107769755579787,
          -0.09438961383055475,
          -0.09770153010530754,
          -0.10266940451744695,
          -0.1059813207922038,
          -0.10763727892957818,
          -0.10929323706695661,
          -0.11757302775384476,
          -0.12750877657812354,
          -0.137444525402386,
          -0.13910048353976445,
          -0.14406835795190384,
          -0.14738027422665664,
          -0.14903623236403507,
          -0.16062793932568414,
          -0.19540306021062323,
          -0.23349009737032325
         ],
         "xaxis": "x",
         "y": [
          3.231578947368421,
          2.0105263157894737,
          1.631578947368421,
          1.968421052631579,
          1.0105263157894737,
          1.4210526315789473,
          0.9052631578947368,
          1.231578947368421,
          0.5473684210526315,
          0.7157894736842105,
          0.7894736842105263,
          1.2526315789473683,
          0.4,
          0.46315789473684216,
          0.7894736842105263,
          0.5684210526315789,
          1.0842105263157895,
          0.6631578947368421,
          0.6736842105263158,
          0.43157894736842106,
          0.8526315789473684,
          0.8,
          0.43157894736842106,
          1.0736842105263158,
          0.968421052631579,
          0.42105263157894735,
          0.3789473684210526,
          0.5368421052631579,
          0.23157894736842108,
          0.3368421052631579,
          0.46315789473684216,
          0.6,
          0.21052631578947367,
          0.7052631578947368,
          0.3157894736842105,
          0.1473684210526316,
          0.5578947368421052,
          0.3684210526315789,
          0.6736842105263158,
          0.27368421052631575,
          0.5052631578947369,
          0.3473684210526316,
          0.4105263157894737,
          0.30526315789473685,
          0.25263157894736843,
          0.4105263157894737,
          0.25263157894736843,
          0.30526315789473685,
          0.5789473684210527,
          0.5684210526315789,
          0.5894736842105264,
          0.2947368421052632,
          0.24210526315789474,
          0.25263157894736843,
          0.4105263157894737,
          0.2,
          0.3473684210526316,
          0.4105263157894737,
          0.2631578947368421,
          0.28421052631578947,
          0.5473684210526315,
          0.32631578947368417,
          0.16842105263157894,
          0.17894736842105263,
          0.2947368421052632,
          0.27368421052631575,
          0.3684210526315789,
          0.12631578947368421,
          0.08421052631578947,
          0.3789473684210526,
          0.23157894736842108,
          0.24210526315789474,
          0.1473684210526316,
          0.3368421052631579,
          0.5368421052631579,
          0.3789473684210526,
          0.2947368421052632,
          0.23157894736842108,
          0.021052631578947368,
          0.13684210526315788,
          0.3789473684210526,
          0.27368421052631575,
          0.17894736842105263,
          0.06315789473684211,
          0.4105263157894737,
          0.06315789473684211,
          0.13684210526315788,
          0.35789473684210527,
          0.1473684210526316,
          0.042105263157894736,
          0.3684210526315789,
          0.24210526315789474,
          0.21052631578947367,
          0.09473684210526315,
          0.1473684210526316,
          0.16842105263157894,
          0.17894736842105263,
          0.42105263157894735,
          0.08421052631578947,
          0.11578947368421054,
          0.10526315789473684,
          0.10526315789473684,
          0.11578947368421054,
          0.10526315789473684,
          0.09473684210526315,
          0.1894736842105263,
          0.1894736842105263,
          0.24210526315789474,
          0.16842105263157894,
          0.06315789473684211,
          0.30526315789473685,
          0.16842105263157894,
          0.23157894736842108,
          0.10526315789473684,
          0.12631578947368421,
          0.3684210526315789,
          0.16842105263157894,
          0.32631578947368417,
          0.05263157894736842,
          0.1894736842105263,
          0.06315789473684211,
          0.2,
          0.17894736842105263,
          0.30526315789473685,
          0.13684210526315788,
          0.09473684210526315,
          0.22105263157894736,
          0.10526315789473684,
          0.2,
          0.22105263157894736,
          0.15789473684210525,
          0.13684210526315788,
          0.11578947368421054,
          0.09473684210526315,
          0.2,
          0.15789473684210525,
          0.5157894736842106,
          0.17894736842105263,
          0.06315789473684211,
          0.11578947368421054,
          0.2631578947368421,
          0.09473684210526315,
          0.24210526315789474,
          0.11578947368421054,
          0.13684210526315788,
          0.1473684210526316,
          0.12631578947368421,
          0.13684210526315788,
          0.11578947368421054,
          0.2,
          0.10526315789473684,
          0.16842105263157894,
          0.1473684210526316,
          0.10526315789473684,
          0.27368421052631575,
          0.5684210526315789,
          0.042105263157894736,
          0.1473684210526316,
          0.22105263157894736,
          0.16842105263157894,
          0.32631578947368417,
          0.0736842105263158,
          0.1473684210526316,
          0.08421052631578947,
          0.1473684210526316,
          0.2631578947368421,
          0.10526315789473684,
          0.09473684210526315,
          0.05263157894736842,
          0.042105263157894736,
          0.0736842105263158,
          0.11578947368421054,
          0.13684210526315788,
          0.15789473684210525,
          0.1473684210526316,
          0.1894736842105263,
          0.17894736842105263,
          0.1894736842105263,
          0.12631578947368421,
          0.12631578947368421,
          0.22105263157894736,
          0.3157894736842105,
          0.06315789473684211,
          0.09473684210526315,
          0.0736842105263158,
          0.09473684210526315,
          0.16842105263157894,
          0.0736842105263158,
          0.21052631578947367,
          0.11578947368421054,
          0.13684210526315788,
          0.05263157894736842,
          0.05263157894736842,
          0.1473684210526316,
          0.031578947368421054,
          0.2,
          0.2,
          0.05263157894736842,
          0.0736842105263158,
          0.10526315789473684,
          0.10526315789473684,
          0.11578947368421054,
          0.11578947368421054,
          0.17894736842105263,
          0.09473684210526315,
          0.09473684210526315,
          0.05263157894736842,
          0.13684210526315788,
          0.1473684210526316,
          0.21052631578947367,
          0.1473684210526316,
          0.16842105263157894,
          0.11578947368421054,
          0.3157894736842105,
          0.12631578947368421,
          0.031578947368421054,
          0.15789473684210525,
          0.0736842105263158,
          0.05263157894736842,
          0.021052631578947368,
          0.11578947368421054,
          0.10526315789473684,
          0.06315789473684211,
          0.6210526315789474,
          0.09473684210526315,
          0.13684210526315788,
          0.1473684210526316,
          0.12631578947368421,
          0.05263157894736842,
          0.031578947368421054,
          0.042105263157894736,
          0.0736842105263158,
          0.15789473684210525,
          0.12631578947368421,
          0.09473684210526315,
          0.15789473684210525,
          0.2631578947368421,
          0.13684210526315788,
          0.13684210526315788,
          0.11578947368421054,
          0.0736842105263158,
          0.06315789473684211,
          0.05263157894736842,
          0.06315789473684211,
          0.0736842105263158,
          0.10526315789473684,
          0.28421052631578947,
          0.09473684210526315,
          0.08421052631578947,
          0.042105263157894736,
          0.0736842105263158,
          0.3684210526315789,
          0.2947368421052632,
          0.031578947368421054,
          0.042105263157894736,
          0.2,
          0.24210526315789474,
          0.06315789473684211,
          0.08421052631578947,
          0.0736842105263158,
          0.11578947368421054,
          0.0736842105263158,
          0.11578947368421054,
          0.09473684210526315,
          0.11578947368421054,
          0.0736842105263158,
          0.13684210526315788,
          0.15789473684210525,
          0.042105263157894736,
          0.12631578947368421,
          0.10526315789473684,
          0.021052631578947368,
          0.1473684210526316,
          0.021052631578947368,
          0.06315789473684211,
          0.23157894736842108,
          0.08421052631578947,
          0.042105263157894736,
          0.06315789473684211,
          0.010526315789473684,
          0.11578947368421054,
          0.010526315789473684,
          0.09473684210526315,
          0.010526315789473684,
          0.031578947368421054,
          0.12631578947368421,
          0.22105263157894736,
          0.021052631578947368,
          0.0736842105263158,
          0.021052631578947368,
          0.05263157894736842,
          0.13684210526315788,
          0.22105263157894736,
          0.17894736842105263,
          0.021052631578947368,
          0.05263157894736842,
          0.010526315789473684,
          0.06315789473684211,
          0.1473684210526316,
          0.12631578947368421,
          0.11578947368421054,
          0.021052631578947368,
          0.05263157894736842,
          0.08421052631578947,
          0.25263157894736843,
          0.021052631578947368,
          0.021052631578947368,
          0.15789473684210525,
          0.1473684210526316,
          0.021052631578947368,
          0.05263157894736842,
          0.22105263157894736,
          0.031578947368421054,
          0.15789473684210525,
          0.10526315789473684,
          0.08421052631578947,
          0.010526315789473684,
          0.11578947368421054,
          0.21052631578947367,
          0.09473684210526315,
          0.031578947368421054,
          0.0736842105263158,
          0.021052631578947368,
          0.031578947368421054,
          0.010526315789473684,
          0.05263157894736842,
          0.10526315789473684,
          0.16842105263157894,
          0.021052631578947368,
          0.010526315789473684,
          0.031578947368421054,
          0.06315789473684211,
          0.010526315789473684,
          0.05263157894736842,
          0.11578947368421054,
          0.042105263157894736,
          0.05263157894736842,
          0.08421052631578947,
          0.1894736842105263,
          0.06315789473684211,
          0.08421052631578947,
          0.010526315789473684,
          0.031578947368421054,
          0.22105263157894736,
          0.021052631578947368,
          0.11578947368421054,
          0.11578947368421054,
          0.042105263157894736,
          0.08421052631578947,
          0.05263157894736842,
          0.06315789473684211,
          0.05263157894736842,
          0.021052631578947368,
          0.031578947368421054,
          0.0736842105263158,
          0.0736842105263158,
          0.042105263157894736,
          0.22105263157894736,
          0.0736842105263158,
          0.10526315789473684,
          0.031578947368421054,
          0.08421052631578947,
          0.06315789473684211,
          0.021052631578947368,
          0.06315789473684211,
          0.10526315789473684,
          0.010526315789473684,
          0.031578947368421054,
          0.021052631578947368,
          0.042105263157894736,
          0.08421052631578947,
          0.16842105263157894,
          0.031578947368421054,
          0.10526315789473684,
          0.05263157894736842,
          0.010526315789473684,
          0.010526315789473684,
          0.10526315789473684,
          0.15789473684210525,
          0.1473684210526316,
          0.06315789473684211,
          0.0736842105263158,
          0.09473684210526315,
          0.0736842105263158,
          0.10526315789473684,
          0.021052631578947368,
          0.021052631578947368,
          0.010526315789473684,
          0.021052631578947368,
          0.031578947368421054,
          0.06315789473684211,
          0.06315789473684211,
          0.09473684210526315,
          0.1473684210526316,
          0.042105263157894736,
          0.010526315789473684,
          0.031578947368421054,
          0.010526315789473684,
          0.010526315789473684,
          0.010526315789473684,
          0.042105263157894736,
          0.0736842105263158,
          0.0736842105263158,
          0.09473684210526315,
          0.010526315789473684,
          0.021052631578947368,
          0.042105263157894736,
          0.10526315789473684,
          0.010526315789473684,
          0.021052631578947368,
          0.010526315789473684,
          0.042105263157894736,
          0.010526315789473684,
          0.21052631578947367,
          0.06315789473684211,
          0.08421052631578947,
          0.09473684210526315,
          0.010526315789473684,
          0.010526315789473684,
          0.010526315789473684,
          0.010526315789473684,
          0.010526315789473684,
          0.021052631578947368,
          0.042105263157894736,
          0.13684210526315788,
          0.09473684210526315,
          0.09473684210526315,
          0.031578947368421054,
          0.05263157894736842,
          0,
          0,
          0,
          0,
          0,
          0,
          0,
          0,
          0,
          0,
          0,
          0,
          0,
          0,
          0,
          0,
          0,
          0,
          0,
          0,
          0.010526315789473684,
          0,
          0,
          0,
          0,
          0,
          0,
          0,
          0,
          0,
          0,
          0,
          0,
          0,
          0,
          0,
          0,
          0,
          0,
          0,
          0.010526315789473684,
          0,
          0,
          0,
          0,
          0,
          0,
          0,
          0,
          0,
          0,
          0,
          0,
          0,
          0,
          0,
          0,
          0.010526315789473684,
          0,
          0,
          0,
          0,
          0,
          0,
          0,
          0,
          0,
          0,
          0,
          0,
          0,
          0,
          0,
          0,
          0,
          0,
          0,
          0,
          0,
          0,
          0.010526315789473684,
          0,
          0,
          0,
          0,
          0,
          0.010526315789473684,
          0,
          0,
          0,
          0,
          0,
          0,
          0,
          0,
          0,
          0,
          0,
          0,
          0,
          0.010526315789473684,
          0,
          0,
          0,
          0,
          0,
          0,
          0,
          0,
          0,
          0,
          0,
          0,
          0,
          0,
          0,
          0,
          0,
          0,
          0,
          0,
          0,
          0,
          0,
          0,
          0,
          0,
          0,
          0,
          0,
          0,
          0,
          0,
          0,
          0,
          0,
          0,
          0,
          0,
          0,
          0,
          0.031578947368421054,
          0,
          0,
          0,
          0,
          0,
          0,
          0,
          0,
          0,
          0,
          0,
          0,
          0,
          0,
          0,
          0,
          0,
          0,
          0,
          0,
          0,
          0,
          0,
          0,
          0,
          0,
          0,
          0,
          0,
          0,
          0,
          0,
          0,
          0,
          0,
          0,
          0,
          0,
          0,
          0,
          0,
          0,
          0,
          0,
          0,
          0,
          0,
          0,
          0,
          0.05263157894736842,
          0,
          0.13684210526315788,
          0.042105263157894736,
          0.031578947368421054,
          0.09473684210526315,
          0.010526315789473684,
          0.010526315789473684,
          0.021052631578947368,
          0.021052631578947368,
          0.010526315789473684,
          0.010526315789473684,
          0.11578947368421054,
          0.042105263157894736,
          0.042105263157894736,
          0.1894736842105263,
          0.021052631578947368,
          0.021052631578947368,
          0.021052631578947368,
          0.042105263157894736,
          0.021052631578947368,
          0.031578947368421054,
          0.09473684210526315,
          0.11578947368421054,
          0.042105263157894736,
          0.031578947368421054,
          0.021052631578947368,
          0.10526315789473684,
          0.031578947368421054,
          0.031578947368421054,
          0.2947368421052632,
          0.09473684210526315,
          0.11578947368421054,
          0.15789473684210525,
          0.1894736842105263,
          0.031578947368421054,
          0.15789473684210525,
          0.1894736842105263,
          0.05263157894736842,
          0.010526315789473684,
          0.042105263157894736,
          0.010526315789473684,
          0.010526315789473684,
          0.010526315789473684,
          0.031578947368421054,
          0.010526315789473684,
          0.021052631578947368,
          0.08421052631578947,
          0.12631578947368421,
          0.021052631578947368,
          0.09473684210526315,
          0.08421052631578947,
          0.021052631578947368,
          0.010526315789473684,
          0.010526315789473684,
          0.042105263157894736,
          0.15789473684210525,
          0.021052631578947368,
          0.09473684210526315,
          0.042105263157894736,
          0.021052631578947368,
          0.05263157894736842,
          0.010526315789473684,
          0.042105263157894736,
          0.031578947368421054,
          0.021052631578947368,
          0.021052631578947368,
          0.031578947368421054,
          0.031578947368421054,
          0.05263157894736842,
          0.042105263157894736,
          0.042105263157894736,
          0.031578947368421054,
          0.042105263157894736,
          0.010526315789473684,
          0.021052631578947368,
          0.031578947368421054,
          0.042105263157894736,
          0.010526315789473684,
          0.05263157894736842,
          0.06315789473684211,
          0.031578947368421054,
          0.010526315789473684,
          0.021052631578947368,
          0.010526315789473684,
          0.021052631578947368,
          0.042105263157894736,
          0.010526315789473684,
          0.010526315789473684,
          0.12631578947368421,
          0.010526315789473684,
          0.010526315789473684,
          0.12631578947368421,
          0.11578947368421054,
          0.05263157894736842,
          0.021052631578947368,
          0.010526315789473684,
          0.021052631578947368,
          0.16842105263157894,
          0.10526315789473684,
          0.0736842105263158,
          0.32631578947368417,
          0.13684210526315788,
          0.031578947368421054,
          0.08421052631578947,
          0.17894736842105263,
          0.17894736842105263,
          0.042105263157894736,
          0.08421052631578947,
          0.1473684210526316,
          0.06315789473684211,
          0.0736842105263158,
          0.031578947368421054,
          0.06315789473684211,
          0.05263157894736842,
          0.11578947368421054,
          0.05263157894736842,
          0.2,
          0.042105263157894736,
          0.16842105263157894,
          0.09473684210526315,
          0.1473684210526316,
          0.11578947368421054,
          0.12631578947368421,
          0.06315789473684211,
          0.031578947368421054,
          0.031578947368421054,
          0.11578947368421054,
          0.0736842105263158,
          0.17894736842105263,
          0.16842105263157894,
          0.12631578947368421,
          0.042105263157894736,
          0.031578947368421054,
          0.11578947368421054,
          0.031578947368421054,
          0.06315789473684211,
          0.11578947368421054,
          0.13684210526315788,
          0.042105263157894736,
          0.05263157894736842,
          0.09473684210526315,
          0.031578947368421054,
          0.08421052631578947,
          0.031578947368421054,
          0.06315789473684211,
          0.05263157894736842,
          0.10526315789473684,
          0.15789473684210525,
          0.11578947368421054,
          0.12631578947368421,
          0.1473684210526316,
          0.16842105263157894,
          0.09473684210526315,
          0.0736842105263158,
          0.0736842105263158,
          0.10526315789473684,
          0.10526315789473684,
          0.08421052631578947,
          0.08421052631578947,
          0.16842105263157894,
          0.12631578947368421,
          0.0736842105263158,
          0.10526315789473684,
          0.06315789473684211,
          0.06315789473684211,
          0.16842105263157894,
          0.05263157894736842,
          0.05263157894736842,
          0.3368421052631579,
          0.06315789473684211,
          0.06315789473684211,
          0.13684210526315788,
          0.05263157894736842,
          0.15789473684210525,
          0.08421052631578947,
          0.08421052631578947,
          0.28421052631578947,
          0.0736842105263158,
          0.17894736842105263,
          0.09473684210526315,
          0.16842105263157894,
          0.1894736842105263,
          0.08421052631578947,
          0.05263157894736842,
          0.1473684210526316,
          0.06315789473684211,
          0.17894736842105263,
          0.05263157894736842,
          0.13684210526315788,
          0.24210526315789474,
          0.0736842105263158,
          0.10526315789473684,
          0.2,
          0.22105263157894736
         ],
         "yaxis": "y"
        }
       ],
       "layout": {
        "coloraxis": {
         "colorbar": {
          "title": {
           "text": "coverage"
          }
         },
         "colorscale": [
          [
           0,
           "rgb(253, 237, 176)"
          ],
          [
           0.09090909090909091,
           "rgb(250, 205, 145)"
          ],
          [
           0.18181818181818182,
           "rgb(246, 173, 119)"
          ],
          [
           0.2727272727272727,
           "rgb(240, 142, 98)"
          ],
          [
           0.36363636363636365,
           "rgb(231, 109, 84)"
          ],
          [
           0.45454545454545453,
           "rgb(216, 80, 83)"
          ],
          [
           0.5454545454545454,
           "rgb(195, 56, 90)"
          ],
          [
           0.6363636363636364,
           "rgb(168, 40, 96)"
          ],
          [
           0.7272727272727273,
           "rgb(138, 29, 99)"
          ],
          [
           0.8181818181818182,
           "rgb(107, 24, 93)"
          ],
          [
           0.9090909090909091,
           "rgb(76, 21, 80)"
          ],
          [
           1,
           "rgb(47, 15, 61)"
          ]
         ]
        },
        "legend": {
         "tracegroupgap": 0
        },
        "margin": {
         "t": 60
        },
        "template": {
         "data": {
          "bar": [
           {
            "error_x": {
             "color": "#2a3f5f"
            },
            "error_y": {
             "color": "#2a3f5f"
            },
            "marker": {
             "line": {
              "color": "#E5ECF6",
              "width": 0.5
             },
             "pattern": {
              "fillmode": "overlay",
              "size": 10,
              "solidity": 0.2
             }
            },
            "type": "bar"
           }
          ],
          "barpolar": [
           {
            "marker": {
             "line": {
              "color": "#E5ECF6",
              "width": 0.5
             },
             "pattern": {
              "fillmode": "overlay",
              "size": 10,
              "solidity": 0.2
             }
            },
            "type": "barpolar"
           }
          ],
          "carpet": [
           {
            "aaxis": {
             "endlinecolor": "#2a3f5f",
             "gridcolor": "white",
             "linecolor": "white",
             "minorgridcolor": "white",
             "startlinecolor": "#2a3f5f"
            },
            "baxis": {
             "endlinecolor": "#2a3f5f",
             "gridcolor": "white",
             "linecolor": "white",
             "minorgridcolor": "white",
             "startlinecolor": "#2a3f5f"
            },
            "type": "carpet"
           }
          ],
          "choropleth": [
           {
            "colorbar": {
             "outlinewidth": 0,
             "ticks": ""
            },
            "type": "choropleth"
           }
          ],
          "contour": [
           {
            "colorbar": {
             "outlinewidth": 0,
             "ticks": ""
            },
            "colorscale": [
             [
              0,
              "#0d0887"
             ],
             [
              0.1111111111111111,
              "#46039f"
             ],
             [
              0.2222222222222222,
              "#7201a8"
             ],
             [
              0.3333333333333333,
              "#9c179e"
             ],
             [
              0.4444444444444444,
              "#bd3786"
             ],
             [
              0.5555555555555556,
              "#d8576b"
             ],
             [
              0.6666666666666666,
              "#ed7953"
             ],
             [
              0.7777777777777778,
              "#fb9f3a"
             ],
             [
              0.8888888888888888,
              "#fdca26"
             ],
             [
              1,
              "#f0f921"
             ]
            ],
            "type": "contour"
           }
          ],
          "contourcarpet": [
           {
            "colorbar": {
             "outlinewidth": 0,
             "ticks": ""
            },
            "type": "contourcarpet"
           }
          ],
          "heatmap": [
           {
            "colorbar": {
             "outlinewidth": 0,
             "ticks": ""
            },
            "colorscale": [
             [
              0,
              "#0d0887"
             ],
             [
              0.1111111111111111,
              "#46039f"
             ],
             [
              0.2222222222222222,
              "#7201a8"
             ],
             [
              0.3333333333333333,
              "#9c179e"
             ],
             [
              0.4444444444444444,
              "#bd3786"
             ],
             [
              0.5555555555555556,
              "#d8576b"
             ],
             [
              0.6666666666666666,
              "#ed7953"
             ],
             [
              0.7777777777777778,
              "#fb9f3a"
             ],
             [
              0.8888888888888888,
              "#fdca26"
             ],
             [
              1,
              "#f0f921"
             ]
            ],
            "type": "heatmap"
           }
          ],
          "heatmapgl": [
           {
            "colorbar": {
             "outlinewidth": 0,
             "ticks": ""
            },
            "colorscale": [
             [
              0,
              "#0d0887"
             ],
             [
              0.1111111111111111,
              "#46039f"
             ],
             [
              0.2222222222222222,
              "#7201a8"
             ],
             [
              0.3333333333333333,
              "#9c179e"
             ],
             [
              0.4444444444444444,
              "#bd3786"
             ],
             [
              0.5555555555555556,
              "#d8576b"
             ],
             [
              0.6666666666666666,
              "#ed7953"
             ],
             [
              0.7777777777777778,
              "#fb9f3a"
             ],
             [
              0.8888888888888888,
              "#fdca26"
             ],
             [
              1,
              "#f0f921"
             ]
            ],
            "type": "heatmapgl"
           }
          ],
          "histogram": [
           {
            "marker": {
             "pattern": {
              "fillmode": "overlay",
              "size": 10,
              "solidity": 0.2
             }
            },
            "type": "histogram"
           }
          ],
          "histogram2d": [
           {
            "colorbar": {
             "outlinewidth": 0,
             "ticks": ""
            },
            "colorscale": [
             [
              0,
              "#0d0887"
             ],
             [
              0.1111111111111111,
              "#46039f"
             ],
             [
              0.2222222222222222,
              "#7201a8"
             ],
             [
              0.3333333333333333,
              "#9c179e"
             ],
             [
              0.4444444444444444,
              "#bd3786"
             ],
             [
              0.5555555555555556,
              "#d8576b"
             ],
             [
              0.6666666666666666,
              "#ed7953"
             ],
             [
              0.7777777777777778,
              "#fb9f3a"
             ],
             [
              0.8888888888888888,
              "#fdca26"
             ],
             [
              1,
              "#f0f921"
             ]
            ],
            "type": "histogram2d"
           }
          ],
          "histogram2dcontour": [
           {
            "colorbar": {
             "outlinewidth": 0,
             "ticks": ""
            },
            "colorscale": [
             [
              0,
              "#0d0887"
             ],
             [
              0.1111111111111111,
              "#46039f"
             ],
             [
              0.2222222222222222,
              "#7201a8"
             ],
             [
              0.3333333333333333,
              "#9c179e"
             ],
             [
              0.4444444444444444,
              "#bd3786"
             ],
             [
              0.5555555555555556,
              "#d8576b"
             ],
             [
              0.6666666666666666,
              "#ed7953"
             ],
             [
              0.7777777777777778,
              "#fb9f3a"
             ],
             [
              0.8888888888888888,
              "#fdca26"
             ],
             [
              1,
              "#f0f921"
             ]
            ],
            "type": "histogram2dcontour"
           }
          ],
          "mesh3d": [
           {
            "colorbar": {
             "outlinewidth": 0,
             "ticks": ""
            },
            "type": "mesh3d"
           }
          ],
          "parcoords": [
           {
            "line": {
             "colorbar": {
              "outlinewidth": 0,
              "ticks": ""
             }
            },
            "type": "parcoords"
           }
          ],
          "pie": [
           {
            "automargin": true,
            "type": "pie"
           }
          ],
          "scatter": [
           {
            "fillpattern": {
             "fillmode": "overlay",
             "size": 10,
             "solidity": 0.2
            },
            "type": "scatter"
           }
          ],
          "scatter3d": [
           {
            "line": {
             "colorbar": {
              "outlinewidth": 0,
              "ticks": ""
             }
            },
            "marker": {
             "colorbar": {
              "outlinewidth": 0,
              "ticks": ""
             }
            },
            "type": "scatter3d"
           }
          ],
          "scattercarpet": [
           {
            "marker": {
             "colorbar": {
              "outlinewidth": 0,
              "ticks": ""
             }
            },
            "type": "scattercarpet"
           }
          ],
          "scattergeo": [
           {
            "marker": {
             "colorbar": {
              "outlinewidth": 0,
              "ticks": ""
             }
            },
            "type": "scattergeo"
           }
          ],
          "scattergl": [
           {
            "marker": {
             "colorbar": {
              "outlinewidth": 0,
              "ticks": ""
             }
            },
            "type": "scattergl"
           }
          ],
          "scattermapbox": [
           {
            "marker": {
             "colorbar": {
              "outlinewidth": 0,
              "ticks": ""
             }
            },
            "type": "scattermapbox"
           }
          ],
          "scatterpolar": [
           {
            "marker": {
             "colorbar": {
              "outlinewidth": 0,
              "ticks": ""
             }
            },
            "type": "scatterpolar"
           }
          ],
          "scatterpolargl": [
           {
            "marker": {
             "colorbar": {
              "outlinewidth": 0,
              "ticks": ""
             }
            },
            "type": "scatterpolargl"
           }
          ],
          "scatterternary": [
           {
            "marker": {
             "colorbar": {
              "outlinewidth": 0,
              "ticks": ""
             }
            },
            "type": "scatterternary"
           }
          ],
          "surface": [
           {
            "colorbar": {
             "outlinewidth": 0,
             "ticks": ""
            },
            "colorscale": [
             [
              0,
              "#0d0887"
             ],
             [
              0.1111111111111111,
              "#46039f"
             ],
             [
              0.2222222222222222,
              "#7201a8"
             ],
             [
              0.3333333333333333,
              "#9c179e"
             ],
             [
              0.4444444444444444,
              "#bd3786"
             ],
             [
              0.5555555555555556,
              "#d8576b"
             ],
             [
              0.6666666666666666,
              "#ed7953"
             ],
             [
              0.7777777777777778,
              "#fb9f3a"
             ],
             [
              0.8888888888888888,
              "#fdca26"
             ],
             [
              1,
              "#f0f921"
             ]
            ],
            "type": "surface"
           }
          ],
          "table": [
           {
            "cells": {
             "fill": {
              "color": "#EBF0F8"
             },
             "line": {
              "color": "white"
             }
            },
            "header": {
             "fill": {
              "color": "#C8D4E3"
             },
             "line": {
              "color": "white"
             }
            },
            "type": "table"
           }
          ]
         },
         "layout": {
          "annotationdefaults": {
           "arrowcolor": "#2a3f5f",
           "arrowhead": 0,
           "arrowwidth": 1
          },
          "autotypenumbers": "strict",
          "coloraxis": {
           "colorbar": {
            "outlinewidth": 0,
            "ticks": ""
           }
          },
          "colorscale": {
           "diverging": [
            [
             0,
             "#8e0152"
            ],
            [
             0.1,
             "#c51b7d"
            ],
            [
             0.2,
             "#de77ae"
            ],
            [
             0.3,
             "#f1b6da"
            ],
            [
             0.4,
             "#fde0ef"
            ],
            [
             0.5,
             "#f7f7f7"
            ],
            [
             0.6,
             "#e6f5d0"
            ],
            [
             0.7,
             "#b8e186"
            ],
            [
             0.8,
             "#7fbc41"
            ],
            [
             0.9,
             "#4d9221"
            ],
            [
             1,
             "#276419"
            ]
           ],
           "sequential": [
            [
             0,
             "#0d0887"
            ],
            [
             0.1111111111111111,
             "#46039f"
            ],
            [
             0.2222222222222222,
             "#7201a8"
            ],
            [
             0.3333333333333333,
             "#9c179e"
            ],
            [
             0.4444444444444444,
             "#bd3786"
            ],
            [
             0.5555555555555556,
             "#d8576b"
            ],
            [
             0.6666666666666666,
             "#ed7953"
            ],
            [
             0.7777777777777778,
             "#fb9f3a"
            ],
            [
             0.8888888888888888,
             "#fdca26"
            ],
            [
             1,
             "#f0f921"
            ]
           ],
           "sequentialminus": [
            [
             0,
             "#0d0887"
            ],
            [
             0.1111111111111111,
             "#46039f"
            ],
            [
             0.2222222222222222,
             "#7201a8"
            ],
            [
             0.3333333333333333,
             "#9c179e"
            ],
            [
             0.4444444444444444,
             "#bd3786"
            ],
            [
             0.5555555555555556,
             "#d8576b"
            ],
            [
             0.6666666666666666,
             "#ed7953"
            ],
            [
             0.7777777777777778,
             "#fb9f3a"
            ],
            [
             0.8888888888888888,
             "#fdca26"
            ],
            [
             1,
             "#f0f921"
            ]
           ]
          },
          "colorway": [
           "#636efa",
           "#EF553B",
           "#00cc96",
           "#ab63fa",
           "#FFA15A",
           "#19d3f3",
           "#FF6692",
           "#B6E880",
           "#FF97FF",
           "#FECB52"
          ],
          "font": {
           "color": "#2a3f5f"
          },
          "geo": {
           "bgcolor": "white",
           "lakecolor": "white",
           "landcolor": "#E5ECF6",
           "showlakes": true,
           "showland": true,
           "subunitcolor": "white"
          },
          "hoverlabel": {
           "align": "left"
          },
          "hovermode": "closest",
          "mapbox": {
           "style": "light"
          },
          "paper_bgcolor": "white",
          "plot_bgcolor": "#E5ECF6",
          "polar": {
           "angularaxis": {
            "gridcolor": "white",
            "linecolor": "white",
            "ticks": ""
           },
           "bgcolor": "#E5ECF6",
           "radialaxis": {
            "gridcolor": "white",
            "linecolor": "white",
            "ticks": ""
           }
          },
          "scene": {
           "xaxis": {
            "backgroundcolor": "#E5ECF6",
            "gridcolor": "white",
            "gridwidth": 2,
            "linecolor": "white",
            "showbackground": true,
            "ticks": "",
            "zerolinecolor": "white"
           },
           "yaxis": {
            "backgroundcolor": "#E5ECF6",
            "gridcolor": "white",
            "gridwidth": 2,
            "linecolor": "white",
            "showbackground": true,
            "ticks": "",
            "zerolinecolor": "white"
           },
           "zaxis": {
            "backgroundcolor": "#E5ECF6",
            "gridcolor": "white",
            "gridwidth": 2,
            "linecolor": "white",
            "showbackground": true,
            "ticks": "",
            "zerolinecolor": "white"
           }
          },
          "shapedefaults": {
           "line": {
            "color": "#2a3f5f"
           }
          },
          "ternary": {
           "aaxis": {
            "gridcolor": "white",
            "linecolor": "white",
            "ticks": ""
           },
           "baxis": {
            "gridcolor": "white",
            "linecolor": "white",
            "ticks": ""
           },
           "bgcolor": "#E5ECF6",
           "caxis": {
            "gridcolor": "white",
            "linecolor": "white",
            "ticks": ""
           }
          },
          "title": {
           "x": 0.05
          },
          "xaxis": {
           "automargin": true,
           "gridcolor": "white",
           "linecolor": "white",
           "ticks": "",
           "title": {
            "standoff": 15
           },
           "zerolinecolor": "white",
           "zerolinewidth": 2
          },
          "yaxis": {
           "automargin": true,
           "gridcolor": "white",
           "linecolor": "white",
           "ticks": "",
           "title": {
            "standoff": 15
           },
           "zerolinecolor": "white",
           "zerolinewidth": 2
          }
         }
        },
        "xaxis": {
         "anchor": "y",
         "domain": [
          0,
          1
         ],
         "title": {
          "text": "p_importance%"
         }
        },
        "yaxis": {
         "anchor": "x",
         "domain": [
          0,
          1
         ],
         "title": {
          "text": "importance_tree%"
         }
        }
       }
      }
     },
     "metadata": {},
     "output_type": "display_data"
    }
   ],
   "source": [
    "px.scatter(\n",
    "    p_imp_df,\n",
    "    x=\"p_importance%\",\n",
    "    y=\"importance_tree%\",\n",
    "    color=\"coverage\",\n",
    "    hover_data=[\"feature\"],\n",
    "    color_continuous_scale=\"matter\",\n",
    ")"
   ]
  },
  {
   "cell_type": "code",
   "execution_count": 10,
   "metadata": {},
   "outputs": [
    {
     "data": {
      "application/vnd.plotly.v1+json": {
       "config": {
        "plotlyServerURL": "https://plot.ly"
       },
       "data": [
        {
         "alignmentgroup": "True",
         "customdata": [
          [
           146350,
           0.06199471866747919,
           0.0009309487300316706,
           307
          ],
          [
           146580,
           0.0244385762971991,
           0.0007203125196585189,
           191
          ],
          [
           139756,
           0.007321642178436827,
           0.0005602767454109264,
           155
          ],
          [
           132692,
           0.007190737355271193,
           0.0008931025848826476,
           187
          ],
          [
           114229,
           0.00668065994086714,
           0.00029427415104623517,
           96
          ],
          [
           141325,
           0.005281332520820648,
           0.00046801727386930065,
           135
          ],
          [
           19578,
           0.005114316022298971,
           0.00041680249941503404,
           86
          ],
          [
           146511,
           0.004527501297763348,
           0.0007781311930581186,
           117
          ],
          [
           110180,
           0.004401110434017208,
           0.0010390934571409926,
           52
          ],
          [
           79775,
           0.00397679824858378,
           0.00019953538813551142,
           68
          ],
          [
           110180,
           0.0037556142370280265,
           0.00034216884299541795,
           75
          ],
          [
           141325,
           0.0037330444399304996,
           0.0010792611719383683,
           119
          ],
          [
           40252,
           0.0036743629674769298,
           0.0005079758917240244,
           38
          ],
          [
           115819,
           0.0036517931703794137,
           0.00033213663103613737,
           44
          ],
          [
           34388,
           0.002875392150224587,
           0.00047161695936475605,
           75
          ],
          [
           114064,
           0.002848308393707544,
           0.00040785815326973635,
           54
          ],
          [
           112989,
           0.0026903198140248883,
           0.0006571493996116764,
           103
          ],
          [
           113921,
           0.0025097614372446954,
           0.0003357973216583798,
           63
          ],
          [
           106609,
           0.002433024127113126,
           0.00022812248662275452,
           64
          ],
          [
           104522,
           0.002256979709752438,
           0.0005289235681741327,
           41
          ],
          [
           146953,
           0.002256979709752427,
           0.0006346890199155173,
           81
          ],
          [
           123837,
           0.0022524657503329216,
           0.0006398686746551627,
           76
          ],
          [
           24345,
           0.002220868034396395,
           0.00044767919356191794,
           41
          ],
          [
           116546,
           0.002211840115557373,
           0.0004979697247124505,
           102
          ],
          [
           146287,
           0.00216670052136233,
           0.00030213195261572624,
           92
          ],
          [
           110381,
           0.0021576726025233197,
           0.0004586946880794372,
           40
          ],
          [
           109341,
           0.002103505089489266,
           0.00024030210403243584,
           36
          ],
          [
           116609,
           0.001977114225743137,
           0.0004604681131670038,
           51
          ],
          [
           109344,
           0.0019545444286456102,
           0.0005395267391431265,
           22
          ],
          [
           101690,
           0.0018371814837384814,
           0.000490050536320576,
           32
          ],
          [
           15126,
           0.0017604441736068898,
           0.0005791253369433891,
           44
          ],
          [
           117882,
           0.0016882208228948148,
           0.0007435575038133783,
           57
          ],
          [
           93886,
           0.001665651025797299,
           0.00029128157275197617,
           20
          ],
          [
           102452,
           0.0016295393504412448,
           0.0003089342746251269,
           67
          ],
          [
           27142,
           0.0015934276750852127,
           0.0004904661504537191,
           30
          ],
          [
           94228,
           0.0015798857968267078,
           0.00018666191011023725,
           14
          ],
          [
           111373,
           0.001570857877987697,
           0.0006498534028056307,
           53
          ],
          [
           84197,
           0.0015663439185681916,
           0.0005771163758816199,
           35
          ],
          [
           25494,
           0.00154828808089017,
           0.0002999661042424369,
           64
          ],
          [
           105730,
           0.0014625228519195787,
           0.000593958849082291,
           26
          ],
          [
           110383,
           0.0014218972171440413,
           0.0004007013071735432,
           48
          ],
          [
           18207,
           0.0013902995012075037,
           0.00013956823828055107,
           33
          ],
          [
           12350,
           0.0013632157446904825,
           0.0006923595656396067,
           39
          ],
          [
           115822,
           0.0012864784345588908,
           0.00017598653657090624,
           29
          ],
          [
           32869,
           0.00127745051571988,
           0.0002948275584952031,
           24
          ],
          [
           102561,
           0.0012729365563003859,
           0.00027181383018167024,
           39
          ],
          [
           93886,
           0.0012684225968808693,
           0.00037397820077564623,
           24
          ],
          [
           26684,
           0.0012548807186223642,
           0.00027330896703852905,
           29
          ],
          [
           114101,
           0.00121876904326631,
           0.00040725821449937315,
           55
          ],
          [
           116590,
           0.0011736294490712674,
           0.0006745311526401819,
           54
          ],
          [
           102452,
           0.001146545692554246,
           0.0002236119092062229,
           56
          ],
          [
           5759,
           0.001065294423003149,
           0.00016973927981550334,
           28
          ],
          [
           13198,
           0.0010472385853251386,
           0.00019236035617542814,
           23
          ],
          [
           100995,
           0.0010336967070666224,
           0.0004998891624314707,
           24
          ],
          [
           137838,
           0.001015640869388601,
           0.0003261316156487969,
           39
          ],
          [
           107443,
           0.0009975850317105795,
           0.00015984770992960934,
           19
          ],
          [
           109536,
           0.0009930710722910851,
           0.0003071483212350902,
           39
          ],
          [
           89890,
           0.0009930710722910851,
           0.00036532408098582367,
           33
          ],
          [
           10771,
           0.0009750152346130637,
           0.0003894581824113285,
           25
          ],
          [
           115822,
           0.0009434175186765259,
           0.00022269883103878985,
           27
          ],
          [
           109342,
           0.0009343895998375151,
           0.0006232861043967601,
           52
          ],
          [
           91189,
           0.0009298756404180098,
           0.0003946553455552382,
           31
          ],
          [
           93847,
           0.0008531383302864181,
           0.00016237710292824932,
           16
          ],
          [
           111496,
           0.0008260545737694081,
           0.00021487584779672844,
           17
          ],
          [
           36497,
           0.0008079987360913643,
           0.0005039487480335963,
           28
          ],
          [
           111497,
           0.0008034847766718811,
           0.0003590229774103098,
           26
          ],
          [
           94226,
           0.0008034847766718811,
           0.00034513345256714106,
           35
          ],
          [
           109344,
           0.0007989708172523535,
           0.0003225507497226143,
           12
          ],
          [
           113536,
           0.0007854289389938596,
           0.00028348240175336934,
           36
          ],
          [
           110383,
           0.0007854289389938596,
           0.00026910165094975357,
           8
          ],
          [
           20260,
           0.0007628591418963326,
           0.0002360244017857541,
           22
          ],
          [
           99458,
           0.0007538312230573219,
           0.00032818689108797235,
           23
          ],
          [
           75135,
           0.0007448033042183111,
           0.0005184179712972531,
           14
          ],
          [
           104522,
           0.0007267474665403007,
           0.00007739828108191013,
           32
          ],
          [
           56948,
           0.0007222335071207841,
           0.0002635935869394363,
           51
          ],
          [
           24345,
           0.0006951497506037518,
           0.00019012291230417188,
           36
          ],
          [
           15362,
           0.0006409822375697094,
           0.00010547607778048067,
           28
          ],
          [
           25846,
           0.0006229263998916767,
           0.0002120119812366922,
           22
          ],
          [
           13198,
           0.0006184124404721714,
           0.00015413700840917916,
           2
          ],
          [
           104773,
           0.000600356602794161,
           0.0003983041671691651,
           13
          ],
          [
           40993,
           0.0005868147245356448,
           0.00031950415725164733,
           36
          ],
          [
           90087,
           0.0005823007651161505,
           0.00018688010061150746,
           26
          ],
          [
           113734,
           0.0005687588868576344,
           0.0002307865218798787,
           17
          ],
          [
           110364,
           0.0005642449274381178,
           0.00034049738715140684,
           6
          ],
          [
           84197,
           0.0005507030491796016,
           0.00041996807184825277,
           39
          ],
          [
           8278,
           0.0005236192926625916,
           0.00018021951183945617,
           6
          ],
          [
           96890,
           0.0005236192926625693,
           0.00016424858734429316,
           13
          ],
          [
           84892,
           0.000519105333243075,
           0.0001816833619743937,
           34
          ],
          [
           60050,
           0.0005145913738235697,
           0.0002398777665937615,
           14
          ],
          [
           104810,
           0.0005100774144040532,
           0.00021487584779672007,
           4
          ],
          [
           110383,
           0.0005055634549845589,
           0.00019341670874244735,
           35
          ],
          [
           106609,
           0.0005010494955650536,
           0.00024657955237316313,
           23
          ],
          [
           114229,
           0.00048750761730653736,
           0.00035731631439120225,
           20
          ],
          [
           17915,
           0.00048750761730652624,
           0.00007766109433763251,
           9
          ],
          [
           62767,
           0.000482993657887032,
           0.00023437840496078088,
           14
          ],
          [
           105360,
           0.0004739657390480323,
           0.00016400029001814492,
           16
          ],
          [
           106607,
           0.0004739657390480212,
           0.00027605362315517856,
           17
          ],
          [
           133132,
           0.0004694517796285158,
           0.0001379529807022482,
           40
          ],
          [
           83599,
           0.0004333401042724838,
           0.0002347258898142562,
           8
          ],
          [
           17702,
           0.00042431218543347303,
           0.00022269883103878332,
           11
          ],
          [
           64738,
           0.00041528426659446225,
           0.00011736294490711913,
           10
          ],
          [
           104734,
           0.000410770307174968,
           0.00017093548404325287,
           10
          ],
          [
           26622,
           0.0004107703071749569,
           0.00024781596102306784,
           11
          ],
          [
           117882,
           0.0004107703071749569,
           0.00028776270025971247,
           10
          ],
          [
           51391,
           0.0004062563477554626,
           0.0002117234640044888,
           9
          ],
          [
           17780,
           0.0004062563477554515,
           0.00016337789578038005,
           18
          ],
          [
           111238,
           0.0004062563477554515,
           0.00020287724336330365,
           18
          ],
          [
           102558,
           0.00039722842891644073,
           0.00023911206153699036,
           16
          ],
          [
           113536,
           0.00039722842891644073,
           0.00020567017852519173,
           23
          ],
          [
           74296,
           0.00039271446949694643,
           0.0002001471485534585,
           6
          ],
          [
           108196,
           0.0003927144694969353,
           0.0002551884627729804,
           29
          ],
          [
           104809,
           0.00038820051007742995,
           0.00029613775641511764,
           16
          ],
          [
           109344,
           0.00038368655065793564,
           0.0002869117490612545,
           22
          ],
          [
           110295,
           0.0003791725912384414,
           0.00011185150602264331,
           10
          ],
          [
           16406,
           0.00037917259123841917,
           0.00006755875842233609,
           12
          ],
          [
           11183,
           0.0003701446723994195,
           0.00040665739064455196,
           35
          ],
          [
           109806,
           0.0003701446723994084,
           0.00017283219102242408,
           16
          ],
          [
           114229,
           0.00036563071297991413,
           0.0004010571021507375,
           31
          ],
          [
           58693,
           0.0003611167535604087,
           0.0002252461227323005,
           5
          ],
          [
           99894,
           0.00036111675356039765,
           0.00015173887931000502,
           18
          ],
          [
           105839,
           0.00035660279414090335,
           0.0002249745781818164,
           19
          ],
          [
           48440,
           0.00035660279414090335,
           0.000173303124295957,
           6
          ],
          [
           105790,
           0.00034757487530189256,
           0.0002603267358258809,
           17
          ],
          [
           97917,
           0.0003385469564628818,
           0.0002581258664408826,
           29
          ],
          [
           100256,
           0.0003340329970433653,
           0.0002547089350155283,
           13
          ],
          [
           19627,
           0.0003295190376238821,
           0.00005264136046082327,
           9
          ],
          [
           84197,
           0.00032951903762387105,
           0.00030867034098048445,
           21
          ],
          [
           99303,
           0.00032500507820437674,
           0.0001662216140972955,
           10
          ],
          [
           95929,
           0.00032500507820436563,
           0.00007766109433760929,
           19
          ],
          [
           113734,
           0.0003159771593653438,
           0.0003493582968088785,
           21
          ],
          [
           110383,
           0.0003114631999458606,
           0.00037041981156799817,
           15
          ],
          [
           99303,
           0.0003114631999458606,
           0.0002190084541171104,
           13
          ],
          [
           85965,
           0.0003114631999458495,
           0.00034359504789735295,
           11
          ],
          [
           110364,
           0.0003114631999458495,
           0.00014087603795631895,
           9
          ],
          [
           96061,
           0.00031146319994583837,
           0.0002360244017857507,
           19
          ],
          [
           107296,
           0.0003069492405263441,
           0.0002839133354732422,
           15
          ],
          [
           123837,
           0.0003024352811068387,
           0.0003985598673734538,
           49
          ],
          [
           104811,
           0.0003024352811068387,
           0.0003253810240538074,
           17
          ],
          [
           51393,
           0.00029792132168734444,
           0.00010032776207322502,
           6
          ],
          [
           56717,
           0.00029792132168733333,
           0.00016111737014534478,
           11
          ],
          [
           123837,
           0.00029792132168733333,
           0.00020557108423925448,
           25
          ],
          [
           29669,
           0.00028889340284833366,
           0.00009403781188525158,
           9
          ],
          [
           98997,
           0.0002843794434288172,
           0.0002466621724299018,
           23
          ],
          [
           39514,
           0.00028437944342880607,
           0.00024953664136295457,
           11
          ],
          [
           72457,
           0.00027986548400931176,
           0.0003632545564128492,
           13
          ],
          [
           93945,
           0.00027986548400930065,
           0.0002282117888327295,
           14
          ],
          [
           108747,
           0.0002753515245898175,
           0.00015066079191349954,
           12
          ],
          [
           123837,
           0.0002708375651703121,
           0.00012196046752076354,
           13
          ],
          [
           95234,
           0.000270837565170301,
           0.00012926012651071458,
           11
          ],
          [
           104734,
           0.0002663236057508067,
           0.0001364679753341964,
           19
          ],
          [
           17469,
           0.0002663236057508067,
           0.00009294811330928427,
           10
          ],
          [
           108196,
           0.0002663236057507956,
           0.0001703384319779064,
           16
          ],
          [
           105944,
           0.0002618096463313013,
           0.0001281519359611651,
           14
          ],
          [
           84937,
           0.0002618096463313013,
           0.00009639179589709166,
           10
          ],
          [
           102561,
           0.00026180964633129025,
           0.00017105464438121212,
           26
          ],
          [
           110166,
           0.00025729568691179594,
           0.0005296165318767277,
           54
          ],
          [
           27918,
           0.00025278172749230163,
           0.0000760705962775852,
           4
          ],
          [
           72767,
           0.00024826776807278516,
           0.00019204231734202995,
           14
          ],
          [
           111238,
           0.00024826776807278516,
           0.00022928070235765443,
           21
          ],
          [
           96999,
           0.00024826776807277404,
           0.00023671402897288712,
           16
          ],
          [
           75154,
           0.00024826776807277404,
           0.0004516215835251592,
           31
          ],
          [
           93157,
           0.00024375380865329088,
           0.00007739828108192567,
           7
          ],
          [
           26622,
           0.0002437538086532798,
           0.00016853458552910946,
           14
          ],
          [
           99303,
           0.00023923984923378548,
           0.00010833502606812928,
           8
          ],
          [
           91047,
           0.0002392398492337744,
           0.00009095376206743186,
           14
          ],
          [
           50930,
           0.00023923984923376329,
           0.0002842719478878441,
           25
          ],
          [
           88227,
           0.00023923984923376329,
           0.00014317152167515592,
           10
          ],
          [
           90125,
           0.0002347258898142579,
           0.00019810060042423655,
           9
          ],
          [
           2549,
           0.00023021193039477473,
           0.00007471932361590237,
           5
          ],
          [
           102561,
           0.00022569797097526934,
           0.00006845758407522517,
           4
          ],
          [
           108311,
           0.00022569797097525822,
           0.00010681977625385282,
           7
          ],
          [
           104727,
           0.00022569797097525822,
           0.0001300459095934042,
           11
          ],
          [
           90732,
           0.00022118401155576394,
           0.00009294811330930368,
           13
          ],
          [
           46711,
           0.00022118401155575286,
           0.0002143061361946382,
           15
          ],
          [
           93447,
           0.00022118401155574174,
           0.0002461660361466352,
           14
          ],
          [
           27665,
           0.00021667005213625855,
           0.00003377937921118029,
           18
          ],
          [
           33524,
           0.00021667005213624747,
           0.0002299905514317418,
           17
          ],
          [
           7266,
           0.00021667005213624747,
           0.00016187438623279607,
           18
          ],
          [
           108221,
           0.00021215609271675319,
           0.0003718472535106221,
           12
          ],
          [
           100995,
           0.00021215609271673096,
           0.00017517419741288565,
           12
          ],
          [
           62664,
           0.00020764213329723668,
           0.0002877627002597165,
           21
          ],
          [
           15507,
           0.00020764213329723668,
           0.0003002376897251598,
           30
          ],
          [
           89607,
           0.0002031281738777313,
           0.00016462033113332798,
           6
          ],
          [
           96061,
           0.0002031281738777202,
           0.0002323702832732344,
           9
          ],
          [
           110364,
           0.000198614214458237,
           0.000022113794594835906,
           7
          ],
          [
           27821,
           0.00019410025503873162,
           0.00018033253757137384,
           9
          ],
          [
           79648,
           0.00019410025503873162,
           0.0002214141958323585,
           16
          ],
          [
           6940,
           0.00018958629561922625,
           0.00006319543187307542,
           7
          ],
          [
           55949,
           0.00018507233619973195,
           0.00017851553870300828,
           20
          ],
          [
           1078,
           0.00018507233619972086,
           0.00008612085687742937,
           11
          ],
          [
           104810,
           0.00018507233619972086,
           0.00011275867015865092,
           5
          ],
          [
           104522,
           0.00018507233619972086,
           0.00013268276756901544,
           13
          ],
          [
           67533,
           0.00018507233619970975,
           0.00011891520411961175,
           5
          ],
          [
           51952,
           0.00018055837678022658,
           0.00015505959814311672,
           14
          ],
          [
           77853,
           0.00018055837678021547,
           0.00008200014500908315,
           3
          ],
          [
           108216,
           0.00018055837678021547,
           0.0002577308763603072,
           19
          ],
          [
           80687,
           0.00018055837678019327,
           0.0003239375289323857,
           19
          ],
          [
           104734,
           0.00017604441736071008,
           0.000043764460310261936,
           5
          ],
          [
           70656,
           0.00017604441736071008,
           0.00007051030018649548,
           7
          ],
          [
           88227,
           0.00017604441736071008,
           0.00009294811330930368,
           10
          ],
          [
           96311,
           0.0001715304579412158,
           0.0001466863187240985,
           10
          ],
          [
           107444,
           0.00017153045794120468,
           0.0000920670686544957,
           11
          ],
          [
           82275,
           0.0001715304579411936,
           0.00014599012913351367,
           17
          ],
          [
           87499,
           0.0001715304579411936,
           0.00019706935656165853,
           11
          ],
          [
           44791,
           0.00016701649852169932,
           0.0002214141958323596,
           9
          ],
          [
           77853,
           0.00016701649852169932,
           0.0000839644987823171,
           9
          ],
          [
           130413,
           0.0001670164985216882,
           0.00015011884486258007,
           5
          ],
          [
           99259,
           0.00016250253910219393,
           0.00014373966486643338,
           13
          ],
          [
           109536,
           0.00016250253910219393,
           0.00010908475837764771,
           14
          ],
          [
           89307,
           0.00016250253910219393,
           0.00012719437383354454,
           20
          ],
          [
           83962,
           0.00016250253910218281,
           0.00019540804678190143,
           14
          ],
          [
           111316,
           0.00015798857968269965,
           0.00020832790772048925,
           16
          ],
          [
           111316,
           0.00015798857968268853,
           0.0000957555394659945,
           11
          ],
          [
           116609,
           0.00015798857968268853,
           0.0005634318288895121,
           30
          ],
          [
           23822,
           0.00015347462026318314,
           0.00006755875842236058,
           3
          ],
          [
           55652,
           0.00015347462026318314,
           0.00008959953615131563,
           12
          ],
          [
           73783,
           0.00015347462026317206,
           0.00020055395212064436,
           15
          ],
          [
           69286,
           0.00014896066084367775,
           0.000048616830813507404,
           7
          ],
          [
           43711,
           0.00014896066084367775,
           0.00007633798056871326,
           5
          ],
          [
           13064,
           0.00014896066084367775,
           0.00006634138378450772,
           2
          ],
          [
           84689,
           0.00014896066084367775,
           0.00013051510862665294,
           11
          ],
          [
           43711,
           0.00014896066084367775,
           0.00024165497667319523,
           10
          ],
          [
           82435,
           0.00014896066084367775,
           0.00005637933507932547,
           6
          ],
          [
           77465,
           0.00014444670142417239,
           0.0007035987186999299,
           59
          ],
          [
           15304,
           0.00014444670142417239,
           0.00024994458121573834,
           9
          ],
          [
           108196,
           0.00013993274200467808,
           0.00013496663179836897,
           13
          ],
          [
           21870,
           0.00013993274200467808,
           0.00013344839866471676,
           14
          ],
          [
           87605,
           0.000139932742004667,
           0.00013646797533421693,
           7
          ],
          [
           16974,
           0.000139932742004667,
           0.00006603353347475403,
           4
          ],
          [
           104748,
           0.000139932742004667,
           0.00006755875842236058,
           3
          ],
          [
           84689,
           0.000139932742004667,
           0.00023515952382478675,
           5
          ],
          [
           69286,
           0.000139932742004667,
           0.0002114345530707101,
           12
          ],
          [
           133144,
           0.00013541878258517271,
           0.0002966876877270825,
           15
          ],
          [
           55278,
           0.00013541878258517271,
           0.00017540667820187183,
           12
          ],
          [
           8665,
           0.00013541878258517271,
           0.0001503900625089286,
           9
          ],
          [
           90732,
           0.0001354187825851616,
           0.00013160340115209865,
           15
          ],
          [
           101690,
           0.0001354187825851616,
           0.0004080080001255511,
           25
          ],
          [
           17702,
           0.0001354187825851505,
           0.0001759865365709105,
           13
          ],
          [
           125906,
           0.00013090482316566732,
           0.00016609898655268264,
           13
          ],
          [
           110364,
           0.0001309048231656562,
           0.00024945497333871505,
           11
          ],
          [
           85108,
           0.0001309048231656562,
           0.00005954321420215577,
           7
          ],
          [
           70370,
           0.00012639086374616193,
           0.00011561377186327221,
           6
          ],
          [
           20049,
           0.00012639086374615082,
           0.00013051510862665294,
           7
          ],
          [
           19470,
           0.00012639086374615082,
           0.0000963917958971057,
           6
          ],
          [
           107447,
           0.00012639086374615082,
           0.00008150165926499227,
           5
          ],
          [
           58690,
           0.00012639086374613973,
           0.00029928606232424885,
           10
          ],
          [
           123837,
           0.00012187690432665654,
           0.0001631282731811511,
           27
          ],
          [
           79648,
           0.00012187690432664544,
           0.00006785968979337261,
           9
          ],
          [
           125906,
           0.00012187690432664544,
           0.0000839644987823171,
           8
          ],
          [
           85767,
           0.00012187690432664544,
           0.00006634138378450772,
           4
          ],
          [
           73835,
           0.00011736294490715116,
           0.0001465473453923565,
           7
          ],
          [
           30345,
           0.00011736294490715116,
           0.00035782916798892544,
           35
          ],
          [
           104811,
           0.00011736294490714006,
           0.00033458154170143645,
           28
          ],
          [
           45459,
           0.00011284898548763467,
           0.00008682774307298516,
           3
          ],
          [
           12465,
           0.00011284898548763467,
           0.00007417192193178076,
           4
          ],
          [
           113724,
           0.00010833502606814039,
           0.00016853458552910114,
           19
          ],
          [
           102289,
           0.00010833502606814039,
           0.0002000453184026085,
           23
          ],
          [
           2909,
           0.00010833502606812928,
           0.00005954321420215578,
           8
          ],
          [
           33048,
           0.00010833502606812928,
           0.00005601676324730818,
           6
          ],
          [
           84056,
           0.0001038210666486239,
           0.00006478750578648579,
           7
          ],
          [
           87504,
           0.0001038210666486239,
           0.0000839644987823171,
           11
          ],
          [
           72457,
           0.0001038210666486239,
           0.00015740714355894002,
           7
          ],
          [
           100995,
           0.0001038210666486239,
           0.0001064375933604449,
           11
          ],
          [
           93094,
           0.0001038210666486239,
           0.00011649164150644877,
           9
          ],
          [
           107442,
           0.0000993071072291296,
           0.00015675857407800896,
           11
          ],
          [
           30756,
           0.0000993071072291185,
           0.00007362045017853676,
           7
          ],
          [
           93907,
           0.0000993071072291185,
           0.00006785968979337261,
           13
          ],
          [
           56060,
           0.0000993071072291185,
           0.00007362045017853677,
           15
          ],
          [
           27947,
           0.0000993071072291185,
           0.00005066906881677043,
           4
          ],
          [
           60124,
           0.0000993071072291185,
           0.00011112044259455815,
           12
          ],
          [
           89169,
           0.00009479314780962423,
           0.0001553221886752518,
           10
          ],
          [
           25496,
           0.00009479314780961313,
           0.000016889689605590145,
           2
          ],
          [
           87785,
           0.00009479314780961313,
           0.00002994221942677967,
           6
          ],
          [
           107290,
           0.00009479314780961313,
           0.00029371970090500543,
           22
          ],
          [
           97897,
           0.00009479314780961313,
           0.0001546648764214591,
           14
          ],
          [
           110416,
           0.00009479314780961313,
           0.00006123032462704423,
           2
          ],
          [
           108576,
           0.00009027918839011883,
           0.00020387911238651683,
           8
          ],
          [
           5243,
           0.00009027918839010773,
           0.00005528448648708977,
           4
          ],
          [
           95467,
           0.00008576522897061346,
           0.00009511502699665324,
           6
          ],
          [
           2703,
           0.00008576522897060234,
           0.00007471932361590237,
           1
          ],
          [
           4057,
           0.00008576522897060234,
           0.00011185150602266391,
           9
          ],
          [
           11087,
           0.00008576522897060234,
           0.00006287217946232365,
           1
          ],
          [
           69286,
           0.00008576522897060234,
           0.00020557108423924545,
           11
          ],
          [
           102561,
           0.00008576522897060234,
           0.00003317069189225386,
           1
          ],
          [
           85068,
           0.00008125126955110806,
           0.00016312827318115236,
           3
          ],
          [
           74439,
           0.00008125126955110806,
           0.00017283219102243017,
           12
          ],
          [
           125879,
           0.00008125126955109696,
           0.00012735446750777675,
           21
          ],
          [
           4302,
           0.00008125126955109696,
           0.00008024189782487379,
           2
          ],
          [
           54242,
           0.00008125126955109696,
           0.000039351785889735006,
           7
          ],
          [
           85098,
           0.00008125126955109696,
           0.00024417141013922884,
           2
          ],
          [
           93886,
           0.00008125126955109696,
           0.00005066906881677043,
           5
          ],
          [
           104734,
           0.00007673731013161378,
           0.0001891559061977267,
           13
          ],
          [
           93945,
           0.00007673731013160267,
           0.00021629356175250508,
           21
          ],
          [
           111297,
           0.00007673731013160267,
           0.00011908642840429597,
           17
          ],
          [
           35729,
           0.00007673731013159157,
           0.00005988443885355934,
           1
          ],
          [
           32593,
           0.00007673731013159157,
           0.00006634138378450772,
           6
          ],
          [
           48730,
           0.00007673731013159157,
           0.0001745916411024231,
           5
          ],
          [
           22672,
           0.00007673731013159157,
           0.000023016767163623925,
           2
          ],
          [
           50687,
           0.00007222335071209729,
           0.00012394908450354206,
           14
          ],
          [
           103703,
           0.00007222335071209729,
           0.00011631659761865883,
           12
          ],
          [
           9068,
           0.00007222335071208619,
           0.000043764460310261936,
           11
          ],
          [
           72892,
           0.00007222335071208619,
           0.000022113794594835906,
           2
          ],
          [
           96233,
           0.00007222335071208619,
           0.00016913800523794383,
           5
          ],
          [
           15567,
           0.00007222335071208619,
           0.00010528272092167891,
           8
          ],
          [
           133144,
           0.00007222335071208619,
           0.00032594412979502547,
           24
          ],
          [
           25498,
           0.0000677093912925808,
           0.00002854878606241702,
           2
          ],
          [
           38816,
           0.0000677093912925808,
           0.00006845758407522517,
           2
          ],
          [
           19808,
           0.0000677093912925808,
           0.00010776930404960683,
           15
          ],
          [
           111497,
           0.0000677093912925808,
           0.00007137196515604255,
           14
          ],
          [
           3374,
           0.0000677093912925808,
           0.00001427439303120851,
           2
          ],
          [
           54700,
           0.00006319543187308652,
           0.00028776270025971995,
           21
          ],
          [
           70807,
           0.00006319543187308652,
           0.0001750578412410323,
           5
          ],
          [
           67533,
           0.00006319543187307541,
           0.000026320680230419727,
           3
          ],
          [
           95929,
           0.00006319543187307541,
           0.00011275867015865094,
           15
          ],
          [
           71316,
           0.00006319543187307541,
           0.00010233853836870978,
           10
          ],
          [
           5290,
           0.00006319543187307541,
           0.00008845517837934362,
           8
          ],
          [
           83363,
           0.00006319543187307541,
           0.00005954321420215577,
           1
          ],
          [
           88942,
           0.00005868147245359223,
           0.0001928892555959245,
           11
          ],
          [
           52144,
           0.00005868147245359223,
           0.0001656075683557322,
           20
          ],
          [
           70355,
           0.00005868147245358113,
           0.0001528093608667808,
           9
          ],
          [
           32323,
           0.00005868147245358113,
           0.0001618743862328035,
           3
          ],
          [
           101104,
           0.00005868147245358113,
           0.00009316707265465483,
           7
          ],
          [
           22541,
           0.00005868147245357003,
           0.00002708375651703232,
           1
          ],
          [
           58525,
           0.00005868147245357003,
           0.00006156219873603526,
           5
          ],
          [
           40709,
           0.00005868147245357003,
           0.000046474056654651845,
           2
          ],
          [
           42725,
           0.00005868147245357003,
           0.000023016767163623925,
           3
          ],
          [
           60500,
           0.000054167513034086844,
           0.00013283624681933897,
           10
          ],
          [
           45444,
           0.000054167513034075744,
           0.0002046770767374007,
           16
          ],
          [
           70807,
           0.00005416751303406464,
           0.000023016767163623925,
           1
          ],
          [
           28933,
           0.00005416751303406464,
           0.00005815829880933824,
           3
          ],
          [
           1333,
           0.00005416751303406464,
           0.000023016767163623925,
           6
          ],
          [
           35729,
           0.00005416751303406464,
           0.000058158298809338236,
           1
          ],
          [
           72263,
           0.00005416751303406464,
           0.00005066906881677043,
           5
          ],
          [
           55797,
           0.00005416751303406464,
           0.00005988443885355934,
           11
          ],
          [
           253,
           0.00005416751303406464,
           0.000023016767163623925,
           2
          ],
          [
           1869,
           0.00004965355361457036,
           0.00014015098920044556,
           4
          ],
          [
           20771,
           0.00004965355361457036,
           0.00009184548694054943,
           5
          ],
          [
           39505,
           0.00004965355361457036,
           0.00021760842834212717,
           8
          ],
          [
           57036,
           0.00004965355361457036,
           0.0002478159610230488,
           18
          ],
          [
           6550,
           0.00004965355361455925,
           0.000009027918839010772,
           1
          ],
          [
           2161,
           0.00004965355361455925,
           0.00004819589794855285,
           3
          ],
          [
           90732,
           0.00004965355361455925,
           0.00006287217946232365,
           8
          ],
          [
           26622,
           0.00004965355361455925,
           0.00006287217946232365,
           6
          ],
          [
           99899,
           0.00004513959419507607,
           0.00025051458100094193,
           21
          ],
          [
           91046,
           0.000045139594195064967,
           0.00009992075121844452,
           2
          ],
          [
           109536,
           0.000045139594195064967,
           0.0003084722425489396,
           11
          ],
          [
           104748,
           0.00004513959419505387,
           0.00006056112065813721,
           11
          ],
          [
           51787,
           0.00004513959419505387,
           0.000024723973977260253,
           4
          ],
          [
           35532,
           0.00004062563477555958,
           0.00018796725405608548,
           8
          ],
          [
           58693,
           0.00004062563477555958,
           0.00009618017808771198,
           5
          ],
          [
           19085,
           0.00004062563477555958,
           0.00017212337522231366,
           6
          ],
          [
           93157,
           0.00004062563477554848,
           0.00004603353432724785,
           7
          ],
          [
           2410,
           0.00004062563477554848,
           0.00006905030149087178,
           4
          ],
          [
           21655,
           0.00004062563477554848,
           0.00003611167535604309,
           7
          ],
          [
           3337,
           0.00004062563477554848,
           0.000043764460310261936,
           2
          ],
          [
           5604,
           0.00004062563477554848,
           0.000026320680230419727,
           3
          ],
          [
           68404,
           0.00004062563477554848,
           0.00003611167535604309,
           5
          ],
          [
           55367,
           0.000036111675356065295,
           0.0001567585740780045,
           21
          ],
          [
           107444,
           0.000036111675356054196,
           0.00014668631872410875,
           10
          ],
          [
           126401,
           0.000036111675356054196,
           0.0000909537620674313,
           3
          ],
          [
           113734,
           0.000036111675356054196,
           0.00007079868707588284,
           8
          ],
          [
           57957,
           0.000036111675356054196,
           0.00008150165926497196,
           7
          ],
          [
           61330,
           0.000036111675356043096,
           0.00009206706865449571,
           6
          ],
          [
           2114,
           0.000036111675356043096,
           0.000036671579681030006,
           2
          ],
          [
           38376,
           0.00003159771593655991,
           0.00017105464438121505,
           6
          ],
          [
           24441,
           0.00003159771593654881,
           0.00019551229221304316,
           10
          ],
          [
           40390,
           0.000031597715936537704,
           0.00003061516231352212,
           2
          ],
          [
           21799,
           0.000031597715936537704,
           0.000023016767163623925,
           4
          ],
          [
           53343,
           0.000031597715936537704,
           0.000018055837678021545,
           3
          ],
          [
           1886,
           0.000031597715936537704,
           0.000018055837678021548,
           1
          ],
          [
           95391,
           0.000027083756517054525,
           0.0001697392798154995,
           8
          ],
          [
           85262,
           0.000027083756517054525,
           0.0002226988310387644,
           16
          ],
          [
           113734,
           0.000027083756517043422,
           0.0001154373968225725,
           3
          ],
          [
           85965,
           0.000027083756517043422,
           0.00019748250032027324,
           10
          ],
          [
           58793,
           0.00002708375651703232,
           0.000057806885931646513,
           5
          ],
          [
           14588,
           0.00002708375651703232,
           0.000009027918839010772,
           1
          ],
          [
           1659,
           0.00002708375651703232,
           0.00002994221942677967,
           1
          ],
          [
           110359,
           0.00002256979709754914,
           0.00032172847958481275,
           15
          ],
          [
           88374,
           0.00002256979709754914,
           0.00015636814115772328,
           10
          ],
          [
           51156,
           0.000022569797097538036,
           0.00012767405262131425,
           14
          ],
          [
           103703,
           0.000022569797097538036,
           0.0001150838358181044,
           9
          ],
          [
           53345,
           0.000022569797097538036,
           0.00007553298815392244,
           7
          ],
          [
           85003,
           0.000022569797097538036,
           0.00013160340115208152,
           6
          ],
          [
           11470,
           0.000022569797097538036,
           0.00009360345477385862,
           7
          ],
          [
           1028,
           0.000022569797097526934,
           0.00006845758407522518,
           2
          ],
          [
           439,
           0.000022569797097526934,
           0.000020187040219379068,
           2
          ],
          [
           3194,
           0.000022569797097526934,
           0.000020187040219379068,
           1
          ],
          [
           2887,
           0.000022569797097526934,
           0,
           2
          ],
          [
           1597,
           0.000022569797097526934,
           0.00006845758407522518,
           3
          ],
          [
           56627,
           0.000022569797097526934,
           0.0000473428057945825,
           10
          ],
          [
           88374,
           0.000018055837678032648,
           0.00007870357177945154,
           14
          ],
          [
           15442,
           0.000018055837678032648,
           0.00012799283976580288,
           4
          ],
          [
           17341,
           0.000018055837678032648,
           0.00009184548694055325,
           6
          ],
          [
           73835,
           0.000018055837678032648,
           0.00008729582055121356,
           6
          ],
          [
           104748,
           0.000018055837678032648,
           0.00019953538813551869,
           9
          ],
          [
           40773,
           0.000018055837678021548,
           0.000016889689605590145,
           1
          ],
          [
           4708,
           0.000018055837678021548,
           0.000022113794594835906,
           3
          ],
          [
           6550,
           0.000018055837678021548,
           0.00003317069189225386,
           1
          ],
          [
           23827,
           0.000018055837678021548,
           0.000022113794594835906,
           1
          ],
          [
           5439,
           0.000018055837678021548,
           0.000009027918839010772,
           1
          ],
          [
           3675,
           0.000018055837678021548,
           0.00005225285802600799,
           4
          ],
          [
           98991,
           0.000018055837678021548,
           0.000059543214202155784,
           7
          ],
          [
           8533,
           0.000013541878258538365,
           0.0000984829676090414,
           7
          ],
          [
           94226,
           0.000013541878258527262,
           0.00007362045017851772,
           9
          ],
          [
           51393,
           0.00001354187825851616,
           0.00006319543187307541,
           4
          ],
          [
           25390,
           0.00001354187825851616,
           0.000018055837678021545,
           1
          ],
          [
           6079,
           0.00001354187825851616,
           0.000011056897297417955,
           2
          ],
          [
           123837,
           0.000009027918839032978,
           0.00015347462026316224,
           10
          ],
          [
           1438,
           0.000009027918839010774,
           0.000018055837678021545,
           1
          ],
          [
           3960,
           0.000009027918839010774,
           0.00003377937921118029,
           2
          ],
          [
           1244,
           0.000009027918839010774,
           0.00004422758918967181,
           1
          ],
          [
           5220,
           0.000009027918839010774,
           0.00004422758918967181,
           4
          ],
          [
           104748,
           0.000009027918839010774,
           0.000011056897297417953,
           1
          ],
          [
           109344,
           0.000004513959419527591,
           0.00016174846292611576,
           20
          ],
          [
           37323,
           0.000004513959419516489,
           0.00007998756470385253,
           6
          ],
          [
           120919,
           0.000004513959419516489,
           0.00011093692398442009,
           8
          ],
          [
           93157,
           0.000004513959419516489,
           0.00011455144821765527,
           9
          ],
          [
           3465,
           0.000004513959419505387,
           0.000016889689605590145,
           1
          ],
          [
           50171,
           0.000004513959419505387,
           0.000009027918839010774,
           4
          ],
          [
           1259,
           0.000004513959419505387,
           0.000016889689605590145,
           2
          ],
          [
           4036,
           0.000004513959419505387,
           0.000016889689605590145,
           1
          ],
          [
           35168,
           0.000004513959419505387,
           0.000022113794594835906,
           1
          ],
          [
           10590,
           0.000004513959419505387,
           0.000009027918839010774,
           1
          ],
          [
           74192,
           0.000004513959419505387,
           0.000016889689605590145,
           1
          ],
          [
           73341,
           2.2204460492503132e-17,
           0.00018224325039552214,
           13
          ],
          [
           97897,
           2.2204460492503132e-17,
           0.00023628324785343423,
           9
          ],
          [
           4302,
           2.2204460492503132e-17,
           0.00011148657354574025,
           9
          ],
          [
           1073,
           1.1102230246251566e-17,
           0.00008200014500906786,
           3
          ],
          [
           89391,
           1.1102230246251566e-17,
           0.000071371965156025,
           5
          ]
         ],
         "hovertemplate": "feature=%{x}<br>p_importance%=%{y}<br>abon_count=%{customdata[0]}<br>mean=%{customdata[1]}<br>std=%{customdata[2]}<br>importance_tree=%{customdata[3]}<br>coverage=%{marker.color}<extra></extra>",
         "legendgroup": "",
         "marker": {
          "color": [
           0.9958966472273448,
           0.997461773492205,
           0.9510251577034834,
           0.9029553666818643,
           0.7773165569944132,
           0.9617020407885515,
           0.13322626962362116,
           0.996992235612747,
           0.7497635298360701,
           0.5428606425183562,
           0.7497635298360701,
           0.9617020407885515,
           0.2739107061441413,
           0.7881363429123598,
           0.23400679128701013,
           0.776193749021796,
           0.7688784849577757,
           0.7752206487788613,
           0.7254632433499146,
           0.7112614237205093,
           1,
           0.8426980054847468,
           0.1656652126870496,
           0.7930835028886787,
           0.9954679387287092,
           0.7511313140936218,
           0.7440542214177323,
           0.7935122113873143,
           0.7440746361081434,
           0.6919899559723177,
           0.1029308690533708,
           0.8021748450184752,
           0.638884541315931,
           0.6971752873367676,
           0.1846985090471103,
           0.64121181602281,
           0.7578817717229318,
           0.5729518961844944,
           0.17348403911454682,
           0.7194817390594271,
           0.7511449238872292,
           0.12389675610569366,
           0.08404047552618865,
           0.7881567576027709,
           0.22367015304212912,
           0.6979170210883752,
           0.638884541315931,
           0.1815818663109974,
           0.7764455302035345,
           0.7933829183480432,
           0.6971752873367676,
           0.0391894006927385,
           0.08981102801576014,
           0.6872605526937184,
           0.9379733656339102,
           0.7311385272842338,
           0.7453811762944615,
           0.6116921736881861,
           0.07329554347308323,
           0.7881567576027709,
           0.744061026314536,
           0.6205317346362442,
           0.6386191503405851,
           0.7587187740297918,
           0.24835831864609773,
           0.7587255789265955,
           0.6411982062292025,
           0.7440746361081434,
           0.7726007635094214,
           0.7511449238872292,
           0.13786720924377183,
           0.6768014263063701,
           0.5112859213490027,
           0.7112614237205093,
           0.3875252631793839,
           0.1656652126870496,
           0.10453682469905344,
           0.1758793627894633,
           0.08981102801576014,
           0.712969452818248,
           0.27895313467571264,
           0.6130327383585228,
           0.7739481330765619,
           0.7510156308479582,
           0.5729518961844944,
           0.05633093574135948,
           0.6593264513143658,
           0.5776812994630937,
           0.4086340530645853,
           0.7132212339999864,
           0.7511449238872292,
           0.7254632433499146,
           0.7773165569944132,
           0.12190972623900159,
           0.4271229576803468,
           0.7169639272420434,
           0.7254496335563071,
           0.9059495212755099,
           0.5688825678958579,
           0.12046028321980497,
           0.44053540928051826,
           0.7127040618429021,
           0.1811599627091655,
           0.8021748450184752,
           0.34971045164100084,
           0.1209910651704967,
           0.7569631106544269,
           0.697896606397964,
           0.7726007635094214,
           0.5055766129306649,
           0.7362626145774499,
           0.7132144291031827,
           0.7440746361081434,
           0.7505460929685002,
           0.11164113696215797,
           0.0760991609562241,
           0.7472184984314713,
           0.7773165569944132,
           0.3993998081019101,
           0.6797683613128007,
           0.7202234728110348,
           0.3296292011731642,
           0.7198900328676515,
           0.6663150803318068,
           0.6822317339557545,
           0.13355970956700441,
           0.5729518961844944,
           0.6757466673017903,
           0.6527869454859717,
           0.7739481330765619,
           0.7511449238872292,
           0.6757466673017903,
           0.5849829537335066,
           0.7510156308479582,
           0.6536851918640654,
           0.730138207454084,
           0.8426980054847468,
           0.7132280388967901,
           0.3497240614346083,
           0.38595333201772,
           0.8426980054847468,
           0.2018944832701612,
           0.6736643688798459,
           0.26888869230298124,
           0.4930624077085871,
           0.6392860302273516,
           0.7400121127163106,
           0.8426980054847468,
           0.6480575422073724,
           0.7127040618429021,
           0.11887474226453355,
           0.7362626145774499,
           0.7209379869754275,
           0.5779875198192619,
           0.6979170210883752,
           0.7496682612808176,
           0.18997910896681253,
           0.4951719257177465,
           0.7569631106544269,
           0.6600681850659734,
           0.5114152143882738,
           0.6339237715460045,
           0.1811599627091655,
           0.6757466673017903,
           0.6195654392901132,
           0.34657339421447675,
           0.6003756303035664,
           0.6132913244370649,
           0.017345681952733186,
           0.6979170210883752,
           0.73704517770988,
           0.7126564275652759,
           0.617421896796935,
           0.3178635345994978,
           0.6358971916190891,
           0.1882574700754663,
           0.2281273604485788,
           0.049444380175974634,
           0.7364327369975434,
           0.6872605526937184,
           0.42642205330956157,
           0.10552353473559574,
           0.6097663878927276,
           0.6536851918640654,
           0.7510156308479582,
           0.18931903397684974,
           0.5419964206242812,
           0.047225983817955404,
           0.38072717127244765,
           0.007335678754431689,
           0.7132212339999864,
           0.7112614237205093,
           0.45955509584697146,
           0.353527998747899,
           0.5297816308615679,
           0.7363987125135247,
           0.549066708403367,
           0.7127040618429021,
           0.48080678856505144,
           0.6003756303035664,
           0.6553864160650004,
           0.7311453321810375,
           0.5598728845277061,
           0.5954216654304437,
           0.30479813273631706,
           0.5297816308615679,
           0.8874470068661409,
           0.6754472518424258,
           0.7453811762944615,
           0.6077249188516056,
           0.5713527454356154,
           0.7574938926051187,
           0.7574938926051187,
           0.7935122113873143,
           0.1621062516586936,
           0.3787061169217369,
           0.5020857008703463,
           0.47148407994392766,
           0.2974488441882779,
           0.08889917184405899,
           0.5762999054119344,
           0.2974488441882779,
           0.5609616680163045,
           0.5271413309017169,
           0.10414214068443652,
           0.7362626145774499,
           0.14882309309779318,
           0.5961429844916402,
           0.11550631834668228,
           0.7127993303981545,
           0.5762999054119344,
           0.47148407994392766,
           0.9060311800371548,
           0.3761610855171381,
           0.05896443080440685,
           0.617421896796935,
           0.6919899559723177,
           0.12046028321980497,
           0.8567773369716848,
           0.7510156308479582,
           0.5791511571727015,
           0.4788605880791818,
           0.13643137601818267,
           0.13249134076881725,
           0.7311657468714486,
           0.3993793934114989,
           0.8426980054847468,
           0.5419964206242812,
           0.8567773369716848,
           0.5836355841663661,
           0.5024395555041408,
           0.20649459350948943,
           0.7132280388967901,
           0.30934380380121534,
           0.08482303865861875,
           0.7738800841085245,
           0.6960660891577579,
           0.019795444802079575,
           0.22488822956999857,
           0.5719924057351671,
           0.5954556899144624,
           0.4930624077085871,
           0.6872605526937184,
           0.6334950630473689,
           0.73113172238743,
           0.20929140609582655,
           0.6390274441488095,
           0.38148251481766277,
           0.19017645097412098,
           0.40913761542806204,
           0.6067858430926895,
           0.1734976489081543,
           0.5973678659163134,
           0.7300973780732615,
           0.6661789823957319,
           0.7513694854817526,
           0.7388484753628711,
           0.03567807394200867,
           0.6496430831626439,
           0.01839363606050914,
           0.027607466332773063,
           0.07544589086306507,
           0.47148407994392766,
           0.6979170210883752,
           0.5788789613005518,
           0.5065497131735998,
           0.8565936047579839,
           0.029274666049689358,
           0.3691112124284635,
           0.579083108204664,
           0.638884541315931,
           0.7127040618429021,
           0.6392860302273516,
           0.7573645995658476,
           0.24313215790082543,
           0.22179200152429687,
           0.3316026212462488,
           0.15428062033439263,
           0.3449198042911679,
           0.7056882132382463,
           0.06170680421631406,
           0.496022537818214,
           0.6548556341143087,
           0.10593182854382013,
           0.9060311800371548,
           0.1735112587017618,
           0.2641388743339707,
           0.13479139588848135,
           0.7587255789265955,
           0.02295972181581866,
           0.3722278551645764,
           0.48183432798241616,
           0.45955509584697146,
           0.6527869454859717,
           0.4852980204555198,
           0.035997904091784445,
           0.5672766122501752,
           0.6052411315182405,
           0.35483453893421707,
           0.47875851462712565,
           0.2199546793872871,
           0.688002286445326,
           0.1533891788531027,
           0.3982565854388818,
           0.2770205439834505,
           0.2907392159397903,
           0.41169625662626824,
           0.30924173034915925,
           0.48183432798241616,
           0.1968860792226086,
           0.009070927439385382,
           0.24313215790082543,
           0.49174225772866154,
           0.37969282695827916,
           0.0017216388913462127,
           0.012718352126190007,
           0.14134451151048294,
           0.2688274482317476,
           0.388124094098113,
           0.044572074064496814,
           0.014705381992882079,
           0.617421896796935,
           0.1811599627091655,
           0.6798023857968194,
           0.6195586343933094,
           0.7453811762944615,
           0.7127993303981545,
           0.3524051907752819,
           0.24179159323048866,
           0.3993998081019101,
           0.12987145549937734,
           0.6339237715460045,
           0.01639980129701333,
           0.14736004028498909,
           0.022707940634080284,
           0.0381346416881588,
           0.46548216096302897,
           0.376766721332671,
           0.7311453321810375,
           0.8601457608895361,
           0.7739481330765619,
           0.3943914040543575,
           0.41734432097337243,
           0.0143855518431063,
           0.26114471974032516,
           0.16631848278020864,
           0.2748497819030574,
           0.14833994542472764,
           0.3629936102019013,
           0.012834035371853587,
           0.6491259110055596,
           0.5801991112804774,
           0.7739481330765619,
           0.5849829537335066,
           0.40008029778228416,
           0.0992698345729587,
           0.011289323797404612,
           0.7509816063639395,
           0.6013759501337163,
           0.34811130089212194,
           0.7056882132382463,
           0.3630072199955088,
           0.5784366430083088,
           0.07805216633889747,
           0.00699543391424469,
           0.0029873496968418475,
           0.02173484039114547,
           0.019645737072397296,
           0.010867420195572734,
           0.38534089130538335,
           0.6013759501337163,
           0.10508121644335264,
           0.11800371547365485,
           0.5024395555041408,
           0.7127993303981545,
           0.27745605737888984,
           0.03203745415200779,
           0.044572074064496814,
           0.1621402761427123,
           0.0370118337155417,
           0.025007995753744395,
           0.6736235394990235,
           0.05806618442631317,
           0.6411982062292025,
           0.3497240614346083,
           0.17277632984695787,
           0.041366967669935285,
           0.8426980054847468,
           0.009785441603778079,
           0.026947391342810285,
           0.008465291623852525,
           0.03552156131552265,
           0.7127993303981545,
           0.7440746361081434,
           0.253979163405987,
           0.8228413166114336,
           0.6339237715460045,
           0.023578967424959,
           0.3414084775404381,
           0.008567365075908624,
           0.027464563499894522,
           0.23931461079392732,
           0.07206385715160629,
           0.5048689036630759,
           0.49907793648309323,
           0.6661789823957319,
           0.029274666049689358,
           0.007301654270412989,
           0.6082965301831198
          ],
          "coloraxis": "coloraxis",
          "pattern": {
           "shape": ""
          }
         },
         "name": "",
         "offsetgroup": "",
         "orientation": "v",
         "showlegend": false,
         "textposition": "auto",
         "type": "bar",
         "x": [
          "lt",
          "imei_mean_days_usage",
          "imei_mean_day_announced",
          "myvf_day_usage",
          "voice_in_mts_avg_dur_mea_mnt3",
          "imei_mean_price",
          "device_brand_apple",
          "imei_mean_long_days_usage",
          "conn_out_uniq_cnt_max_mnt3",
          "voice_in_mts_avg_dur_min_mnt3",
          "conn_out_uniq_cnt_mea_mnt3",
          "imei_max_price",
          "Internet",
          "voice_in_td_cnt_std_mnt3",
          "tsoa_call_cnt",
          "non_accum_internet_vol_max_mnt3",
          "loc_market_share",
          "non_accum_internet_vol_mea_mnt3",
          "all_clc_mea_mnt3",
          "voice_mts_in_nwork_part_mea_mnt3",
          "TM_ID",
          "min_paym_6_month",
          "DNZ_MAX_days_closed_loan_year5",
          "device_days_usage",
          "Balance_uah",
          "voice_in_cmpttrs_td_cnt_std_mnt3",
          "voice_out_td_cnt_std_mnt3",
          "conn_in_uniq_cnt_mea_mnt3",
          "voice_out_td_cnt_max_mnt3",
          "conn_out_uniq_cnt_mea_mnt1",
          "device_ios_version",
          "content_cnt_mea_mnt3",
          "voice_mts_in_nrest_part_max_mnt3",
          "device_height_mm",
          "DNZ_DAYS_from_last_year5",
          "clc_no_vas_roam_std_mnt3",
          "MV_Traf_Cont_inc_s_Cnt",
          "voice_in_fix_tar_dur_mea_mnt3",
          "device_price",
          "non_accum_internet_vol_mea_mnt1",
          "voice_in_cmpttrs_avg_durmea_mnt3",
          "DNZ_MIN_days_closed_loan_year5",
          "tsoa_chat_cnt",
          "voice_in_td_cnt_max_mnt3",
          "block_all_dur_min_mnt3",
          "voice_out_cmpttrs_avg_dumax_mnt3",
          "voice_mts_in_nrest_part_mea_mnt3",
          "DNZ_COUNT_closed_loan_year5",
          "non_accum_internet_vol_std_mnt3",
          "conn_in_uniq_cnt_std_mnt3",
          "device_width_mm",
          "AMA",
          "day_end_gba",
          "voice_mts_out_drest_partmea_mnt3",
          "days_of_last_ppm",
          "pay_sum_mea_mnt3",
          "voice_mts_in_drest_part_mea_mnt3",
          "non_accum_internet_vol_min_mnt1",
          "MV_Traf_Cont_out_s_Cnt",
          "voice_in_td_cnt_mea_mnt3",
          "voice_out_tar_dur_std_mnt3",
          "voice_in_mts_avg_dur_min_mnt1",
          "conn_out_uniq_cnt_mea_wk1",
          "sms_in_cnt_std_mnt3",
          "block_all_dur_mea_mnt3",
          "sms_in_cnt_mea_mnt3",
          "clc_no_vas_roam_mea_mnt3",
          "voice_out_td_cnt_mea_mnt3",
          "voice_mts_in_dwork_part_mea_mnt3",
          "voice_in_cmpttrs_td_cnt_mea_mnt3",
          "DNZ_DAYS_from_last_year2",
          "MV_Traf_innet_out_v_Min",
          "content_cnt_min_mnt1",
          "voice_mts_in_nwork_part_max_mnt3",
          "days_of_end_last_ppm",
          "DNZ_MEAN_days_closed_loan_year5",
          "DNZ_STD_days_closed_loan_year5",
          "MV_Traf_Cont_out_v_Min",
          "active_gba",
          "voice_in_td_cnt_mea_wk1",
          "voice_in_fix_tar_dur_td_mnt3",
          "MV_Traf_4G_d_Mb",
          "com_num_part_mea_mnt3",
          "voice_in_td_cnt_max_mnt1",
          "voice_in_fix_tar_dur_std_mnt3",
          "MV_SERV_Y_WO_AF",
          "sms_in_cnt_mea_mnt1",
          "MV_Traf_2G_d_Mb",
          "voice_mts_out_dwork_partmin_mnt3",
          "data_3g_dou_max_mnt3",
          "voice_in_cmpttrs_avg_durstd_mnt3",
          "all_clc_max_mnt3",
          "voice_in_mts_avg_dur_std_mnt3",
          "BS_OVERBUNDLE_MB_SUM_M3",
          "non_accum_internet_vol_td_mnt3",
          "MV_dou_innet_out_v",
          "all_clc_std_mnt3",
          "all_cnt_std_mnt3",
          "MV_ap_innet_out_v",
          "DNZ_MEAN_days_closed_loan_year2",
          "voice_in_kievstar_part_mea_wk1",
          "data_3g_tar_vol_mea_mnt3",
          "abon_part_max_mnt3",
          "content_cnt_max_mnt3",
          "sms_out_cnt_std_mnt3",
          "MV_Traf_mn_inc_v_Min",
          "conn_in_uniq_cnt_mea_mnt1",
          "voice_out_cmpttrs_avg_dustd_mnt3",
          "voice_mts_in_dwork_part_std_mnt3",
          "voice_mts_out_drest_partmea_wk1",
          "voice_in_mts_avg_dur_mea_mnt1",
          "voice_mts_out_dwork_partstd_mnt3",
          "voice_out_tar_dur_mea_mnt3",
          "voice_in_td_cnt_std_mnt1",
          "MV_dou_Roam",
          "tsoa_direct_cnt",
          "all_cnt_min_mnt3",
          "voice_in_mts_avg_dur_max_mnt3",
          "clc_no_vas_roam_mea_mnt1",
          "gprs_tar_vol_std_mnt3",
          "non_accum_internet_vol_max_mnt1",
          "ks_num_part_min_mnt1",
          "conn_in_uniq_cnt_mea_wk1",
          "non_accum_internet_vol_mea_wk1",
          "MV_Traf_omo_inc_v_Min",
          "DNZ_COUNT_closed_loan_year2",
          "voice_in_fix_tar_dur_max_mnt3",
          "voice_in_cmpttrs_avg_durstd_mnt1",
          "voice_mts_out_nwork_partmea_mnt3",
          "com_num_part_max_mnt3",
          "voice_in_cmpttrs_td_cnt_max_mnt3",
          "voice_in_cmpttrs_avg_durmax_mnt1",
          "voice_mts_out_nrest_partmax_mnt3",
          "voice_in_tar_dur_max_mnt1",
          "voice_in_short_part_max_mnt3",
          "pay_avg_std_mnt3",
          "sum_paym_6_month",
          "voice_mts_out_dwork_partmax_mnt3",
          "sms_out_cnt_mea_mnt3",
          "pay_sum_td_mnt3",
          "avg_paym_6_month",
          "voice_mts_out_nwork_partmin_mnt1",
          "MV_ARPU",
          "device_brand_xiaomi",
          "voice_out_tar_dur_min_mnt3",
          "voice_out_short_part_std_mnt3",
          "device_sim_count",
          "count_day_for_last_paym",
          "content_cnt_mea_wk1",
          "data_3g_tv_cnt_max_mnt3",
          "BS_OVERBUNDLE_MB_SUM_M2",
          "voice_in_mts_avg_dur_max_mnt1",
          "MV_dou_data",
          "pay_avg_mea_mnt1",
          "voice_out_cmpttrs_avg_dumea_mnt3",
          "conn_out_uniq_cnt_std_mnt3",
          "sms_out_cnt_std_mnt1",
          "conn_out_uniq_cnt_min_mnt3",
          "conn_in_uniq_cnt_max_mnt1",
          "bs_count_ppm_mn3",
          "device_android_version",
          "data_3g_tv_cnt_mea_mnt1",
          "abon_part_std_mnt3",
          "voice_in_cmpttrs_td_cnt_max_mnt1",
          "voice_mts_out_drest_partmea_mnt1",
          "content_cnt_min_mnt3",
          "voice_in_td_cnt_min_mnt3",
          "MV_dou_4G_d",
          "block_all_dur_std_mnt1",
          "voice_out_cmpttrs_td_cntmea_mnt3",
          "device_has_lte",
          "data_3g_tar_vol_std_mnt3",
          "voice_in_life_part_mea_mnt3",
          "clc_no_vas_roam_td_mnt3",
          "voice_out_td_cnt_mea_wk1",
          "voice_out_cmpttrs_avg_dumin_mnt3",
          "voice_in_cmpttrs_avg_durmin_mnt3",
          "MV_Traf_R_inc_v_Min",
          "ks_num_part_mea_mnt3",
          "voice_mts_out_drest_partstd_mnt3",
          "all_cnt_td_mnt3",
          "MV_Traf_Roam_d_Mb",
          "voice_in_kievstar_part_max_mnt1",
          "voice_in_short_part_mea_mnt3",
          "voice_in_tar_dur_mea_mnt1",
          "gprs_tar_vol_min_mnt1",
          "voice_mts_out_nwork_partmea_mnt1",
          "MV_Traf_R_out_v_Min",
          "voice_in_cmpttrs_td_cnt_td_mnt3",
          "Shops",
          "data_3g_dou_mea_mnt3",
          "voice_mts_in_nwork_part_std_mnt3",
          "com_num_part_min_mnt1",
          "data_3g_dou_td_mnt3",
          "voice_in_cmpttrs_td_cnt_mea_wk1",
          "ks_num_part_std_mnt3",
          "MV_DOU_PPM_VF",
          "data_3g_tv_cnt_mea_mnt3",
          "voice_in_short_part_max_mnt1",
          "voice_in_tar_dur_min_mnt3",
          "voice_mts_out_dwork_partmax_mnt1",
          "pay_sum_std_mnt3",
          "voice_mts_in_drest_part_mea_wk1",
          "bs_ovrl_OMO_CNT_M2",
          "voice_out_fix_tar_dur_mea_mnt3",
          "voice_in_cmpttrs_avg_durmea_wk1",
          "num_act_days_mea_mnt3",
          "conn_in_uniq_cnt_min_mnt1",
          "voice_mts_in_drest_part_std_mnt3",
          "bs_ovrl_OMO_CNT_M3",
          "MV_ap_4G_d",
          "content_cnt_mea_mnt1",
          "content_cnt_max_mnt1",
          "conn_in_uniq_cnt_max_mnt3",
          "voice_out_fix_tar_dur_std_mnt1",
          "voice_in_tar_dur_td_mnt3",
          "all_clc_std_mnt1",
          "all_home_clc_mea_mnt3",
          "sms_clc_mea_mnt3",
          "MV_Traf_omo_out_s_Cnt",
          "voice_out_tar_dur_min_mnt1",
          "sms_clc_std_mnt3",
          "MV_ap_pstn_out_v",
          "non_accum_internet_vol_min_mnt3",
          "MV_ARPU_4G_d_Traf",
          "voice_in_mts_avg_dur_std_mnt1",
          "voice_out_fix_tar_dur_td_mnt3",
          "data_3g_dou_std_mnt1",
          "sms_in_cnt_min_mnt3",
          "conn_com_part_mea_mnt1",
          "voice_out_td_cnt_min_mnt1",
          "all_home_clc_std_mnt3",
          "all_cnt_mea_mnt3",
          "loc_is_obl_center",
          "voice_mts_out_nrest_partmin_mnt1",
          "voice_in_life_part_max_mnt3",
          "conn_out_uniq_cnt_max_mnt1",
          "DNZ_MAX_days_closed_loan_year2",
          "all_cnt_max_mnt1",
          "voice_in_td_cnt_mea_mnt1",
          "pay_sum_mea_mnt1",
          "voice_in_life_part_mea_mnt1",
          "BS_OVERBUNDLE_MB_CNT_M3",
          "MV_Traf_innet_out_s_Cnt",
          "pay_max_max_mnt3",
          "clc_no_vas_roam_std_mnt1",
          "last_paym",
          "voice_mts_out_nwork_partstd_mnt1",
          "all_cnt_mea_mnt1",
          "MV_DOU_AP",
          "all_clc_mea_mnt1",
          "Good_deed",
          "voice_mts_out_dwork_partmea_mnt3",
          "voice_out_cmpttrs_td_cntmin_mnt1",
          "abon_part_td_mnt3",
          "com_num_part_std_mnt3",
          "data_3g_dou_std_mnt3",
          "MV_ARPU_mn_out_s_Traf",
          "voice_in_short_part_mea_wk1",
          "MV_AP_total",
          "bs_ovrl_OMO_CNT_M1",
          "voice_out_td_cnt_min_mnt3",
          "voice_mts_out_drest_partmax_mnt3",
          "data_3g_tv_cnt_std_mnt1",
          "pay_max_std_mnt3",
          "ks_num_part_min_mnt3",
          "MV_Traf_3G_d_Mb",
          "conn_out_uniq_cnt_td_mnt3",
          "sms_out_cnt_mea_mnt1",
          "num_act_days_std_mnt3",
          "voice_out_cmpttrs_td_cntstd_mnt1",
          "pay_sum_mea_wk1",
          "com_num_part_mea_wk1",
          "pay_avg_mea_mnt3",
          "voice_in_td_cnt_min_mnt1",
          "device_type_smartphone",
          "MV_Traf_innet_inc_v_Min",
          "MV_ARPU_3G_d_Traf",
          "ks_num_part_mea_mnt1",
          "accum_mts_dur_min_mnt1",
          "MV_ot_omo_out_v",
          "MV_ARPU_omo_out_v_Traf",
          "all_home_clc_max_mnt3",
          "voice_out_cmpttrs_td_cntmax_mnt3",
          "pay_max_std_mnt1",
          "voice_mts_out_dwork_partmin_mnt1",
          "all_cnt_std_mnt1",
          "content_clc_max_mnt3",
          "voice_mts_out_nwork_partmea_wk1",
          "pay_sum_std_mnt1",
          "voice_mts_in_nrest_part_std_mnt3",
          "data_3g_tar_vol_max_mnt3",
          "voice_out_short_part_max_mnt3",
          "content_cnt_std_mnt1",
          "block_all_dur_max_mnt1",
          "voice_mts_out_drest_partmin_mnt3",
          "com_num_part_min_mnt3",
          "sms_clc_mea_mnt1",
          "gprs_tar_vol_td_mnt3",
          "voice_in_kievstar_part_mea_mnt3",
          "Minutes",
          "ks_num_part_mea_wk1",
          "voice_mts_out_dwork_partstd_mnt1",
          "MV_dou_Roam_d",
          "all_cnt_max_mnt3",
          "pay_max_mea_wk1",
          "voice_mts_out_nwork_parttd_mnt3",
          "MV_Traf_ACCA_out_v_Min",
          "sms_in_cnt_max_mnt3",
          "block_all_dur_td_mnt3",
          "voice_out_tar_dur_td_mnt3",
          "vas_clc_std_mnt3",
          "conn_com_part_min_mnt1",
          "voice_mts_out_nwork_partmax_mnt3",
          "voice_mts_in_dwork_part_min_mnt3",
          "bs_delte_mb_change_tp",
          "active_ppm",
          "voice_out_cmpttrs_avg_dustd_mnt1",
          "sms_in_cnt_td_mnt3",
          "voice_in_life_part_std_mnt1",
          "voice_mts_out_nrest_partmea_wk1",
          "voice_out_td_cnt_max_mnt1",
          "accum_mts_dur_std_mnt1",
          "voice_mts_in_drest_part_td_mnt3",
          "vas_clc_max_mnt1",
          "voice_in_life_part_mea_wk1",
          "voice_mts_in_nwork_part_mea_wk1",
          "voice_out_cmpttrs_avg_dumin_mnt1",
          "vas_clc_mea_mnt3",
          "MV_dou_out_s",
          "device_brand_nokia",
          "block_all_dur_mea_mnt1",
          "voice_out_short_part_max_mnt1",
          "data_3g_tar_vol_td_mnt3",
          "MV_Traf_Other_inc_v_Min",
          "MV_ARPU_Cont_out_s_Traf",
          "voice_in_fix_tar_dur_mea_wk1",
          "num_act_days_std_mnt1",
          "voice_in_td_cnt_td_mnt3",
          "gprs_clc_std_mnt3",
          "content_clc_td_mnt3",
          "voice_in_life_part_std_mnt3",
          "abon_part_mea_mnt3",
          "gprs_tar_vol_mea_mnt3",
          "voice_mts_out_drest_partstd_mnt1",
          "voice_mts_in_drest_part_max_mnt3",
          "com_num_part_max_mnt1",
          "voice_mts_out_drest_partmin_mnt1",
          "voice_mts_in_nrest_part_mea_wk1",
          "clc_no_vas_roam_max_mnt1",
          "voice_mts_in_nwork_part_min_mnt3",
          "data_3g_tar_vol_max_mnt1",
          "DNZ_MEAN_days_open_loan_year2",
          "sms_clc_td_mnt3",
          "MV_ot_mn_out_v",
          "bs_delte_omo_change_tp",
          "voice_out_cmpttrs_td_cntmea_wk1",
          "voice_out_td_cnt_td_mnt3",
          "pay_max_mea_mnt3",
          "MV_dou_net",
          "conn_com_part_max_mnt3",
          "voice_mts_out_dwork_parttd_mnt3",
          "voice_mts_out_nrest_partstd_mnt1",
          "content_clc_std_mnt1",
          "voice_mts_in_nrest_part_td_mnt3",
          "MV_VLR_Guest",
          "accum_oth_dur_td_mnt3",
          "voice_in_kievstar_part_min_mnt3",
          "voice_in_fix_tar_dur_std_mnt1",
          "all_home_clc_min_mnt1",
          "ks_num_part_std_mnt1",
          "voice_mts_in_dwork_part_min_mnt1",
          "conn_com_part_mea_mnt3",
          "voice_mts_out_nrest_partmea_mnt3",
          "com_num_part_td_mnt3",
          "MV_ARPU_innet_out_s_Traf",
          "MV_ot_s",
          "voice_in_tar_dur_std_mnt1",
          "voice_mts_in_nwork_part_std_mnt1",
          "MV_net_total",
          "voice_in_kievstar_part_max_mnt3",
          "voice_in_fix_tar_dur_max_mnt1",
          "conn_out_uniq_cnt_min_mnt1",
          "bs_day_of_change_tp",
          "MV_ARPU_R_out_v_Traf",
          "pay_p2p_out_sum_td_mnt3",
          "all_roam_clc_mea_mnt3",
          "all_clc_min_mnt1",
          "all_roam_clc_td_mnt3",
          "pay_max_td_mnt3",
          "voice_mts_in_nwork_part_mea_mnt1",
          "vas_clc_mea_wk1",
          "BS_OVERBUNDLE_MB_SUM_M1",
          "all_clc_max_mnt1",
          "com_num_part_mea_mnt1",
          "all_home_clc_max_mnt1",
          "block_all_dur_std_mnt3",
          "gprs_clc_max_mnt3",
          "voice_out_fix_tar_dur_mea_mnt1",
          "bs_direct_change_tp",
          "bs_arpu_change_tp",
          "voice_in_cmpttrs_td_cnt_std_mnt1",
          "MV_dou_Roam_v",
          "clc_no_vas_roam_max_mnt3",
          "sms_out_cnt_max_mnt3",
          "pay_avg_mea_wk1",
          "voice_in_short_part_min_mnt1",
          "max_paym_6_month",
          "vas_clc_min_mnt1",
          "MV_Migr_To",
          "MV_ot_Roam_d",
          "ama_volume_max_mnt3",
          "conn_com_part_max_mnt1",
          "voice_out_tar_dur_max_mnt3",
          "voice_mts_in_drest_part_min_mnt3",
          "all_cnt_mea_wk1",
          "data_3g_tar_vol_mea_mnt1",
          "abon_part_mea_wk1",
          "data_3g_tv_cnt_min_mnt1",
          "pay_p2p_in_sum_mea_mnt3",
          "MV_ot_innet_out_v",
          "voice_mts_out_nrest_parttd_mnt3",
          "sms_out_cnt_mea_wk1",
          "data_3g_dou_mea_wk1",
          "data_3g_tar_vol_mea_wk1",
          "voice_in_tar_dur_min_mnt1",
          "content_clc_mea_mnt3",
          "SMS",
          "voice_out_cmpttrs_td_cntmax_mnt1"
         ],
         "xaxis": "x",
         "y": [
          22.742929058752622,
          8.965357355765745,
          2.685964098827494,
          2.6379413128435276,
          2.450818043319784,
          1.9374710207325334,
          1.8762005696495394,
          1.6609260117903708,
          1.6145591839437787,
          1.4588991190302338,
          1.3777571702986944,
          1.369477379611802,
          1.3479499238258825,
          1.3396701331389942,
          1.0548453335099395,
          1.0449095846856649,
          0.9869510498774315,
          0.9207127243823021,
          0.8925614360468768,
          0.8279790686891257,
          0.8279790686891217,
          0.8263231105517435,
          0.8147314035900984,
          0.8114194873153374,
          0.7948599059415571,
          0.7915479896668003,
          0.771676492018263,
          0.7253096641716748,
          0.7170298734847826,
          0.6739749619129474,
          0.6458236735775139,
          0.619328343379463,
          0.6110485526925747,
          0.5978008875935432,
          0.5845532224945198,
          0.5795853480823885,
          0.5762734318076317,
          0.5746174736702532,
          0.5679936411207395,
          0.5365304365105531,
          0.5216268132741513,
          0.5100351063125022,
          0.5000993574882356,
          0.47194806915280213,
          0.4686361528780453,
          0.466980194740671,
          0.4653242366032885,
          0.46035636219115716,
          0.4471086970921256,
          0.43054911571834537,
          0.42061336689407874,
          0.3908061204212668,
          0.3841822878717571,
          0.37921441345962176,
          0.37259058091010805,
          0.36596674836059434,
          0.36431079022321994,
          0.36431079022321994,
          0.35768695767370623,
          0.3460952507120571,
          0.34278333443730025,
          0.34112737629992185,
          0.3129760879644883,
          0.3030403391402258,
          0.29641650659070395,
          0.29476054845333366,
          0.29476054845333366,
          0.29310459031594704,
          0.2881367159038199,
          0.2881367159038199,
          0.27985692521692773,
          0.2765450089421708,
          0.2732330926674139,
          0.2666092601179043,
          0.26495330198052175,
          0.2550175531562511,
          0.23514605550771797,
          0.22852222295820013,
          0.2268662648208217,
          0.22024243227131207,
          0.2152745578591767,
          0.21361859972180236,
          0.20865072530966705,
          0.20699476717228452,
          0.20202689276014918,
          0.19209114393588672,
          0.19209114393587856,
          0.1904351857985042,
          0.18877922766112576,
          0.18712326952374328,
          0.1854673113863689,
          0.18381135324899045,
          0.17884347883685514,
          0.17884347883685103,
          0.1771875206994767,
          0.17387560442472388,
          0.1738756044247198,
          0.17221964628734138,
          0.15897198118831793,
          0.15566006491356105,
          0.15234814863880417,
          0.15069219050142982,
          0.15069219050142574,
          0.15069219050142574,
          0.14903623236405136,
          0.1490362323640473,
          0.1490362323640473,
          0.14572431608929043,
          0.14572431608929043,
          0.14406835795191605,
          0.14406835795191197,
          0.14241239981453355,
          0.14075644167715917,
          0.1391004835397848,
          0.13910048353977666,
          0.13578856726502386,
          0.13578856726501978,
          0.1341326091276454,
          0.13247665099026698,
          0.13247665099026293,
          0.13082069285288855,
          0.13082069285288855,
          0.12750877657813167,
          0.12419686030337478,
          0.12254090216599228,
          0.12088494402862197,
          0.12088494402861792,
          0.11922898589124353,
          0.11922898589123945,
          0.11591706961647853,
          0.11426111147910822,
          0.11426111147910822,
          0.11426111147910414,
          0.11426111147910414,
          0.11426111147910006,
          0.11260515334172573,
          0.11094919520434728,
          0.11094919520434728,
          0.10929323706697291,
          0.10929323706696883,
          0.10929323706696883,
          0.10598132079221603,
          0.10432536265483353,
          0.10432536265482945,
          0.10266940451745508,
          0.102669404517451,
          0.10101344638008072,
          0.09935748824270227,
          0.09935748824269819,
          0.09770153010532384,
          0.09770153010532384,
          0.09770153010531978,
          0.09604557196794539,
          0.09604557196794539,
          0.09604557196794133,
          0.09438961383056696,
          0.09273365569319257,
          0.09107769755581008,
          0.09107769755581008,
          0.091077697555806,
          0.091077697555806,
          0.08942173941843572,
          0.08942173941843165,
          0.08776578128105726,
          0.0877657812810532,
          0.08776578128104912,
          0.08776578128104912,
          0.08610982314367069,
          0.0844538650063004,
          0.08279790686892195,
          0.08279790686891787,
          0.08279790686891787,
          0.08114194873154351,
          0.08114194873153945,
          0.08114194873153538,
          0.07948599059416507,
          0.079485990594161,
          0.079485990594161,
          0.07783003245678664,
          0.07783003245677848,
          0.07617407431940412,
          0.07617407431940412,
          0.07451811618202568,
          0.07451811618202162,
          0.07286215804465132,
          0.07120619990727288,
          0.07120619990727288,
          0.06955024176989444,
          0.06789428363252006,
          0.067894283632516,
          0.067894283632516,
          0.067894283632516,
          0.06789428363251193,
          0.06623832549514164,
          0.06623832549513757,
          0.06623832549513757,
          0.06623832549512942,
          0.06458236735775912,
          0.06458236735775912,
          0.06458236735775912,
          0.06292640922038475,
          0.06292640922038067,
          0.06292640922037661,
          0.06292640922037661,
          0.061270451083002254,
          0.061270451083002254,
          0.061270451082998174,
          0.059614492945623807,
          0.059614492945623807,
          0.059614492945623807,
          0.059614492945619726,
          0.057958534808249446,
          0.057958534808245366,
          0.057958534808245366,
          0.05630257667086693,
          0.05630257667086693,
          0.056302576670862865,
          0.054646618533488484,
          0.054646618533488484,
          0.054646618533488484,
          0.054646618533488484,
          0.054646618533488484,
          0.054646618533488484,
          0.052990660396110056,
          0.052990660396110056,
          0.05133470225873568,
          0.05133470225873568,
          0.051334702258731615,
          0.051334702258731615,
          0.051334702258731615,
          0.051334702258731615,
          0.051334702258731615,
          0.04967874412135725,
          0.04967874412135725,
          0.04967874412135725,
          0.04967874412135317,
          0.04967874412135317,
          0.049678744121349094,
          0.04802278598397881,
          0.04802278598397473,
          0.04802278598397473,
          0.046366827846600366,
          0.046366827846596285,
          0.046366827846596285,
          0.046366827846596285,
          0.046366827846592226,
          0.044710869709221925,
          0.04471086970921786,
          0.04471086970921786,
          0.04471086970921786,
          0.04305491157184349,
          0.04305491157184349,
          0.04305491157183942,
          0.041398953434460976,
          0.041398953434460976,
          0.039742995297086615,
          0.039742995297086615,
          0.039742995297082535,
          0.039742995297082535,
          0.0380870371597041,
          0.0380870371597041,
          0.0380870371597041,
          0.0380870371597041,
          0.0380870371597041,
          0.036431079022329727,
          0.03643107902232566,
          0.03643107902232566,
          0.03643107902232566,
          0.03643107902232566,
          0.03643107902232566,
          0.0347751208849513,
          0.03477512088494722,
          0.03477512088494722,
          0.03477512088494722,
          0.03477512088494722,
          0.03477512088494722,
          0.03311916274757285,
          0.033119162747568785,
          0.03146320461019442,
          0.03146320461019034,
          0.03146320461019034,
          0.03146320461019034,
          0.03146320461019034,
          0.03146320461019034,
          0.02980724647281598,
          0.02980724647281598,
          0.029807246472811903,
          0.029807246472811903,
          0.029807246472811903,
          0.029807246472811903,
          0.029807246472811903,
          0.028151288335441612,
          0.028151288335437535,
          0.028151288335437535,
          0.028151288335433466,
          0.028151288335433466,
          0.028151288335433466,
          0.028151288335433466,
          0.026495330198059098,
          0.026495330198059098,
          0.026495330198055028,
          0.026495330198055028,
          0.026495330198055028,
          0.026495330198055028,
          0.026495330198055028,
          0.024839372060676584,
          0.024839372060676584,
          0.024839372060676584,
          0.024839372060676584,
          0.024839372060676584,
          0.02318341392330222,
          0.02318341392330222,
          0.023183413923298143,
          0.023183413923298143,
          0.023183413923298143,
          0.023183413923298143,
          0.023183413923298143,
          0.02152745578592785,
          0.02152745578592785,
          0.021527455785923782,
          0.021527455785923782,
          0.021527455785923782,
          0.02152745578591971,
          0.02152745578591971,
          0.02152745578591971,
          0.02152745578591971,
          0.019871497648549414,
          0.019871497648545344,
          0.019871497648541268,
          0.019871497648541268,
          0.019871497648541268,
          0.019871497648541268,
          0.019871497648541268,
          0.019871497648541268,
          0.019871497648541268,
          0.018215539511166903,
          0.018215539511166903,
          0.018215539511166903,
          0.018215539511166903,
          0.01821553951116283,
          0.01821553951116283,
          0.01821553951116283,
          0.01821553951116283,
          0.016559581373792535,
          0.016559581373788462,
          0.016559581373788462,
          0.016559581373784393,
          0.016559581373784393,
          0.014903623236410025,
          0.014903623236410025,
          0.014903623236410025,
          0.014903623236405952,
          0.014903623236405952,
          0.014903623236405952,
          0.014903623236405952,
          0.014903623236405952,
          0.014903623236405952,
          0.013247665099035659,
          0.013247665099031585,
          0.013247665099031585,
          0.013247665099031585,
          0.013247665099031585,
          0.013247665099027514,
          0.013247665099027514,
          0.01159170696165722,
          0.011591706961653148,
          0.011591706961649071,
          0.011591706961649071,
          0.011591706961649071,
          0.011591706961649071,
          0.00993574882427878,
          0.00993574882427878,
          0.009935748824274707,
          0.009935748824274707,
          0.009935748824270634,
          0.009935748824270634,
          0.009935748824270634,
          0.008279790686900343,
          0.008279790686900343,
          0.008279790686896268,
          0.008279790686896268,
          0.008279790686896268,
          0.008279790686896268,
          0.008279790686896268,
          0.008279790686892196,
          0.008279790686892196,
          0.008279790686892196,
          0.008279790686892196,
          0.008279790686892196,
          0.008279790686892196,
          0.006623832549517829,
          0.006623832549517829,
          0.006623832549517829,
          0.006623832549517829,
          0.006623832549517829,
          0.006623832549513757,
          0.006623832549513757,
          0.006623832549513757,
          0.006623832549513757,
          0.006623832549513757,
          0.006623832549513757,
          0.006623832549513757,
          0.004967874412143463,
          0.00496787441213939,
          0.004967874412135317,
          0.004967874412135317,
          0.004967874412135317,
          0.0033119162747650244,
          0.0033119162747568785,
          0.0033119162747568785,
          0.0033119162747568785,
          0.0033119162747568785,
          0.0033119162747568785,
          0.0016559581373865849,
          0.0016559581373825122,
          0.0016559581373825122,
          0.0016559581373825122,
          0.0016559581373784393,
          0.0016559581373784393,
          0.0016559581373784393,
          0.0016559581373784393,
          0.0016559581373784393,
          0.0016559581373784393,
          0.0016559581373784393,
          8.145765972058214e-15,
          8.145765972058214e-15,
          8.145765972058214e-15,
          4.072882986029107e-15,
          4.072882986029107e-15
         ],
         "yaxis": "y"
        }
       ],
       "layout": {
        "barmode": "relative",
        "coloraxis": {
         "colorbar": {
          "title": {
           "text": "coverage"
          }
         },
         "colorscale": [
          [
           0,
           "#0d0887"
          ],
          [
           0.1111111111111111,
           "#46039f"
          ],
          [
           0.2222222222222222,
           "#7201a8"
          ],
          [
           0.3333333333333333,
           "#9c179e"
          ],
          [
           0.4444444444444444,
           "#bd3786"
          ],
          [
           0.5555555555555556,
           "#d8576b"
          ],
          [
           0.6666666666666666,
           "#ed7953"
          ],
          [
           0.7777777777777778,
           "#fb9f3a"
          ],
          [
           0.8888888888888888,
           "#fdca26"
          ],
          [
           1,
           "#f0f921"
          ]
         ]
        },
        "legend": {
         "tracegroupgap": 0
        },
        "template": {
         "data": {
          "bar": [
           {
            "error_x": {
             "color": "#2a3f5f"
            },
            "error_y": {
             "color": "#2a3f5f"
            },
            "marker": {
             "line": {
              "color": "#E5ECF6",
              "width": 0.5
             },
             "pattern": {
              "fillmode": "overlay",
              "size": 10,
              "solidity": 0.2
             }
            },
            "type": "bar"
           }
          ],
          "barpolar": [
           {
            "marker": {
             "line": {
              "color": "#E5ECF6",
              "width": 0.5
             },
             "pattern": {
              "fillmode": "overlay",
              "size": 10,
              "solidity": 0.2
             }
            },
            "type": "barpolar"
           }
          ],
          "carpet": [
           {
            "aaxis": {
             "endlinecolor": "#2a3f5f",
             "gridcolor": "white",
             "linecolor": "white",
             "minorgridcolor": "white",
             "startlinecolor": "#2a3f5f"
            },
            "baxis": {
             "endlinecolor": "#2a3f5f",
             "gridcolor": "white",
             "linecolor": "white",
             "minorgridcolor": "white",
             "startlinecolor": "#2a3f5f"
            },
            "type": "carpet"
           }
          ],
          "choropleth": [
           {
            "colorbar": {
             "outlinewidth": 0,
             "ticks": ""
            },
            "type": "choropleth"
           }
          ],
          "contour": [
           {
            "colorbar": {
             "outlinewidth": 0,
             "ticks": ""
            },
            "colorscale": [
             [
              0,
              "#0d0887"
             ],
             [
              0.1111111111111111,
              "#46039f"
             ],
             [
              0.2222222222222222,
              "#7201a8"
             ],
             [
              0.3333333333333333,
              "#9c179e"
             ],
             [
              0.4444444444444444,
              "#bd3786"
             ],
             [
              0.5555555555555556,
              "#d8576b"
             ],
             [
              0.6666666666666666,
              "#ed7953"
             ],
             [
              0.7777777777777778,
              "#fb9f3a"
             ],
             [
              0.8888888888888888,
              "#fdca26"
             ],
             [
              1,
              "#f0f921"
             ]
            ],
            "type": "contour"
           }
          ],
          "contourcarpet": [
           {
            "colorbar": {
             "outlinewidth": 0,
             "ticks": ""
            },
            "type": "contourcarpet"
           }
          ],
          "heatmap": [
           {
            "colorbar": {
             "outlinewidth": 0,
             "ticks": ""
            },
            "colorscale": [
             [
              0,
              "#0d0887"
             ],
             [
              0.1111111111111111,
              "#46039f"
             ],
             [
              0.2222222222222222,
              "#7201a8"
             ],
             [
              0.3333333333333333,
              "#9c179e"
             ],
             [
              0.4444444444444444,
              "#bd3786"
             ],
             [
              0.5555555555555556,
              "#d8576b"
             ],
             [
              0.6666666666666666,
              "#ed7953"
             ],
             [
              0.7777777777777778,
              "#fb9f3a"
             ],
             [
              0.8888888888888888,
              "#fdca26"
             ],
             [
              1,
              "#f0f921"
             ]
            ],
            "type": "heatmap"
           }
          ],
          "heatmapgl": [
           {
            "colorbar": {
             "outlinewidth": 0,
             "ticks": ""
            },
            "colorscale": [
             [
              0,
              "#0d0887"
             ],
             [
              0.1111111111111111,
              "#46039f"
             ],
             [
              0.2222222222222222,
              "#7201a8"
             ],
             [
              0.3333333333333333,
              "#9c179e"
             ],
             [
              0.4444444444444444,
              "#bd3786"
             ],
             [
              0.5555555555555556,
              "#d8576b"
             ],
             [
              0.6666666666666666,
              "#ed7953"
             ],
             [
              0.7777777777777778,
              "#fb9f3a"
             ],
             [
              0.8888888888888888,
              "#fdca26"
             ],
             [
              1,
              "#f0f921"
             ]
            ],
            "type": "heatmapgl"
           }
          ],
          "histogram": [
           {
            "marker": {
             "pattern": {
              "fillmode": "overlay",
              "size": 10,
              "solidity": 0.2
             }
            },
            "type": "histogram"
           }
          ],
          "histogram2d": [
           {
            "colorbar": {
             "outlinewidth": 0,
             "ticks": ""
            },
            "colorscale": [
             [
              0,
              "#0d0887"
             ],
             [
              0.1111111111111111,
              "#46039f"
             ],
             [
              0.2222222222222222,
              "#7201a8"
             ],
             [
              0.3333333333333333,
              "#9c179e"
             ],
             [
              0.4444444444444444,
              "#bd3786"
             ],
             [
              0.5555555555555556,
              "#d8576b"
             ],
             [
              0.6666666666666666,
              "#ed7953"
             ],
             [
              0.7777777777777778,
              "#fb9f3a"
             ],
             [
              0.8888888888888888,
              "#fdca26"
             ],
             [
              1,
              "#f0f921"
             ]
            ],
            "type": "histogram2d"
           }
          ],
          "histogram2dcontour": [
           {
            "colorbar": {
             "outlinewidth": 0,
             "ticks": ""
            },
            "colorscale": [
             [
              0,
              "#0d0887"
             ],
             [
              0.1111111111111111,
              "#46039f"
             ],
             [
              0.2222222222222222,
              "#7201a8"
             ],
             [
              0.3333333333333333,
              "#9c179e"
             ],
             [
              0.4444444444444444,
              "#bd3786"
             ],
             [
              0.5555555555555556,
              "#d8576b"
             ],
             [
              0.6666666666666666,
              "#ed7953"
             ],
             [
              0.7777777777777778,
              "#fb9f3a"
             ],
             [
              0.8888888888888888,
              "#fdca26"
             ],
             [
              1,
              "#f0f921"
             ]
            ],
            "type": "histogram2dcontour"
           }
          ],
          "mesh3d": [
           {
            "colorbar": {
             "outlinewidth": 0,
             "ticks": ""
            },
            "type": "mesh3d"
           }
          ],
          "parcoords": [
           {
            "line": {
             "colorbar": {
              "outlinewidth": 0,
              "ticks": ""
             }
            },
            "type": "parcoords"
           }
          ],
          "pie": [
           {
            "automargin": true,
            "type": "pie"
           }
          ],
          "scatter": [
           {
            "fillpattern": {
             "fillmode": "overlay",
             "size": 10,
             "solidity": 0.2
            },
            "type": "scatter"
           }
          ],
          "scatter3d": [
           {
            "line": {
             "colorbar": {
              "outlinewidth": 0,
              "ticks": ""
             }
            },
            "marker": {
             "colorbar": {
              "outlinewidth": 0,
              "ticks": ""
             }
            },
            "type": "scatter3d"
           }
          ],
          "scattercarpet": [
           {
            "marker": {
             "colorbar": {
              "outlinewidth": 0,
              "ticks": ""
             }
            },
            "type": "scattercarpet"
           }
          ],
          "scattergeo": [
           {
            "marker": {
             "colorbar": {
              "outlinewidth": 0,
              "ticks": ""
             }
            },
            "type": "scattergeo"
           }
          ],
          "scattergl": [
           {
            "marker": {
             "colorbar": {
              "outlinewidth": 0,
              "ticks": ""
             }
            },
            "type": "scattergl"
           }
          ],
          "scattermapbox": [
           {
            "marker": {
             "colorbar": {
              "outlinewidth": 0,
              "ticks": ""
             }
            },
            "type": "scattermapbox"
           }
          ],
          "scatterpolar": [
           {
            "marker": {
             "colorbar": {
              "outlinewidth": 0,
              "ticks": ""
             }
            },
            "type": "scatterpolar"
           }
          ],
          "scatterpolargl": [
           {
            "marker": {
             "colorbar": {
              "outlinewidth": 0,
              "ticks": ""
             }
            },
            "type": "scatterpolargl"
           }
          ],
          "scatterternary": [
           {
            "marker": {
             "colorbar": {
              "outlinewidth": 0,
              "ticks": ""
             }
            },
            "type": "scatterternary"
           }
          ],
          "surface": [
           {
            "colorbar": {
             "outlinewidth": 0,
             "ticks": ""
            },
            "colorscale": [
             [
              0,
              "#0d0887"
             ],
             [
              0.1111111111111111,
              "#46039f"
             ],
             [
              0.2222222222222222,
              "#7201a8"
             ],
             [
              0.3333333333333333,
              "#9c179e"
             ],
             [
              0.4444444444444444,
              "#bd3786"
             ],
             [
              0.5555555555555556,
              "#d8576b"
             ],
             [
              0.6666666666666666,
              "#ed7953"
             ],
             [
              0.7777777777777778,
              "#fb9f3a"
             ],
             [
              0.8888888888888888,
              "#fdca26"
             ],
             [
              1,
              "#f0f921"
             ]
            ],
            "type": "surface"
           }
          ],
          "table": [
           {
            "cells": {
             "fill": {
              "color": "#EBF0F8"
             },
             "line": {
              "color": "white"
             }
            },
            "header": {
             "fill": {
              "color": "#C8D4E3"
             },
             "line": {
              "color": "white"
             }
            },
            "type": "table"
           }
          ]
         },
         "layout": {
          "annotationdefaults": {
           "arrowcolor": "#2a3f5f",
           "arrowhead": 0,
           "arrowwidth": 1
          },
          "autotypenumbers": "strict",
          "coloraxis": {
           "colorbar": {
            "outlinewidth": 0,
            "ticks": ""
           }
          },
          "colorscale": {
           "diverging": [
            [
             0,
             "#8e0152"
            ],
            [
             0.1,
             "#c51b7d"
            ],
            [
             0.2,
             "#de77ae"
            ],
            [
             0.3,
             "#f1b6da"
            ],
            [
             0.4,
             "#fde0ef"
            ],
            [
             0.5,
             "#f7f7f7"
            ],
            [
             0.6,
             "#e6f5d0"
            ],
            [
             0.7,
             "#b8e186"
            ],
            [
             0.8,
             "#7fbc41"
            ],
            [
             0.9,
             "#4d9221"
            ],
            [
             1,
             "#276419"
            ]
           ],
           "sequential": [
            [
             0,
             "#0d0887"
            ],
            [
             0.1111111111111111,
             "#46039f"
            ],
            [
             0.2222222222222222,
             "#7201a8"
            ],
            [
             0.3333333333333333,
             "#9c179e"
            ],
            [
             0.4444444444444444,
             "#bd3786"
            ],
            [
             0.5555555555555556,
             "#d8576b"
            ],
            [
             0.6666666666666666,
             "#ed7953"
            ],
            [
             0.7777777777777778,
             "#fb9f3a"
            ],
            [
             0.8888888888888888,
             "#fdca26"
            ],
            [
             1,
             "#f0f921"
            ]
           ],
           "sequentialminus": [
            [
             0,
             "#0d0887"
            ],
            [
             0.1111111111111111,
             "#46039f"
            ],
            [
             0.2222222222222222,
             "#7201a8"
            ],
            [
             0.3333333333333333,
             "#9c179e"
            ],
            [
             0.4444444444444444,
             "#bd3786"
            ],
            [
             0.5555555555555556,
             "#d8576b"
            ],
            [
             0.6666666666666666,
             "#ed7953"
            ],
            [
             0.7777777777777778,
             "#fb9f3a"
            ],
            [
             0.8888888888888888,
             "#fdca26"
            ],
            [
             1,
             "#f0f921"
            ]
           ]
          },
          "colorway": [
           "#636efa",
           "#EF553B",
           "#00cc96",
           "#ab63fa",
           "#FFA15A",
           "#19d3f3",
           "#FF6692",
           "#B6E880",
           "#FF97FF",
           "#FECB52"
          ],
          "font": {
           "color": "#2a3f5f"
          },
          "geo": {
           "bgcolor": "white",
           "lakecolor": "white",
           "landcolor": "#E5ECF6",
           "showlakes": true,
           "showland": true,
           "subunitcolor": "white"
          },
          "hoverlabel": {
           "align": "left"
          },
          "hovermode": "closest",
          "mapbox": {
           "style": "light"
          },
          "paper_bgcolor": "white",
          "plot_bgcolor": "#E5ECF6",
          "polar": {
           "angularaxis": {
            "gridcolor": "white",
            "linecolor": "white",
            "ticks": ""
           },
           "bgcolor": "#E5ECF6",
           "radialaxis": {
            "gridcolor": "white",
            "linecolor": "white",
            "ticks": ""
           }
          },
          "scene": {
           "xaxis": {
            "backgroundcolor": "#E5ECF6",
            "gridcolor": "white",
            "gridwidth": 2,
            "linecolor": "white",
            "showbackground": true,
            "ticks": "",
            "zerolinecolor": "white"
           },
           "yaxis": {
            "backgroundcolor": "#E5ECF6",
            "gridcolor": "white",
            "gridwidth": 2,
            "linecolor": "white",
            "showbackground": true,
            "ticks": "",
            "zerolinecolor": "white"
           },
           "zaxis": {
            "backgroundcolor": "#E5ECF6",
            "gridcolor": "white",
            "gridwidth": 2,
            "linecolor": "white",
            "showbackground": true,
            "ticks": "",
            "zerolinecolor": "white"
           }
          },
          "shapedefaults": {
           "line": {
            "color": "#2a3f5f"
           }
          },
          "ternary": {
           "aaxis": {
            "gridcolor": "white",
            "linecolor": "white",
            "ticks": ""
           },
           "baxis": {
            "gridcolor": "white",
            "linecolor": "white",
            "ticks": ""
           },
           "bgcolor": "#E5ECF6",
           "caxis": {
            "gridcolor": "white",
            "linecolor": "white",
            "ticks": ""
           }
          },
          "title": {
           "x": 0.05
          },
          "xaxis": {
           "automargin": true,
           "gridcolor": "white",
           "linecolor": "white",
           "ticks": "",
           "title": {
            "standoff": 15
           },
           "zerolinecolor": "white",
           "zerolinewidth": 2
          },
          "yaxis": {
           "automargin": true,
           "gridcolor": "white",
           "linecolor": "white",
           "ticks": "",
           "title": {
            "standoff": 15
           },
           "zerolinecolor": "white",
           "zerolinewidth": 2
          }
         }
        },
        "title": {
         "text": "Prediction contribution by feature. Features count: 429"
        },
        "width": 1000,
        "xaxis": {
         "anchor": "y",
         "domain": [
          0,
          1
         ],
         "title": {
          "text": "feature"
         }
        },
        "yaxis": {
         "anchor": "x",
         "domain": [
          0,
          1
         ],
         "title": {
          "text": "p_importance%"
         }
        }
       }
      }
     },
     "metadata": {},
     "output_type": "display_data"
    },
    {
     "data": {
      "application/vnd.plotly.v1+json": {
       "config": {
        "plotlyServerURL": "https://plot.ly"
       },
       "data": [
        {
         "alignmentgroup": "True",
         "customdata": [
          [
           146350,
           0.06199471866747919,
           0.0009309487300316706,
           307
          ],
          [
           146580,
           0.0244385762971991,
           0.0007203125196585189,
           191
          ],
          [
           139756,
           0.007321642178436827,
           0.0005602767454109264,
           155
          ],
          [
           132692,
           0.007190737355271193,
           0.0008931025848826476,
           187
          ],
          [
           114229,
           0.00668065994086714,
           0.00029427415104623517,
           96
          ],
          [
           141325,
           0.005281332520820648,
           0.00046801727386930065,
           135
          ],
          [
           19578,
           0.005114316022298971,
           0.00041680249941503404,
           86
          ],
          [
           146511,
           0.004527501297763348,
           0.0007781311930581186,
           117
          ],
          [
           110180,
           0.004401110434017208,
           0.0010390934571409926,
           52
          ],
          [
           79775,
           0.00397679824858378,
           0.00019953538813551142,
           68
          ],
          [
           110180,
           0.0037556142370280265,
           0.00034216884299541795,
           75
          ],
          [
           141325,
           0.0037330444399304996,
           0.0010792611719383683,
           119
          ],
          [
           40252,
           0.0036743629674769298,
           0.0005079758917240244,
           38
          ],
          [
           115819,
           0.0036517931703794137,
           0.00033213663103613737,
           44
          ],
          [
           34388,
           0.002875392150224587,
           0.00047161695936475605,
           75
          ],
          [
           114064,
           0.002848308393707544,
           0.00040785815326973635,
           54
          ],
          [
           112989,
           0.0026903198140248883,
           0.0006571493996116764,
           103
          ],
          [
           113921,
           0.0025097614372446954,
           0.0003357973216583798,
           63
          ],
          [
           106609,
           0.002433024127113126,
           0.00022812248662275452,
           64
          ],
          [
           104522,
           0.002256979709752438,
           0.0005289235681741327,
           41
          ],
          [
           146953,
           0.002256979709752427,
           0.0006346890199155173,
           81
          ],
          [
           123837,
           0.0022524657503329216,
           0.0006398686746551627,
           76
          ],
          [
           24345,
           0.002220868034396395,
           0.00044767919356191794,
           41
          ],
          [
           116546,
           0.002211840115557373,
           0.0004979697247124505,
           102
          ],
          [
           146287,
           0.00216670052136233,
           0.00030213195261572624,
           92
          ],
          [
           110381,
           0.0021576726025233197,
           0.0004586946880794372,
           40
          ],
          [
           109341,
           0.002103505089489266,
           0.00024030210403243584,
           36
          ],
          [
           116609,
           0.001977114225743137,
           0.0004604681131670038,
           51
          ],
          [
           109344,
           0.0019545444286456102,
           0.0005395267391431265,
           22
          ],
          [
           101690,
           0.0018371814837384814,
           0.000490050536320576,
           32
          ],
          [
           15126,
           0.0017604441736068898,
           0.0005791253369433891,
           44
          ],
          [
           117882,
           0.0016882208228948148,
           0.0007435575038133783,
           57
          ],
          [
           93886,
           0.001665651025797299,
           0.00029128157275197617,
           20
          ],
          [
           102452,
           0.0016295393504412448,
           0.0003089342746251269,
           67
          ],
          [
           27142,
           0.0015934276750852127,
           0.0004904661504537191,
           30
          ],
          [
           94228,
           0.0015798857968267078,
           0.00018666191011023725,
           14
          ],
          [
           111373,
           0.001570857877987697,
           0.0006498534028056307,
           53
          ],
          [
           84197,
           0.0015663439185681916,
           0.0005771163758816199,
           35
          ],
          [
           25494,
           0.00154828808089017,
           0.0002999661042424369,
           64
          ],
          [
           105730,
           0.0014625228519195787,
           0.000593958849082291,
           26
          ],
          [
           110383,
           0.0014218972171440413,
           0.0004007013071735432,
           48
          ],
          [
           18207,
           0.0013902995012075037,
           0.00013956823828055107,
           33
          ],
          [
           12350,
           0.0013632157446904825,
           0.0006923595656396067,
           39
          ],
          [
           115822,
           0.0012864784345588908,
           0.00017598653657090624,
           29
          ],
          [
           32869,
           0.00127745051571988,
           0.0002948275584952031,
           24
          ],
          [
           102561,
           0.0012729365563003859,
           0.00027181383018167024,
           39
          ],
          [
           93886,
           0.0012684225968808693,
           0.00037397820077564623,
           24
          ],
          [
           26684,
           0.0012548807186223642,
           0.00027330896703852905,
           29
          ],
          [
           114101,
           0.00121876904326631,
           0.00040725821449937315,
           55
          ],
          [
           116590,
           0.0011736294490712674,
           0.0006745311526401819,
           54
          ],
          [
           102452,
           0.001146545692554246,
           0.0002236119092062229,
           56
          ],
          [
           5759,
           0.001065294423003149,
           0.00016973927981550334,
           28
          ],
          [
           13198,
           0.0010472385853251386,
           0.00019236035617542814,
           23
          ],
          [
           100995,
           0.0010336967070666224,
           0.0004998891624314707,
           24
          ],
          [
           137838,
           0.001015640869388601,
           0.0003261316156487969,
           39
          ],
          [
           107443,
           0.0009975850317105795,
           0.00015984770992960934,
           19
          ],
          [
           109536,
           0.0009930710722910851,
           0.0003071483212350902,
           39
          ],
          [
           89890,
           0.0009930710722910851,
           0.00036532408098582367,
           33
          ],
          [
           10771,
           0.0009750152346130637,
           0.0003894581824113285,
           25
          ],
          [
           115822,
           0.0009434175186765259,
           0.00022269883103878985,
           27
          ],
          [
           109342,
           0.0009343895998375151,
           0.0006232861043967601,
           52
          ],
          [
           91189,
           0.0009298756404180098,
           0.0003946553455552382,
           31
          ],
          [
           93847,
           0.0008531383302864181,
           0.00016237710292824932,
           16
          ],
          [
           111496,
           0.0008260545737694081,
           0.00021487584779672844,
           17
          ],
          [
           36497,
           0.0008079987360913643,
           0.0005039487480335963,
           28
          ],
          [
           111497,
           0.0008034847766718811,
           0.0003590229774103098,
           26
          ],
          [
           94226,
           0.0008034847766718811,
           0.00034513345256714106,
           35
          ],
          [
           109344,
           0.0007989708172523535,
           0.0003225507497226143,
           12
          ],
          [
           113536,
           0.0007854289389938596,
           0.00028348240175336934,
           36
          ],
          [
           110383,
           0.0007854289389938596,
           0.00026910165094975357,
           8
          ],
          [
           20260,
           0.0007628591418963326,
           0.0002360244017857541,
           22
          ],
          [
           99458,
           0.0007538312230573219,
           0.00032818689108797235,
           23
          ],
          [
           75135,
           0.0007448033042183111,
           0.0005184179712972531,
           14
          ],
          [
           104522,
           0.0007267474665403007,
           0.00007739828108191013,
           32
          ],
          [
           56948,
           0.0007222335071207841,
           0.0002635935869394363,
           51
          ],
          [
           24345,
           0.0006951497506037518,
           0.00019012291230417188,
           36
          ],
          [
           15362,
           0.0006409822375697094,
           0.00010547607778048067,
           28
          ],
          [
           25846,
           0.0006229263998916767,
           0.0002120119812366922,
           22
          ],
          [
           13198,
           0.0006184124404721714,
           0.00015413700840917916,
           2
          ],
          [
           104773,
           0.000600356602794161,
           0.0003983041671691651,
           13
          ],
          [
           40993,
           0.0005868147245356448,
           0.00031950415725164733,
           36
          ],
          [
           90087,
           0.0005823007651161505,
           0.00018688010061150746,
           26
          ],
          [
           113734,
           0.0005687588868576344,
           0.0002307865218798787,
           17
          ],
          [
           110364,
           0.0005642449274381178,
           0.00034049738715140684,
           6
          ],
          [
           84197,
           0.0005507030491796016,
           0.00041996807184825277,
           39
          ],
          [
           8278,
           0.0005236192926625916,
           0.00018021951183945617,
           6
          ],
          [
           96890,
           0.0005236192926625693,
           0.00016424858734429316,
           13
          ],
          [
           84892,
           0.000519105333243075,
           0.0001816833619743937,
           34
          ],
          [
           60050,
           0.0005145913738235697,
           0.0002398777665937615,
           14
          ],
          [
           104810,
           0.0005100774144040532,
           0.00021487584779672007,
           4
          ],
          [
           110383,
           0.0005055634549845589,
           0.00019341670874244735,
           35
          ],
          [
           106609,
           0.0005010494955650536,
           0.00024657955237316313,
           23
          ],
          [
           114229,
           0.00048750761730653736,
           0.00035731631439120225,
           20
          ],
          [
           17915,
           0.00048750761730652624,
           0.00007766109433763251,
           9
          ],
          [
           62767,
           0.000482993657887032,
           0.00023437840496078088,
           14
          ],
          [
           105360,
           0.0004739657390480323,
           0.00016400029001814492,
           16
          ],
          [
           106607,
           0.0004739657390480212,
           0.00027605362315517856,
           17
          ],
          [
           133132,
           0.0004694517796285158,
           0.0001379529807022482,
           40
          ],
          [
           83599,
           0.0004333401042724838,
           0.0002347258898142562,
           8
          ],
          [
           17702,
           0.00042431218543347303,
           0.00022269883103878332,
           11
          ],
          [
           64738,
           0.00041528426659446225,
           0.00011736294490711913,
           10
          ],
          [
           104734,
           0.000410770307174968,
           0.00017093548404325287,
           10
          ],
          [
           26622,
           0.0004107703071749569,
           0.00024781596102306784,
           11
          ],
          [
           117882,
           0.0004107703071749569,
           0.00028776270025971247,
           10
          ],
          [
           51391,
           0.0004062563477554626,
           0.0002117234640044888,
           9
          ],
          [
           17780,
           0.0004062563477554515,
           0.00016337789578038005,
           18
          ],
          [
           111238,
           0.0004062563477554515,
           0.00020287724336330365,
           18
          ],
          [
           102558,
           0.00039722842891644073,
           0.00023911206153699036,
           16
          ],
          [
           113536,
           0.00039722842891644073,
           0.00020567017852519173,
           23
          ],
          [
           74296,
           0.00039271446949694643,
           0.0002001471485534585,
           6
          ],
          [
           108196,
           0.0003927144694969353,
           0.0002551884627729804,
           29
          ],
          [
           104809,
           0.00038820051007742995,
           0.00029613775641511764,
           16
          ],
          [
           109344,
           0.00038368655065793564,
           0.0002869117490612545,
           22
          ],
          [
           110295,
           0.0003791725912384414,
           0.00011185150602264331,
           10
          ],
          [
           16406,
           0.00037917259123841917,
           0.00006755875842233609,
           12
          ],
          [
           11183,
           0.0003701446723994195,
           0.00040665739064455196,
           35
          ],
          [
           109806,
           0.0003701446723994084,
           0.00017283219102242408,
           16
          ],
          [
           114229,
           0.00036563071297991413,
           0.0004010571021507375,
           31
          ],
          [
           58693,
           0.0003611167535604087,
           0.0002252461227323005,
           5
          ],
          [
           99894,
           0.00036111675356039765,
           0.00015173887931000502,
           18
          ],
          [
           105839,
           0.00035660279414090335,
           0.0002249745781818164,
           19
          ],
          [
           48440,
           0.00035660279414090335,
           0.000173303124295957,
           6
          ],
          [
           105790,
           0.00034757487530189256,
           0.0002603267358258809,
           17
          ],
          [
           97917,
           0.0003385469564628818,
           0.0002581258664408826,
           29
          ],
          [
           100256,
           0.0003340329970433653,
           0.0002547089350155283,
           13
          ],
          [
           19627,
           0.0003295190376238821,
           0.00005264136046082327,
           9
          ],
          [
           84197,
           0.00032951903762387105,
           0.00030867034098048445,
           21
          ],
          [
           99303,
           0.00032500507820437674,
           0.0001662216140972955,
           10
          ],
          [
           95929,
           0.00032500507820436563,
           0.00007766109433760929,
           19
          ],
          [
           113734,
           0.0003159771593653438,
           0.0003493582968088785,
           21
          ],
          [
           110383,
           0.0003114631999458606,
           0.00037041981156799817,
           15
          ],
          [
           99303,
           0.0003114631999458606,
           0.0002190084541171104,
           13
          ],
          [
           85965,
           0.0003114631999458495,
           0.00034359504789735295,
           11
          ],
          [
           110364,
           0.0003114631999458495,
           0.00014087603795631895,
           9
          ],
          [
           96061,
           0.00031146319994583837,
           0.0002360244017857507,
           19
          ],
          [
           107296,
           0.0003069492405263441,
           0.0002839133354732422,
           15
          ],
          [
           123837,
           0.0003024352811068387,
           0.0003985598673734538,
           49
          ],
          [
           104811,
           0.0003024352811068387,
           0.0003253810240538074,
           17
          ],
          [
           51393,
           0.00029792132168734444,
           0.00010032776207322502,
           6
          ],
          [
           56717,
           0.00029792132168733333,
           0.00016111737014534478,
           11
          ],
          [
           123837,
           0.00029792132168733333,
           0.00020557108423925448,
           25
          ],
          [
           29669,
           0.00028889340284833366,
           0.00009403781188525158,
           9
          ],
          [
           98997,
           0.0002843794434288172,
           0.0002466621724299018,
           23
          ],
          [
           39514,
           0.00028437944342880607,
           0.00024953664136295457,
           11
          ],
          [
           72457,
           0.00027986548400931176,
           0.0003632545564128492,
           13
          ],
          [
           93945,
           0.00027986548400930065,
           0.0002282117888327295,
           14
          ],
          [
           108747,
           0.0002753515245898175,
           0.00015066079191349954,
           12
          ],
          [
           123837,
           0.0002708375651703121,
           0.00012196046752076354,
           13
          ],
          [
           95234,
           0.000270837565170301,
           0.00012926012651071458,
           11
          ],
          [
           104734,
           0.0002663236057508067,
           0.0001364679753341964,
           19
          ],
          [
           17469,
           0.0002663236057508067,
           0.00009294811330928427,
           10
          ],
          [
           108196,
           0.0002663236057507956,
           0.0001703384319779064,
           16
          ],
          [
           105944,
           0.0002618096463313013,
           0.0001281519359611651,
           14
          ],
          [
           84937,
           0.0002618096463313013,
           0.00009639179589709166,
           10
          ],
          [
           102561,
           0.00026180964633129025,
           0.00017105464438121212,
           26
          ],
          [
           110166,
           0.00025729568691179594,
           0.0005296165318767277,
           54
          ],
          [
           27918,
           0.00025278172749230163,
           0.0000760705962775852,
           4
          ],
          [
           72767,
           0.00024826776807278516,
           0.00019204231734202995,
           14
          ],
          [
           111238,
           0.00024826776807278516,
           0.00022928070235765443,
           21
          ],
          [
           96999,
           0.00024826776807277404,
           0.00023671402897288712,
           16
          ],
          [
           75154,
           0.00024826776807277404,
           0.0004516215835251592,
           31
          ],
          [
           93157,
           0.00024375380865329088,
           0.00007739828108192567,
           7
          ],
          [
           26622,
           0.0002437538086532798,
           0.00016853458552910946,
           14
          ],
          [
           99303,
           0.00023923984923378548,
           0.00010833502606812928,
           8
          ],
          [
           91047,
           0.0002392398492337744,
           0.00009095376206743186,
           14
          ],
          [
           50930,
           0.00023923984923376329,
           0.0002842719478878441,
           25
          ],
          [
           88227,
           0.00023923984923376329,
           0.00014317152167515592,
           10
          ],
          [
           90125,
           0.0002347258898142579,
           0.00019810060042423655,
           9
          ],
          [
           2549,
           0.00023021193039477473,
           0.00007471932361590237,
           5
          ],
          [
           102561,
           0.00022569797097526934,
           0.00006845758407522517,
           4
          ],
          [
           108311,
           0.00022569797097525822,
           0.00010681977625385282,
           7
          ],
          [
           104727,
           0.00022569797097525822,
           0.0001300459095934042,
           11
          ],
          [
           90732,
           0.00022118401155576394,
           0.00009294811330930368,
           13
          ],
          [
           46711,
           0.00022118401155575286,
           0.0002143061361946382,
           15
          ],
          [
           93447,
           0.00022118401155574174,
           0.0002461660361466352,
           14
          ],
          [
           27665,
           0.00021667005213625855,
           0.00003377937921118029,
           18
          ],
          [
           33524,
           0.00021667005213624747,
           0.0002299905514317418,
           17
          ],
          [
           7266,
           0.00021667005213624747,
           0.00016187438623279607,
           18
          ],
          [
           108221,
           0.00021215609271675319,
           0.0003718472535106221,
           12
          ],
          [
           100995,
           0.00021215609271673096,
           0.00017517419741288565,
           12
          ],
          [
           62664,
           0.00020764213329723668,
           0.0002877627002597165,
           21
          ],
          [
           15507,
           0.00020764213329723668,
           0.0003002376897251598,
           30
          ],
          [
           89607,
           0.0002031281738777313,
           0.00016462033113332798,
           6
          ],
          [
           96061,
           0.0002031281738777202,
           0.0002323702832732344,
           9
          ],
          [
           110364,
           0.000198614214458237,
           0.000022113794594835906,
           7
          ],
          [
           27821,
           0.00019410025503873162,
           0.00018033253757137384,
           9
          ],
          [
           79648,
           0.00019410025503873162,
           0.0002214141958323585,
           16
          ],
          [
           6940,
           0.00018958629561922625,
           0.00006319543187307542,
           7
          ],
          [
           55949,
           0.00018507233619973195,
           0.00017851553870300828,
           20
          ],
          [
           1078,
           0.00018507233619972086,
           0.00008612085687742937,
           11
          ],
          [
           104810,
           0.00018507233619972086,
           0.00011275867015865092,
           5
          ],
          [
           104522,
           0.00018507233619972086,
           0.00013268276756901544,
           13
          ],
          [
           67533,
           0.00018507233619970975,
           0.00011891520411961175,
           5
          ],
          [
           51952,
           0.00018055837678022658,
           0.00015505959814311672,
           14
          ],
          [
           77853,
           0.00018055837678021547,
           0.00008200014500908315,
           3
          ],
          [
           108216,
           0.00018055837678021547,
           0.0002577308763603072,
           19
          ],
          [
           80687,
           0.00018055837678019327,
           0.0003239375289323857,
           19
          ],
          [
           104734,
           0.00017604441736071008,
           0.000043764460310261936,
           5
          ],
          [
           70656,
           0.00017604441736071008,
           0.00007051030018649548,
           7
          ],
          [
           88227,
           0.00017604441736071008,
           0.00009294811330930368,
           10
          ],
          [
           96311,
           0.0001715304579412158,
           0.0001466863187240985,
           10
          ],
          [
           107444,
           0.00017153045794120468,
           0.0000920670686544957,
           11
          ],
          [
           82275,
           0.0001715304579411936,
           0.00014599012913351367,
           17
          ],
          [
           87499,
           0.0001715304579411936,
           0.00019706935656165853,
           11
          ],
          [
           44791,
           0.00016701649852169932,
           0.0002214141958323596,
           9
          ],
          [
           77853,
           0.00016701649852169932,
           0.0000839644987823171,
           9
          ],
          [
           130413,
           0.0001670164985216882,
           0.00015011884486258007,
           5
          ],
          [
           99259,
           0.00016250253910219393,
           0.00014373966486643338,
           13
          ],
          [
           109536,
           0.00016250253910219393,
           0.00010908475837764771,
           14
          ],
          [
           89307,
           0.00016250253910219393,
           0.00012719437383354454,
           20
          ],
          [
           83962,
           0.00016250253910218281,
           0.00019540804678190143,
           14
          ],
          [
           111316,
           0.00015798857968269965,
           0.00020832790772048925,
           16
          ],
          [
           111316,
           0.00015798857968268853,
           0.0000957555394659945,
           11
          ],
          [
           116609,
           0.00015798857968268853,
           0.0005634318288895121,
           30
          ],
          [
           23822,
           0.00015347462026318314,
           0.00006755875842236058,
           3
          ],
          [
           55652,
           0.00015347462026318314,
           0.00008959953615131563,
           12
          ],
          [
           73783,
           0.00015347462026317206,
           0.00020055395212064436,
           15
          ],
          [
           69286,
           0.00014896066084367775,
           0.000048616830813507404,
           7
          ],
          [
           43711,
           0.00014896066084367775,
           0.00007633798056871326,
           5
          ],
          [
           13064,
           0.00014896066084367775,
           0.00006634138378450772,
           2
          ],
          [
           84689,
           0.00014896066084367775,
           0.00013051510862665294,
           11
          ],
          [
           43711,
           0.00014896066084367775,
           0.00024165497667319523,
           10
          ],
          [
           82435,
           0.00014896066084367775,
           0.00005637933507932547,
           6
          ],
          [
           77465,
           0.00014444670142417239,
           0.0007035987186999299,
           59
          ],
          [
           15304,
           0.00014444670142417239,
           0.00024994458121573834,
           9
          ],
          [
           108196,
           0.00013993274200467808,
           0.00013496663179836897,
           13
          ],
          [
           21870,
           0.00013993274200467808,
           0.00013344839866471676,
           14
          ],
          [
           87605,
           0.000139932742004667,
           0.00013646797533421693,
           7
          ],
          [
           16974,
           0.000139932742004667,
           0.00006603353347475403,
           4
          ],
          [
           104748,
           0.000139932742004667,
           0.00006755875842236058,
           3
          ],
          [
           84689,
           0.000139932742004667,
           0.00023515952382478675,
           5
          ],
          [
           69286,
           0.000139932742004667,
           0.0002114345530707101,
           12
          ],
          [
           133144,
           0.00013541878258517271,
           0.0002966876877270825,
           15
          ],
          [
           55278,
           0.00013541878258517271,
           0.00017540667820187183,
           12
          ],
          [
           8665,
           0.00013541878258517271,
           0.0001503900625089286,
           9
          ],
          [
           90732,
           0.0001354187825851616,
           0.00013160340115209865,
           15
          ],
          [
           101690,
           0.0001354187825851616,
           0.0004080080001255511,
           25
          ],
          [
           17702,
           0.0001354187825851505,
           0.0001759865365709105,
           13
          ],
          [
           125906,
           0.00013090482316566732,
           0.00016609898655268264,
           13
          ],
          [
           110364,
           0.0001309048231656562,
           0.00024945497333871505,
           11
          ],
          [
           85108,
           0.0001309048231656562,
           0.00005954321420215577,
           7
          ],
          [
           70370,
           0.00012639086374616193,
           0.00011561377186327221,
           6
          ],
          [
           20049,
           0.00012639086374615082,
           0.00013051510862665294,
           7
          ],
          [
           19470,
           0.00012639086374615082,
           0.0000963917958971057,
           6
          ],
          [
           107447,
           0.00012639086374615082,
           0.00008150165926499227,
           5
          ],
          [
           58690,
           0.00012639086374613973,
           0.00029928606232424885,
           10
          ],
          [
           123837,
           0.00012187690432665654,
           0.0001631282731811511,
           27
          ],
          [
           79648,
           0.00012187690432664544,
           0.00006785968979337261,
           9
          ],
          [
           125906,
           0.00012187690432664544,
           0.0000839644987823171,
           8
          ],
          [
           85767,
           0.00012187690432664544,
           0.00006634138378450772,
           4
          ],
          [
           73835,
           0.00011736294490715116,
           0.0001465473453923565,
           7
          ],
          [
           30345,
           0.00011736294490715116,
           0.00035782916798892544,
           35
          ],
          [
           104811,
           0.00011736294490714006,
           0.00033458154170143645,
           28
          ],
          [
           45459,
           0.00011284898548763467,
           0.00008682774307298516,
           3
          ],
          [
           12465,
           0.00011284898548763467,
           0.00007417192193178076,
           4
          ],
          [
           113724,
           0.00010833502606814039,
           0.00016853458552910114,
           19
          ],
          [
           102289,
           0.00010833502606814039,
           0.0002000453184026085,
           23
          ],
          [
           2909,
           0.00010833502606812928,
           0.00005954321420215578,
           8
          ],
          [
           33048,
           0.00010833502606812928,
           0.00005601676324730818,
           6
          ],
          [
           84056,
           0.0001038210666486239,
           0.00006478750578648579,
           7
          ],
          [
           87504,
           0.0001038210666486239,
           0.0000839644987823171,
           11
          ],
          [
           72457,
           0.0001038210666486239,
           0.00015740714355894002,
           7
          ],
          [
           100995,
           0.0001038210666486239,
           0.0001064375933604449,
           11
          ],
          [
           93094,
           0.0001038210666486239,
           0.00011649164150644877,
           9
          ],
          [
           107442,
           0.0000993071072291296,
           0.00015675857407800896,
           11
          ],
          [
           30756,
           0.0000993071072291185,
           0.00007362045017853676,
           7
          ],
          [
           93907,
           0.0000993071072291185,
           0.00006785968979337261,
           13
          ],
          [
           56060,
           0.0000993071072291185,
           0.00007362045017853677,
           15
          ],
          [
           27947,
           0.0000993071072291185,
           0.00005066906881677043,
           4
          ],
          [
           60124,
           0.0000993071072291185,
           0.00011112044259455815,
           12
          ],
          [
           89169,
           0.00009479314780962423,
           0.0001553221886752518,
           10
          ],
          [
           25496,
           0.00009479314780961313,
           0.000016889689605590145,
           2
          ],
          [
           87785,
           0.00009479314780961313,
           0.00002994221942677967,
           6
          ],
          [
           107290,
           0.00009479314780961313,
           0.00029371970090500543,
           22
          ],
          [
           97897,
           0.00009479314780961313,
           0.0001546648764214591,
           14
          ],
          [
           110416,
           0.00009479314780961313,
           0.00006123032462704423,
           2
          ],
          [
           108576,
           0.00009027918839011883,
           0.00020387911238651683,
           8
          ],
          [
           5243,
           0.00009027918839010773,
           0.00005528448648708977,
           4
          ],
          [
           95467,
           0.00008576522897061346,
           0.00009511502699665324,
           6
          ],
          [
           2703,
           0.00008576522897060234,
           0.00007471932361590237,
           1
          ],
          [
           4057,
           0.00008576522897060234,
           0.00011185150602266391,
           9
          ],
          [
           11087,
           0.00008576522897060234,
           0.00006287217946232365,
           1
          ],
          [
           69286,
           0.00008576522897060234,
           0.00020557108423924545,
           11
          ],
          [
           102561,
           0.00008576522897060234,
           0.00003317069189225386,
           1
          ],
          [
           85068,
           0.00008125126955110806,
           0.00016312827318115236,
           3
          ],
          [
           74439,
           0.00008125126955110806,
           0.00017283219102243017,
           12
          ],
          [
           125879,
           0.00008125126955109696,
           0.00012735446750777675,
           21
          ],
          [
           4302,
           0.00008125126955109696,
           0.00008024189782487379,
           2
          ],
          [
           54242,
           0.00008125126955109696,
           0.000039351785889735006,
           7
          ],
          [
           85098,
           0.00008125126955109696,
           0.00024417141013922884,
           2
          ],
          [
           93886,
           0.00008125126955109696,
           0.00005066906881677043,
           5
          ],
          [
           104734,
           0.00007673731013161378,
           0.0001891559061977267,
           13
          ],
          [
           93945,
           0.00007673731013160267,
           0.00021629356175250508,
           21
          ],
          [
           111297,
           0.00007673731013160267,
           0.00011908642840429597,
           17
          ],
          [
           35729,
           0.00007673731013159157,
           0.00005988443885355934,
           1
          ],
          [
           32593,
           0.00007673731013159157,
           0.00006634138378450772,
           6
          ],
          [
           48730,
           0.00007673731013159157,
           0.0001745916411024231,
           5
          ],
          [
           22672,
           0.00007673731013159157,
           0.000023016767163623925,
           2
          ],
          [
           50687,
           0.00007222335071209729,
           0.00012394908450354206,
           14
          ],
          [
           103703,
           0.00007222335071209729,
           0.00011631659761865883,
           12
          ],
          [
           9068,
           0.00007222335071208619,
           0.000043764460310261936,
           11
          ],
          [
           72892,
           0.00007222335071208619,
           0.000022113794594835906,
           2
          ],
          [
           96233,
           0.00007222335071208619,
           0.00016913800523794383,
           5
          ],
          [
           15567,
           0.00007222335071208619,
           0.00010528272092167891,
           8
          ],
          [
           133144,
           0.00007222335071208619,
           0.00032594412979502547,
           24
          ],
          [
           25498,
           0.0000677093912925808,
           0.00002854878606241702,
           2
          ],
          [
           38816,
           0.0000677093912925808,
           0.00006845758407522517,
           2
          ],
          [
           19808,
           0.0000677093912925808,
           0.00010776930404960683,
           15
          ],
          [
           111497,
           0.0000677093912925808,
           0.00007137196515604255,
           14
          ],
          [
           3374,
           0.0000677093912925808,
           0.00001427439303120851,
           2
          ],
          [
           54700,
           0.00006319543187308652,
           0.00028776270025971995,
           21
          ],
          [
           70807,
           0.00006319543187308652,
           0.0001750578412410323,
           5
          ],
          [
           67533,
           0.00006319543187307541,
           0.000026320680230419727,
           3
          ],
          [
           95929,
           0.00006319543187307541,
           0.00011275867015865094,
           15
          ],
          [
           71316,
           0.00006319543187307541,
           0.00010233853836870978,
           10
          ],
          [
           5290,
           0.00006319543187307541,
           0.00008845517837934362,
           8
          ],
          [
           83363,
           0.00006319543187307541,
           0.00005954321420215577,
           1
          ],
          [
           88942,
           0.00005868147245359223,
           0.0001928892555959245,
           11
          ],
          [
           52144,
           0.00005868147245359223,
           0.0001656075683557322,
           20
          ],
          [
           70355,
           0.00005868147245358113,
           0.0001528093608667808,
           9
          ],
          [
           32323,
           0.00005868147245358113,
           0.0001618743862328035,
           3
          ],
          [
           101104,
           0.00005868147245358113,
           0.00009316707265465483,
           7
          ],
          [
           22541,
           0.00005868147245357003,
           0.00002708375651703232,
           1
          ],
          [
           58525,
           0.00005868147245357003,
           0.00006156219873603526,
           5
          ],
          [
           40709,
           0.00005868147245357003,
           0.000046474056654651845,
           2
          ],
          [
           42725,
           0.00005868147245357003,
           0.000023016767163623925,
           3
          ],
          [
           60500,
           0.000054167513034086844,
           0.00013283624681933897,
           10
          ],
          [
           45444,
           0.000054167513034075744,
           0.0002046770767374007,
           16
          ],
          [
           70807,
           0.00005416751303406464,
           0.000023016767163623925,
           1
          ],
          [
           28933,
           0.00005416751303406464,
           0.00005815829880933824,
           3
          ],
          [
           1333,
           0.00005416751303406464,
           0.000023016767163623925,
           6
          ],
          [
           35729,
           0.00005416751303406464,
           0.000058158298809338236,
           1
          ],
          [
           72263,
           0.00005416751303406464,
           0.00005066906881677043,
           5
          ],
          [
           55797,
           0.00005416751303406464,
           0.00005988443885355934,
           11
          ],
          [
           253,
           0.00005416751303406464,
           0.000023016767163623925,
           2
          ],
          [
           1869,
           0.00004965355361457036,
           0.00014015098920044556,
           4
          ],
          [
           20771,
           0.00004965355361457036,
           0.00009184548694054943,
           5
          ],
          [
           39505,
           0.00004965355361457036,
           0.00021760842834212717,
           8
          ],
          [
           57036,
           0.00004965355361457036,
           0.0002478159610230488,
           18
          ],
          [
           6550,
           0.00004965355361455925,
           0.000009027918839010772,
           1
          ],
          [
           2161,
           0.00004965355361455925,
           0.00004819589794855285,
           3
          ],
          [
           90732,
           0.00004965355361455925,
           0.00006287217946232365,
           8
          ],
          [
           26622,
           0.00004965355361455925,
           0.00006287217946232365,
           6
          ],
          [
           99899,
           0.00004513959419507607,
           0.00025051458100094193,
           21
          ],
          [
           91046,
           0.000045139594195064967,
           0.00009992075121844452,
           2
          ],
          [
           109536,
           0.000045139594195064967,
           0.0003084722425489396,
           11
          ],
          [
           104748,
           0.00004513959419505387,
           0.00006056112065813721,
           11
          ],
          [
           51787,
           0.00004513959419505387,
           0.000024723973977260253,
           4
          ],
          [
           35532,
           0.00004062563477555958,
           0.00018796725405608548,
           8
          ],
          [
           58693,
           0.00004062563477555958,
           0.00009618017808771198,
           5
          ],
          [
           19085,
           0.00004062563477555958,
           0.00017212337522231366,
           6
          ],
          [
           93157,
           0.00004062563477554848,
           0.00004603353432724785,
           7
          ],
          [
           2410,
           0.00004062563477554848,
           0.00006905030149087178,
           4
          ],
          [
           21655,
           0.00004062563477554848,
           0.00003611167535604309,
           7
          ],
          [
           3337,
           0.00004062563477554848,
           0.000043764460310261936,
           2
          ],
          [
           5604,
           0.00004062563477554848,
           0.000026320680230419727,
           3
          ],
          [
           68404,
           0.00004062563477554848,
           0.00003611167535604309,
           5
          ],
          [
           55367,
           0.000036111675356065295,
           0.0001567585740780045,
           21
          ],
          [
           107444,
           0.000036111675356054196,
           0.00014668631872410875,
           10
          ],
          [
           126401,
           0.000036111675356054196,
           0.0000909537620674313,
           3
          ],
          [
           113734,
           0.000036111675356054196,
           0.00007079868707588284,
           8
          ],
          [
           57957,
           0.000036111675356054196,
           0.00008150165926497196,
           7
          ],
          [
           61330,
           0.000036111675356043096,
           0.00009206706865449571,
           6
          ],
          [
           2114,
           0.000036111675356043096,
           0.000036671579681030006,
           2
          ],
          [
           38376,
           0.00003159771593655991,
           0.00017105464438121505,
           6
          ],
          [
           24441,
           0.00003159771593654881,
           0.00019551229221304316,
           10
          ],
          [
           40390,
           0.000031597715936537704,
           0.00003061516231352212,
           2
          ],
          [
           21799,
           0.000031597715936537704,
           0.000023016767163623925,
           4
          ],
          [
           53343,
           0.000031597715936537704,
           0.000018055837678021545,
           3
          ],
          [
           1886,
           0.000031597715936537704,
           0.000018055837678021548,
           1
          ],
          [
           95391,
           0.000027083756517054525,
           0.0001697392798154995,
           8
          ],
          [
           85262,
           0.000027083756517054525,
           0.0002226988310387644,
           16
          ],
          [
           113734,
           0.000027083756517043422,
           0.0001154373968225725,
           3
          ],
          [
           85965,
           0.000027083756517043422,
           0.00019748250032027324,
           10
          ],
          [
           58793,
           0.00002708375651703232,
           0.000057806885931646513,
           5
          ],
          [
           14588,
           0.00002708375651703232,
           0.000009027918839010772,
           1
          ],
          [
           1659,
           0.00002708375651703232,
           0.00002994221942677967,
           1
          ],
          [
           110359,
           0.00002256979709754914,
           0.00032172847958481275,
           15
          ],
          [
           88374,
           0.00002256979709754914,
           0.00015636814115772328,
           10
          ],
          [
           51156,
           0.000022569797097538036,
           0.00012767405262131425,
           14
          ],
          [
           103703,
           0.000022569797097538036,
           0.0001150838358181044,
           9
          ],
          [
           53345,
           0.000022569797097538036,
           0.00007553298815392244,
           7
          ],
          [
           85003,
           0.000022569797097538036,
           0.00013160340115208152,
           6
          ],
          [
           11470,
           0.000022569797097538036,
           0.00009360345477385862,
           7
          ],
          [
           1028,
           0.000022569797097526934,
           0.00006845758407522518,
           2
          ],
          [
           439,
           0.000022569797097526934,
           0.000020187040219379068,
           2
          ],
          [
           3194,
           0.000022569797097526934,
           0.000020187040219379068,
           1
          ],
          [
           2887,
           0.000022569797097526934,
           0,
           2
          ],
          [
           1597,
           0.000022569797097526934,
           0.00006845758407522518,
           3
          ],
          [
           56627,
           0.000022569797097526934,
           0.0000473428057945825,
           10
          ],
          [
           88374,
           0.000018055837678032648,
           0.00007870357177945154,
           14
          ],
          [
           15442,
           0.000018055837678032648,
           0.00012799283976580288,
           4
          ],
          [
           17341,
           0.000018055837678032648,
           0.00009184548694055325,
           6
          ],
          [
           73835,
           0.000018055837678032648,
           0.00008729582055121356,
           6
          ],
          [
           104748,
           0.000018055837678032648,
           0.00019953538813551869,
           9
          ],
          [
           40773,
           0.000018055837678021548,
           0.000016889689605590145,
           1
          ],
          [
           4708,
           0.000018055837678021548,
           0.000022113794594835906,
           3
          ],
          [
           6550,
           0.000018055837678021548,
           0.00003317069189225386,
           1
          ],
          [
           23827,
           0.000018055837678021548,
           0.000022113794594835906,
           1
          ],
          [
           5439,
           0.000018055837678021548,
           0.000009027918839010772,
           1
          ],
          [
           3675,
           0.000018055837678021548,
           0.00005225285802600799,
           4
          ],
          [
           98991,
           0.000018055837678021548,
           0.000059543214202155784,
           7
          ],
          [
           8533,
           0.000013541878258538365,
           0.0000984829676090414,
           7
          ],
          [
           94226,
           0.000013541878258527262,
           0.00007362045017851772,
           9
          ],
          [
           51393,
           0.00001354187825851616,
           0.00006319543187307541,
           4
          ],
          [
           25390,
           0.00001354187825851616,
           0.000018055837678021545,
           1
          ],
          [
           6079,
           0.00001354187825851616,
           0.000011056897297417955,
           2
          ],
          [
           123837,
           0.000009027918839032978,
           0.00015347462026316224,
           10
          ],
          [
           1438,
           0.000009027918839010774,
           0.000018055837678021545,
           1
          ],
          [
           3960,
           0.000009027918839010774,
           0.00003377937921118029,
           2
          ],
          [
           1244,
           0.000009027918839010774,
           0.00004422758918967181,
           1
          ],
          [
           5220,
           0.000009027918839010774,
           0.00004422758918967181,
           4
          ],
          [
           104748,
           0.000009027918839010774,
           0.000011056897297417953,
           1
          ],
          [
           109344,
           0.000004513959419527591,
           0.00016174846292611576,
           20
          ],
          [
           37323,
           0.000004513959419516489,
           0.00007998756470385253,
           6
          ],
          [
           120919,
           0.000004513959419516489,
           0.00011093692398442009,
           8
          ],
          [
           93157,
           0.000004513959419516489,
           0.00011455144821765527,
           9
          ],
          [
           3465,
           0.000004513959419505387,
           0.000016889689605590145,
           1
          ],
          [
           50171,
           0.000004513959419505387,
           0.000009027918839010774,
           4
          ],
          [
           1259,
           0.000004513959419505387,
           0.000016889689605590145,
           2
          ],
          [
           4036,
           0.000004513959419505387,
           0.000016889689605590145,
           1
          ],
          [
           35168,
           0.000004513959419505387,
           0.000022113794594835906,
           1
          ],
          [
           10590,
           0.000004513959419505387,
           0.000009027918839010774,
           1
          ],
          [
           74192,
           0.000004513959419505387,
           0.000016889689605590145,
           1
          ],
          [
           73341,
           2.2204460492503132e-17,
           0.00018224325039552214,
           13
          ],
          [
           97897,
           2.2204460492503132e-17,
           0.00023628324785343423,
           9
          ],
          [
           4302,
           2.2204460492503132e-17,
           0.00011148657354574025,
           9
          ],
          [
           1073,
           1.1102230246251566e-17,
           0.00008200014500906786,
           3
          ],
          [
           89391,
           1.1102230246251566e-17,
           0.000071371965156025,
           5
          ]
         ],
         "hovertemplate": "feature=%{x}<br>coverage=%{y}<br>abon_count=%{customdata[0]}<br>mean=%{customdata[1]}<br>std=%{customdata[2]}<br>importance_tree=%{customdata[3]}<br>p_importance%=%{marker.color}<extra></extra>",
         "legendgroup": "",
         "marker": {
          "color": [
           22.742929058752622,
           8.965357355765745,
           2.685964098827494,
           2.6379413128435276,
           2.450818043319784,
           1.9374710207325334,
           1.8762005696495394,
           1.6609260117903708,
           1.6145591839437787,
           1.4588991190302338,
           1.3777571702986944,
           1.369477379611802,
           1.3479499238258825,
           1.3396701331389942,
           1.0548453335099395,
           1.0449095846856649,
           0.9869510498774315,
           0.9207127243823021,
           0.8925614360468768,
           0.8279790686891257,
           0.8279790686891217,
           0.8263231105517435,
           0.8147314035900984,
           0.8114194873153374,
           0.7948599059415571,
           0.7915479896668003,
           0.771676492018263,
           0.7253096641716748,
           0.7170298734847826,
           0.6739749619129474,
           0.6458236735775139,
           0.619328343379463,
           0.6110485526925747,
           0.5978008875935432,
           0.5845532224945198,
           0.5795853480823885,
           0.5762734318076317,
           0.5746174736702532,
           0.5679936411207395,
           0.5365304365105531,
           0.5216268132741513,
           0.5100351063125022,
           0.5000993574882356,
           0.47194806915280213,
           0.4686361528780453,
           0.466980194740671,
           0.4653242366032885,
           0.46035636219115716,
           0.4471086970921256,
           0.43054911571834537,
           0.42061336689407874,
           0.3908061204212668,
           0.3841822878717571,
           0.37921441345962176,
           0.37259058091010805,
           0.36596674836059434,
           0.36431079022321994,
           0.36431079022321994,
           0.35768695767370623,
           0.3460952507120571,
           0.34278333443730025,
           0.34112737629992185,
           0.3129760879644883,
           0.3030403391402258,
           0.29641650659070395,
           0.29476054845333366,
           0.29476054845333366,
           0.29310459031594704,
           0.2881367159038199,
           0.2881367159038199,
           0.27985692521692773,
           0.2765450089421708,
           0.2732330926674139,
           0.2666092601179043,
           0.26495330198052175,
           0.2550175531562511,
           0.23514605550771797,
           0.22852222295820013,
           0.2268662648208217,
           0.22024243227131207,
           0.2152745578591767,
           0.21361859972180236,
           0.20865072530966705,
           0.20699476717228452,
           0.20202689276014918,
           0.19209114393588672,
           0.19209114393587856,
           0.1904351857985042,
           0.18877922766112576,
           0.18712326952374328,
           0.1854673113863689,
           0.18381135324899045,
           0.17884347883685514,
           0.17884347883685103,
           0.1771875206994767,
           0.17387560442472388,
           0.1738756044247198,
           0.17221964628734138,
           0.15897198118831793,
           0.15566006491356105,
           0.15234814863880417,
           0.15069219050142982,
           0.15069219050142574,
           0.15069219050142574,
           0.14903623236405136,
           0.1490362323640473,
           0.1490362323640473,
           0.14572431608929043,
           0.14572431608929043,
           0.14406835795191605,
           0.14406835795191197,
           0.14241239981453355,
           0.14075644167715917,
           0.1391004835397848,
           0.13910048353977666,
           0.13578856726502386,
           0.13578856726501978,
           0.1341326091276454,
           0.13247665099026698,
           0.13247665099026293,
           0.13082069285288855,
           0.13082069285288855,
           0.12750877657813167,
           0.12419686030337478,
           0.12254090216599228,
           0.12088494402862197,
           0.12088494402861792,
           0.11922898589124353,
           0.11922898589123945,
           0.11591706961647853,
           0.11426111147910822,
           0.11426111147910822,
           0.11426111147910414,
           0.11426111147910414,
           0.11426111147910006,
           0.11260515334172573,
           0.11094919520434728,
           0.11094919520434728,
           0.10929323706697291,
           0.10929323706696883,
           0.10929323706696883,
           0.10598132079221603,
           0.10432536265483353,
           0.10432536265482945,
           0.10266940451745508,
           0.102669404517451,
           0.10101344638008072,
           0.09935748824270227,
           0.09935748824269819,
           0.09770153010532384,
           0.09770153010532384,
           0.09770153010531978,
           0.09604557196794539,
           0.09604557196794539,
           0.09604557196794133,
           0.09438961383056696,
           0.09273365569319257,
           0.09107769755581008,
           0.09107769755581008,
           0.091077697555806,
           0.091077697555806,
           0.08942173941843572,
           0.08942173941843165,
           0.08776578128105726,
           0.0877657812810532,
           0.08776578128104912,
           0.08776578128104912,
           0.08610982314367069,
           0.0844538650063004,
           0.08279790686892195,
           0.08279790686891787,
           0.08279790686891787,
           0.08114194873154351,
           0.08114194873153945,
           0.08114194873153538,
           0.07948599059416507,
           0.079485990594161,
           0.079485990594161,
           0.07783003245678664,
           0.07783003245677848,
           0.07617407431940412,
           0.07617407431940412,
           0.07451811618202568,
           0.07451811618202162,
           0.07286215804465132,
           0.07120619990727288,
           0.07120619990727288,
           0.06955024176989444,
           0.06789428363252006,
           0.067894283632516,
           0.067894283632516,
           0.067894283632516,
           0.06789428363251193,
           0.06623832549514164,
           0.06623832549513757,
           0.06623832549513757,
           0.06623832549512942,
           0.06458236735775912,
           0.06458236735775912,
           0.06458236735775912,
           0.06292640922038475,
           0.06292640922038067,
           0.06292640922037661,
           0.06292640922037661,
           0.061270451083002254,
           0.061270451083002254,
           0.061270451082998174,
           0.059614492945623807,
           0.059614492945623807,
           0.059614492945623807,
           0.059614492945619726,
           0.057958534808249446,
           0.057958534808245366,
           0.057958534808245366,
           0.05630257667086693,
           0.05630257667086693,
           0.056302576670862865,
           0.054646618533488484,
           0.054646618533488484,
           0.054646618533488484,
           0.054646618533488484,
           0.054646618533488484,
           0.054646618533488484,
           0.052990660396110056,
           0.052990660396110056,
           0.05133470225873568,
           0.05133470225873568,
           0.051334702258731615,
           0.051334702258731615,
           0.051334702258731615,
           0.051334702258731615,
           0.051334702258731615,
           0.04967874412135725,
           0.04967874412135725,
           0.04967874412135725,
           0.04967874412135317,
           0.04967874412135317,
           0.049678744121349094,
           0.04802278598397881,
           0.04802278598397473,
           0.04802278598397473,
           0.046366827846600366,
           0.046366827846596285,
           0.046366827846596285,
           0.046366827846596285,
           0.046366827846592226,
           0.044710869709221925,
           0.04471086970921786,
           0.04471086970921786,
           0.04471086970921786,
           0.04305491157184349,
           0.04305491157184349,
           0.04305491157183942,
           0.041398953434460976,
           0.041398953434460976,
           0.039742995297086615,
           0.039742995297086615,
           0.039742995297082535,
           0.039742995297082535,
           0.0380870371597041,
           0.0380870371597041,
           0.0380870371597041,
           0.0380870371597041,
           0.0380870371597041,
           0.036431079022329727,
           0.03643107902232566,
           0.03643107902232566,
           0.03643107902232566,
           0.03643107902232566,
           0.03643107902232566,
           0.0347751208849513,
           0.03477512088494722,
           0.03477512088494722,
           0.03477512088494722,
           0.03477512088494722,
           0.03477512088494722,
           0.03311916274757285,
           0.033119162747568785,
           0.03146320461019442,
           0.03146320461019034,
           0.03146320461019034,
           0.03146320461019034,
           0.03146320461019034,
           0.03146320461019034,
           0.02980724647281598,
           0.02980724647281598,
           0.029807246472811903,
           0.029807246472811903,
           0.029807246472811903,
           0.029807246472811903,
           0.029807246472811903,
           0.028151288335441612,
           0.028151288335437535,
           0.028151288335437535,
           0.028151288335433466,
           0.028151288335433466,
           0.028151288335433466,
           0.028151288335433466,
           0.026495330198059098,
           0.026495330198059098,
           0.026495330198055028,
           0.026495330198055028,
           0.026495330198055028,
           0.026495330198055028,
           0.026495330198055028,
           0.024839372060676584,
           0.024839372060676584,
           0.024839372060676584,
           0.024839372060676584,
           0.024839372060676584,
           0.02318341392330222,
           0.02318341392330222,
           0.023183413923298143,
           0.023183413923298143,
           0.023183413923298143,
           0.023183413923298143,
           0.023183413923298143,
           0.02152745578592785,
           0.02152745578592785,
           0.021527455785923782,
           0.021527455785923782,
           0.021527455785923782,
           0.02152745578591971,
           0.02152745578591971,
           0.02152745578591971,
           0.02152745578591971,
           0.019871497648549414,
           0.019871497648545344,
           0.019871497648541268,
           0.019871497648541268,
           0.019871497648541268,
           0.019871497648541268,
           0.019871497648541268,
           0.019871497648541268,
           0.019871497648541268,
           0.018215539511166903,
           0.018215539511166903,
           0.018215539511166903,
           0.018215539511166903,
           0.01821553951116283,
           0.01821553951116283,
           0.01821553951116283,
           0.01821553951116283,
           0.016559581373792535,
           0.016559581373788462,
           0.016559581373788462,
           0.016559581373784393,
           0.016559581373784393,
           0.014903623236410025,
           0.014903623236410025,
           0.014903623236410025,
           0.014903623236405952,
           0.014903623236405952,
           0.014903623236405952,
           0.014903623236405952,
           0.014903623236405952,
           0.014903623236405952,
           0.013247665099035659,
           0.013247665099031585,
           0.013247665099031585,
           0.013247665099031585,
           0.013247665099031585,
           0.013247665099027514,
           0.013247665099027514,
           0.01159170696165722,
           0.011591706961653148,
           0.011591706961649071,
           0.011591706961649071,
           0.011591706961649071,
           0.011591706961649071,
           0.00993574882427878,
           0.00993574882427878,
           0.009935748824274707,
           0.009935748824274707,
           0.009935748824270634,
           0.009935748824270634,
           0.009935748824270634,
           0.008279790686900343,
           0.008279790686900343,
           0.008279790686896268,
           0.008279790686896268,
           0.008279790686896268,
           0.008279790686896268,
           0.008279790686896268,
           0.008279790686892196,
           0.008279790686892196,
           0.008279790686892196,
           0.008279790686892196,
           0.008279790686892196,
           0.008279790686892196,
           0.006623832549517829,
           0.006623832549517829,
           0.006623832549517829,
           0.006623832549517829,
           0.006623832549517829,
           0.006623832549513757,
           0.006623832549513757,
           0.006623832549513757,
           0.006623832549513757,
           0.006623832549513757,
           0.006623832549513757,
           0.006623832549513757,
           0.004967874412143463,
           0.00496787441213939,
           0.004967874412135317,
           0.004967874412135317,
           0.004967874412135317,
           0.0033119162747650244,
           0.0033119162747568785,
           0.0033119162747568785,
           0.0033119162747568785,
           0.0033119162747568785,
           0.0033119162747568785,
           0.0016559581373865849,
           0.0016559581373825122,
           0.0016559581373825122,
           0.0016559581373825122,
           0.0016559581373784393,
           0.0016559581373784393,
           0.0016559581373784393,
           0.0016559581373784393,
           0.0016559581373784393,
           0.0016559581373784393,
           0.0016559581373784393,
           8.145765972058214e-15,
           8.145765972058214e-15,
           8.145765972058214e-15,
           4.072882986029107e-15,
           4.072882986029107e-15
          ],
          "coloraxis": "coloraxis",
          "pattern": {
           "shape": ""
          }
         },
         "name": "",
         "offsetgroup": "",
         "orientation": "v",
         "showlegend": false,
         "textposition": "auto",
         "type": "bar",
         "x": [
          "lt",
          "imei_mean_days_usage",
          "imei_mean_day_announced",
          "myvf_day_usage",
          "voice_in_mts_avg_dur_mea_mnt3",
          "imei_mean_price",
          "device_brand_apple",
          "imei_mean_long_days_usage",
          "conn_out_uniq_cnt_max_mnt3",
          "voice_in_mts_avg_dur_min_mnt3",
          "conn_out_uniq_cnt_mea_mnt3",
          "imei_max_price",
          "Internet",
          "voice_in_td_cnt_std_mnt3",
          "tsoa_call_cnt",
          "non_accum_internet_vol_max_mnt3",
          "loc_market_share",
          "non_accum_internet_vol_mea_mnt3",
          "all_clc_mea_mnt3",
          "voice_mts_in_nwork_part_mea_mnt3",
          "TM_ID",
          "min_paym_6_month",
          "DNZ_MAX_days_closed_loan_year5",
          "device_days_usage",
          "Balance_uah",
          "voice_in_cmpttrs_td_cnt_std_mnt3",
          "voice_out_td_cnt_std_mnt3",
          "conn_in_uniq_cnt_mea_mnt3",
          "voice_out_td_cnt_max_mnt3",
          "conn_out_uniq_cnt_mea_mnt1",
          "device_ios_version",
          "content_cnt_mea_mnt3",
          "voice_mts_in_nrest_part_max_mnt3",
          "device_height_mm",
          "DNZ_DAYS_from_last_year5",
          "clc_no_vas_roam_std_mnt3",
          "MV_Traf_Cont_inc_s_Cnt",
          "voice_in_fix_tar_dur_mea_mnt3",
          "device_price",
          "non_accum_internet_vol_mea_mnt1",
          "voice_in_cmpttrs_avg_durmea_mnt3",
          "DNZ_MIN_days_closed_loan_year5",
          "tsoa_chat_cnt",
          "voice_in_td_cnt_max_mnt3",
          "block_all_dur_min_mnt3",
          "voice_out_cmpttrs_avg_dumax_mnt3",
          "voice_mts_in_nrest_part_mea_mnt3",
          "DNZ_COUNT_closed_loan_year5",
          "non_accum_internet_vol_std_mnt3",
          "conn_in_uniq_cnt_std_mnt3",
          "device_width_mm",
          "AMA",
          "day_end_gba",
          "voice_mts_out_drest_partmea_mnt3",
          "days_of_last_ppm",
          "pay_sum_mea_mnt3",
          "voice_mts_in_drest_part_mea_mnt3",
          "non_accum_internet_vol_min_mnt1",
          "MV_Traf_Cont_out_s_Cnt",
          "voice_in_td_cnt_mea_mnt3",
          "voice_out_tar_dur_std_mnt3",
          "voice_in_mts_avg_dur_min_mnt1",
          "conn_out_uniq_cnt_mea_wk1",
          "sms_in_cnt_std_mnt3",
          "block_all_dur_mea_mnt3",
          "sms_in_cnt_mea_mnt3",
          "clc_no_vas_roam_mea_mnt3",
          "voice_out_td_cnt_mea_mnt3",
          "voice_mts_in_dwork_part_mea_mnt3",
          "voice_in_cmpttrs_td_cnt_mea_mnt3",
          "DNZ_DAYS_from_last_year2",
          "MV_Traf_innet_out_v_Min",
          "content_cnt_min_mnt1",
          "voice_mts_in_nwork_part_max_mnt3",
          "days_of_end_last_ppm",
          "DNZ_MEAN_days_closed_loan_year5",
          "DNZ_STD_days_closed_loan_year5",
          "MV_Traf_Cont_out_v_Min",
          "active_gba",
          "voice_in_td_cnt_mea_wk1",
          "voice_in_fix_tar_dur_td_mnt3",
          "MV_Traf_4G_d_Mb",
          "com_num_part_mea_mnt3",
          "voice_in_td_cnt_max_mnt1",
          "voice_in_fix_tar_dur_std_mnt3",
          "MV_SERV_Y_WO_AF",
          "sms_in_cnt_mea_mnt1",
          "MV_Traf_2G_d_Mb",
          "voice_mts_out_dwork_partmin_mnt3",
          "data_3g_dou_max_mnt3",
          "voice_in_cmpttrs_avg_durstd_mnt3",
          "all_clc_max_mnt3",
          "voice_in_mts_avg_dur_std_mnt3",
          "BS_OVERBUNDLE_MB_SUM_M3",
          "non_accum_internet_vol_td_mnt3",
          "MV_dou_innet_out_v",
          "all_clc_std_mnt3",
          "all_cnt_std_mnt3",
          "MV_ap_innet_out_v",
          "DNZ_MEAN_days_closed_loan_year2",
          "voice_in_kievstar_part_mea_wk1",
          "data_3g_tar_vol_mea_mnt3",
          "abon_part_max_mnt3",
          "content_cnt_max_mnt3",
          "sms_out_cnt_std_mnt3",
          "MV_Traf_mn_inc_v_Min",
          "conn_in_uniq_cnt_mea_mnt1",
          "voice_out_cmpttrs_avg_dustd_mnt3",
          "voice_mts_in_dwork_part_std_mnt3",
          "voice_mts_out_drest_partmea_wk1",
          "voice_in_mts_avg_dur_mea_mnt1",
          "voice_mts_out_dwork_partstd_mnt3",
          "voice_out_tar_dur_mea_mnt3",
          "voice_in_td_cnt_std_mnt1",
          "MV_dou_Roam",
          "tsoa_direct_cnt",
          "all_cnt_min_mnt3",
          "voice_in_mts_avg_dur_max_mnt3",
          "clc_no_vas_roam_mea_mnt1",
          "gprs_tar_vol_std_mnt3",
          "non_accum_internet_vol_max_mnt1",
          "ks_num_part_min_mnt1",
          "conn_in_uniq_cnt_mea_wk1",
          "non_accum_internet_vol_mea_wk1",
          "MV_Traf_omo_inc_v_Min",
          "DNZ_COUNT_closed_loan_year2",
          "voice_in_fix_tar_dur_max_mnt3",
          "voice_in_cmpttrs_avg_durstd_mnt1",
          "voice_mts_out_nwork_partmea_mnt3",
          "com_num_part_max_mnt3",
          "voice_in_cmpttrs_td_cnt_max_mnt3",
          "voice_in_cmpttrs_avg_durmax_mnt1",
          "voice_mts_out_nrest_partmax_mnt3",
          "voice_in_tar_dur_max_mnt1",
          "voice_in_short_part_max_mnt3",
          "pay_avg_std_mnt3",
          "sum_paym_6_month",
          "voice_mts_out_dwork_partmax_mnt3",
          "sms_out_cnt_mea_mnt3",
          "pay_sum_td_mnt3",
          "avg_paym_6_month",
          "voice_mts_out_nwork_partmin_mnt1",
          "MV_ARPU",
          "device_brand_xiaomi",
          "voice_out_tar_dur_min_mnt3",
          "voice_out_short_part_std_mnt3",
          "device_sim_count",
          "count_day_for_last_paym",
          "content_cnt_mea_wk1",
          "data_3g_tv_cnt_max_mnt3",
          "BS_OVERBUNDLE_MB_SUM_M2",
          "voice_in_mts_avg_dur_max_mnt1",
          "MV_dou_data",
          "pay_avg_mea_mnt1",
          "voice_out_cmpttrs_avg_dumea_mnt3",
          "conn_out_uniq_cnt_std_mnt3",
          "sms_out_cnt_std_mnt1",
          "conn_out_uniq_cnt_min_mnt3",
          "conn_in_uniq_cnt_max_mnt1",
          "bs_count_ppm_mn3",
          "device_android_version",
          "data_3g_tv_cnt_mea_mnt1",
          "abon_part_std_mnt3",
          "voice_in_cmpttrs_td_cnt_max_mnt1",
          "voice_mts_out_drest_partmea_mnt1",
          "content_cnt_min_mnt3",
          "voice_in_td_cnt_min_mnt3",
          "MV_dou_4G_d",
          "block_all_dur_std_mnt1",
          "voice_out_cmpttrs_td_cntmea_mnt3",
          "device_has_lte",
          "data_3g_tar_vol_std_mnt3",
          "voice_in_life_part_mea_mnt3",
          "clc_no_vas_roam_td_mnt3",
          "voice_out_td_cnt_mea_wk1",
          "voice_out_cmpttrs_avg_dumin_mnt3",
          "voice_in_cmpttrs_avg_durmin_mnt3",
          "MV_Traf_R_inc_v_Min",
          "ks_num_part_mea_mnt3",
          "voice_mts_out_drest_partstd_mnt3",
          "all_cnt_td_mnt3",
          "MV_Traf_Roam_d_Mb",
          "voice_in_kievstar_part_max_mnt1",
          "voice_in_short_part_mea_mnt3",
          "voice_in_tar_dur_mea_mnt1",
          "gprs_tar_vol_min_mnt1",
          "voice_mts_out_nwork_partmea_mnt1",
          "MV_Traf_R_out_v_Min",
          "voice_in_cmpttrs_td_cnt_td_mnt3",
          "Shops",
          "data_3g_dou_mea_mnt3",
          "voice_mts_in_nwork_part_std_mnt3",
          "com_num_part_min_mnt1",
          "data_3g_dou_td_mnt3",
          "voice_in_cmpttrs_td_cnt_mea_wk1",
          "ks_num_part_std_mnt3",
          "MV_DOU_PPM_VF",
          "data_3g_tv_cnt_mea_mnt3",
          "voice_in_short_part_max_mnt1",
          "voice_in_tar_dur_min_mnt3",
          "voice_mts_out_dwork_partmax_mnt1",
          "pay_sum_std_mnt3",
          "voice_mts_in_drest_part_mea_wk1",
          "bs_ovrl_OMO_CNT_M2",
          "voice_out_fix_tar_dur_mea_mnt3",
          "voice_in_cmpttrs_avg_durmea_wk1",
          "num_act_days_mea_mnt3",
          "conn_in_uniq_cnt_min_mnt1",
          "voice_mts_in_drest_part_std_mnt3",
          "bs_ovrl_OMO_CNT_M3",
          "MV_ap_4G_d",
          "content_cnt_mea_mnt1",
          "content_cnt_max_mnt1",
          "conn_in_uniq_cnt_max_mnt3",
          "voice_out_fix_tar_dur_std_mnt1",
          "voice_in_tar_dur_td_mnt3",
          "all_clc_std_mnt1",
          "all_home_clc_mea_mnt3",
          "sms_clc_mea_mnt3",
          "MV_Traf_omo_out_s_Cnt",
          "voice_out_tar_dur_min_mnt1",
          "sms_clc_std_mnt3",
          "MV_ap_pstn_out_v",
          "non_accum_internet_vol_min_mnt3",
          "MV_ARPU_4G_d_Traf",
          "voice_in_mts_avg_dur_std_mnt1",
          "voice_out_fix_tar_dur_td_mnt3",
          "data_3g_dou_std_mnt1",
          "sms_in_cnt_min_mnt3",
          "conn_com_part_mea_mnt1",
          "voice_out_td_cnt_min_mnt1",
          "all_home_clc_std_mnt3",
          "all_cnt_mea_mnt3",
          "loc_is_obl_center",
          "voice_mts_out_nrest_partmin_mnt1",
          "voice_in_life_part_max_mnt3",
          "conn_out_uniq_cnt_max_mnt1",
          "DNZ_MAX_days_closed_loan_year2",
          "all_cnt_max_mnt1",
          "voice_in_td_cnt_mea_mnt1",
          "pay_sum_mea_mnt1",
          "voice_in_life_part_mea_mnt1",
          "BS_OVERBUNDLE_MB_CNT_M3",
          "MV_Traf_innet_out_s_Cnt",
          "pay_max_max_mnt3",
          "clc_no_vas_roam_std_mnt1",
          "last_paym",
          "voice_mts_out_nwork_partstd_mnt1",
          "all_cnt_mea_mnt1",
          "MV_DOU_AP",
          "all_clc_mea_mnt1",
          "Good_deed",
          "voice_mts_out_dwork_partmea_mnt3",
          "voice_out_cmpttrs_td_cntmin_mnt1",
          "abon_part_td_mnt3",
          "com_num_part_std_mnt3",
          "data_3g_dou_std_mnt3",
          "MV_ARPU_mn_out_s_Traf",
          "voice_in_short_part_mea_wk1",
          "MV_AP_total",
          "bs_ovrl_OMO_CNT_M1",
          "voice_out_td_cnt_min_mnt3",
          "voice_mts_out_drest_partmax_mnt3",
          "data_3g_tv_cnt_std_mnt1",
          "pay_max_std_mnt3",
          "ks_num_part_min_mnt3",
          "MV_Traf_3G_d_Mb",
          "conn_out_uniq_cnt_td_mnt3",
          "sms_out_cnt_mea_mnt1",
          "num_act_days_std_mnt3",
          "voice_out_cmpttrs_td_cntstd_mnt1",
          "pay_sum_mea_wk1",
          "com_num_part_mea_wk1",
          "pay_avg_mea_mnt3",
          "voice_in_td_cnt_min_mnt1",
          "device_type_smartphone",
          "MV_Traf_innet_inc_v_Min",
          "MV_ARPU_3G_d_Traf",
          "ks_num_part_mea_mnt1",
          "accum_mts_dur_min_mnt1",
          "MV_ot_omo_out_v",
          "MV_ARPU_omo_out_v_Traf",
          "all_home_clc_max_mnt3",
          "voice_out_cmpttrs_td_cntmax_mnt3",
          "pay_max_std_mnt1",
          "voice_mts_out_dwork_partmin_mnt1",
          "all_cnt_std_mnt1",
          "content_clc_max_mnt3",
          "voice_mts_out_nwork_partmea_wk1",
          "pay_sum_std_mnt1",
          "voice_mts_in_nrest_part_std_mnt3",
          "data_3g_tar_vol_max_mnt3",
          "voice_out_short_part_max_mnt3",
          "content_cnt_std_mnt1",
          "block_all_dur_max_mnt1",
          "voice_mts_out_drest_partmin_mnt3",
          "com_num_part_min_mnt3",
          "sms_clc_mea_mnt1",
          "gprs_tar_vol_td_mnt3",
          "voice_in_kievstar_part_mea_mnt3",
          "Minutes",
          "ks_num_part_mea_wk1",
          "voice_mts_out_dwork_partstd_mnt1",
          "MV_dou_Roam_d",
          "all_cnt_max_mnt3",
          "pay_max_mea_wk1",
          "voice_mts_out_nwork_parttd_mnt3",
          "MV_Traf_ACCA_out_v_Min",
          "sms_in_cnt_max_mnt3",
          "block_all_dur_td_mnt3",
          "voice_out_tar_dur_td_mnt3",
          "vas_clc_std_mnt3",
          "conn_com_part_min_mnt1",
          "voice_mts_out_nwork_partmax_mnt3",
          "voice_mts_in_dwork_part_min_mnt3",
          "bs_delte_mb_change_tp",
          "active_ppm",
          "voice_out_cmpttrs_avg_dustd_mnt1",
          "sms_in_cnt_td_mnt3",
          "voice_in_life_part_std_mnt1",
          "voice_mts_out_nrest_partmea_wk1",
          "voice_out_td_cnt_max_mnt1",
          "accum_mts_dur_std_mnt1",
          "voice_mts_in_drest_part_td_mnt3",
          "vas_clc_max_mnt1",
          "voice_in_life_part_mea_wk1",
          "voice_mts_in_nwork_part_mea_wk1",
          "voice_out_cmpttrs_avg_dumin_mnt1",
          "vas_clc_mea_mnt3",
          "MV_dou_out_s",
          "device_brand_nokia",
          "block_all_dur_mea_mnt1",
          "voice_out_short_part_max_mnt1",
          "data_3g_tar_vol_td_mnt3",
          "MV_Traf_Other_inc_v_Min",
          "MV_ARPU_Cont_out_s_Traf",
          "voice_in_fix_tar_dur_mea_wk1",
          "num_act_days_std_mnt1",
          "voice_in_td_cnt_td_mnt3",
          "gprs_clc_std_mnt3",
          "content_clc_td_mnt3",
          "voice_in_life_part_std_mnt3",
          "abon_part_mea_mnt3",
          "gprs_tar_vol_mea_mnt3",
          "voice_mts_out_drest_partstd_mnt1",
          "voice_mts_in_drest_part_max_mnt3",
          "com_num_part_max_mnt1",
          "voice_mts_out_drest_partmin_mnt1",
          "voice_mts_in_nrest_part_mea_wk1",
          "clc_no_vas_roam_max_mnt1",
          "voice_mts_in_nwork_part_min_mnt3",
          "data_3g_tar_vol_max_mnt1",
          "DNZ_MEAN_days_open_loan_year2",
          "sms_clc_td_mnt3",
          "MV_ot_mn_out_v",
          "bs_delte_omo_change_tp",
          "voice_out_cmpttrs_td_cntmea_wk1",
          "voice_out_td_cnt_td_mnt3",
          "pay_max_mea_mnt3",
          "MV_dou_net",
          "conn_com_part_max_mnt3",
          "voice_mts_out_dwork_parttd_mnt3",
          "voice_mts_out_nrest_partstd_mnt1",
          "content_clc_std_mnt1",
          "voice_mts_in_nrest_part_td_mnt3",
          "MV_VLR_Guest",
          "accum_oth_dur_td_mnt3",
          "voice_in_kievstar_part_min_mnt3",
          "voice_in_fix_tar_dur_std_mnt1",
          "all_home_clc_min_mnt1",
          "ks_num_part_std_mnt1",
          "voice_mts_in_dwork_part_min_mnt1",
          "conn_com_part_mea_mnt3",
          "voice_mts_out_nrest_partmea_mnt3",
          "com_num_part_td_mnt3",
          "MV_ARPU_innet_out_s_Traf",
          "MV_ot_s",
          "voice_in_tar_dur_std_mnt1",
          "voice_mts_in_nwork_part_std_mnt1",
          "MV_net_total",
          "voice_in_kievstar_part_max_mnt3",
          "voice_in_fix_tar_dur_max_mnt1",
          "conn_out_uniq_cnt_min_mnt1",
          "bs_day_of_change_tp",
          "MV_ARPU_R_out_v_Traf",
          "pay_p2p_out_sum_td_mnt3",
          "all_roam_clc_mea_mnt3",
          "all_clc_min_mnt1",
          "all_roam_clc_td_mnt3",
          "pay_max_td_mnt3",
          "voice_mts_in_nwork_part_mea_mnt1",
          "vas_clc_mea_wk1",
          "BS_OVERBUNDLE_MB_SUM_M1",
          "all_clc_max_mnt1",
          "com_num_part_mea_mnt1",
          "all_home_clc_max_mnt1",
          "block_all_dur_std_mnt3",
          "gprs_clc_max_mnt3",
          "voice_out_fix_tar_dur_mea_mnt1",
          "bs_direct_change_tp",
          "bs_arpu_change_tp",
          "voice_in_cmpttrs_td_cnt_std_mnt1",
          "MV_dou_Roam_v",
          "clc_no_vas_roam_max_mnt3",
          "sms_out_cnt_max_mnt3",
          "pay_avg_mea_wk1",
          "voice_in_short_part_min_mnt1",
          "max_paym_6_month",
          "vas_clc_min_mnt1",
          "MV_Migr_To",
          "MV_ot_Roam_d",
          "ama_volume_max_mnt3",
          "conn_com_part_max_mnt1",
          "voice_out_tar_dur_max_mnt3",
          "voice_mts_in_drest_part_min_mnt3",
          "all_cnt_mea_wk1",
          "data_3g_tar_vol_mea_mnt1",
          "abon_part_mea_wk1",
          "data_3g_tv_cnt_min_mnt1",
          "pay_p2p_in_sum_mea_mnt3",
          "MV_ot_innet_out_v",
          "voice_mts_out_nrest_parttd_mnt3",
          "sms_out_cnt_mea_wk1",
          "data_3g_dou_mea_wk1",
          "data_3g_tar_vol_mea_wk1",
          "voice_in_tar_dur_min_mnt1",
          "content_clc_mea_mnt3",
          "SMS",
          "voice_out_cmpttrs_td_cntmax_mnt1"
         ],
         "xaxis": "x",
         "y": [
          0.9958966472273448,
          0.997461773492205,
          0.9510251577034834,
          0.9029553666818643,
          0.7773165569944132,
          0.9617020407885515,
          0.13322626962362116,
          0.996992235612747,
          0.7497635298360701,
          0.5428606425183562,
          0.7497635298360701,
          0.9617020407885515,
          0.2739107061441413,
          0.7881363429123598,
          0.23400679128701013,
          0.776193749021796,
          0.7688784849577757,
          0.7752206487788613,
          0.7254632433499146,
          0.7112614237205093,
          1,
          0.8426980054847468,
          0.1656652126870496,
          0.7930835028886787,
          0.9954679387287092,
          0.7511313140936218,
          0.7440542214177323,
          0.7935122113873143,
          0.7440746361081434,
          0.6919899559723177,
          0.1029308690533708,
          0.8021748450184752,
          0.638884541315931,
          0.6971752873367676,
          0.1846985090471103,
          0.64121181602281,
          0.7578817717229318,
          0.5729518961844944,
          0.17348403911454682,
          0.7194817390594271,
          0.7511449238872292,
          0.12389675610569366,
          0.08404047552618865,
          0.7881567576027709,
          0.22367015304212912,
          0.6979170210883752,
          0.638884541315931,
          0.1815818663109974,
          0.7764455302035345,
          0.7933829183480432,
          0.6971752873367676,
          0.0391894006927385,
          0.08981102801576014,
          0.6872605526937184,
          0.9379733656339102,
          0.7311385272842338,
          0.7453811762944615,
          0.6116921736881861,
          0.07329554347308323,
          0.7881567576027709,
          0.744061026314536,
          0.6205317346362442,
          0.6386191503405851,
          0.7587187740297918,
          0.24835831864609773,
          0.7587255789265955,
          0.6411982062292025,
          0.7440746361081434,
          0.7726007635094214,
          0.7511449238872292,
          0.13786720924377183,
          0.6768014263063701,
          0.5112859213490027,
          0.7112614237205093,
          0.3875252631793839,
          0.1656652126870496,
          0.10453682469905344,
          0.1758793627894633,
          0.08981102801576014,
          0.712969452818248,
          0.27895313467571264,
          0.6130327383585228,
          0.7739481330765619,
          0.7510156308479582,
          0.5729518961844944,
          0.05633093574135948,
          0.6593264513143658,
          0.5776812994630937,
          0.4086340530645853,
          0.7132212339999864,
          0.7511449238872292,
          0.7254632433499146,
          0.7773165569944132,
          0.12190972623900159,
          0.4271229576803468,
          0.7169639272420434,
          0.7254496335563071,
          0.9059495212755099,
          0.5688825678958579,
          0.12046028321980497,
          0.44053540928051826,
          0.7127040618429021,
          0.1811599627091655,
          0.8021748450184752,
          0.34971045164100084,
          0.1209910651704967,
          0.7569631106544269,
          0.697896606397964,
          0.7726007635094214,
          0.5055766129306649,
          0.7362626145774499,
          0.7132144291031827,
          0.7440746361081434,
          0.7505460929685002,
          0.11164113696215797,
          0.0760991609562241,
          0.7472184984314713,
          0.7773165569944132,
          0.3993998081019101,
          0.6797683613128007,
          0.7202234728110348,
          0.3296292011731642,
          0.7198900328676515,
          0.6663150803318068,
          0.6822317339557545,
          0.13355970956700441,
          0.5729518961844944,
          0.6757466673017903,
          0.6527869454859717,
          0.7739481330765619,
          0.7511449238872292,
          0.6757466673017903,
          0.5849829537335066,
          0.7510156308479582,
          0.6536851918640654,
          0.730138207454084,
          0.8426980054847468,
          0.7132280388967901,
          0.3497240614346083,
          0.38595333201772,
          0.8426980054847468,
          0.2018944832701612,
          0.6736643688798459,
          0.26888869230298124,
          0.4930624077085871,
          0.6392860302273516,
          0.7400121127163106,
          0.8426980054847468,
          0.6480575422073724,
          0.7127040618429021,
          0.11887474226453355,
          0.7362626145774499,
          0.7209379869754275,
          0.5779875198192619,
          0.6979170210883752,
          0.7496682612808176,
          0.18997910896681253,
          0.4951719257177465,
          0.7569631106544269,
          0.6600681850659734,
          0.5114152143882738,
          0.6339237715460045,
          0.1811599627091655,
          0.6757466673017903,
          0.6195654392901132,
          0.34657339421447675,
          0.6003756303035664,
          0.6132913244370649,
          0.017345681952733186,
          0.6979170210883752,
          0.73704517770988,
          0.7126564275652759,
          0.617421896796935,
          0.3178635345994978,
          0.6358971916190891,
          0.1882574700754663,
          0.2281273604485788,
          0.049444380175974634,
          0.7364327369975434,
          0.6872605526937184,
          0.42642205330956157,
          0.10552353473559574,
          0.6097663878927276,
          0.6536851918640654,
          0.7510156308479582,
          0.18931903397684974,
          0.5419964206242812,
          0.047225983817955404,
          0.38072717127244765,
          0.007335678754431689,
          0.7132212339999864,
          0.7112614237205093,
          0.45955509584697146,
          0.353527998747899,
          0.5297816308615679,
          0.7363987125135247,
          0.549066708403367,
          0.7127040618429021,
          0.48080678856505144,
          0.6003756303035664,
          0.6553864160650004,
          0.7311453321810375,
          0.5598728845277061,
          0.5954216654304437,
          0.30479813273631706,
          0.5297816308615679,
          0.8874470068661409,
          0.6754472518424258,
          0.7453811762944615,
          0.6077249188516056,
          0.5713527454356154,
          0.7574938926051187,
          0.7574938926051187,
          0.7935122113873143,
          0.1621062516586936,
          0.3787061169217369,
          0.5020857008703463,
          0.47148407994392766,
          0.2974488441882779,
          0.08889917184405899,
          0.5762999054119344,
          0.2974488441882779,
          0.5609616680163045,
          0.5271413309017169,
          0.10414214068443652,
          0.7362626145774499,
          0.14882309309779318,
          0.5961429844916402,
          0.11550631834668228,
          0.7127993303981545,
          0.5762999054119344,
          0.47148407994392766,
          0.9060311800371548,
          0.3761610855171381,
          0.05896443080440685,
          0.617421896796935,
          0.6919899559723177,
          0.12046028321980497,
          0.8567773369716848,
          0.7510156308479582,
          0.5791511571727015,
          0.4788605880791818,
          0.13643137601818267,
          0.13249134076881725,
          0.7311657468714486,
          0.3993793934114989,
          0.8426980054847468,
          0.5419964206242812,
          0.8567773369716848,
          0.5836355841663661,
          0.5024395555041408,
          0.20649459350948943,
          0.7132280388967901,
          0.30934380380121534,
          0.08482303865861875,
          0.7738800841085245,
          0.6960660891577579,
          0.019795444802079575,
          0.22488822956999857,
          0.5719924057351671,
          0.5954556899144624,
          0.4930624077085871,
          0.6872605526937184,
          0.6334950630473689,
          0.73113172238743,
          0.20929140609582655,
          0.6390274441488095,
          0.38148251481766277,
          0.19017645097412098,
          0.40913761542806204,
          0.6067858430926895,
          0.1734976489081543,
          0.5973678659163134,
          0.7300973780732615,
          0.6661789823957319,
          0.7513694854817526,
          0.7388484753628711,
          0.03567807394200867,
          0.6496430831626439,
          0.01839363606050914,
          0.027607466332773063,
          0.07544589086306507,
          0.47148407994392766,
          0.6979170210883752,
          0.5788789613005518,
          0.5065497131735998,
          0.8565936047579839,
          0.029274666049689358,
          0.3691112124284635,
          0.579083108204664,
          0.638884541315931,
          0.7127040618429021,
          0.6392860302273516,
          0.7573645995658476,
          0.24313215790082543,
          0.22179200152429687,
          0.3316026212462488,
          0.15428062033439263,
          0.3449198042911679,
          0.7056882132382463,
          0.06170680421631406,
          0.496022537818214,
          0.6548556341143087,
          0.10593182854382013,
          0.9060311800371548,
          0.1735112587017618,
          0.2641388743339707,
          0.13479139588848135,
          0.7587255789265955,
          0.02295972181581866,
          0.3722278551645764,
          0.48183432798241616,
          0.45955509584697146,
          0.6527869454859717,
          0.4852980204555198,
          0.035997904091784445,
          0.5672766122501752,
          0.6052411315182405,
          0.35483453893421707,
          0.47875851462712565,
          0.2199546793872871,
          0.688002286445326,
          0.1533891788531027,
          0.3982565854388818,
          0.2770205439834505,
          0.2907392159397903,
          0.41169625662626824,
          0.30924173034915925,
          0.48183432798241616,
          0.1968860792226086,
          0.009070927439385382,
          0.24313215790082543,
          0.49174225772866154,
          0.37969282695827916,
          0.0017216388913462127,
          0.012718352126190007,
          0.14134451151048294,
          0.2688274482317476,
          0.388124094098113,
          0.044572074064496814,
          0.014705381992882079,
          0.617421896796935,
          0.1811599627091655,
          0.6798023857968194,
          0.6195586343933094,
          0.7453811762944615,
          0.7127993303981545,
          0.3524051907752819,
          0.24179159323048866,
          0.3993998081019101,
          0.12987145549937734,
          0.6339237715460045,
          0.01639980129701333,
          0.14736004028498909,
          0.022707940634080284,
          0.0381346416881588,
          0.46548216096302897,
          0.376766721332671,
          0.7311453321810375,
          0.8601457608895361,
          0.7739481330765619,
          0.3943914040543575,
          0.41734432097337243,
          0.0143855518431063,
          0.26114471974032516,
          0.16631848278020864,
          0.2748497819030574,
          0.14833994542472764,
          0.3629936102019013,
          0.012834035371853587,
          0.6491259110055596,
          0.5801991112804774,
          0.7739481330765619,
          0.5849829537335066,
          0.40008029778228416,
          0.0992698345729587,
          0.011289323797404612,
          0.7509816063639395,
          0.6013759501337163,
          0.34811130089212194,
          0.7056882132382463,
          0.3630072199955088,
          0.5784366430083088,
          0.07805216633889747,
          0.00699543391424469,
          0.0029873496968418475,
          0.02173484039114547,
          0.019645737072397296,
          0.010867420195572734,
          0.38534089130538335,
          0.6013759501337163,
          0.10508121644335264,
          0.11800371547365485,
          0.5024395555041408,
          0.7127993303981545,
          0.27745605737888984,
          0.03203745415200779,
          0.044572074064496814,
          0.1621402761427123,
          0.0370118337155417,
          0.025007995753744395,
          0.6736235394990235,
          0.05806618442631317,
          0.6411982062292025,
          0.3497240614346083,
          0.17277632984695787,
          0.041366967669935285,
          0.8426980054847468,
          0.009785441603778079,
          0.026947391342810285,
          0.008465291623852525,
          0.03552156131552265,
          0.7127993303981545,
          0.7440746361081434,
          0.253979163405987,
          0.8228413166114336,
          0.6339237715460045,
          0.023578967424959,
          0.3414084775404381,
          0.008567365075908624,
          0.027464563499894522,
          0.23931461079392732,
          0.07206385715160629,
          0.5048689036630759,
          0.49907793648309323,
          0.6661789823957319,
          0.029274666049689358,
          0.007301654270412989,
          0.6082965301831198
         ],
         "yaxis": "y"
        }
       ],
       "layout": {
        "barmode": "relative",
        "coloraxis": {
         "colorbar": {
          "title": {
           "text": "p_importance%"
          }
         },
         "colorscale": [
          [
           0,
           "#0d0887"
          ],
          [
           0.1111111111111111,
           "#46039f"
          ],
          [
           0.2222222222222222,
           "#7201a8"
          ],
          [
           0.3333333333333333,
           "#9c179e"
          ],
          [
           0.4444444444444444,
           "#bd3786"
          ],
          [
           0.5555555555555556,
           "#d8576b"
          ],
          [
           0.6666666666666666,
           "#ed7953"
          ],
          [
           0.7777777777777778,
           "#fb9f3a"
          ],
          [
           0.8888888888888888,
           "#fdca26"
          ],
          [
           1,
           "#f0f921"
          ]
         ]
        },
        "legend": {
         "tracegroupgap": 0
        },
        "template": {
         "data": {
          "bar": [
           {
            "error_x": {
             "color": "#2a3f5f"
            },
            "error_y": {
             "color": "#2a3f5f"
            },
            "marker": {
             "line": {
              "color": "#E5ECF6",
              "width": 0.5
             },
             "pattern": {
              "fillmode": "overlay",
              "size": 10,
              "solidity": 0.2
             }
            },
            "type": "bar"
           }
          ],
          "barpolar": [
           {
            "marker": {
             "line": {
              "color": "#E5ECF6",
              "width": 0.5
             },
             "pattern": {
              "fillmode": "overlay",
              "size": 10,
              "solidity": 0.2
             }
            },
            "type": "barpolar"
           }
          ],
          "carpet": [
           {
            "aaxis": {
             "endlinecolor": "#2a3f5f",
             "gridcolor": "white",
             "linecolor": "white",
             "minorgridcolor": "white",
             "startlinecolor": "#2a3f5f"
            },
            "baxis": {
             "endlinecolor": "#2a3f5f",
             "gridcolor": "white",
             "linecolor": "white",
             "minorgridcolor": "white",
             "startlinecolor": "#2a3f5f"
            },
            "type": "carpet"
           }
          ],
          "choropleth": [
           {
            "colorbar": {
             "outlinewidth": 0,
             "ticks": ""
            },
            "type": "choropleth"
           }
          ],
          "contour": [
           {
            "colorbar": {
             "outlinewidth": 0,
             "ticks": ""
            },
            "colorscale": [
             [
              0,
              "#0d0887"
             ],
             [
              0.1111111111111111,
              "#46039f"
             ],
             [
              0.2222222222222222,
              "#7201a8"
             ],
             [
              0.3333333333333333,
              "#9c179e"
             ],
             [
              0.4444444444444444,
              "#bd3786"
             ],
             [
              0.5555555555555556,
              "#d8576b"
             ],
             [
              0.6666666666666666,
              "#ed7953"
             ],
             [
              0.7777777777777778,
              "#fb9f3a"
             ],
             [
              0.8888888888888888,
              "#fdca26"
             ],
             [
              1,
              "#f0f921"
             ]
            ],
            "type": "contour"
           }
          ],
          "contourcarpet": [
           {
            "colorbar": {
             "outlinewidth": 0,
             "ticks": ""
            },
            "type": "contourcarpet"
           }
          ],
          "heatmap": [
           {
            "colorbar": {
             "outlinewidth": 0,
             "ticks": ""
            },
            "colorscale": [
             [
              0,
              "#0d0887"
             ],
             [
              0.1111111111111111,
              "#46039f"
             ],
             [
              0.2222222222222222,
              "#7201a8"
             ],
             [
              0.3333333333333333,
              "#9c179e"
             ],
             [
              0.4444444444444444,
              "#bd3786"
             ],
             [
              0.5555555555555556,
              "#d8576b"
             ],
             [
              0.6666666666666666,
              "#ed7953"
             ],
             [
              0.7777777777777778,
              "#fb9f3a"
             ],
             [
              0.8888888888888888,
              "#fdca26"
             ],
             [
              1,
              "#f0f921"
             ]
            ],
            "type": "heatmap"
           }
          ],
          "heatmapgl": [
           {
            "colorbar": {
             "outlinewidth": 0,
             "ticks": ""
            },
            "colorscale": [
             [
              0,
              "#0d0887"
             ],
             [
              0.1111111111111111,
              "#46039f"
             ],
             [
              0.2222222222222222,
              "#7201a8"
             ],
             [
              0.3333333333333333,
              "#9c179e"
             ],
             [
              0.4444444444444444,
              "#bd3786"
             ],
             [
              0.5555555555555556,
              "#d8576b"
             ],
             [
              0.6666666666666666,
              "#ed7953"
             ],
             [
              0.7777777777777778,
              "#fb9f3a"
             ],
             [
              0.8888888888888888,
              "#fdca26"
             ],
             [
              1,
              "#f0f921"
             ]
            ],
            "type": "heatmapgl"
           }
          ],
          "histogram": [
           {
            "marker": {
             "pattern": {
              "fillmode": "overlay",
              "size": 10,
              "solidity": 0.2
             }
            },
            "type": "histogram"
           }
          ],
          "histogram2d": [
           {
            "colorbar": {
             "outlinewidth": 0,
             "ticks": ""
            },
            "colorscale": [
             [
              0,
              "#0d0887"
             ],
             [
              0.1111111111111111,
              "#46039f"
             ],
             [
              0.2222222222222222,
              "#7201a8"
             ],
             [
              0.3333333333333333,
              "#9c179e"
             ],
             [
              0.4444444444444444,
              "#bd3786"
             ],
             [
              0.5555555555555556,
              "#d8576b"
             ],
             [
              0.6666666666666666,
              "#ed7953"
             ],
             [
              0.7777777777777778,
              "#fb9f3a"
             ],
             [
              0.8888888888888888,
              "#fdca26"
             ],
             [
              1,
              "#f0f921"
             ]
            ],
            "type": "histogram2d"
           }
          ],
          "histogram2dcontour": [
           {
            "colorbar": {
             "outlinewidth": 0,
             "ticks": ""
            },
            "colorscale": [
             [
              0,
              "#0d0887"
             ],
             [
              0.1111111111111111,
              "#46039f"
             ],
             [
              0.2222222222222222,
              "#7201a8"
             ],
             [
              0.3333333333333333,
              "#9c179e"
             ],
             [
              0.4444444444444444,
              "#bd3786"
             ],
             [
              0.5555555555555556,
              "#d8576b"
             ],
             [
              0.6666666666666666,
              "#ed7953"
             ],
             [
              0.7777777777777778,
              "#fb9f3a"
             ],
             [
              0.8888888888888888,
              "#fdca26"
             ],
             [
              1,
              "#f0f921"
             ]
            ],
            "type": "histogram2dcontour"
           }
          ],
          "mesh3d": [
           {
            "colorbar": {
             "outlinewidth": 0,
             "ticks": ""
            },
            "type": "mesh3d"
           }
          ],
          "parcoords": [
           {
            "line": {
             "colorbar": {
              "outlinewidth": 0,
              "ticks": ""
             }
            },
            "type": "parcoords"
           }
          ],
          "pie": [
           {
            "automargin": true,
            "type": "pie"
           }
          ],
          "scatter": [
           {
            "fillpattern": {
             "fillmode": "overlay",
             "size": 10,
             "solidity": 0.2
            },
            "type": "scatter"
           }
          ],
          "scatter3d": [
           {
            "line": {
             "colorbar": {
              "outlinewidth": 0,
              "ticks": ""
             }
            },
            "marker": {
             "colorbar": {
              "outlinewidth": 0,
              "ticks": ""
             }
            },
            "type": "scatter3d"
           }
          ],
          "scattercarpet": [
           {
            "marker": {
             "colorbar": {
              "outlinewidth": 0,
              "ticks": ""
             }
            },
            "type": "scattercarpet"
           }
          ],
          "scattergeo": [
           {
            "marker": {
             "colorbar": {
              "outlinewidth": 0,
              "ticks": ""
             }
            },
            "type": "scattergeo"
           }
          ],
          "scattergl": [
           {
            "marker": {
             "colorbar": {
              "outlinewidth": 0,
              "ticks": ""
             }
            },
            "type": "scattergl"
           }
          ],
          "scattermapbox": [
           {
            "marker": {
             "colorbar": {
              "outlinewidth": 0,
              "ticks": ""
             }
            },
            "type": "scattermapbox"
           }
          ],
          "scatterpolar": [
           {
            "marker": {
             "colorbar": {
              "outlinewidth": 0,
              "ticks": ""
             }
            },
            "type": "scatterpolar"
           }
          ],
          "scatterpolargl": [
           {
            "marker": {
             "colorbar": {
              "outlinewidth": 0,
              "ticks": ""
             }
            },
            "type": "scatterpolargl"
           }
          ],
          "scatterternary": [
           {
            "marker": {
             "colorbar": {
              "outlinewidth": 0,
              "ticks": ""
             }
            },
            "type": "scatterternary"
           }
          ],
          "surface": [
           {
            "colorbar": {
             "outlinewidth": 0,
             "ticks": ""
            },
            "colorscale": [
             [
              0,
              "#0d0887"
             ],
             [
              0.1111111111111111,
              "#46039f"
             ],
             [
              0.2222222222222222,
              "#7201a8"
             ],
             [
              0.3333333333333333,
              "#9c179e"
             ],
             [
              0.4444444444444444,
              "#bd3786"
             ],
             [
              0.5555555555555556,
              "#d8576b"
             ],
             [
              0.6666666666666666,
              "#ed7953"
             ],
             [
              0.7777777777777778,
              "#fb9f3a"
             ],
             [
              0.8888888888888888,
              "#fdca26"
             ],
             [
              1,
              "#f0f921"
             ]
            ],
            "type": "surface"
           }
          ],
          "table": [
           {
            "cells": {
             "fill": {
              "color": "#EBF0F8"
             },
             "line": {
              "color": "white"
             }
            },
            "header": {
             "fill": {
              "color": "#C8D4E3"
             },
             "line": {
              "color": "white"
             }
            },
            "type": "table"
           }
          ]
         },
         "layout": {
          "annotationdefaults": {
           "arrowcolor": "#2a3f5f",
           "arrowhead": 0,
           "arrowwidth": 1
          },
          "autotypenumbers": "strict",
          "coloraxis": {
           "colorbar": {
            "outlinewidth": 0,
            "ticks": ""
           }
          },
          "colorscale": {
           "diverging": [
            [
             0,
             "#8e0152"
            ],
            [
             0.1,
             "#c51b7d"
            ],
            [
             0.2,
             "#de77ae"
            ],
            [
             0.3,
             "#f1b6da"
            ],
            [
             0.4,
             "#fde0ef"
            ],
            [
             0.5,
             "#f7f7f7"
            ],
            [
             0.6,
             "#e6f5d0"
            ],
            [
             0.7,
             "#b8e186"
            ],
            [
             0.8,
             "#7fbc41"
            ],
            [
             0.9,
             "#4d9221"
            ],
            [
             1,
             "#276419"
            ]
           ],
           "sequential": [
            [
             0,
             "#0d0887"
            ],
            [
             0.1111111111111111,
             "#46039f"
            ],
            [
             0.2222222222222222,
             "#7201a8"
            ],
            [
             0.3333333333333333,
             "#9c179e"
            ],
            [
             0.4444444444444444,
             "#bd3786"
            ],
            [
             0.5555555555555556,
             "#d8576b"
            ],
            [
             0.6666666666666666,
             "#ed7953"
            ],
            [
             0.7777777777777778,
             "#fb9f3a"
            ],
            [
             0.8888888888888888,
             "#fdca26"
            ],
            [
             1,
             "#f0f921"
            ]
           ],
           "sequentialminus": [
            [
             0,
             "#0d0887"
            ],
            [
             0.1111111111111111,
             "#46039f"
            ],
            [
             0.2222222222222222,
             "#7201a8"
            ],
            [
             0.3333333333333333,
             "#9c179e"
            ],
            [
             0.4444444444444444,
             "#bd3786"
            ],
            [
             0.5555555555555556,
             "#d8576b"
            ],
            [
             0.6666666666666666,
             "#ed7953"
            ],
            [
             0.7777777777777778,
             "#fb9f3a"
            ],
            [
             0.8888888888888888,
             "#fdca26"
            ],
            [
             1,
             "#f0f921"
            ]
           ]
          },
          "colorway": [
           "#636efa",
           "#EF553B",
           "#00cc96",
           "#ab63fa",
           "#FFA15A",
           "#19d3f3",
           "#FF6692",
           "#B6E880",
           "#FF97FF",
           "#FECB52"
          ],
          "font": {
           "color": "#2a3f5f"
          },
          "geo": {
           "bgcolor": "white",
           "lakecolor": "white",
           "landcolor": "#E5ECF6",
           "showlakes": true,
           "showland": true,
           "subunitcolor": "white"
          },
          "hoverlabel": {
           "align": "left"
          },
          "hovermode": "closest",
          "mapbox": {
           "style": "light"
          },
          "paper_bgcolor": "white",
          "plot_bgcolor": "#E5ECF6",
          "polar": {
           "angularaxis": {
            "gridcolor": "white",
            "linecolor": "white",
            "ticks": ""
           },
           "bgcolor": "#E5ECF6",
           "radialaxis": {
            "gridcolor": "white",
            "linecolor": "white",
            "ticks": ""
           }
          },
          "scene": {
           "xaxis": {
            "backgroundcolor": "#E5ECF6",
            "gridcolor": "white",
            "gridwidth": 2,
            "linecolor": "white",
            "showbackground": true,
            "ticks": "",
            "zerolinecolor": "white"
           },
           "yaxis": {
            "backgroundcolor": "#E5ECF6",
            "gridcolor": "white",
            "gridwidth": 2,
            "linecolor": "white",
            "showbackground": true,
            "ticks": "",
            "zerolinecolor": "white"
           },
           "zaxis": {
            "backgroundcolor": "#E5ECF6",
            "gridcolor": "white",
            "gridwidth": 2,
            "linecolor": "white",
            "showbackground": true,
            "ticks": "",
            "zerolinecolor": "white"
           }
          },
          "shapedefaults": {
           "line": {
            "color": "#2a3f5f"
           }
          },
          "ternary": {
           "aaxis": {
            "gridcolor": "white",
            "linecolor": "white",
            "ticks": ""
           },
           "baxis": {
            "gridcolor": "white",
            "linecolor": "white",
            "ticks": ""
           },
           "bgcolor": "#E5ECF6",
           "caxis": {
            "gridcolor": "white",
            "linecolor": "white",
            "ticks": ""
           }
          },
          "title": {
           "x": 0.05
          },
          "xaxis": {
           "automargin": true,
           "gridcolor": "white",
           "linecolor": "white",
           "ticks": "",
           "title": {
            "standoff": 15
           },
           "zerolinecolor": "white",
           "zerolinewidth": 2
          },
          "yaxis": {
           "automargin": true,
           "gridcolor": "white",
           "linecolor": "white",
           "ticks": "",
           "title": {
            "standoff": 15
           },
           "zerolinecolor": "white",
           "zerolinewidth": 2
          }
         }
        },
        "title": {
         "text": "Subscriber coverage by feature. Features count: 423"
        },
        "width": 1000,
        "xaxis": {
         "anchor": "y",
         "domain": [
          0,
          1
         ],
         "title": {
          "text": "feature"
         }
        },
        "yaxis": {
         "anchor": "x",
         "domain": [
          0,
          1
         ],
         "title": {
          "text": "coverage"
         }
        }
       }
      }
     },
     "metadata": {},
     "output_type": "display_data"
    }
   ],
   "source": [
    "def visualize_p_imp():\n",
    "    df = p_imp_df[p_imp_df[\"mean\"] > 0].sort_values(by=\"mean\", ascending=False)\n",
    "\n",
    "    fig = px.bar(\n",
    "        df,\n",
    "        x=\"feature\",\n",
    "        y=\"p_importance%\",\n",
    "        color=\"coverage\",\n",
    "        title=f\"Prediction contribution by feature. Features count: {len(df)}\",\n",
    "        hover_data=[\"abon_count\", \"mean\", \"std\", \"importance_tree\"],\n",
    "        width=1000,\n",
    "    )\n",
    "    fig.show()\n",
    "\n",
    "    df_coverage = df[(df[\"coverage\"] >= 0.01) | (df[\"p_importance%\"] >= 0.01)]\n",
    "\n",
    "    fig = px.bar(\n",
    "        df,\n",
    "        x=\"feature\",\n",
    "        y=\"coverage\",\n",
    "        color=\"p_importance%\",\n",
    "        title=f\"Subscriber coverage by feature. Features count: {len(df_coverage)}\",\n",
    "        hover_data=[\"abon_count\", \"mean\", \"std\", \"importance_tree\"],\n",
    "        width=1000,\n",
    "    )\n",
    "    fig.show()\n",
    "\n",
    "\n",
    "visualize_p_imp()"
   ]
  },
  {
   "cell_type": "code",
   "execution_count": 11,
   "metadata": {},
   "outputs": [
    {
     "data": {
      "application/vnd.plotly.v1+json": {
       "config": {
        "plotlyServerURL": "https://plot.ly"
       },
       "data": [
        {
         "alignmentgroup": "True",
         "hovertemplate": "value=%{x}<br>variable=%{y}<extra></extra>",
         "legendgroup": "",
         "marker": {
          "color": "#636efa"
         },
         "name": "",
         "notched": false,
         "offsetgroup": "",
         "orientation": "h",
         "showlegend": false,
         "type": "box",
         "x": [
          0.06301487349628726,
          0.0622023608007764,
          0.060509626018462104,
          0.06141241790236307,
          0.0628343151195071,
          0.02347258898142507,
          0.025278172749227,
          0.025233033155031948,
          0.02433024127113098,
          0.023878845329180498,
          0.00835082492608391,
          0.007312614259597838,
          0.007199765274110204,
          0.006658090143769613,
          0.007086916288622569,
          0.008373394723181438,
          0.005935856636648862,
          0.006522671361184507,
          0.007944568578328481,
          0.007177195477012677,
          0.00668065994086714,
          0.006161554607624076,
          0.006928927708939936,
          0.006635520346672086,
          0.006996637100232461,
          0.005303902317918163,
          0.0052361929266255824,
          0.0050556345498454225,
          0.004694517796285047,
          0.006116415013429022,
          0.004965355361455315,
          0.004581668810797412,
          0.004897645970162734,
          0.00532647211501569,
          0.0058004378540637,
          0.004513959419504832,
          0.005755298259868646,
          0.0045590990136998855,
          0.0032951903762385437,
          0.004513959419504832,
          0.0028212246371905336,
          0.004784796984675099,
          0.004513959419504832,
          0.00390457489787166,
          0.005980996230843916,
          0.0038820051007741885,
          0.0038142957094816077,
          0.004130272868846929,
          0.004288261448529618,
          0.003769156115286554,
          0.0034983185501162306,
          0.004265691651432091,
          0.003972284289164241,
          0.003746586318189027,
          0.0032951903762385437,
          0.004085133274651875,
          0.0038142957094816077,
          0.003159771593653382,
          0.002166700521362308,
          0.005439321100503325,
          0.0030920622023608013,
          0.0037917259123840807,
          0.0030920622023608013,
          0.004355970839822143,
          0.0040399936804568215,
          0.0034983185501162306,
          0.0038142957094816077,
          0.0030920622023608013,
          0.0040625634775543484,
          0.0037917259123840807,
          0.0030694924052632744,
          0.001986142144582148,
          0.0033854695646286515,
          0.0030243528110682205,
          0.0029115038255806414,
          0.002256979709752416,
          0.002663236057507845,
          0.0027760850429954798,
          0.0034757487530187037,
          0.0030694924052632744,
          0.003159771593653382,
          0.002708375651702899,
          0.0035434581443112845,
          0.0016250253910217727,
          0.0024149682894351043,
          0.002708375651702899,
          0.0018507233619969865,
          0.002550387072020266,
          0.002708375651702899,
          0.002730945448800426,
          0.002730945448800426,
          0.002460107883630158,
          0.002527817274922739,
          0.0024149682894351043,
          0.002031281738777202,
          0.0018281535648994596,
          0.001963572347484621,
          0.002076421332972256,
          0.0032951903762385437,
          0.0021215609271673097,
          0.0032951903762385437,
          0.002144130724264781,
          0.0013993274200465033,
          0.0019184327532895673,
          0.002527817274922739,
          0.0016024555939242457,
          0.0034531789559211767,
          0.0023021193039474697,
          0.0019410025503870942,
          0.001963572347484621,
          0.001512176405534138,
          0.0028212246371905336,
          0.001963572347484621,
          0.002460107883630158,
          0.0023472588981425235,
          0.0018507233619969865,
          0.002031281738777202,
          0.0018507233619969865,
          0.002144130724264781,
          0.003182341390750909,
          0.002053851535874729,
          0.0018281535648994596,
          0.0023021193039474697,
          0.001963572347484621,
          0.002685805854605372,
          0.0016701649852168265,
          0.002256979709752416,
          0.0025955266662152643,
          0.0015798857968267188,
          0.002685805854605372,
          0.0018507233619969865,
          0.002031281738777202,
          0.0023021193039474697,
          0.002460107883630158,
          0.0018732931590945134,
          0.0011736294490712895,
          0.001986142144582148,
          0.0024149682894351043,
          0.0024375380865326313,
          0.0018732931590945134,
          0.0013767576229489764,
          0.0015798857968267188,
          0.0016024555939242457,
          0.002550387072020266,
          0.002663236057507845,
          0.0016701649852168265,
          0.002460107883630158,
          0.0023698286952400505,
          0.0012639086374613417,
          0.0014218972171440303,
          0.0019410025503870942,
          0.0007899428984133872,
          0.0017830139707044057,
          0.0025955266662152643,
          0.001692734782314298,
          0.0013541878258514495,
          0.001715304579411825,
          0.0004739657390480101,
          0.0023472588981425235,
          0.002550387072020266,
          0.001986142144582148,
          0.002031281738777202,
          0.0013090482316563956,
          0.0015573159997291919,
          0.0014444670142415572,
          0.0018507233619969865,
          0.0012639086374613417,
          0.0012639086374613417,
          0.0017604441736068788,
          0.002008711941679675,
          0.0008802220868034394,
          0.002166700521362308,
          0.0011510596519737626,
          0.0018958629561920404,
          0.0018732931590945134,
          0.001489606608436611,
          0.0016250253910217727,
          0.0013767576229489764,
          0.001489606608436611,
          0.0019184327532895673,
          0.0018055837678019326,
          0.0005416751303405909,
          0.002550387072020266,
          0.0013767576229489764,
          0.0015798857968267188,
          0.0006545241158282256,
          0.002008711941679675,
          0.0017604441736068788,
          0.0011736294490712895,
          0.002234409912654889,
          0.0021215609271673097,
          0.0014444670142415572,
          0.0013767576229489764,
          0.001534746202631665,
          0.0012639086374613417,
          0.002076421332972256,
          0.00036111675356043094,
          0.0013767576229489764,
          0.001715304579411825,
          0.0017830139707044057,
          0.0016701649852168265,
          0.001489606608436611,
          0.0011059200577787087,
          0.0008576522897059125,
          0.001986142144582148,
          0.0016250253910217727,
          0.0013316180287539225,
          0.0012864784345588687,
          0.0014670368113390841,
          0.0012413388403638703,
          0.001038210666486128,
          0.0016475951881192996,
          0.0013090482316563956,
          0.00036111675356043094,
          0.002460107883630158
         ],
         "x0": " ",
         "xaxis": "x",
         "y": [
          "lt",
          "lt",
          "lt",
          "lt",
          "lt",
          "imei_mean_days_usage",
          "imei_mean_days_usage",
          "imei_mean_days_usage",
          "imei_mean_days_usage",
          "imei_mean_days_usage",
          "imei_mean_day_announced",
          "imei_mean_day_announced",
          "imei_mean_day_announced",
          "imei_mean_day_announced",
          "imei_mean_day_announced",
          "myvf_day_usage",
          "myvf_day_usage",
          "myvf_day_usage",
          "myvf_day_usage",
          "myvf_day_usage",
          "voice_in_mts_avg_dur_mea_mnt3",
          "voice_in_mts_avg_dur_mea_mnt3",
          "voice_in_mts_avg_dur_mea_mnt3",
          "voice_in_mts_avg_dur_mea_mnt3",
          "voice_in_mts_avg_dur_mea_mnt3",
          "imei_mean_price",
          "imei_mean_price",
          "imei_mean_price",
          "imei_mean_price",
          "imei_mean_price",
          "device_brand_apple",
          "device_brand_apple",
          "device_brand_apple",
          "device_brand_apple",
          "device_brand_apple",
          "imei_mean_long_days_usage",
          "imei_mean_long_days_usage",
          "imei_mean_long_days_usage",
          "imei_mean_long_days_usage",
          "imei_mean_long_days_usage",
          "conn_out_uniq_cnt_max_mnt3",
          "conn_out_uniq_cnt_max_mnt3",
          "conn_out_uniq_cnt_max_mnt3",
          "conn_out_uniq_cnt_max_mnt3",
          "conn_out_uniq_cnt_max_mnt3",
          "voice_in_mts_avg_dur_min_mnt3",
          "voice_in_mts_avg_dur_min_mnt3",
          "voice_in_mts_avg_dur_min_mnt3",
          "voice_in_mts_avg_dur_min_mnt3",
          "voice_in_mts_avg_dur_min_mnt3",
          "conn_out_uniq_cnt_mea_mnt3",
          "conn_out_uniq_cnt_mea_mnt3",
          "conn_out_uniq_cnt_mea_mnt3",
          "conn_out_uniq_cnt_mea_mnt3",
          "conn_out_uniq_cnt_mea_mnt3",
          "imei_max_price",
          "imei_max_price",
          "imei_max_price",
          "imei_max_price",
          "imei_max_price",
          "Internet",
          "Internet",
          "Internet",
          "Internet",
          "Internet",
          "voice_in_td_cnt_std_mnt3",
          "voice_in_td_cnt_std_mnt3",
          "voice_in_td_cnt_std_mnt3",
          "voice_in_td_cnt_std_mnt3",
          "voice_in_td_cnt_std_mnt3",
          "tsoa_call_cnt",
          "tsoa_call_cnt",
          "tsoa_call_cnt",
          "tsoa_call_cnt",
          "tsoa_call_cnt",
          "non_accum_internet_vol_max_mnt3",
          "non_accum_internet_vol_max_mnt3",
          "non_accum_internet_vol_max_mnt3",
          "non_accum_internet_vol_max_mnt3",
          "non_accum_internet_vol_max_mnt3",
          "loc_market_share",
          "loc_market_share",
          "loc_market_share",
          "loc_market_share",
          "loc_market_share",
          "non_accum_internet_vol_mea_mnt3",
          "non_accum_internet_vol_mea_mnt3",
          "non_accum_internet_vol_mea_mnt3",
          "non_accum_internet_vol_mea_mnt3",
          "non_accum_internet_vol_mea_mnt3",
          "all_clc_mea_mnt3",
          "all_clc_mea_mnt3",
          "all_clc_mea_mnt3",
          "all_clc_mea_mnt3",
          "all_clc_mea_mnt3",
          "voice_mts_in_nwork_part_mea_mnt3",
          "voice_mts_in_nwork_part_mea_mnt3",
          "voice_mts_in_nwork_part_mea_mnt3",
          "voice_mts_in_nwork_part_mea_mnt3",
          "voice_mts_in_nwork_part_mea_mnt3",
          "TM_ID",
          "TM_ID",
          "TM_ID",
          "TM_ID",
          "TM_ID",
          "min_paym_6_month",
          "min_paym_6_month",
          "min_paym_6_month",
          "min_paym_6_month",
          "min_paym_6_month",
          "DNZ_MAX_days_closed_loan_year5",
          "DNZ_MAX_days_closed_loan_year5",
          "DNZ_MAX_days_closed_loan_year5",
          "DNZ_MAX_days_closed_loan_year5",
          "DNZ_MAX_days_closed_loan_year5",
          "device_days_usage",
          "device_days_usage",
          "device_days_usage",
          "device_days_usage",
          "device_days_usage",
          "Balance_uah",
          "Balance_uah",
          "Balance_uah",
          "Balance_uah",
          "Balance_uah",
          "voice_in_cmpttrs_td_cnt_std_mnt3",
          "voice_in_cmpttrs_td_cnt_std_mnt3",
          "voice_in_cmpttrs_td_cnt_std_mnt3",
          "voice_in_cmpttrs_td_cnt_std_mnt3",
          "voice_in_cmpttrs_td_cnt_std_mnt3",
          "voice_out_td_cnt_std_mnt3",
          "voice_out_td_cnt_std_mnt3",
          "voice_out_td_cnt_std_mnt3",
          "voice_out_td_cnt_std_mnt3",
          "voice_out_td_cnt_std_mnt3",
          "conn_in_uniq_cnt_mea_mnt3",
          "conn_in_uniq_cnt_mea_mnt3",
          "conn_in_uniq_cnt_mea_mnt3",
          "conn_in_uniq_cnt_mea_mnt3",
          "conn_in_uniq_cnt_mea_mnt3",
          "voice_out_td_cnt_max_mnt3",
          "voice_out_td_cnt_max_mnt3",
          "voice_out_td_cnt_max_mnt3",
          "voice_out_td_cnt_max_mnt3",
          "voice_out_td_cnt_max_mnt3",
          "conn_out_uniq_cnt_mea_mnt1",
          "conn_out_uniq_cnt_mea_mnt1",
          "conn_out_uniq_cnt_mea_mnt1",
          "conn_out_uniq_cnt_mea_mnt1",
          "conn_out_uniq_cnt_mea_mnt1",
          "device_ios_version",
          "device_ios_version",
          "device_ios_version",
          "device_ios_version",
          "device_ios_version",
          "content_cnt_mea_mnt3",
          "content_cnt_mea_mnt3",
          "content_cnt_mea_mnt3",
          "content_cnt_mea_mnt3",
          "content_cnt_mea_mnt3",
          "voice_mts_in_nrest_part_max_mnt3",
          "voice_mts_in_nrest_part_max_mnt3",
          "voice_mts_in_nrest_part_max_mnt3",
          "voice_mts_in_nrest_part_max_mnt3",
          "voice_mts_in_nrest_part_max_mnt3",
          "device_height_mm",
          "device_height_mm",
          "device_height_mm",
          "device_height_mm",
          "device_height_mm",
          "DNZ_DAYS_from_last_year5",
          "DNZ_DAYS_from_last_year5",
          "DNZ_DAYS_from_last_year5",
          "DNZ_DAYS_from_last_year5",
          "DNZ_DAYS_from_last_year5",
          "clc_no_vas_roam_std_mnt3",
          "clc_no_vas_roam_std_mnt3",
          "clc_no_vas_roam_std_mnt3",
          "clc_no_vas_roam_std_mnt3",
          "clc_no_vas_roam_std_mnt3",
          "MV_Traf_Cont_inc_s_Cnt",
          "MV_Traf_Cont_inc_s_Cnt",
          "MV_Traf_Cont_inc_s_Cnt",
          "MV_Traf_Cont_inc_s_Cnt",
          "MV_Traf_Cont_inc_s_Cnt",
          "voice_in_fix_tar_dur_mea_mnt3",
          "voice_in_fix_tar_dur_mea_mnt3",
          "voice_in_fix_tar_dur_mea_mnt3",
          "voice_in_fix_tar_dur_mea_mnt3",
          "voice_in_fix_tar_dur_mea_mnt3",
          "device_price",
          "device_price",
          "device_price",
          "device_price",
          "device_price",
          "non_accum_internet_vol_mea_mnt1",
          "non_accum_internet_vol_mea_mnt1",
          "non_accum_internet_vol_mea_mnt1",
          "non_accum_internet_vol_mea_mnt1",
          "non_accum_internet_vol_mea_mnt1",
          "voice_in_cmpttrs_avg_durmea_mnt3",
          "voice_in_cmpttrs_avg_durmea_mnt3",
          "voice_in_cmpttrs_avg_durmea_mnt3",
          "voice_in_cmpttrs_avg_durmea_mnt3",
          "voice_in_cmpttrs_avg_durmea_mnt3",
          "DNZ_MIN_days_closed_loan_year5",
          "DNZ_MIN_days_closed_loan_year5",
          "DNZ_MIN_days_closed_loan_year5",
          "DNZ_MIN_days_closed_loan_year5",
          "DNZ_MIN_days_closed_loan_year5",
          "tsoa_chat_cnt",
          "tsoa_chat_cnt",
          "tsoa_chat_cnt",
          "tsoa_chat_cnt",
          "tsoa_chat_cnt"
         ],
         "y0": " ",
         "yaxis": "y"
        }
       ],
       "layout": {
        "boxmode": "group",
        "height": 500,
        "legend": {
         "tracegroupgap": 0
        },
        "margin": {
         "t": 60
        },
        "template": {
         "data": {
          "bar": [
           {
            "error_x": {
             "color": "#2a3f5f"
            },
            "error_y": {
             "color": "#2a3f5f"
            },
            "marker": {
             "line": {
              "color": "#E5ECF6",
              "width": 0.5
             },
             "pattern": {
              "fillmode": "overlay",
              "size": 10,
              "solidity": 0.2
             }
            },
            "type": "bar"
           }
          ],
          "barpolar": [
           {
            "marker": {
             "line": {
              "color": "#E5ECF6",
              "width": 0.5
             },
             "pattern": {
              "fillmode": "overlay",
              "size": 10,
              "solidity": 0.2
             }
            },
            "type": "barpolar"
           }
          ],
          "carpet": [
           {
            "aaxis": {
             "endlinecolor": "#2a3f5f",
             "gridcolor": "white",
             "linecolor": "white",
             "minorgridcolor": "white",
             "startlinecolor": "#2a3f5f"
            },
            "baxis": {
             "endlinecolor": "#2a3f5f",
             "gridcolor": "white",
             "linecolor": "white",
             "minorgridcolor": "white",
             "startlinecolor": "#2a3f5f"
            },
            "type": "carpet"
           }
          ],
          "choropleth": [
           {
            "colorbar": {
             "outlinewidth": 0,
             "ticks": ""
            },
            "type": "choropleth"
           }
          ],
          "contour": [
           {
            "colorbar": {
             "outlinewidth": 0,
             "ticks": ""
            },
            "colorscale": [
             [
              0,
              "#0d0887"
             ],
             [
              0.1111111111111111,
              "#46039f"
             ],
             [
              0.2222222222222222,
              "#7201a8"
             ],
             [
              0.3333333333333333,
              "#9c179e"
             ],
             [
              0.4444444444444444,
              "#bd3786"
             ],
             [
              0.5555555555555556,
              "#d8576b"
             ],
             [
              0.6666666666666666,
              "#ed7953"
             ],
             [
              0.7777777777777778,
              "#fb9f3a"
             ],
             [
              0.8888888888888888,
              "#fdca26"
             ],
             [
              1,
              "#f0f921"
             ]
            ],
            "type": "contour"
           }
          ],
          "contourcarpet": [
           {
            "colorbar": {
             "outlinewidth": 0,
             "ticks": ""
            },
            "type": "contourcarpet"
           }
          ],
          "heatmap": [
           {
            "colorbar": {
             "outlinewidth": 0,
             "ticks": ""
            },
            "colorscale": [
             [
              0,
              "#0d0887"
             ],
             [
              0.1111111111111111,
              "#46039f"
             ],
             [
              0.2222222222222222,
              "#7201a8"
             ],
             [
              0.3333333333333333,
              "#9c179e"
             ],
             [
              0.4444444444444444,
              "#bd3786"
             ],
             [
              0.5555555555555556,
              "#d8576b"
             ],
             [
              0.6666666666666666,
              "#ed7953"
             ],
             [
              0.7777777777777778,
              "#fb9f3a"
             ],
             [
              0.8888888888888888,
              "#fdca26"
             ],
             [
              1,
              "#f0f921"
             ]
            ],
            "type": "heatmap"
           }
          ],
          "heatmapgl": [
           {
            "colorbar": {
             "outlinewidth": 0,
             "ticks": ""
            },
            "colorscale": [
             [
              0,
              "#0d0887"
             ],
             [
              0.1111111111111111,
              "#46039f"
             ],
             [
              0.2222222222222222,
              "#7201a8"
             ],
             [
              0.3333333333333333,
              "#9c179e"
             ],
             [
              0.4444444444444444,
              "#bd3786"
             ],
             [
              0.5555555555555556,
              "#d8576b"
             ],
             [
              0.6666666666666666,
              "#ed7953"
             ],
             [
              0.7777777777777778,
              "#fb9f3a"
             ],
             [
              0.8888888888888888,
              "#fdca26"
             ],
             [
              1,
              "#f0f921"
             ]
            ],
            "type": "heatmapgl"
           }
          ],
          "histogram": [
           {
            "marker": {
             "pattern": {
              "fillmode": "overlay",
              "size": 10,
              "solidity": 0.2
             }
            },
            "type": "histogram"
           }
          ],
          "histogram2d": [
           {
            "colorbar": {
             "outlinewidth": 0,
             "ticks": ""
            },
            "colorscale": [
             [
              0,
              "#0d0887"
             ],
             [
              0.1111111111111111,
              "#46039f"
             ],
             [
              0.2222222222222222,
              "#7201a8"
             ],
             [
              0.3333333333333333,
              "#9c179e"
             ],
             [
              0.4444444444444444,
              "#bd3786"
             ],
             [
              0.5555555555555556,
              "#d8576b"
             ],
             [
              0.6666666666666666,
              "#ed7953"
             ],
             [
              0.7777777777777778,
              "#fb9f3a"
             ],
             [
              0.8888888888888888,
              "#fdca26"
             ],
             [
              1,
              "#f0f921"
             ]
            ],
            "type": "histogram2d"
           }
          ],
          "histogram2dcontour": [
           {
            "colorbar": {
             "outlinewidth": 0,
             "ticks": ""
            },
            "colorscale": [
             [
              0,
              "#0d0887"
             ],
             [
              0.1111111111111111,
              "#46039f"
             ],
             [
              0.2222222222222222,
              "#7201a8"
             ],
             [
              0.3333333333333333,
              "#9c179e"
             ],
             [
              0.4444444444444444,
              "#bd3786"
             ],
             [
              0.5555555555555556,
              "#d8576b"
             ],
             [
              0.6666666666666666,
              "#ed7953"
             ],
             [
              0.7777777777777778,
              "#fb9f3a"
             ],
             [
              0.8888888888888888,
              "#fdca26"
             ],
             [
              1,
              "#f0f921"
             ]
            ],
            "type": "histogram2dcontour"
           }
          ],
          "mesh3d": [
           {
            "colorbar": {
             "outlinewidth": 0,
             "ticks": ""
            },
            "type": "mesh3d"
           }
          ],
          "parcoords": [
           {
            "line": {
             "colorbar": {
              "outlinewidth": 0,
              "ticks": ""
             }
            },
            "type": "parcoords"
           }
          ],
          "pie": [
           {
            "automargin": true,
            "type": "pie"
           }
          ],
          "scatter": [
           {
            "fillpattern": {
             "fillmode": "overlay",
             "size": 10,
             "solidity": 0.2
            },
            "type": "scatter"
           }
          ],
          "scatter3d": [
           {
            "line": {
             "colorbar": {
              "outlinewidth": 0,
              "ticks": ""
             }
            },
            "marker": {
             "colorbar": {
              "outlinewidth": 0,
              "ticks": ""
             }
            },
            "type": "scatter3d"
           }
          ],
          "scattercarpet": [
           {
            "marker": {
             "colorbar": {
              "outlinewidth": 0,
              "ticks": ""
             }
            },
            "type": "scattercarpet"
           }
          ],
          "scattergeo": [
           {
            "marker": {
             "colorbar": {
              "outlinewidth": 0,
              "ticks": ""
             }
            },
            "type": "scattergeo"
           }
          ],
          "scattergl": [
           {
            "marker": {
             "colorbar": {
              "outlinewidth": 0,
              "ticks": ""
             }
            },
            "type": "scattergl"
           }
          ],
          "scattermapbox": [
           {
            "marker": {
             "colorbar": {
              "outlinewidth": 0,
              "ticks": ""
             }
            },
            "type": "scattermapbox"
           }
          ],
          "scatterpolar": [
           {
            "marker": {
             "colorbar": {
              "outlinewidth": 0,
              "ticks": ""
             }
            },
            "type": "scatterpolar"
           }
          ],
          "scatterpolargl": [
           {
            "marker": {
             "colorbar": {
              "outlinewidth": 0,
              "ticks": ""
             }
            },
            "type": "scatterpolargl"
           }
          ],
          "scatterternary": [
           {
            "marker": {
             "colorbar": {
              "outlinewidth": 0,
              "ticks": ""
             }
            },
            "type": "scatterternary"
           }
          ],
          "surface": [
           {
            "colorbar": {
             "outlinewidth": 0,
             "ticks": ""
            },
            "colorscale": [
             [
              0,
              "#0d0887"
             ],
             [
              0.1111111111111111,
              "#46039f"
             ],
             [
              0.2222222222222222,
              "#7201a8"
             ],
             [
              0.3333333333333333,
              "#9c179e"
             ],
             [
              0.4444444444444444,
              "#bd3786"
             ],
             [
              0.5555555555555556,
              "#d8576b"
             ],
             [
              0.6666666666666666,
              "#ed7953"
             ],
             [
              0.7777777777777778,
              "#fb9f3a"
             ],
             [
              0.8888888888888888,
              "#fdca26"
             ],
             [
              1,
              "#f0f921"
             ]
            ],
            "type": "surface"
           }
          ],
          "table": [
           {
            "cells": {
             "fill": {
              "color": "#EBF0F8"
             },
             "line": {
              "color": "white"
             }
            },
            "header": {
             "fill": {
              "color": "#C8D4E3"
             },
             "line": {
              "color": "white"
             }
            },
            "type": "table"
           }
          ]
         },
         "layout": {
          "annotationdefaults": {
           "arrowcolor": "#2a3f5f",
           "arrowhead": 0,
           "arrowwidth": 1
          },
          "autotypenumbers": "strict",
          "coloraxis": {
           "colorbar": {
            "outlinewidth": 0,
            "ticks": ""
           }
          },
          "colorscale": {
           "diverging": [
            [
             0,
             "#8e0152"
            ],
            [
             0.1,
             "#c51b7d"
            ],
            [
             0.2,
             "#de77ae"
            ],
            [
             0.3,
             "#f1b6da"
            ],
            [
             0.4,
             "#fde0ef"
            ],
            [
             0.5,
             "#f7f7f7"
            ],
            [
             0.6,
             "#e6f5d0"
            ],
            [
             0.7,
             "#b8e186"
            ],
            [
             0.8,
             "#7fbc41"
            ],
            [
             0.9,
             "#4d9221"
            ],
            [
             1,
             "#276419"
            ]
           ],
           "sequential": [
            [
             0,
             "#0d0887"
            ],
            [
             0.1111111111111111,
             "#46039f"
            ],
            [
             0.2222222222222222,
             "#7201a8"
            ],
            [
             0.3333333333333333,
             "#9c179e"
            ],
            [
             0.4444444444444444,
             "#bd3786"
            ],
            [
             0.5555555555555556,
             "#d8576b"
            ],
            [
             0.6666666666666666,
             "#ed7953"
            ],
            [
             0.7777777777777778,
             "#fb9f3a"
            ],
            [
             0.8888888888888888,
             "#fdca26"
            ],
            [
             1,
             "#f0f921"
            ]
           ],
           "sequentialminus": [
            [
             0,
             "#0d0887"
            ],
            [
             0.1111111111111111,
             "#46039f"
            ],
            [
             0.2222222222222222,
             "#7201a8"
            ],
            [
             0.3333333333333333,
             "#9c179e"
            ],
            [
             0.4444444444444444,
             "#bd3786"
            ],
            [
             0.5555555555555556,
             "#d8576b"
            ],
            [
             0.6666666666666666,
             "#ed7953"
            ],
            [
             0.7777777777777778,
             "#fb9f3a"
            ],
            [
             0.8888888888888888,
             "#fdca26"
            ],
            [
             1,
             "#f0f921"
            ]
           ]
          },
          "colorway": [
           "#636efa",
           "#EF553B",
           "#00cc96",
           "#ab63fa",
           "#FFA15A",
           "#19d3f3",
           "#FF6692",
           "#B6E880",
           "#FF97FF",
           "#FECB52"
          ],
          "font": {
           "color": "#2a3f5f"
          },
          "geo": {
           "bgcolor": "white",
           "lakecolor": "white",
           "landcolor": "#E5ECF6",
           "showlakes": true,
           "showland": true,
           "subunitcolor": "white"
          },
          "hoverlabel": {
           "align": "left"
          },
          "hovermode": "closest",
          "mapbox": {
           "style": "light"
          },
          "paper_bgcolor": "white",
          "plot_bgcolor": "#E5ECF6",
          "polar": {
           "angularaxis": {
            "gridcolor": "white",
            "linecolor": "white",
            "ticks": ""
           },
           "bgcolor": "#E5ECF6",
           "radialaxis": {
            "gridcolor": "white",
            "linecolor": "white",
            "ticks": ""
           }
          },
          "scene": {
           "xaxis": {
            "backgroundcolor": "#E5ECF6",
            "gridcolor": "white",
            "gridwidth": 2,
            "linecolor": "white",
            "showbackground": true,
            "ticks": "",
            "zerolinecolor": "white"
           },
           "yaxis": {
            "backgroundcolor": "#E5ECF6",
            "gridcolor": "white",
            "gridwidth": 2,
            "linecolor": "white",
            "showbackground": true,
            "ticks": "",
            "zerolinecolor": "white"
           },
           "zaxis": {
            "backgroundcolor": "#E5ECF6",
            "gridcolor": "white",
            "gridwidth": 2,
            "linecolor": "white",
            "showbackground": true,
            "ticks": "",
            "zerolinecolor": "white"
           }
          },
          "shapedefaults": {
           "line": {
            "color": "#2a3f5f"
           }
          },
          "ternary": {
           "aaxis": {
            "gridcolor": "white",
            "linecolor": "white",
            "ticks": ""
           },
           "baxis": {
            "gridcolor": "white",
            "linecolor": "white",
            "ticks": ""
           },
           "bgcolor": "#E5ECF6",
           "caxis": {
            "gridcolor": "white",
            "linecolor": "white",
            "ticks": ""
           }
          },
          "title": {
           "x": 0.05
          },
          "xaxis": {
           "automargin": true,
           "gridcolor": "white",
           "linecolor": "white",
           "ticks": "",
           "title": {
            "standoff": 15
           },
           "zerolinecolor": "white",
           "zerolinewidth": 2
          },
          "yaxis": {
           "automargin": true,
           "gridcolor": "white",
           "linecolor": "white",
           "ticks": "",
           "title": {
            "standoff": 15
           },
           "zerolinecolor": "white",
           "zerolinewidth": 2
          }
         }
        },
        "xaxis": {
         "anchor": "y",
         "domain": [
          0,
          1
         ],
         "title": {
          "text": "value"
         }
        },
        "yaxis": {
         "anchor": "x",
         "domain": [
          0,
          1
         ],
         "title": {
          "text": "variable"
         }
        }
       }
      }
     },
     "metadata": {},
     "output_type": "display_data"
    }
   ],
   "source": [
    "def plot_p_imp():\n",
    "    df = p_imp_df[p_imp_df[\"p_importance%\"] >= 0.5].sort_values(\n",
    "        by=\"mean\", ascending=False\n",
    "    )\n",
    "    df = pd.DataFrame(\n",
    "        df[[\"run1\", \"run2\", \"run3\", \"run4\", \"run5\"]].T.values,\n",
    "        columns=df[\"feature\"].to_list(),\n",
    "    )\n",
    "\n",
    "    return px.box(\n",
    "        df,\n",
    "        x=df.columns.to_list(),\n",
    "        height=500,\n",
    "    )\n",
    "    # df.plot.box(vert=False, whis=10)\n",
    "\n",
    "\n",
    "plot_p_imp()"
   ]
  },
  {
   "cell_type": "code",
   "execution_count": 12,
   "metadata": {},
   "outputs": [],
   "source": [
    "predict_baseline, model_baseline = model_lgb.load(\"2024_05_31_baseline_fe_acc_4699\")"
   ]
  },
  {
   "cell_type": "code",
   "execution_count": 13,
   "metadata": {},
   "outputs": [
    {
     "data": {
      "text/html": [
       "<div>\n",
       "<style scoped>\n",
       "    .dataframe tbody tr th:only-of-type {\n",
       "        vertical-align: middle;\n",
       "    }\n",
       "\n",
       "    .dataframe tbody tr th {\n",
       "        vertical-align: top;\n",
       "    }\n",
       "\n",
       "    .dataframe thead th {\n",
       "        text-align: right;\n",
       "    }\n",
       "</style>\n",
       "<table border=\"1\" class=\"dataframe\">\n",
       "  <thead>\n",
       "    <tr style=\"text-align: right;\">\n",
       "      <th></th>\n",
       "      <th>feature_count</th>\n",
       "      <th>accuracy_train</th>\n",
       "      <th>accuracy_test</th>\n",
       "    </tr>\n",
       "  </thead>\n",
       "  <tbody>\n",
       "    <tr>\n",
       "      <th>0</th>\n",
       "      <td>815</td>\n",
       "      <td>0.562466</td>\n",
       "      <td>0.468052</td>\n",
       "    </tr>\n",
       "    <tr>\n",
       "      <th>1</th>\n",
       "      <td>611</td>\n",
       "      <td>0.558151</td>\n",
       "      <td>0.468120</td>\n",
       "    </tr>\n",
       "    <tr>\n",
       "      <th>2</th>\n",
       "      <td>407</td>\n",
       "      <td>0.558947</td>\n",
       "      <td>0.467714</td>\n",
       "    </tr>\n",
       "    <tr>\n",
       "      <th>3</th>\n",
       "      <td>203</td>\n",
       "      <td>0.552905</td>\n",
       "      <td>0.465367</td>\n",
       "    </tr>\n",
       "    <tr>\n",
       "      <th>4</th>\n",
       "      <td>150</td>\n",
       "      <td>0.548202</td>\n",
       "      <td>0.464915</td>\n",
       "    </tr>\n",
       "    <tr>\n",
       "      <th>5</th>\n",
       "      <td>100</td>\n",
       "      <td>0.543235</td>\n",
       "      <td>0.466089</td>\n",
       "    </tr>\n",
       "    <tr>\n",
       "      <th>6</th>\n",
       "      <td>75</td>\n",
       "      <td>0.538295</td>\n",
       "      <td>0.465908</td>\n",
       "    </tr>\n",
       "    <tr>\n",
       "      <th>7</th>\n",
       "      <td>50</td>\n",
       "      <td>0.529891</td>\n",
       "      <td>0.458799</td>\n",
       "    </tr>\n",
       "    <tr>\n",
       "      <th>8</th>\n",
       "      <td>40</td>\n",
       "      <td>0.523535</td>\n",
       "      <td>0.456090</td>\n",
       "    </tr>\n",
       "    <tr>\n",
       "      <th>9</th>\n",
       "      <td>20</td>\n",
       "      <td>0.488054</td>\n",
       "      <td>0.437312</td>\n",
       "    </tr>\n",
       "    <tr>\n",
       "      <th>10</th>\n",
       "      <td>10</td>\n",
       "      <td>0.439610</td>\n",
       "      <td>0.404992</td>\n",
       "    </tr>\n",
       "  </tbody>\n",
       "</table>\n",
       "</div>"
      ],
      "text/plain": [
       "    feature_count  accuracy_train  accuracy_test\n",
       "0             815        0.562466       0.468052\n",
       "1             611        0.558151       0.468120\n",
       "2             407        0.558947       0.467714\n",
       "3             203        0.552905       0.465367\n",
       "4             150        0.548202       0.464915\n",
       "5             100        0.543235       0.466089\n",
       "6              75        0.538295       0.465908\n",
       "7              50        0.529891       0.458799\n",
       "8              40        0.523535       0.456090\n",
       "9              20        0.488054       0.437312\n",
       "10             10        0.439610       0.404992"
      ]
     },
     "execution_count": 13,
     "metadata": {},
     "output_type": "execute_result"
    }
   ],
   "source": [
    "def train_topk_features(k: float):\n",
    "    df_topk = p_imp_df.nlargest(int(k), columns=[\"mean\"])[\"feature\"]\n",
    "    feature_count = len(df_topk)\n",
    "\n",
    "    print(f\"\\n\\n=== Training on top {feature_count} features ===\")\n",
    "\n",
    "    X_train_pruned = X_train[df_topk.values]\n",
    "    X_test_pruned = X_test[df_topk.values]\n",
    "\n",
    "    predict_pruned, model_pruned = model_lgb.train_multiclass(\n",
    "        X_train=X_train_pruned,\n",
    "        y_train=y_train,\n",
    "        X_test=X_test_pruned,\n",
    "        y_test=y_test,\n",
    "        # use params from one of the latest optuna runs\n",
    "        params={\n",
    "            \"eta\": 0.19997109376050565,\n",
    "            \"boosting_type\": \"gbdt\",\n",
    "            \"lambda_l1\": 5.735491139313952e-07,\n",
    "            \"lambda_l2\": 3.1791646476628225e-06,\n",
    "            \"num_leaves\": 20,\n",
    "            \"min_data_in_leaf\": 30,\n",
    "            \"feature_fraction\": 0.8166299199026185,\n",
    "            \"bagging_fraction\": 0.9867527250605056,\n",
    "            \"bagging_freq\": 7,\n",
    "            \"verbosity\": -1,\n",
    "        },\n",
    "        num_class=CLASS_NUM,\n",
    "        seed=RANDOM_SEED,\n",
    "    )\n",
    "\n",
    "    print(f\"Train dataset for {len(df_topk)} features:\")\n",
    "    report_train = project_api.report(\n",
    "        y_test=y_train,\n",
    "        y_pred=predict_pruned(X_train_pruned),\n",
    "    )\n",
    "\n",
    "    print(f\"\\nTest dataset for {len(df_topk)} features:\")\n",
    "    report_test = project_api.report(\n",
    "        y_test=y_test,\n",
    "        y_pred=predict_pruned(X_test_pruned),\n",
    "    )\n",
    "\n",
    "    return (feature_count, report_train[\"accuracy\"], report_test[\"accuracy\"])\n",
    "\n",
    "\n",
    "def profile_feature_counts():\n",
    "    result = {\n",
    "        \"feature_count\": [],\n",
    "        \"accuracy_train\": [],\n",
    "        \"accuracy_test\": [],\n",
    "    }\n",
    "    total_features = len(p_imp_df)\n",
    "\n",
    "    for topk_value in [\n",
    "        total_features * 1,\n",
    "        total_features * 0.75,\n",
    "        total_features * 0.5,\n",
    "        total_features * 0.25,\n",
    "        150,\n",
    "        100,\n",
    "        75,\n",
    "        50,\n",
    "        40,\n",
    "        20,\n",
    "        10,\n",
    "    ]:\n",
    "        feature_count, accuracy_train, accuracy_test = train_topk_features(topk_value)\n",
    "\n",
    "        result[\"feature_count\"].append(feature_count)\n",
    "        result[\"accuracy_train\"].append(accuracy_train)\n",
    "        result[\"accuracy_test\"].append(accuracy_test)\n",
    "\n",
    "    return pd.DataFrame(result)\n",
    "\n",
    "\n",
    "df_feature_count_profile = io.run_cached(\n",
    "    \"./data/fe_feature_count_vs_acc.parquet\", profile_feature_counts\n",
    ")\n",
    "df_feature_count_profile"
   ]
  },
  {
   "cell_type": "code",
   "execution_count": 14,
   "metadata": {},
   "outputs": [
    {
     "data": {
      "application/vnd.plotly.v1+json": {
       "config": {
        "plotlyServerURL": "https://plot.ly"
       },
       "data": [
        {
         "hovertemplate": "variable=accuracy_train<br>Feature acount=%{x}<br>Accuracy=%{y}<extra></extra>",
         "legendgroup": "accuracy_train",
         "line": {
          "color": "#636efa",
          "dash": "solid"
         },
         "marker": {
          "symbol": "circle"
         },
         "mode": "lines+markers",
         "name": "accuracy_train",
         "orientation": "v",
         "showlegend": true,
         "type": "scatter",
         "x": [
          815,
          611,
          407,
          203,
          150,
          100,
          75,
          50,
          40,
          20,
          10
         ],
         "xaxis": "x",
         "y": [
          0.562465550209931,
          0.5581512456363599,
          0.5589474185623975,
          0.5529046702006764,
          0.548202486509292,
          0.5432349118425619,
          0.5382945567630467,
          0.5298905092104278,
          0.5235347355957347,
          0.48805400366103446,
          0.43960994331520964
         ],
         "yaxis": "y"
        },
        {
         "hovertemplate": "variable=accuracy_test<br>Feature acount=%{x}<br>Accuracy=%{y}<extra></extra>",
         "legendgroup": "accuracy_test",
         "line": {
          "color": "#EF553B",
          "dash": "solid"
         },
         "marker": {
          "symbol": "circle"
         },
         "mode": "lines+markers",
         "name": "accuracy_test",
         "orientation": "v",
         "showlegend": true,
         "type": "scatter",
         "x": [
          815,
          611,
          407,
          203,
          150,
          100,
          75,
          50,
          40,
          20,
          10
         ],
         "xaxis": "x",
         "y": [
          0.46805245220845465,
          0.46812016159974723,
          0.4677139052519918,
          0.4653666463538493,
          0.4649152504118988,
          0.46608887986097003,
          0.46590832148418987,
          0.4587988353984698,
          0.4560904597467669,
          0.43731238856162685,
          0.40499243911797234
         ],
         "yaxis": "y"
        }
       ],
       "layout": {
        "legend": {
         "title": {
          "text": "variable"
         },
         "tracegroupgap": 0
        },
        "template": {
         "data": {
          "bar": [
           {
            "error_x": {
             "color": "#2a3f5f"
            },
            "error_y": {
             "color": "#2a3f5f"
            },
            "marker": {
             "line": {
              "color": "#E5ECF6",
              "width": 0.5
             },
             "pattern": {
              "fillmode": "overlay",
              "size": 10,
              "solidity": 0.2
             }
            },
            "type": "bar"
           }
          ],
          "barpolar": [
           {
            "marker": {
             "line": {
              "color": "#E5ECF6",
              "width": 0.5
             },
             "pattern": {
              "fillmode": "overlay",
              "size": 10,
              "solidity": 0.2
             }
            },
            "type": "barpolar"
           }
          ],
          "carpet": [
           {
            "aaxis": {
             "endlinecolor": "#2a3f5f",
             "gridcolor": "white",
             "linecolor": "white",
             "minorgridcolor": "white",
             "startlinecolor": "#2a3f5f"
            },
            "baxis": {
             "endlinecolor": "#2a3f5f",
             "gridcolor": "white",
             "linecolor": "white",
             "minorgridcolor": "white",
             "startlinecolor": "#2a3f5f"
            },
            "type": "carpet"
           }
          ],
          "choropleth": [
           {
            "colorbar": {
             "outlinewidth": 0,
             "ticks": ""
            },
            "type": "choropleth"
           }
          ],
          "contour": [
           {
            "colorbar": {
             "outlinewidth": 0,
             "ticks": ""
            },
            "colorscale": [
             [
              0,
              "#0d0887"
             ],
             [
              0.1111111111111111,
              "#46039f"
             ],
             [
              0.2222222222222222,
              "#7201a8"
             ],
             [
              0.3333333333333333,
              "#9c179e"
             ],
             [
              0.4444444444444444,
              "#bd3786"
             ],
             [
              0.5555555555555556,
              "#d8576b"
             ],
             [
              0.6666666666666666,
              "#ed7953"
             ],
             [
              0.7777777777777778,
              "#fb9f3a"
             ],
             [
              0.8888888888888888,
              "#fdca26"
             ],
             [
              1,
              "#f0f921"
             ]
            ],
            "type": "contour"
           }
          ],
          "contourcarpet": [
           {
            "colorbar": {
             "outlinewidth": 0,
             "ticks": ""
            },
            "type": "contourcarpet"
           }
          ],
          "heatmap": [
           {
            "colorbar": {
             "outlinewidth": 0,
             "ticks": ""
            },
            "colorscale": [
             [
              0,
              "#0d0887"
             ],
             [
              0.1111111111111111,
              "#46039f"
             ],
             [
              0.2222222222222222,
              "#7201a8"
             ],
             [
              0.3333333333333333,
              "#9c179e"
             ],
             [
              0.4444444444444444,
              "#bd3786"
             ],
             [
              0.5555555555555556,
              "#d8576b"
             ],
             [
              0.6666666666666666,
              "#ed7953"
             ],
             [
              0.7777777777777778,
              "#fb9f3a"
             ],
             [
              0.8888888888888888,
              "#fdca26"
             ],
             [
              1,
              "#f0f921"
             ]
            ],
            "type": "heatmap"
           }
          ],
          "heatmapgl": [
           {
            "colorbar": {
             "outlinewidth": 0,
             "ticks": ""
            },
            "colorscale": [
             [
              0,
              "#0d0887"
             ],
             [
              0.1111111111111111,
              "#46039f"
             ],
             [
              0.2222222222222222,
              "#7201a8"
             ],
             [
              0.3333333333333333,
              "#9c179e"
             ],
             [
              0.4444444444444444,
              "#bd3786"
             ],
             [
              0.5555555555555556,
              "#d8576b"
             ],
             [
              0.6666666666666666,
              "#ed7953"
             ],
             [
              0.7777777777777778,
              "#fb9f3a"
             ],
             [
              0.8888888888888888,
              "#fdca26"
             ],
             [
              1,
              "#f0f921"
             ]
            ],
            "type": "heatmapgl"
           }
          ],
          "histogram": [
           {
            "marker": {
             "pattern": {
              "fillmode": "overlay",
              "size": 10,
              "solidity": 0.2
             }
            },
            "type": "histogram"
           }
          ],
          "histogram2d": [
           {
            "colorbar": {
             "outlinewidth": 0,
             "ticks": ""
            },
            "colorscale": [
             [
              0,
              "#0d0887"
             ],
             [
              0.1111111111111111,
              "#46039f"
             ],
             [
              0.2222222222222222,
              "#7201a8"
             ],
             [
              0.3333333333333333,
              "#9c179e"
             ],
             [
              0.4444444444444444,
              "#bd3786"
             ],
             [
              0.5555555555555556,
              "#d8576b"
             ],
             [
              0.6666666666666666,
              "#ed7953"
             ],
             [
              0.7777777777777778,
              "#fb9f3a"
             ],
             [
              0.8888888888888888,
              "#fdca26"
             ],
             [
              1,
              "#f0f921"
             ]
            ],
            "type": "histogram2d"
           }
          ],
          "histogram2dcontour": [
           {
            "colorbar": {
             "outlinewidth": 0,
             "ticks": ""
            },
            "colorscale": [
             [
              0,
              "#0d0887"
             ],
             [
              0.1111111111111111,
              "#46039f"
             ],
             [
              0.2222222222222222,
              "#7201a8"
             ],
             [
              0.3333333333333333,
              "#9c179e"
             ],
             [
              0.4444444444444444,
              "#bd3786"
             ],
             [
              0.5555555555555556,
              "#d8576b"
             ],
             [
              0.6666666666666666,
              "#ed7953"
             ],
             [
              0.7777777777777778,
              "#fb9f3a"
             ],
             [
              0.8888888888888888,
              "#fdca26"
             ],
             [
              1,
              "#f0f921"
             ]
            ],
            "type": "histogram2dcontour"
           }
          ],
          "mesh3d": [
           {
            "colorbar": {
             "outlinewidth": 0,
             "ticks": ""
            },
            "type": "mesh3d"
           }
          ],
          "parcoords": [
           {
            "line": {
             "colorbar": {
              "outlinewidth": 0,
              "ticks": ""
             }
            },
            "type": "parcoords"
           }
          ],
          "pie": [
           {
            "automargin": true,
            "type": "pie"
           }
          ],
          "scatter": [
           {
            "fillpattern": {
             "fillmode": "overlay",
             "size": 10,
             "solidity": 0.2
            },
            "type": "scatter"
           }
          ],
          "scatter3d": [
           {
            "line": {
             "colorbar": {
              "outlinewidth": 0,
              "ticks": ""
             }
            },
            "marker": {
             "colorbar": {
              "outlinewidth": 0,
              "ticks": ""
             }
            },
            "type": "scatter3d"
           }
          ],
          "scattercarpet": [
           {
            "marker": {
             "colorbar": {
              "outlinewidth": 0,
              "ticks": ""
             }
            },
            "type": "scattercarpet"
           }
          ],
          "scattergeo": [
           {
            "marker": {
             "colorbar": {
              "outlinewidth": 0,
              "ticks": ""
             }
            },
            "type": "scattergeo"
           }
          ],
          "scattergl": [
           {
            "marker": {
             "colorbar": {
              "outlinewidth": 0,
              "ticks": ""
             }
            },
            "type": "scattergl"
           }
          ],
          "scattermapbox": [
           {
            "marker": {
             "colorbar": {
              "outlinewidth": 0,
              "ticks": ""
             }
            },
            "type": "scattermapbox"
           }
          ],
          "scatterpolar": [
           {
            "marker": {
             "colorbar": {
              "outlinewidth": 0,
              "ticks": ""
             }
            },
            "type": "scatterpolar"
           }
          ],
          "scatterpolargl": [
           {
            "marker": {
             "colorbar": {
              "outlinewidth": 0,
              "ticks": ""
             }
            },
            "type": "scatterpolargl"
           }
          ],
          "scatterternary": [
           {
            "marker": {
             "colorbar": {
              "outlinewidth": 0,
              "ticks": ""
             }
            },
            "type": "scatterternary"
           }
          ],
          "surface": [
           {
            "colorbar": {
             "outlinewidth": 0,
             "ticks": ""
            },
            "colorscale": [
             [
              0,
              "#0d0887"
             ],
             [
              0.1111111111111111,
              "#46039f"
             ],
             [
              0.2222222222222222,
              "#7201a8"
             ],
             [
              0.3333333333333333,
              "#9c179e"
             ],
             [
              0.4444444444444444,
              "#bd3786"
             ],
             [
              0.5555555555555556,
              "#d8576b"
             ],
             [
              0.6666666666666666,
              "#ed7953"
             ],
             [
              0.7777777777777778,
              "#fb9f3a"
             ],
             [
              0.8888888888888888,
              "#fdca26"
             ],
             [
              1,
              "#f0f921"
             ]
            ],
            "type": "surface"
           }
          ],
          "table": [
           {
            "cells": {
             "fill": {
              "color": "#EBF0F8"
             },
             "line": {
              "color": "white"
             }
            },
            "header": {
             "fill": {
              "color": "#C8D4E3"
             },
             "line": {
              "color": "white"
             }
            },
            "type": "table"
           }
          ]
         },
         "layout": {
          "annotationdefaults": {
           "arrowcolor": "#2a3f5f",
           "arrowhead": 0,
           "arrowwidth": 1
          },
          "autotypenumbers": "strict",
          "coloraxis": {
           "colorbar": {
            "outlinewidth": 0,
            "ticks": ""
           }
          },
          "colorscale": {
           "diverging": [
            [
             0,
             "#8e0152"
            ],
            [
             0.1,
             "#c51b7d"
            ],
            [
             0.2,
             "#de77ae"
            ],
            [
             0.3,
             "#f1b6da"
            ],
            [
             0.4,
             "#fde0ef"
            ],
            [
             0.5,
             "#f7f7f7"
            ],
            [
             0.6,
             "#e6f5d0"
            ],
            [
             0.7,
             "#b8e186"
            ],
            [
             0.8,
             "#7fbc41"
            ],
            [
             0.9,
             "#4d9221"
            ],
            [
             1,
             "#276419"
            ]
           ],
           "sequential": [
            [
             0,
             "#0d0887"
            ],
            [
             0.1111111111111111,
             "#46039f"
            ],
            [
             0.2222222222222222,
             "#7201a8"
            ],
            [
             0.3333333333333333,
             "#9c179e"
            ],
            [
             0.4444444444444444,
             "#bd3786"
            ],
            [
             0.5555555555555556,
             "#d8576b"
            ],
            [
             0.6666666666666666,
             "#ed7953"
            ],
            [
             0.7777777777777778,
             "#fb9f3a"
            ],
            [
             0.8888888888888888,
             "#fdca26"
            ],
            [
             1,
             "#f0f921"
            ]
           ],
           "sequentialminus": [
            [
             0,
             "#0d0887"
            ],
            [
             0.1111111111111111,
             "#46039f"
            ],
            [
             0.2222222222222222,
             "#7201a8"
            ],
            [
             0.3333333333333333,
             "#9c179e"
            ],
            [
             0.4444444444444444,
             "#bd3786"
            ],
            [
             0.5555555555555556,
             "#d8576b"
            ],
            [
             0.6666666666666666,
             "#ed7953"
            ],
            [
             0.7777777777777778,
             "#fb9f3a"
            ],
            [
             0.8888888888888888,
             "#fdca26"
            ],
            [
             1,
             "#f0f921"
            ]
           ]
          },
          "colorway": [
           "#636efa",
           "#EF553B",
           "#00cc96",
           "#ab63fa",
           "#FFA15A",
           "#19d3f3",
           "#FF6692",
           "#B6E880",
           "#FF97FF",
           "#FECB52"
          ],
          "font": {
           "color": "#2a3f5f"
          },
          "geo": {
           "bgcolor": "white",
           "lakecolor": "white",
           "landcolor": "#E5ECF6",
           "showlakes": true,
           "showland": true,
           "subunitcolor": "white"
          },
          "hoverlabel": {
           "align": "left"
          },
          "hovermode": "closest",
          "mapbox": {
           "style": "light"
          },
          "paper_bgcolor": "white",
          "plot_bgcolor": "#E5ECF6",
          "polar": {
           "angularaxis": {
            "gridcolor": "white",
            "linecolor": "white",
            "ticks": ""
           },
           "bgcolor": "#E5ECF6",
           "radialaxis": {
            "gridcolor": "white",
            "linecolor": "white",
            "ticks": ""
           }
          },
          "scene": {
           "xaxis": {
            "backgroundcolor": "#E5ECF6",
            "gridcolor": "white",
            "gridwidth": 2,
            "linecolor": "white",
            "showbackground": true,
            "ticks": "",
            "zerolinecolor": "white"
           },
           "yaxis": {
            "backgroundcolor": "#E5ECF6",
            "gridcolor": "white",
            "gridwidth": 2,
            "linecolor": "white",
            "showbackground": true,
            "ticks": "",
            "zerolinecolor": "white"
           },
           "zaxis": {
            "backgroundcolor": "#E5ECF6",
            "gridcolor": "white",
            "gridwidth": 2,
            "linecolor": "white",
            "showbackground": true,
            "ticks": "",
            "zerolinecolor": "white"
           }
          },
          "shapedefaults": {
           "line": {
            "color": "#2a3f5f"
           }
          },
          "ternary": {
           "aaxis": {
            "gridcolor": "white",
            "linecolor": "white",
            "ticks": ""
           },
           "baxis": {
            "gridcolor": "white",
            "linecolor": "white",
            "ticks": ""
           },
           "bgcolor": "#E5ECF6",
           "caxis": {
            "gridcolor": "white",
            "linecolor": "white",
            "ticks": ""
           }
          },
          "title": {
           "x": 0.05
          },
          "xaxis": {
           "automargin": true,
           "gridcolor": "white",
           "linecolor": "white",
           "ticks": "",
           "title": {
            "standoff": 15
           },
           "zerolinecolor": "white",
           "zerolinewidth": 2
          },
          "yaxis": {
           "automargin": true,
           "gridcolor": "white",
           "linecolor": "white",
           "ticks": "",
           "title": {
            "standoff": 15
           },
           "zerolinecolor": "white",
           "zerolinewidth": 2
          }
         }
        },
        "title": {
         "text": "Accuracy vs feature count"
        },
        "xaxis": {
         "anchor": "y",
         "domain": [
          0,
          1
         ],
         "title": {
          "text": "Feature acount"
         },
         "type": "log"
        },
        "yaxis": {
         "anchor": "x",
         "domain": [
          0,
          1
         ],
         "title": {
          "text": "Accuracy"
         }
        }
       }
      }
     },
     "metadata": {},
     "output_type": "display_data"
    }
   ],
   "source": [
    "px.line(\n",
    "    df_feature_count_profile,\n",
    "    x=\"feature_count\",\n",
    "    y=[\"accuracy_train\", \"accuracy_test\"],\n",
    "    title=\"Accuracy vs feature count\",\n",
    "    labels={\"feature_count\": \"Feature acount\", \"value\": \"Accuracy\"},\n",
    "    markers=\".\",\n",
    "    log_x=True,\n",
    ")"
   ]
  },
  {
   "cell_type": "markdown",
   "metadata": {},
   "source": [
    "On the graph above we can see a plateau from 75 till 815, therefore the most value is in the first 75 features. We will select those features to use in the composite dataset in next notebooks.\n"
   ]
  },
  {
   "cell_type": "markdown",
   "metadata": {},
   "source": [
    "## Export models and feature data\n"
   ]
  },
  {
   "cell_type": "code",
   "execution_count": 15,
   "metadata": {},
   "outputs": [],
   "source": [
    "top75_features_path = \"./data/fe_top75_features.json\"\n",
    "io.write_json(\n",
    "    top75_features_path,\n",
    "    p_imp_df.nlargest(75, columns=[\"mean\"])[\"feature\"].to_list(),\n",
    ")"
   ]
  },
  {
   "cell_type": "code",
   "execution_count": 16,
   "metadata": {},
   "outputs": [],
   "source": [
    "def train_model_on_top_features(\n",
    "    study_name: str,\n",
    "    feature_selection_path: str,\n",
    "):\n",
    "    features = io.read_json(feature_selection_path)\n",
    "\n",
    "    df_train = pd.read_parquet(train_fe_path)\n",
    "    X_train = df_train[features]\n",
    "    # lgb wants zero-based categories\n",
    "    y_train = df_train[TARGET_KEY] - 1\n",
    "    del df_train\n",
    "\n",
    "    print(f\"Train X: {X_train.shape}\")\n",
    "    print(f\"Train y: {y_train.shape}\")\n",
    "\n",
    "    df_test = pd.read_parquet(test_fe_path)\n",
    "    X_test = df_test[features]\n",
    "    # lgb requires class to be zero-based\n",
    "    y_test = df_test[TARGET_KEY] - 1\n",
    "    del df_test\n",
    "\n",
    "    print(f\"Test X: {X_test.shape}\")\n",
    "    print(f\"Test y: {y_test.shape}\")\n",
    "\n",
    "    study = project_api.train_lgb(\n",
    "        study_name=study_name,\n",
    "        X_train=X_train,\n",
    "        y_train=y_train,\n",
    "        X_test=X_test,\n",
    "        y_test=y_test,\n",
    "    )\n",
    "\n",
    "    predict_fe, model_fe = model_lgb.train_multiclass(\n",
    "        X_train=X_train,\n",
    "        y_train=y_train,\n",
    "        X_test=X_test,\n",
    "        y_test=y_test,\n",
    "        params=study.best_params,\n",
    "        num_class=CLASS_NUM,\n",
    "        seed=RANDOM_SEED,\n",
    "        name=f\"2024_06_24_{study_name}\",\n",
    "    )\n",
    "\n",
    "    print(\"Train dataset:\")\n",
    "    project_api.report(\n",
    "        y_test=y_train,\n",
    "        y_pred=predict_fe(X_train),\n",
    "    )\n",
    "\n",
    "    print(\"\\n\\nTest dataset:\")\n",
    "    project_api.report(\n",
    "        y_test=y_test,\n",
    "        y_pred=predict_fe(X_test),\n",
    "    )"
   ]
  },
  {
   "cell_type": "code",
   "execution_count": 17,
   "metadata": {},
   "outputs": [
    {
     "name": "stdout",
     "output_type": "stream",
     "text": [
      "Train X: (146953, 75)\n",
      "Train y: (146953,)\n",
      "Test X: (44307, 75)\n",
      "Test y: (44307,)\n"
     ]
    },
    {
     "name": "stderr",
     "output_type": "stream",
     "text": [
      "[I 2024-06-24 22:24:01,486] Using an existing study with name 'fe_top75_acc_4659' instead of creating a new one.\n"
     ]
    },
    {
     "name": "stdout",
     "output_type": "stream",
     "text": [
      "Best hyperparameters:  {'boosting_type': 'dart', 'eta': 0.38999660826917953, 'num_leaves': 27, 'min_data_in_leaf': 20, 'feature_fraction': 0.9021404218699807, 'bagging_fraction': 0.9608019633467612, 'bagging_freq': 7, 'lambda_l1': 5.6991908634402e-05, 'lambda_l2': 0.06470315155225144}\n",
      "Best score:  0.46690139255648094\n",
      "[LightGBM] [Warning] Ignoring unrecognized parameter 'early_stopping_min_delta' found in model string.\n",
      "Train dataset:\n",
      "Accuracy: 0.5422550067028233\n",
      "\n",
      "\n",
      "Test dataset:\n",
      "Accuracy: 0.46690139255648094\n"
     ]
    }
   ],
   "source": [
    "# Best hyperparameters:  {'boosting_type': 'dart', 'eta': 0.38999660826917953, 'num_leaves': 27, 'min_data_in_leaf': 20, 'feature_fraction': 0.9021404218699807, 'bagging_fraction': 0.9608019633467612, 'bagging_freq': 7, 'lambda_l1': 5.6991908634402e-05, 'lambda_l2': 0.06470315155225144}\n",
    "# Best score:  0.46690139255648094\n",
    "train_model_on_top_features(\n",
    "    study_name=\"fe_top75_acc_4659\",\n",
    "    feature_selection_path=top75_features_path,\n",
    ")"
   ]
  },
  {
   "cell_type": "code",
   "execution_count": 18,
   "metadata": {},
   "outputs": [
    {
     "name": "stdout",
     "output_type": "stream",
     "text": [
      "Metrics         Train      Test       Δ         \n",
      "roc_auc         0.8479     0.7939     -0.054    \n",
      "accuracy        0.5604     0.4699     -0.0905   \n",
      "precision       0.5604     0.4699     -0.0905   \n",
      "recall          0.5604     0.4699     -0.0905   \n",
      "f1_score        0.5604     0.4699     -0.0905   \n",
      "\n",
      "\n",
      "Train:\n",
      "              precision    recall  f1-score   support\n",
      "\n",
      "           0       0.61      0.71      0.66     18960\n",
      "           1       0.56      0.53      0.55     27428\n",
      "           2       0.52      0.60      0.56     39579\n",
      "           3       0.55      0.36      0.44     31692\n",
      "           4       0.60      0.65      0.62     29294\n",
      "\n",
      "    accuracy                           0.56    146953\n",
      "   macro avg       0.57      0.57      0.56    146953\n",
      "weighted avg       0.56      0.56      0.55    146953\n",
      "\n",
      "Test:\n",
      "              precision    recall  f1-score   support\n",
      "\n",
      "           0       0.54      0.63      0.59      5582\n",
      "           1       0.47      0.45      0.46      8264\n",
      "           2       0.43      0.51      0.47     11803\n",
      "           3       0.38      0.25      0.30      9764\n",
      "           4       0.54      0.58      0.56      8894\n",
      "\n",
      "    accuracy                           0.47     44307\n",
      "   macro avg       0.47      0.48      0.47     44307\n",
      "weighted avg       0.46      0.47      0.46     44307\n",
      "\n"
     ]
    }
   ],
   "source": [
    "analyze.multiclass_report(\n",
    "    y_true_tr=y_train,\n",
    "    y_proba_tr=predict_baseline(X_train, proba=True),\n",
    "    y_true_val=y_test,\n",
    "    y_proba_val=predict_baseline(X_test, proba=True),\n",
    "    report=True,\n",
    ")"
   ]
  }
 ],
 "metadata": {
  "kernelspec": {
   "display_name": "Python 3",
   "language": "python",
   "name": "python3"
  },
  "language_info": {
   "codemirror_mode": {
    "name": "ipython",
    "version": 3
   },
   "file_extension": ".py",
   "mimetype": "text/x-python",
   "name": "python",
   "nbconvert_exporter": "python",
   "pygments_lexer": "ipython3",
   "version": "3.10.12"
  }
 },
 "nbformat": 4,
 "nbformat_minor": 2
}

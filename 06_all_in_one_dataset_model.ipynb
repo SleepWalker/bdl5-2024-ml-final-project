{
 "cells": [
  {
   "cell_type": "markdown",
   "metadata": {},
   "source": [
    "## Combine fe, bnum and dpi datasets in single model\n",
    "\n",
    "In this notebook we will test how the two datasets fe and dpi work together to train a model.\n",
    "\n",
    "After that we will combine all three datasets together to see how they perform together.\n"
   ]
  },
  {
   "cell_type": "code",
   "execution_count": 1,
   "metadata": {},
   "outputs": [],
   "source": [
    "import pandas as pd\n",
    "from utils import io\n",
    "import project.bnum as bnum\n",
    "import project.dpi as dpi\n",
    "import project.project_api as project_api\n",
    "import utils.model_lgb as model_lgb"
   ]
  },
  {
   "cell_type": "code",
   "execution_count": 2,
   "metadata": {},
   "outputs": [],
   "source": [
    "RANDOM_SEED = 42\n",
    "TARGET_KEY = \"target\"\n",
    "CLASS_NUM = 5\n",
    "\n",
    "train_fe_path = \"./data/train_fe\"\n",
    "test_fe_path = \"./data/test_fe\"\n",
    "train_bnum_path = \"./data/train_bnum\"\n",
    "test_bnum_path = \"./data/test_bnum\"\n",
    "train_dpi_path = \"./data/train_dpi\"\n",
    "test_dpi_path = \"./data/test_dpi\"\n",
    "fe_top75_features_path = \"./data/fe_top75_features.json\"\n",
    "bnum_selection_path = \"./data/bnum_initial_names.json\"\n",
    "bnum_top300_features_path = \"./data/bnum_top300_features.json\"\n",
    "dpi_selection_path = \"./data/dpi_initial_names.json\"\n",
    "dpi_top200_features_path = \"./data/dpi_top200_features.json\""
   ]
  },
  {
   "cell_type": "markdown",
   "metadata": {},
   "source": [
    "## Check how fe and dpi datasets perform together\n"
   ]
  },
  {
   "cell_type": "markdown",
   "metadata": {},
   "source": [
    "Load `fe` dataset:\n"
   ]
  },
  {
   "cell_type": "code",
   "execution_count": 3,
   "metadata": {},
   "outputs": [
    {
     "name": "stdout",
     "output_type": "stream",
     "text": [
      "Train X: (146953, 815)\n",
      "Train y: (146953,)\n",
      "Test X: (44307, 815)\n",
      "Test y: (44307,)\n"
     ]
    }
   ],
   "source": [
    "df_train = pd.read_parquet(train_fe_path)\n",
    "df_test = pd.read_parquet(test_fe_path)\n",
    "\n",
    "X_train = df_train.drop(columns=[TARGET_KEY])\n",
    "# lgb requires zero-based classes\n",
    "y_train = df_train[TARGET_KEY] - 1\n",
    "del df_train\n",
    "\n",
    "print(f\"Train X: {X_train.shape}\")\n",
    "print(f\"Train y: {y_train.shape}\")\n",
    "\n",
    "X_test = df_test.drop(columns=[TARGET_KEY])\n",
    "# lgb requires zero-based classes\n",
    "y_test = df_test[TARGET_KEY] - 1\n",
    "del df_test\n",
    "\n",
    "print(f\"Test X: {X_test.shape}\")\n",
    "print(f\"Test y: {y_test.shape}\")"
   ]
  },
  {
   "cell_type": "markdown",
   "metadata": {},
   "source": [
    "Load `dpi` dataset:\n"
   ]
  },
  {
   "cell_type": "code",
   "execution_count": 4,
   "metadata": {},
   "outputs": [],
   "source": [
    "# just reuse previous dataset but select only top features\n",
    "X_dpi200_train, y_dpi200_train = dpi.preprocess(\n",
    "    name=\"dpi_initial_train\",\n",
    "    dpi_path=train_dpi_path,\n",
    "    fe_path=train_fe_path,\n",
    "    dpi_selection_path=dpi_selection_path,\n",
    "    feature_selection_path=dpi_top200_features_path,\n",
    ")\n",
    "del y_dpi200_train\n",
    "X_dpi200_test, y_dpi200_test = dpi.preprocess(\n",
    "    name=\"dpi_initial_test\",\n",
    "    dpi_path=test_dpi_path,\n",
    "    fe_path=test_fe_path,\n",
    "    dpi_selection_path=dpi_selection_path,\n",
    "    feature_selection_path=dpi_top200_features_path,\n",
    ")\n",
    "del y_dpi200_test"
   ]
  },
  {
   "cell_type": "code",
   "execution_count": 5,
   "metadata": {},
   "outputs": [],
   "source": [
    "X_train_with_dpi_features = X_train.merge(\n",
    "    X_dpi200_train,\n",
    "    how=\"left\",\n",
    "    left_index=True,\n",
    "    right_index=True,\n",
    ")\n",
    "X_test_with_dpi_features = X_test.merge(\n",
    "    X_dpi200_test,\n",
    "    how=\"left\",\n",
    "    left_index=True,\n",
    "    right_index=True,\n",
    ")"
   ]
  },
  {
   "cell_type": "code",
   "execution_count": 6,
   "metadata": {},
   "outputs": [
    {
     "name": "stderr",
     "output_type": "stream",
     "text": [
      "[I 2024-06-26 11:29:04,665] Using an existing study with name 'test_fe_with_dpi_top200_features' instead of creating a new one.\n"
     ]
    },
    {
     "name": "stdout",
     "output_type": "stream",
     "text": [
      "Best hyperparameters:  {'boosting_type': 'gbdt', 'eta': 0.17850812760602092, 'num_leaves': 40, 'min_data_in_leaf': 50, 'feature_fraction': 0.7940659849414571, 'bagging_fraction': 0.8811304163286809, 'bagging_freq': 3, 'lambda_l1': 1.783324288962636, 'lambda_l2': 0.0005565598864854791}\n",
      "Best score:  0.5312704538786196\n"
     ]
    }
   ],
   "source": [
    "# Best hyperparameters:  {'boosting_type': 'gbdt', 'eta': 0.17850812760602092, 'num_leaves': 40, 'min_data_in_leaf': 50, 'feature_fraction': 0.7940659849414571, 'bagging_fraction': 0.8811304163286809, 'bagging_freq': 3, 'lambda_l1': 1.783324288962636, 'lambda_l2': 0.0005565598864854791}\n",
    "# Best score:  0.5312704538786196\n",
    "study_name = \"test_fe_with_dpi_top200_features\"\n",
    "\n",
    "study = project_api.train_lgb(\n",
    "    study_name=study_name,\n",
    "    X_train=X_train_with_dpi_features,\n",
    "    y_train=y_train,\n",
    "    X_test=X_test_with_dpi_features,\n",
    "    y_test=y_test,\n",
    ")\n",
    "del X_train_with_dpi_features\n",
    "del X_test_with_dpi_features"
   ]
  },
  {
   "cell_type": "markdown",
   "metadata": {},
   "source": [
    "## Train model on top features from all datasets\n"
   ]
  },
  {
   "cell_type": "code",
   "execution_count": 7,
   "metadata": {},
   "outputs": [],
   "source": [
    "fe_top75_features = io.read_json(fe_top75_features_path)\n",
    "X_fe75_train = X_train[fe_top75_features]\n",
    "X_fe75_test = X_test[fe_top75_features]"
   ]
  },
  {
   "cell_type": "code",
   "execution_count": 8,
   "metadata": {},
   "outputs": [],
   "source": [
    "# just reuse previous dataset but select only top features\n",
    "X_bnum300_train, y_bnum300_train = bnum.preprocess(\n",
    "    name=\"bnum_initial_train\",\n",
    "    bnum_path=train_bnum_path,\n",
    "    fe_path=train_fe_path,\n",
    "    bnum_selection_path=bnum_selection_path,\n",
    "    feature_selection_path=bnum_top300_features_path,\n",
    ")\n",
    "del y_bnum300_train\n",
    "X_bnum300_test, y_bnum300_test = bnum.preprocess(\n",
    "    name=\"bnum_initial_test\",\n",
    "    bnum_path=test_bnum_path,\n",
    "    fe_path=test_fe_path,\n",
    "    bnum_selection_path=bnum_selection_path,\n",
    "    feature_selection_path=bnum_top300_features_path,\n",
    ")\n",
    "del y_bnum300_test\n"
   ]
  },
  {
   "cell_type": "code",
   "execution_count": 9,
   "metadata": {},
   "outputs": [
    {
     "name": "stdout",
     "output_type": "stream",
     "text": [
      "Train X: (146953, 575)\n",
      "Train y: (146953,)\n",
      "Test X: (44307, 575)\n",
      "Test y: (44307,)\n"
     ]
    }
   ],
   "source": [
    "X_all_train = X_fe75_train.merge(\n",
    "    X_bnum300_train,\n",
    "    how=\"left\",\n",
    "    left_index=True,\n",
    "    right_index=True,\n",
    ").merge(\n",
    "    X_dpi200_train,\n",
    "    how=\"left\",\n",
    "    left_index=True,\n",
    "    right_index=True,\n",
    ")\n",
    "\n",
    "print(f\"Train X: {X_all_train.shape}\")\n",
    "print(f\"Train y: {y_train.shape}\")\n",
    "\n",
    "X_all_test = X_fe75_test.merge(\n",
    "    X_bnum300_test,\n",
    "    how=\"left\",\n",
    "    left_index=True,\n",
    "    right_index=True,\n",
    ").merge(\n",
    "    X_dpi200_test,\n",
    "    how=\"left\",\n",
    "    left_index=True,\n",
    "    right_index=True,\n",
    ")\n",
    "\n",
    "print(f\"Test X: {X_all_test.shape}\")\n",
    "print(f\"Test y: {y_test.shape}\")\n",
    "\n",
    "del X_train\n",
    "del X_fe75_train\n",
    "del X_bnum300_train\n",
    "del X_dpi200_train\n",
    "\n",
    "del X_test\n",
    "del X_fe75_test\n",
    "del X_dpi200_test\n",
    "del X_bnum300_test"
   ]
  },
  {
   "cell_type": "code",
   "execution_count": 10,
   "metadata": {},
   "outputs": [
    {
     "name": "stderr",
     "output_type": "stream",
     "text": [
      "[I 2024-06-26 11:29:11,324] Using an existing study with name 'all_in_one_baseline' instead of creating a new one.\n"
     ]
    },
    {
     "name": "stdout",
     "output_type": "stream",
     "text": [
      "Best hyperparameters:  {'boosting_type': 'gbdt', 'eta': 0.1788056306137465, 'num_leaves': 46, 'min_data_in_leaf': 50, 'feature_fraction': 0.6912219810888475, 'bagging_fraction': 0.981859546023039, 'bagging_freq': 4, 'lambda_l1': 5.279524203599129e-06, 'lambda_l2': 9.244959331553632e-06}\n",
      "Best score:  0.5360552508632948\n"
     ]
    }
   ],
   "source": [
    "# Best hyperparameters:  {'boosting_type': 'gbdt', 'eta': 0.1788056306137465, 'num_leaves': 46, 'min_data_in_leaf': 50, 'feature_fraction': 0.6912219810888475, 'bagging_fraction': 0.981859546023039, 'bagging_freq': 4, 'lambda_l1': 5.279524203599129e-06, 'lambda_l2': 9.244959331553632e-06}\n",
    "# Best score:  0.5360552508632948\n",
    "study_name = \"all_in_one_baseline\"\n",
    "\n",
    "study = project_api.train_lgb(\n",
    "    study_name=study_name,\n",
    "    X_train=X_all_train,\n",
    "    y_train=y_train,\n",
    "    X_test=X_all_test,\n",
    "    y_test=y_test,\n",
    ")"
   ]
  },
  {
   "cell_type": "markdown",
   "metadata": {},
   "source": [
    "## Dataset combination summary\n",
    "\n",
    "| Dataset                                                     | Accuracy | Delta  |\n",
    "| ----------------------------------------------------------- | -------- | ------ |\n",
    "| **baseline**: fe (814 features)                             | 46.99%   | 0      |\n",
    "| bnum (2719 features)                                        | 39.67%   | -7.32% |\n",
    "| dpi (2888 features)                                         | 50.39%   | 3.4%   |\n",
    "| fe (814 features) + bnum (300 features)                     | 48.43%   | 1.44%  |\n",
    "| fe (814 features) + dpi (200 features)                      | 53.13%   | 6.14%  |\n",
    "| fe (75 features) + bnum (300 features) + dpi (200 features) | 53.61%   | 6.62%  |\n"
   ]
  },
  {
   "cell_type": "markdown",
   "metadata": {},
   "source": [
    "## Feature selection"
   ]
  },
  {
   "cell_type": "code",
   "execution_count": 11,
   "metadata": {},
   "outputs": [
    {
     "name": "stdout",
     "output_type": "stream",
     "text": [
      "227 attributes confirmed important: ['lt', 'SUM_of_Volume_kb_814', 'imei_mean_days_usage', 'SUM_of_Volume_kb_254', 'SUM_of_Duration_sec_814', 'SUM_of_Volume_kb_240', 'SUM_of_Count_events_814', 'voice_in_mts_avg_dur_mea_mnt3', 'SUM_of_Count_events_240', 'SUM_of_Duration_sec_240', 'myvf_day_usage', 'imei_mean_long_days_usage', 'imei_mean_day_announced', 'SUM_of_Volume_kb_777', 'Balance_uah', 'voice_in_fix_tar_dur_mea_mnt3', 'TM_ID', 'SUM_of_Count_events_320', 'voice_in_mts_avg_dur_min_mnt3', 'min_paym_6_month', 'imei_max_price', 'SUM_of_Duration_sec_1414', 'conn_out_uniq_cnt_max_mnt3', 'voice_in_cmpttrs_avg_durmea_mnt3', 'conn_out_uniq_cnt_mea_mnt3', 'SUM_of_Duration_sec_1503', 'all_clc_mea_mnt3', 'DNZ_DAYS_from_last_year5', 'Internet', 'SUM_of_Volume_kb_267', 'daily_session_cnt_rate_1020', 'MAX_of_day_cnt_267', 'SUM_of_Count_events_1414', 'imei_mean_price', 'SUM_of_Volume_kb_246', 'conn_in_uniq_cnt_mea_mnt3', 'tsoa_call_cnt', 'loc_market_share', 'DNZ_MAX_days_closed_loan_year5', 'block_all_dur_mea_mnt3', 'SUM_of_Count_events_677', 'conn_in_uniq_cnt_std_mnt3', 'SUM_of_Duration_sec_1119', 'block_all_dur_min_mnt3', 'daily_traffic_rate_254', 'voice_mts_in_nwork_part_mea_mnt3', 'SUM_of_Volume_kb_710', 'SUM_of_Duration_sec_175', 'SUM_of_Volume_kb_1414', 'SUM_of_Duration_sec_897', 'SUM_of_Count_events_1157', 'voice_out_cmpttrs_avg_dumax_mnt3', 'SUM_of_Count_events_2542', 'daily_session_cnt_rate_1373', 'device_days_usage', 'daily_session_cnt_rate_240', 'voice_in_td_cnt_std_mnt3', 'SUM_of_Count_events_267', 'SUM_of_Volume_kb_677', 'non_accum_internet_vol_mea_mnt3', 'MV_Traf_Cont_inc_s_Cnt', 'voice_mts_out_drest_partmea_mnt3', 'MAX_of_day_cnt_1119', 'SUM_of_Duration_sec_1998', 'non_accum_internet_vol_std_mnt3', 'clc_no_vas_roam_std_mnt3', 'DNZ_COUNT_closed_loan_year5', 'SUM_of_Volume_kb_175', 'SUM_of_Volume_kb_897', 'non_accum_internet_vol_max_mnt3', 'daily_session_cnt_rate_1125', 'MAX_of_day_cnt_2555', 'avg_session_sec', 'MAX_of_day_cnt_2010', 'SUM_of_Volume_kb_1119', 'cnt_sms_privatbank', 'device_price', 'SUM_of_Volume_kb_739', 'daily_session_dur_rate_1397', 'SUM_of_Duration_sec_320', 'days_of_end_last_ppm', 'total_bnum', 'voice_out_td_cnt_std_mnt3', 'SUM_of_Volume_kb_948', 'day_end_gba', 'days_of_last_ppm', 'SUM_of_Count_events_819', 'sms_in_cnt_mea_mnt3', 'MAX_of_day_cnt_1523', 'MAX_of_day_cnt_1503', 'voice_out_tar_dur_std_mnt3', 'DNZ_DAYS_from_last_year2', 'SUM_of_Volume_kb_2558', 'tsoa_chat_cnt', 'daily_session_cnt_rate_933', 'voice_out_td_cnt_max_mnt3', 'SUM_of_Volume_kb_829', 'cnt_sms_oschadbank', 'SUM_of_Duration_sec_2542', 'SUM_of_Count_events_381', 'SUM_of_Count_events_739', 'MAX_of_day_cnt_710', 'pay_sum_mea_mnt3', 'SUM_of_Volume_kb_819', 'avg_cnt_sms', 'SUM_of_Duration_sec_267', 'MAX_of_day_cnt_739', 'non_accum_internet_vol_min_mnt1', 'daily_traffic_rate_1314', 'SUM_of_Count_events_246', 'voice_in_td_cnt_mea_mnt3', 'cnt_sms_uklon', 'MAX_of_day_cnt_604', 'device_brand_apple', 'SUM_of_Duration_sec_254', 'daily_session_cnt_rate_2558', 'content_cnt_mea_mnt3', 'clc_no_vas_roam_mea_mnt3', 'conn_out_uniq_cnt_mea_mnt1', 'SUM_of_Volume_kb_2018', 'voice_mts_in_nrest_part_max_mnt3', 'voice_mts_in_drest_part_mea_mnt3', 'cnt_sms_facebook', 'daily_traffic_rate_1503', 'MAX_of_day_cnt_246', 'voice_in_td_cnt_max_mnt3', 'SUM_of_Count_events_1020', 'avg_session_traffic_kb', 'MV_Traf_innet_out_v_Min', 'cnt_sms_pmml', 'voice_mts_in_nwork_part_max_mnt3', 'daily_session_dur_rate_1373', 'SUM_of_Volume_kb_1314', 'daily_session_dur_rate_948', 'SUM_of_Volume_kb_258', 'voice_in_cmpttrs_td_cnt_std_mnt3', 'SUM_of_Duration_sec_1394', 'voice_mts_in_dwork_part_mea_mnt3', 'daily_traffic_rate_814', 'daily_session_cnt_rate_175', 'SUM_of_Count_events_933', 'SUM_of_Count_events_1119', 'daily_traffic_rate_604', 'SUM_of_Volume_kb_381', 'MAX_of_day_cnt_1871', 'non_accum_internet_vol_mea_mnt1', 'daily_session_cnt_rate_2027', 'daily_session_cnt_rate_739', 'daily_session_cnt_rate_884', 'daily_traffic_rate_320', 'SUM_of_Duration_sec_1462', 'SUM_of_Count_events_992', 'voice_mts_in_nrest_part_mea_mnt3', 'avg_daily_session_sec_sum', 'avg_days_per_app', 'SUM_of_Volume_kb_1523', 'cnt_sms_taxi-838', 'device_height_mm', 'device_ios_version', 'SUM_of_Count_events_254', 'cnt_sms_fishka', 'SUM_of_Volume_kb_868', 'SUM_of_Count_events_868', 'SUM_of_Volume_kb_1373', 'SUM_of_Volume_kb_1462', 'SUM_of_Volume_kb_1355', 'cnt_sms_colins', 'MAX_of_day_cnt_829', 'SUM_of_Count_events_1523', 'daily_session_dur_rate_246', 'SUM_of_Count_events_964', 'AMA', 'daily_session_cnt_rate_254', 'voice_in_mts_avg_dur_min_mnt1', 'total_cnt_sms', 'SUM_of_Volume_kb_1298', 'MAX_of_day_cnt_2542', 'daily_session_dur_rate_888', 'daily_session_dur_rate_933', 'daily_session_cnt_rate_829', 'daily_traffic_rate_897', 'DNZ_MIN_days_closed_loan_year5', 'daily_session_dur_rate_546', 'daily_traffic_rate_1399', 'SUM_of_Duration_sec_381', 'cnt_sms_novaposhta', 'daily_session_cnt_rate_1091', 'SUM_of_Duration_sec_992', 'SUM_of_Duration_sec_739', 'total_cnt_sms_in', 'sms_in_cnt_std_mnt3', 'cnt_sms_otp_bank', 'avg_session_cnt_per_app', 'voice_out_td_cnt_mea_mnt3', 'daily_traffic_rate_381', 'SUM_of_Duration_sec_933', 'total_call_dur', 'SUM_of_Volume_kb_882', 'daily_session_cnt_rate_1414', 'daily_session_cnt_rate_847', 'MAX_of_day_cnt_1462', 'SUM_of_Volume_kb_851', 'cnt_sms_microsoft', 'daily_session_cnt_rate_833', 'daily_session_dur_rate_897', 'voice_in_cmpttrs_td_cnt_mea_mnt3', 'SUM_of_Duration_sec_2018', 'cnt_sms_epicentrk', 'cnt_sms_yasno', 'cnt_sms_binance', 'SUM_of_Volume_kb_1400', 'MAX_of_day_cnt_834', 'daily_session_cnt_rate_710', 'SUM_of_Duration_sec_588', 'SUM_of_Volume_kb_257', 'SUM_of_Count_events_690', 'device_width_mm', 'cnt_sms_allo', 'daily_session_cnt_rate_1479', 'cnt_sms_glovo', 'daily_session_dur_rate_868', 'daily_session_cnt_rate_1503', 'SUM_of_Count_events_829', 'SUM_of_Volume_kb_262', 'SUM_of_Duration_sec_1373', 'cnt_sms_moneyveo', 'cnt_sms_infoshina']\n",
      "\n",
      "\n",
      "46 attributes confirmed tentative: ['sms_per_call_cnt', 'SUM_of_Volume_kb_716', 'MAX_of_day_cnt_696', 'SUM_of_Count_events_850', 'daily_traffic_rate_992', 'SUM_of_Count_events_1314', 'SUM_of_Duration_sec_710', 'daily_session_dur_rate_1119', 'SUM_of_Volume_kb_598', 'cnt_sms_un_wfp', 'content_cnt_min_mnt1', 'SUM_of_Duration_sec_546', 'daily_session_cnt_rate_274', 'SUM_of_Count_events_588', 'SUM_of_Count_events_589', 'SUM_of_Duration_sec_677', 'cnt_sms_google', 'daily_traffic_rate_1288', 'daily_session_dur_rate_814', 'SUM_of_Volume_kb_546', 'MAX_of_day_cnt_897', 'total_call_dur_out', 'conn_out_uniq_cnt_mea_wk1', 'daily_session_cnt_rate_1465', 'cnt_sms_raiffeisen', 'avg_daily_session_sec_per_app', 'avg_daily_traffic_kb', 'cnt_sms_rozetka', 'cnt_sms_ukrgasbank', 'daily_session_dur_rate_716', 'avg_call_dur', 'SUM_of_Count_events_1355', 'cnt_sms_pumb', 'avg_daily_session_cnt', 'daily_traffic_rate_1301', 'daily_session_dur_rate_1288', 'SUM_of_Volume_kb_1345', 'cnt_sms_tiktok', 'daily_traffic_rate_1328', 'MV_Traf_Cont_out_s_Cnt', 'daily_session_dur_rate_1472', 'daily_traffic_rate_1523', 'MAX_of_day_cnt_697', 'SUM_of_Count_events_1901', 'SUM_of_Volume_kb_690', 'MAX_of_day_cnt_240']\n",
      "\n",
      "\n",
      "302 attributes confirmed unimportant: ['cnt_sms_humana', 'SUM_of_Count_events_1465', 'cnt_sms_sport_life', 'SUM_of_Count_events_1288', 'cnt_sms_monobank', 'daily_session_dur_rate_1914', 'SUM_of_Volume_kb_1288', 'cnt_sms_luxe96', 'SUM_of_Duration_sec_262', 'avg_session_sec_sum_per_app', 'daily_session_dur_rate_274', 'daily_traffic_rate_257', 'daily_session_cnt_rate_819', 'daily_session_cnt_rate_882', 'cnt_sms_silpo', 'avg_call_dur_out', 'avg_session_bandwidth_kbs', 'daily_session_cnt_rate_964', 'daily_session_cnt_rate_590', 'daily_session_dur_rate_882', 'MAX_of_day_cnt_677', 'SUM_of_Count_events_258', 'cnt_sms_tk_laser', 'daily_traffic_rate_2018', 'daily_session_dur_rate_1365', 'cnt_sms_alfabank', 'cnt_sms_kyivstar', 'SUM_of_Count_events_1339', 'daily_session_cnt_rate_815', 'SUM_of_Duration_sec_1288', 'cnt_sms_steam', 'daily_session_dur_rate_834', 'MAX_of_day_cnt_258', 'cnt_sms_telegram', 'SUM_of_Volume_kb_1901', 'call_dur_1548', 'total_call_cnt', 'daily_traffic_rate_819', 'cnt_sms_discord', 'cnt_sms_wargaming', 'daily_traffic_rate_1472', 'cnt_sms_lazerhouse', 'cnt_sms_ideabank', 'daily_session_dur_rate_588', 'daily_session_cnt_rate_257', 'daily_traffic_rate_1339', 'cnt_sms_eva', 'MAX_of_day_cnt_1345', 'cnt_sms_icu', 'cnt_sms_7104', 'daily_traffic_rate_315', 'cnt_sms_zenly', 'MAX_of_day_cnt_546', 'cnt_sms_varus', 'cnt_sms_meestua', 'cnt_sms_volia', 'MAX_of_day_cnt_588', 'cnt_sms_ukrposhta', 'cnt_sms_egroshicom', 'cnt_sms_maslotom', 'daily_session_dur_rate_1901', 'cnt_sms_insend', 'cnt_sms_unhcrukr', 'cnt_sms_e-health', 'cnt_sms_ml_dila', 'cnt_sms_sumy_regio', 'cnt_sms_277', 'cnt_sms_smartiway', 'MAX_of_day_cnt_716', 'cnt_sms_top_shop', 'cnt_sms_unwfp', 'cnt_sms_vodokanal', 'cnt_sms_foxtrot.ua', 'cnt_sms_easy_cash', 'cnt_sms_academy', 'cnt_sms_pma', 'cnt_sms_posud.biz', 'cnt_sms_skarbnica', 'cnt_sms_pin_wfp', 'cnt_sms_authmsg', 'cnt_sms_triolan', 'cnt_sms_gas.ua', 'call_cnt_380442474040', 'cnt_sms_conference', 'cnt_sms_itbox.ua', 'cnt_sms_cloudotp', 'cnt_sms_cnap_kyiv', 'cnt_sms_epic_games', 'call_cnt_380958788181', 'cnt_sms_bank_vr', 'cnt_sms_vandalvape', 'cnt_sms_275', 'cnt_sms_magic_city', 'cnt_sms_progress', 'cnt_sms_revolut', 'cnt_sms_ranok', 'cnt_sms_tabletki.u', 'cnt_sms_shgroshi', 'cnt_sms_cosmic', 'cnt_sms_pumb_onlin', 'cnt_sms_kyivdigita', 'cnt_sms_leprekon', 'cnt_sms_comfy', 'cnt_sms_10787', 'cnt_sms_goldi', 'cnt_sms_knygarnyay', 'cnt_sms_tinder', 'cnt_sms_obank', 'cnt_sms_aveksteks', 'cnt_sms_eurojob', 'cnt_sms_masterzoo', 'cnt_sms_a-bank', 'total_cnt_sms_out', 'cnt_sms_bi.ua', 'cnt_sms_apteka911', 'cnt_sms_kredobank', 'cnt_sms_sd-servis', 'cnt_sms_okru', 'call_dur_380800210800', 'cnt_sms_zvnk', 'cnt_sms_pmg', 'cnt_sms_myasomarke', 'cnt_sms_termincin', 'cnt_sms_ckasa_ua', 'cnt_sms_prom.ua', 'cnt_sms_wog', 'cnt_sms_akvarel', 'cnt_sms_5010', 'cnt_sms_apple', 'cnt_sms_1020', 'cnt_sms_mycredit', 'call_dur_3700', 'cnt_sms_antoshka', 'cnt_sms_nice_gift', 'cnt_sms_mi_ukraine', 'cnt_sms_agromarket', 'cnt_sms_fielmann', 'cnt_sms_eschool', 'cnt_sms_dg_discount', 'cnt_sms_poliklinik', 'cnt_sms_staff_ukr', 'cnt_sms_tabletki.ua', 'cnt_sms_obnovaeshop', 'cnt_sms_snapchat', 'cnt_sms_liki24.com', 'cnt_sms_ukrtelecom', 'cnt_sms_paypal', 'cnt_sms_sushi_wok', 'cnt_sms_g.country', 'cnt_sms_twitch', 'cnt_sms_zolotoyvek', 'cnt_sms_clickcredi', 'cnt_sms_i_k_r_a', 'cnt_sms_deka', 'cnt_sms_3530', 'cnt_sms_yaposhka', 'cnt_sms_pmp-master', 'cnt_sms_rap.in.ua', 'cnt_sms_multiplexua', 'cnt_sms_bcy', 'cnt_sms_brain.ua', 'cnt_sms_justschool', 'cnt_sms_intelekt', 'cnt_sms_work.ua', 'cnt_sms_gigabit', 'cnt_sms_itstep', 'cnt_sms_bolt', 'cnt_sms_lifecell', 'cnt_sms_centrolab', 'cnt_sms_soscredit', 'cnt_sms_novapay', 'cnt_sms_gifthouse', 'cnt_sms_gascontact', 'cnt_sms_bosushi', 'cnt_sms_eldorado', 'cnt_sms_clickcredit', 'cnt_sms_prof1group', 'cnt_sms_pruscredi', 'cnt_sms_cosmolot', 'cnt_sms_medcard24', 'cnt_sms_verifykit', 'cnt_sms_verify', 'call_cnt_380800210800', 'cnt_sms_kkargo', 'cnt_sms_osport', 'cnt_sms_int-magazin', 'cnt_sms_shellsmart', 'cnt_sms_ontaxi', 'cnt_sms_glo', 'cnt_sms_byteplus', 'cnt_sms_kyivlinza', 'cnt_sms_knygarnyaye', 'cnt_sms_credit_plu', 'cnt_sms_10943', 'cnt_sms_elita', 'cnt_sms_credos_ua', 'cnt_sms_cagricole', 'cnt_sms_oxfordmed', 'cnt_sms_credit_plus', 'cnt_sms_busfor', 'cnt_sms_273', 'cnt_sms_creditexpr', 'cnt_sms_supervira', 'cnt_sms_imo.ua', 'cnt_sms_creditplus', 'cnt_sms_mk_globino', 'cnt_sms_magazin', 'cnt_sms_kuyalnik', 'cnt_sms_whatsapp', 'cnt_sms_xiaomi', 'cnt_sms_twitter', 'cnt_sms_asushi', 'cnt_sms_topmarket', 'cnt_sms_iqos', 'cnt_sms_onecondoms', 'cnt_sms_tascombank', 'cnt_sms_diia', 'cnt_sms_synevo', 'cnt_sms_dpdokument', 'cnt_sms_mdk_lux', 'cnt_sms_monpacie', 'cnt_sms_poltavagaz', 'cnt_sms_zakaz.ua', 'cnt_sms_koek', 'cnt_sms_primocolect', 'call_dur_729', 'cnt_sms_blizzard', 'cnt_sms_well_tell', 'cnt_sms_veantattoo', 'cnt_sms_dobronet', 'cnt_sms_souspizza', 'cnt_sms_hotline', 'cnt_sms_puri_chven', 'cnt_sms_style-lviv', 'cnt_sms_pzu', 'cnt_sms_rock-n-rol', 'cnt_sms_veomini', 'cnt_sms_casemag', 'cnt_sms_sumy_region', 'cnt_sms_weltum', 'cnt_sms_flex', 'cnt_sms_sportlife', 'cnt_sms_bohoyosai', 'cnt_sms_creditdnepr', 'cnt_sms_buki.com.ua', 'cnt_sms_fit4you', 'cnt_sms_homenet.', 'call_dur_380577665104', 'cnt_sms_sushi-poin', 'cnt_sms_shafa.ua', 'cnt_sms_media_goads', 'cnt_sms_bybit', 'cnt_sms_energozbut', 'cnt_sms_zoom', 'cnt_sms_ideyka', 'cnt_sms_poster_pos', 'cnt_sms_anc', 'cnt_sms_itgrand', 'cnt_sms_3585', 'cnt_sms_healthhub', 'cnt_sms_ukreximban', 'cnt_sms_ria.com', 'cnt_sms_budusushi', 'cnt_sms_sisters', 'cnt_sms_maudau', 'cnt_sms_barbershop', 'cnt_sms_fhunt', 'cnt_sms_capital', 'cnt_sms_rivne_isp', 'cnt_sms_odobrenpod0', 'cnt_sms_forwardban', 'cnt_sms_easypay', 'cnt_sms_blago', 'cnt_sms_pret', 'cnt_sms_intertop', 'cnt_sms_eko_market', 'cnt_sms_media_goad', 'cnt_sms_vodafone_ua', 'cnt_sms_planetakin', 'cnt_sms_dominos', 'call_dur_380444900500', 'cnt_sms_money24', 'cnt_sms_medinfo', 'cnt_sms_anix.ua', 'cnt_sms_gift2u', 'call_dur_380445276363', 'cnt_sms_idea_bank', 'cnt_sms_1xbet.com', 'cnt_sms_ta-da.ua', 'cnt_sms_3electra', 'cnt_sms_yandex', 'cnt_sms_7777', 'cnt_sms_3565', 'cnt_sms_frisor', 'cnt_sms_way_for_pay', 'cnt_sms_giftservic', 'cnt_sms_apteka_nc', 'cnt_sms_poltavaban', 'cnt_sms_creditdebt', 'cnt_sms_sudpovistka', 'call_dur_380674660466', 'cnt_sms_e-wings']\n"
     ]
    },
    {
     "data": {
      "text/html": [
       "<div>\n",
       "<style scoped>\n",
       "    .dataframe tbody tr th:only-of-type {\n",
       "        vertical-align: middle;\n",
       "    }\n",
       "\n",
       "    .dataframe tbody tr th {\n",
       "        vertical-align: top;\n",
       "    }\n",
       "\n",
       "    .dataframe thead th {\n",
       "        text-align: right;\n",
       "    }\n",
       "</style>\n",
       "<table border=\"1\" class=\"dataframe\">\n",
       "  <thead>\n",
       "    <tr style=\"text-align: right;\">\n",
       "      <th></th>\n",
       "      <th>Features</th>\n",
       "      <th>Average Feature Importance</th>\n",
       "      <th>Standard Deviation Importance</th>\n",
       "      <th>Decision</th>\n",
       "    </tr>\n",
       "  </thead>\n",
       "  <tbody>\n",
       "    <tr>\n",
       "      <th>0</th>\n",
       "      <td>lt</td>\n",
       "      <td>19.708844</td>\n",
       "      <td>2.917435</td>\n",
       "      <td>Accepted</td>\n",
       "    </tr>\n",
       "    <tr>\n",
       "      <th>1</th>\n",
       "      <td>SUM_of_Volume_kb_814</td>\n",
       "      <td>13.598462</td>\n",
       "      <td>2.249856</td>\n",
       "      <td>Accepted</td>\n",
       "    </tr>\n",
       "    <tr>\n",
       "      <th>2</th>\n",
       "      <td>imei_mean_days_usage</td>\n",
       "      <td>8.243601</td>\n",
       "      <td>1.285403</td>\n",
       "      <td>Accepted</td>\n",
       "    </tr>\n",
       "    <tr>\n",
       "      <th>3</th>\n",
       "      <td>SUM_of_Volume_kb_254</td>\n",
       "      <td>7.473078</td>\n",
       "      <td>1.242717</td>\n",
       "      <td>Accepted</td>\n",
       "    </tr>\n",
       "    <tr>\n",
       "      <th>4</th>\n",
       "      <td>SUM_of_Duration_sec_814</td>\n",
       "      <td>5.491028</td>\n",
       "      <td>0.854473</td>\n",
       "      <td>Accepted</td>\n",
       "    </tr>\n",
       "    <tr>\n",
       "      <th>...</th>\n",
       "      <td>...</td>\n",
       "      <td>...</td>\n",
       "      <td>...</td>\n",
       "      <td>...</td>\n",
       "    </tr>\n",
       "    <tr>\n",
       "      <th>574</th>\n",
       "      <td>call_dur_380674660466</td>\n",
       "      <td>-0.235718</td>\n",
       "      <td>0.000728</td>\n",
       "      <td>Rejected</td>\n",
       "    </tr>\n",
       "    <tr>\n",
       "      <th>575</th>\n",
       "      <td>cnt_sms_e-wings</td>\n",
       "      <td>-0.235718</td>\n",
       "      <td>0.000728</td>\n",
       "      <td>Rejected</td>\n",
       "    </tr>\n",
       "    <tr>\n",
       "      <th>576</th>\n",
       "      <td>Mean_Shadow</td>\n",
       "      <td>-0.249103</td>\n",
       "      <td>0.049691</td>\n",
       "      <td>Shadow</td>\n",
       "    </tr>\n",
       "    <tr>\n",
       "      <th>577</th>\n",
       "      <td>Median_Shadow</td>\n",
       "      <td>-0.256503</td>\n",
       "      <td>0.046306</td>\n",
       "      <td>Shadow</td>\n",
       "    </tr>\n",
       "    <tr>\n",
       "      <th>578</th>\n",
       "      <td>Min_Shadow</td>\n",
       "      <td>-0.269407</td>\n",
       "      <td>0.052870</td>\n",
       "      <td>Shadow</td>\n",
       "    </tr>\n",
       "  </tbody>\n",
       "</table>\n",
       "<p>579 rows × 4 columns</p>\n",
       "</div>"
      ],
      "text/plain": [
       "                    Features  Average Feature Importance  \\\n",
       "0                         lt                   19.708844   \n",
       "1       SUM_of_Volume_kb_814                   13.598462   \n",
       "2       imei_mean_days_usage                    8.243601   \n",
       "3       SUM_of_Volume_kb_254                    7.473078   \n",
       "4    SUM_of_Duration_sec_814                    5.491028   \n",
       "..                       ...                         ...   \n",
       "574    call_dur_380674660466                   -0.235718   \n",
       "575          cnt_sms_e-wings                   -0.235718   \n",
       "576              Mean_Shadow                   -0.249103   \n",
       "577            Median_Shadow                   -0.256503   \n",
       "578               Min_Shadow                   -0.269407   \n",
       "\n",
       "     Standard Deviation Importance  Decision  \n",
       "0                         2.917435  Accepted  \n",
       "1                         2.249856  Accepted  \n",
       "2                         1.285403  Accepted  \n",
       "3                         1.242717  Accepted  \n",
       "4                         0.854473  Accepted  \n",
       "..                             ...       ...  \n",
       "574                       0.000728  Rejected  \n",
       "575                       0.000728  Rejected  \n",
       "576                       0.049691    Shadow  \n",
       "577                       0.046306    Shadow  \n",
       "578                       0.052870    Shadow  \n",
       "\n",
       "[579 rows x 4 columns]"
      ]
     },
     "execution_count": 11,
     "metadata": {},
     "output_type": "execute_result"
    }
   ],
   "source": [
    "from BorutaShap import BorutaShap\n",
    "from lightgbm import LGBMClassifier\n",
    "\n",
    "\n",
    "def calc_boruta():\n",
    "    Feature_Selector = BorutaShap(\n",
    "        importance_measure=\"shap\",\n",
    "        classification=True,\n",
    "        model=LGBMClassifier(\n",
    "            **{\n",
    "                \"boosting_type\": \"gbdt\",\n",
    "                \"eta\": 0.1788056306137465,\n",
    "                \"num_leaves\": 46,\n",
    "                \"min_data_in_leaf\": 50,\n",
    "                \"feature_fraction\": 0.6912219810888475,\n",
    "                \"bagging_fraction\": 0.981859546023039,\n",
    "                \"bagging_freq\": 4,\n",
    "                \"lambda_l1\": 5.279524203599129e-06,\n",
    "                \"lambda_l2\": 9.244959331553632e-06,\n",
    "                \"num_class\": CLASS_NUM,\n",
    "                \"objective\": \"multiclass\",\n",
    "                \"metric\": \"multi_logloss\",\n",
    "                \"seed\": RANDOM_SEED,\n",
    "                \"verbosity\": -1,\n",
    "            }\n",
    "        ),\n",
    "    )\n",
    "\n",
    "    Feature_Selector.fit(\n",
    "        X=X_all_train.fillna(-1),\n",
    "        y=y_train,\n",
    "        # unfortunately the 'test' value does not makes the lib to measure importance\n",
    "        # on test set https://github.com/Ekeany/Boruta-Shap/issues/126\n",
    "        # moreover this lib makes train/test split under the hood so we can not feed\n",
    "        # it with our test set\n",
    "        train_or_test=\"train\",\n",
    "        random_state=RANDOM_SEED,\n",
    "        n_trials=50,\n",
    "    )\n",
    "\n",
    "    Feature_Selector.results_to_csv(\"./data/borutashap_feature_importance\")\n",
    "\n",
    "    return pd.read_csv(\"./data/borutashap_feature_importance.csv\")\n",
    "\n",
    "\n",
    "df_boruta = io.run_cached(\"./data/borutashap_feature_importance.parquet\", calc_boruta)\n",
    "\n",
    "attr_important = df_boruta[df_boruta[\"Decision\"] == \"Accepted\"][\n",
    "    \"Features\"\n",
    "].values.tolist()\n",
    "attr_tentative = df_boruta[df_boruta[\"Decision\"] == \"Tentative\"][\n",
    "    \"Features\"\n",
    "].values.tolist()\n",
    "attr_rejected = df_boruta[df_boruta[\"Decision\"] == \"Rejected\"][\n",
    "    \"Features\"\n",
    "].values.tolist()\n",
    "\n",
    "print(f\"{len(attr_important)} attributes confirmed important: {attr_important}\")\n",
    "print(f\"\\n\\n{len(attr_tentative)} attributes confirmed tentative: {attr_tentative}\")\n",
    "print(f\"\\n\\n{len(attr_rejected)} attributes confirmed unimportant: {attr_rejected}\")\n",
    "\n",
    "df_boruta"
   ]
  },
  {
   "cell_type": "code",
   "execution_count": 12,
   "metadata": {},
   "outputs": [],
   "source": [
    "# Feature_Selector.plot(which_features='all')"
   ]
  },
  {
   "cell_type": "code",
   "execution_count": 13,
   "metadata": {},
   "outputs": [],
   "source": [
    "boruta_features = attr_important\n",
    "boruta_with_tentative = attr_important + attr_tentative"
   ]
  },
  {
   "cell_type": "code",
   "execution_count": 14,
   "metadata": {},
   "outputs": [],
   "source": [
    "def eval_model(\n",
    "    study_name: str,\n",
    "    X_train: pd.DataFrame,\n",
    "    y_train: pd.DataFrame,\n",
    "    X_test: pd.DataFrame,\n",
    "    y_test: pd.DataFrame,\n",
    "    params: dict,\n",
    "):\n",
    "    predict, model = model_lgb.train_multiclass(\n",
    "        X_train=X_train,\n",
    "        y_train=y_train,\n",
    "        X_test=X_test,\n",
    "        y_test=y_test,\n",
    "        params=params,\n",
    "        num_class=CLASS_NUM,\n",
    "        seed=RANDOM_SEED,\n",
    "        name=f\"2024_06_26_{study_name}\" if study_name else None,\n",
    "    )\n",
    "\n",
    "    print(\"Train dataset:\")\n",
    "    project_api.report(\n",
    "        y_test=y_train,\n",
    "        y_pred=predict(X_train),\n",
    "    )\n",
    "\n",
    "    print(\"\\n\\nTest dataset:\")\n",
    "    project_api.report(\n",
    "        y_test=y_test,\n",
    "        y_pred=predict(X_test),\n",
    "    )"
   ]
  },
  {
   "cell_type": "code",
   "execution_count": 15,
   "metadata": {},
   "outputs": [
    {
     "name": "stdout",
     "output_type": "stream",
     "text": [
      "Baseline:\n",
      "Train dataset:\n",
      "Accuracy: 0.6828441746680911\n",
      "\n",
      "\n",
      "Test dataset:\n",
      "Accuracy: 0.5360552508632948\n",
      "\n",
      "\n",
      "Boruta:\n",
      "Train dataset:\n",
      "Accuracy: 0.6791150912196416\n",
      "\n",
      "\n",
      "Test dataset:\n",
      "Accuracy: 0.5296454284875979\n",
      "\n",
      "\n",
      "Boruta with tentative features:\n",
      "Train dataset:\n",
      "Accuracy: 0.6819731478772124\n",
      "\n",
      "\n",
      "Test dataset:\n",
      "Accuracy: 0.5310898955018395\n"
     ]
    }
   ],
   "source": [
    "print(\"Baseline:\")\n",
    "eval_model(\n",
    "    study_name=\"all_in_one_baseline_acc_5361\",\n",
    "    X_train=X_all_train,\n",
    "    y_train=y_train,\n",
    "    X_test=X_all_test,\n",
    "    y_test=y_test,\n",
    "    params=study.best_params,\n",
    ")\n",
    "\n",
    "print(\"\\n\\nBoruta:\")\n",
    "eval_model(\n",
    "    study_name=\"all_in_one_baseline_boruta_acc_5361\",\n",
    "    X_train=X_all_train[boruta_features],\n",
    "    y_train=y_train,\n",
    "    X_test=X_all_test[boruta_features],\n",
    "    y_test=y_test,\n",
    "    params=study.best_params,\n",
    ")\n",
    "\n",
    "print(\"\\n\\nBoruta with tentative features:\")\n",
    "eval_model(\n",
    "    study_name=\"all_in_one_baseline_boruta_w_tentative_acc_5361\",\n",
    "    X_train=X_all_train[boruta_with_tentative],\n",
    "    y_train=y_train,\n",
    "    X_test=X_all_test[boruta_with_tentative],\n",
    "    y_test=y_test,\n",
    "    params=study.best_params,\n",
    ")"
   ]
  },
  {
   "cell_type": "code",
   "execution_count": 16,
   "metadata": {},
   "outputs": [
    {
     "name": "stderr",
     "output_type": "stream",
     "text": [
      "[I 2024-06-26 11:29:28,713] Using an existing study with name 'all_in_one_boruta' instead of creating a new one.\n"
     ]
    },
    {
     "name": "stdout",
     "output_type": "stream",
     "text": [
      "Best hyperparameters:  {'boosting_type': 'dart', 'eta': 0.24512561327347876, 'num_leaves': 57, 'min_data_in_leaf': 65, 'feature_fraction': 0.5, 'bagging_fraction': 0.6000000000000001, 'bagging_freq': 9, 'lambda_l1': 0.0005743588371627974, 'lambda_l2': 0.8829846607784294}\n",
      "Best score:  0.5270499018213827\n"
     ]
    }
   ],
   "source": [
    "# Best hyperparameters:  {'boosting_type': 'dart', 'eta': 0.24512561327347876, 'num_leaves': 57, 'min_data_in_leaf': 65, 'feature_fraction': 0.5, 'bagging_fraction': 0.6000000000000001, 'bagging_freq': 9, 'lambda_l1': 0.0005743588371627974, 'lambda_l2': 0.8829846607784294}\n",
    "# Best score:  0.5270499018213827\n",
    "study_name = \"all_in_one_boruta\"\n",
    "\n",
    "study = project_api.train_lgb(\n",
    "    study_name=study_name,\n",
    "    X_train=X_all_train[boruta_features],\n",
    "    y_train=y_train,\n",
    "    X_test=X_all_test[boruta_features],\n",
    "    y_test=y_test,\n",
    ")"
   ]
  },
  {
   "cell_type": "code",
   "execution_count": 17,
   "metadata": {},
   "outputs": [
    {
     "name": "stdout",
     "output_type": "stream",
     "text": [
      "Boruta:\n",
      "Train dataset:\n",
      "Accuracy: 0.6306165916993869\n",
      "\n",
      "\n",
      "Test dataset:\n",
      "Accuracy: 0.5263502381113594\n"
     ]
    }
   ],
   "source": [
    "print(\"Boruta:\")\n",
    "eval_model(\n",
    "    study_name=\"all_in_one_boruta_acc_5270\",\n",
    "    X_train=X_all_train[boruta_features],\n",
    "    y_train=y_train,\n",
    "    X_test=X_all_test[boruta_features],\n",
    "    y_test=y_test,\n",
    "    params=study.best_params,\n",
    ")"
   ]
  },
  {
   "cell_type": "code",
   "execution_count": 18,
   "metadata": {},
   "outputs": [
    {
     "name": "stderr",
     "output_type": "stream",
     "text": [
      "[I 2024-06-26 11:29:34,036] Using an existing study with name 'all_in_one_boruta_tentative' instead of creating a new one.\n"
     ]
    },
    {
     "name": "stdout",
     "output_type": "stream",
     "text": [
      "Best hyperparameters:  {'boosting_type': 'dart', 'eta': 0.20851366138236294, 'num_leaves': 82, 'min_data_in_leaf': 65, 'feature_fraction': 0.4, 'bagging_fraction': 1.0, 'bagging_freq': 3, 'lambda_l1': 0.0020068560603866297, 'lambda_l2': 8.288993588619931e-06}\n",
      "Best score:  0.5301871036179385\n"
     ]
    }
   ],
   "source": [
    "# Best hyperparameters:  {'boosting_type': 'dart', 'eta': 0.20851366138236294, 'num_leaves': 82, 'min_data_in_leaf': 65, 'feature_fraction': 0.4, 'bagging_fraction': 1.0, 'bagging_freq': 3, 'lambda_l1': 0.0020068560603866297, 'lambda_l2': 8.288993588619931e-06}\n",
    "# Best score:  0.5301871036179385\n",
    "study_name = \"all_in_one_boruta_tentative\"\n",
    "\n",
    "study = project_api.train_lgb(\n",
    "    study_name=study_name,\n",
    "    X_train=X_all_train[boruta_with_tentative],\n",
    "    y_train=y_train,\n",
    "    X_test=X_all_test[boruta_with_tentative],\n",
    "    y_test=y_test,\n",
    ")"
   ]
  },
  {
   "cell_type": "code",
   "execution_count": 19,
   "metadata": {},
   "outputs": [
    {
     "name": "stdout",
     "output_type": "stream",
     "text": [
      "Boruta with tentative features:\n",
      "Train dataset:\n",
      "Accuracy: 0.6635931216103108\n",
      "\n",
      "\n",
      "Test dataset:\n",
      "Accuracy: 0.5291037533572573\n"
     ]
    }
   ],
   "source": [
    "print(\"Boruta with tentative features:\")\n",
    "eval_model(\n",
    "    study_name=\"all_in_one_tentative_acc_5301\",\n",
    "    X_train=X_all_train[boruta_with_tentative],\n",
    "    y_train=y_train,\n",
    "    X_test=X_all_test[boruta_with_tentative],\n",
    "    y_test=y_test,\n",
    "    params=study.best_params,\n",
    ")"
   ]
  },
  {
   "cell_type": "markdown",
   "metadata": {},
   "source": [
    "## Conclusion\n",
    "\n",
    "BorutaShap has shown good results. We have dropped more then a half of features without loosing in accuracy. Tentative features don't show significant impact on the model accuracy so we will drop them too. Unfortunately feature selection haven't give us any help with reducing model overfitting on train set."
   ]
  }
 ],
 "metadata": {
  "kernelspec": {
   "display_name": "Python 3 (ipykernel)",
   "language": "python",
   "name": "python3"
  },
  "language_info": {
   "codemirror_mode": {
    "name": "ipython",
    "version": 3
   },
   "file_extension": ".py",
   "mimetype": "text/x-python",
   "name": "python",
   "nbconvert_exporter": "python",
   "pygments_lexer": "ipython3",
   "version": "3.10.12"
  }
 },
 "nbformat": 4,
 "nbformat_minor": 2
}

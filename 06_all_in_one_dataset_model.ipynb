{
 "cells": [
  {
   "cell_type": "markdown",
   "metadata": {},
   "source": [
    "## Combine fe, bnum and dpi datasets in single model\n",
    "\n",
    "In this notebook we will test how the two datasets fe and dpi work together to train a model.\n",
    "\n",
    "After that we will combine all three datasets together to see how they perform together.\n"
   ]
  },
  {
   "cell_type": "code",
   "execution_count": 1,
   "metadata": {},
   "outputs": [],
   "source": [
    "import pandas as pd\n",
    "from utils import io\n",
    "import project.bnum as bnum\n",
    "import project.dpi as dpi\n",
    "import project.project_api as project_api\n",
    "import utils.model_lgb as model_lgb"
   ]
  },
  {
   "cell_type": "code",
   "execution_count": 2,
   "metadata": {},
   "outputs": [],
   "source": [
    "RANDOM_SEED = 42\n",
    "TARGET_KEY = \"target\"\n",
    "\n",
    "train_fe_path = \"./data/train_fe\"\n",
    "test_fe_path = \"./data/test_fe\"\n",
    "train_bnum_path = \"./data/train_bnum\"\n",
    "test_bnum_path = \"./data/test_bnum\"\n",
    "train_dpi_path = \"./data/train_dpi\"\n",
    "test_dpi_path = \"./data/test_dpi\"\n",
    "fe_top75_features_path = \"./data/fe_top75_features.json\"\n",
    "bnum_selection_path = \"./data/bnum_initial_names.json\"\n",
    "bnum_top300_features_path = \"./data/bnum_top300_features.json\"\n",
    "dpi_selection_path = \"./data/dpi_initial_names.json\"\n",
    "dpi_top200_features_path = \"./data/dpi_top200_features.json\""
   ]
  },
  {
   "cell_type": "markdown",
   "metadata": {},
   "source": [
    "## Check how fe and dpi datasets perform together\n"
   ]
  },
  {
   "cell_type": "markdown",
   "metadata": {},
   "source": [
    "Load `fe` dataset:\n"
   ]
  },
  {
   "cell_type": "code",
   "execution_count": 3,
   "metadata": {},
   "outputs": [
    {
     "name": "stdout",
     "output_type": "stream",
     "text": [
      "Train X: (146953, 815)\n",
      "Train y: (146953,)\n",
      "Test X: (44307, 815)\n",
      "Test y: (44307,)\n"
     ]
    }
   ],
   "source": [
    "df_train = pd.read_parquet(train_fe_path)\n",
    "df_test = pd.read_parquet(test_fe_path)\n",
    "\n",
    "X_train = df_train.drop(columns=[TARGET_KEY])\n",
    "# lgb requires zero-based classes\n",
    "y_train = df_train[TARGET_KEY] - 1\n",
    "del df_train\n",
    "\n",
    "print(f\"Train X: {X_train.shape}\")\n",
    "print(f\"Train y: {y_train.shape}\")\n",
    "\n",
    "X_test = df_test.drop(columns=[TARGET_KEY])\n",
    "# lgb requires zero-based classes\n",
    "y_test = df_test[TARGET_KEY] - 1\n",
    "del df_test\n",
    "\n",
    "print(f\"Test X: {X_test.shape}\")\n",
    "print(f\"Test y: {y_test.shape}\")"
   ]
  },
  {
   "cell_type": "markdown",
   "metadata": {},
   "source": [
    "Load `dpi` dataset:\n"
   ]
  },
  {
   "cell_type": "code",
   "execution_count": 4,
   "metadata": {},
   "outputs": [],
   "source": [
    "# just reuse previous dataset but select only top features\n",
    "X_dpi200_train, y_dpi200_train = dpi.preprocess(\n",
    "    name=\"dpi_initial_train\",\n",
    "    dpi_path=train_dpi_path,\n",
    "    fe_path=train_fe_path,\n",
    "    dpi_selection_path=dpi_selection_path,\n",
    "    feature_selection_path=dpi_top200_features_path,\n",
    ")\n",
    "X_dpi200_test, y_dpi200_test = dpi.preprocess(\n",
    "    name=\"dpi_initial_test\",\n",
    "    dpi_path=test_dpi_path,\n",
    "    fe_path=test_fe_path,\n",
    "    dpi_selection_path=dpi_selection_path,\n",
    "    feature_selection_path=dpi_top200_features_path,\n",
    ")"
   ]
  },
  {
   "cell_type": "code",
   "execution_count": 5,
   "metadata": {},
   "outputs": [],
   "source": [
    "X_train_with_dpi_features = X_train.merge(\n",
    "    X_dpi200_train,\n",
    "    how=\"left\",\n",
    "    left_index=True,\n",
    "    right_index=True,\n",
    ")\n",
    "X_test_with_dpi_features = X_test.merge(\n",
    "    X_dpi200_test,\n",
    "    how=\"left\",\n",
    "    left_index=True,\n",
    "    right_index=True,\n",
    ")"
   ]
  },
  {
   "cell_type": "code",
   "execution_count": 6,
   "metadata": {},
   "outputs": [
    {
     "name": "stderr",
     "output_type": "stream",
     "text": [
      "[I 2024-06-24 20:23:28,596] Using an existing study with name 'test_fe_with_dpi_top200_features' instead of creating a new one.\n"
     ]
    },
    {
     "name": "stdout",
     "output_type": "stream",
     "text": [
      "Best hyperparameters:  {'boosting_type': 'gbdt', 'eta': 0.17850812760602092, 'num_leaves': 40, 'min_data_in_leaf': 50, 'feature_fraction': 0.7940659849414571, 'bagging_fraction': 0.8811304163286809, 'bagging_freq': 3, 'lambda_l1': 1.783324288962636, 'lambda_l2': 0.0005565598864854791}\n",
      "Best score:  0.5312704538786196\n"
     ]
    }
   ],
   "source": [
    "# Best hyperparameters:  {'boosting_type': 'gbdt', 'eta': 0.17850812760602092, 'num_leaves': 40, 'min_data_in_leaf': 50, 'feature_fraction': 0.7940659849414571, 'bagging_fraction': 0.8811304163286809, 'bagging_freq': 3, 'lambda_l1': 1.783324288962636, 'lambda_l2': 0.0005565598864854791}\n",
    "# Best score:  0.5312704538786196\n",
    "study_name = \"test_fe_with_dpi_top200_features\"\n",
    "\n",
    "study = project_api.train_lgb(\n",
    "    study_name=study_name,\n",
    "    X_train=X_train_with_dpi_features,\n",
    "    y_train=y_train,\n",
    "    X_test=X_test_with_dpi_features,\n",
    "    y_test=y_test,\n",
    ")"
   ]
  },
  {
   "cell_type": "markdown",
   "metadata": {},
   "source": [
    "## Train model on top features from all datasets\n"
   ]
  },
  {
   "cell_type": "code",
   "execution_count": 7,
   "metadata": {},
   "outputs": [],
   "source": [
    "fe_top75_features = io.read_json(fe_top75_features_path)\n",
    "X_fe75_train = X_train[fe_top75_features]\n",
    "X_fe75_test = X_test[fe_top75_features]"
   ]
  },
  {
   "cell_type": "code",
   "execution_count": 8,
   "metadata": {},
   "outputs": [],
   "source": [
    "# just reuse previous dataset but select only top features\n",
    "X_bnum300_train, y_bnum300_train = bnum.preprocess(\n",
    "    name=\"bnum_initial_train\",\n",
    "    bnum_path=train_bnum_path,\n",
    "    fe_path=train_fe_path,\n",
    "    bnum_selection_path=bnum_selection_path,\n",
    "    feature_selection_path=bnum_top300_features_path,\n",
    ")\n",
    "X_bnum300_test, y_bnum300_test = bnum.preprocess(\n",
    "    name=\"bnum_initial_test\",\n",
    "    bnum_path=test_bnum_path,\n",
    "    fe_path=test_fe_path,\n",
    "    bnum_selection_path=bnum_selection_path,\n",
    "    feature_selection_path=bnum_top300_features_path,\n",
    ")"
   ]
  },
  {
   "cell_type": "code",
   "execution_count": 9,
   "metadata": {},
   "outputs": [
    {
     "name": "stdout",
     "output_type": "stream",
     "text": [
      "Train X: (146953, 575)\n",
      "Train y: (146953,)\n",
      "Test X: (44307, 575)\n",
      "Test y: (44307,)\n"
     ]
    }
   ],
   "source": [
    "X_all_train = X_fe75_train.merge(\n",
    "    X_bnum300_train,\n",
    "    how=\"left\",\n",
    "    left_index=True,\n",
    "    right_index=True,\n",
    ").merge(\n",
    "    X_dpi200_train,\n",
    "    how=\"left\",\n",
    "    left_index=True,\n",
    "    right_index=True,\n",
    ")\n",
    "\n",
    "print(f\"Train X: {X_all_train.shape}\")\n",
    "print(f\"Train y: {y_train.shape}\")\n",
    "\n",
    "X_all_test = X_fe75_test.merge(\n",
    "    X_bnum300_test,\n",
    "    how=\"left\",\n",
    "    left_index=True,\n",
    "    right_index=True,\n",
    ").merge(\n",
    "    X_dpi200_test,\n",
    "    how=\"left\",\n",
    "    left_index=True,\n",
    "    right_index=True,\n",
    ")\n",
    "\n",
    "print(f\"Test X: {X_all_test.shape}\")\n",
    "print(f\"Test y: {y_test.shape}\")"
   ]
  },
  {
   "cell_type": "code",
   "execution_count": 10,
   "metadata": {},
   "outputs": [
    {
     "name": "stderr",
     "output_type": "stream",
     "text": [
      "[I 2024-06-24 20:23:33,382] Using an existing study with name 'all_in_one_baseline' instead of creating a new one.\n",
      "[I 2024-06-24 20:23:34,483] Trial 5 pruned. \n",
      "[I 2024-06-24 20:23:35,303] Trial 6 pruned. \n",
      "[I 2024-06-24 20:23:36,077] Trial 7 pruned. \n",
      "[I 2024-06-24 20:23:37,750] Trial 8 pruned. \n",
      "/home/sleepwalker/.local/lib/python3.10/site-packages/lightgbm/callback.py:325: UserWarning: Early stopping is not available in dart mode\n",
      "  _log_warning('Early stopping is not available in dart mode')\n",
      "[I 2024-06-24 20:36:00,675] Trial 9 finished with value: 0.26639131514207687 and parameters: {'boosting_type': 'dart', 'eta': 1.8841183049085085e-08, 'num_leaves': 46, 'min_data_in_leaf': 10, 'feature_fraction': 0.7975133706123891, 'bagging_fraction': 0.5870266456536466, 'bagging_freq': 4, 'lambda_l1': 0.0008325158565947976, 'lambda_l2': 4.609885087947832e-07}. Best is trial 1 with value: 0.4680073126142596.\n",
      "[I 2024-06-24 20:36:25,287] Trial 10 finished with value: 0.5071884803755614 and parameters: {'boosting_type': 'gbdt', 'eta': 0.32808889626606236, 'num_leaves': 45, 'min_data_in_leaf': 30, 'feature_fraction': 0.9531245410138701, 'bagging_fraction': 0.4530955012311517, 'bagging_freq': 2, 'lambda_l1': 2.5529693461039728e-08, 'lambda_l2': 8.471746987003668e-06}. Best is trial 10 with value: 0.5071884803755614.\n",
      "[I 2024-06-24 20:36:44,246] Trial 11 finished with value: 0.26639131514207687 and parameters: {'boosting_type': 'gbdt', 'eta': 0.0002224358947843201, 'num_leaves': 2, 'min_data_in_leaf': 40, 'feature_fraction': 0.9902936224449548, 'bagging_fraction': 0.8742082803631225, 'bagging_freq': 2, 'lambda_l1': 1.2528830840980533e-08, 'lambda_l2': 3.3316309468938328}. Best is trial 10 with value: 0.5071884803755614.\n",
      "/home/sleepwalker/.local/lib/python3.10/site-packages/lightgbm/callback.py:325: UserWarning: Early stopping is not available in dart mode\n",
      "  _log_warning('Early stopping is not available in dart mode')\n",
      "[I 2024-06-24 20:37:33,084] Trial 12 finished with value: 0.5003724016521092 and parameters: {'boosting_type': 'dart', 'eta': 0.9140575685680246, 'num_leaves': 38, 'min_data_in_leaf': 30, 'feature_fraction': 0.6444790214789944, 'bagging_fraction': 0.7072364878471147, 'bagging_freq': 2, 'lambda_l1': 2.7573038798300733e-07, 'lambda_l2': 3.443815693731446e-06}. Best is trial 10 with value: 0.5071884803755614.\n",
      "[I 2024-06-24 20:37:49,618] Trial 13 finished with value: 0.5005755298259869 and parameters: {'boosting_type': 'gbdt', 'eta': 0.6047929317695572, 'num_leaves': 39, 'min_data_in_leaf': 30, 'feature_fraction': 0.6468188524748539, 'bagging_fraction': 0.7717070109060264, 'bagging_freq': 2, 'lambda_l1': 2.005732281713045e-08, 'lambda_l2': 2.468062672030458e-06}. Best is trial 10 with value: 0.5071884803755614.\n",
      "[I 2024-06-24 20:38:05,492] Trial 14 finished with value: 0.49276638003024353 and parameters: {'boosting_type': 'gbdt', 'eta': 0.8351258647365892, 'num_leaves': 40, 'min_data_in_leaf': 30, 'feature_fraction': 0.6501547649965003, 'bagging_fraction': 0.782017556744134, 'bagging_freq': 2, 'lambda_l1': 1.6857902323857248, 'lambda_l2': 0.0063396191326126295}. Best is trial 10 with value: 0.5071884803755614.\n",
      "[I 2024-06-24 20:39:29,809] Trial 15 finished with value: 0.26639131514207687 and parameters: {'boosting_type': 'gbdt', 'eta': 0.0004111138829367445, 'num_leaves': 40, 'min_data_in_leaf': 40, 'feature_fraction': 0.7064258061484923, 'bagging_fraction': 0.9402334264537222, 'bagging_freq': 3, 'lambda_l1': 5.760323469980256e-07, 'lambda_l2': 0.0005258232499331927}. Best is trial 10 with value: 0.5071884803755614.\n",
      "[I 2024-06-24 20:40:18,737] Trial 16 finished with value: 0.5305030807773038 and parameters: {'boosting_type': 'gbdt', 'eta': 0.09493743787091864, 'num_leaves': 35, 'min_data_in_leaf': 40, 'feature_fraction': 0.7334066717166675, 'bagging_fraction': 0.7753849725728215, 'bagging_freq': 3, 'lambda_l1': 1.1159643793717816e-08, 'lambda_l2': 3.379139484299558e-07}. Best is trial 16 with value: 0.5305030807773038.\n",
      "[I 2024-06-24 20:41:13,767] Trial 17 finished with value: 0.5134177443744781 and parameters: {'boosting_type': 'gbdt', 'eta': 0.043870778774592264, 'num_leaves': 31, 'min_data_in_leaf': 40, 'feature_fraction': 0.976171308901949, 'bagging_fraction': 0.6825323841321655, 'bagging_freq': 6, 'lambda_l1': 2.133085580740013e-06, 'lambda_l2': 2.1288946871110277e-07}. Best is trial 16 with value: 0.5305030807773038.\n",
      "[I 2024-06-24 20:42:00,339] Trial 18 finished with value: 0.26860315525763423 and parameters: {'boosting_type': 'gbdt', 'eta': 0.0012358707922697978, 'num_leaves': 29, 'min_data_in_leaf': 40, 'feature_fraction': 0.7609188414954632, 'bagging_fraction': 0.7061729043558911, 'bagging_freq': 6, 'lambda_l1': 2.043442636576258e-06, 'lambda_l2': 1.7442720281842835e-07}. Best is trial 16 with value: 0.5305030807773038.\n",
      "[I 2024-06-24 20:42:41,447] Trial 19 finished with value: 0.26639131514207687 and parameters: {'boosting_type': 'gbdt', 'eta': 2.7682257718676295e-05, 'num_leaves': 34, 'min_data_in_leaf': 50, 'feature_fraction': 0.4334058577145497, 'bagging_fraction': 0.8476829858837607, 'bagging_freq': 6, 'lambda_l1': 4.519776673542298e-06, 'lambda_l2': 1.797036815992328e-07}. Best is trial 16 with value: 0.5305030807773038.\n",
      "[I 2024-06-24 20:43:27,746] Trial 20 finished with value: 0.5049766402600041 and parameters: {'boosting_type': 'gbdt', 'eta': 0.03954192464853671, 'num_leaves': 24, 'min_data_in_leaf': 40, 'feature_fraction': 0.5817133886507502, 'bagging_fraction': 0.9953704826719892, 'bagging_freq': 5, 'lambda_l1': 1.6350605627683517e-07, 'lambda_l2': 2.3645263800806027e-08}. Best is trial 16 with value: 0.5305030807773038.\n",
      "[I 2024-06-24 20:44:08,296] Trial 21 finished with value: 0.26639131514207687 and parameters: {'boosting_type': 'gbdt', 'eta': 2.094637841273866e-05, 'num_leaves': 21, 'min_data_in_leaf': 40, 'feature_fraction': 0.7957852221629148, 'bagging_fraction': 0.6588227231904159, 'bagging_freq': 5, 'lambda_l1': 1.4063539430414165e-05, 'lambda_l2': 8.80207501426475}. Best is trial 16 with value: 0.5305030807773038.\n",
      "[I 2024-06-24 20:45:12,375] Trial 22 finished with value: 0.530683639154084 and parameters: {'boosting_type': 'gbdt', 'eta': 0.12840013670854014, 'num_leaves': 44, 'min_data_in_leaf': 30, 'feature_fraction': 0.9840574846170953, 'bagging_fraction': 0.7789498836948554, 'bagging_freq': 3, 'lambda_l1': 6.42909549105307e-08, 'lambda_l2': 6.023498820826233e-07}. Best is trial 22 with value: 0.530683639154084.\n",
      "[I 2024-06-24 20:46:15,479] Trial 23 finished with value: 0.4336109418376329 and parameters: {'boosting_type': 'gbdt', 'eta': 0.004944328498147382, 'num_leaves': 36, 'min_data_in_leaf': 20, 'feature_fraction': 0.9558735034194038, 'bagging_fraction': 0.772638468994362, 'bagging_freq': 3, 'lambda_l1': 8.317793966720701e-08, 'lambda_l2': 4.7074974045764387e-07}. Best is trial 22 with value: 0.530683639154084.\n",
      "[I 2024-06-24 20:47:27,869] Trial 24 finished with value: 0.5309544767192543 and parameters: {'boosting_type': 'gbdt', 'eta': 0.13075290775585605, 'num_leaves': 43, 'min_data_in_leaf': 40, 'feature_fraction': 0.9280157408336129, 'bagging_fraction': 0.8402953338985931, 'bagging_freq': 3, 'lambda_l1': 6.752208888651644e-07, 'lambda_l2': 2.2058346819986014e-05}. Best is trial 24 with value: 0.5309544767192543.\n",
      "[I 2024-06-24 20:48:23,363] Trial 25 finished with value: 0.5289457647775746 and parameters: {'boosting_type': 'gbdt', 'eta': 0.224360169581061, 'num_leaves': 43, 'min_data_in_leaf': 30, 'feature_fraction': 0.9301582788256362, 'bagging_fraction': 0.8397930298739944, 'bagging_freq': 3, 'lambda_l1': 4.245518334276843e-08, 'lambda_l2': 3.802826562563861e-05}. Best is trial 24 with value: 0.5309544767192543.\n",
      "[I 2024-06-24 20:49:22,883] Trial 26 finished with value: 0.5355135757329541 and parameters: {'boosting_type': 'gbdt', 'eta': 0.13263725736559248, 'num_leaves': 43, 'min_data_in_leaf': 50, 'feature_fraction': 0.8246974337315797, 'bagging_fraction': 0.8975131114231905, 'bagging_freq': 3, 'lambda_l1': 4.4502715799300094e-07, 'lambda_l2': 0.0008670684447890539}. Best is trial 26 with value: 0.5355135757329541.\n",
      "[I 2024-06-24 20:50:30,302] Trial 27 finished with value: 0.28577877084885006 and parameters: {'boosting_type': 'gbdt', 'eta': 0.001472917902937092, 'num_leaves': 42, 'min_data_in_leaf': 50, 'feature_fraction': 0.8385999138564093, 'bagging_fraction': 0.9062262935160419, 'bagging_freq': 3, 'lambda_l1': 6.425851629223115e-07, 'lambda_l2': 0.0013658322357601928}. Best is trial 26 with value: 0.5355135757329541.\n",
      "[I 2024-06-24 20:51:49,361] Trial 28 finished with value: 0.4823617035682849 and parameters: {'boosting_type': 'gbdt', 'eta': 0.01245885230900576, 'num_leaves': 49, 'min_data_in_leaf': 50, 'feature_fraction': 0.9225145241156752, 'bagging_fraction': 0.9649740246103082, 'bagging_freq': 5, 'lambda_l1': 8.828147767423542e-06, 'lambda_l2': 0.7498650945882482}. Best is trial 26 with value: 0.5355135757329541.\n",
      "[I 2024-06-24 20:53:05,345] Trial 29 finished with value: 0.5316767102263751 and parameters: {'boosting_type': 'gbdt', 'eta': 0.12519405920718632, 'num_leaves': 50, 'min_data_in_leaf': 50, 'feature_fraction': 0.8265296260682006, 'bagging_fraction': 0.8203160178750943, 'bagging_freq': 3, 'lambda_l1': 4.0015668451014825e-05, 'lambda_l2': 2.7662828048996586e-05}. Best is trial 26 with value: 0.5355135757329541.\n",
      "/home/sleepwalker/.local/lib/python3.10/site-packages/lightgbm/callback.py:325: UserWarning: Early stopping is not available in dart mode\n",
      "  _log_warning('Early stopping is not available in dart mode')\n",
      "[I 2024-06-24 20:54:20,815] Trial 30 finished with value: 0.45906967296364004 and parameters: {'boosting_type': 'dart', 'eta': 0.009561906809648477, 'num_leaves': 50, 'min_data_in_leaf': 50, 'feature_fraction': 0.8007665094644671, 'bagging_fraction': 0.8280023469636695, 'bagging_freq': 1, 'lambda_l1': 3.762817262535499e-05, 'lambda_l2': 0.00217323478661751}. Best is trial 26 with value: 0.5355135757329541.\n",
      "[I 2024-06-24 20:55:29,495] Trial 31 finished with value: 0.3509152052723046 and parameters: {'boosting_type': 'gbdt', 'eta': 0.002183207289686038, 'num_leaves': 46, 'min_data_in_leaf': 50, 'feature_fraction': 0.8169954712885058, 'bagging_fraction': 0.8990655329371612, 'bagging_freq': 3, 'lambda_l1': 0.00023614655727197988, 'lambda_l2': 0.10469602407064042}. Best is trial 26 with value: 0.5355135757329541.\n",
      "[I 2024-06-24 20:56:31,306] Trial 32 finished with value: 0.5309319069221567 and parameters: {'boosting_type': 'gbdt', 'eta': 0.10872427353569361, 'num_leaves': 43, 'min_data_in_leaf': 40, 'feature_fraction': 0.9101116615644224, 'bagging_fraction': 0.8154406805219739, 'bagging_freq': 3, 'lambda_l1': 9.35449453168268e-07, 'lambda_l2': 2.1339505628724007e-05}. Best is trial 26 with value: 0.5355135757329541.\n",
      "[I 2024-06-24 20:57:38,009] Trial 33 finished with value: 0.49764145620330874 and parameters: {'boosting_type': 'gbdt', 'eta': 0.0218851247886513, 'num_leaves': 42, 'min_data_in_leaf': 50, 'feature_fraction': 0.9246814051391823, 'bagging_fraction': 0.8122724920863149, 'bagging_freq': 2, 'lambda_l1': 9.137370908995398e-07, 'lambda_l2': 3.064228433430844e-05}. Best is trial 26 with value: 0.5355135757329541.\n",
      "[I 2024-06-24 20:58:37,819] Trial 34 finished with value: 0.530209673415036 and parameters: {'boosting_type': 'gbdt', 'eta': 0.18468731467148014, 'num_leaves': 50, 'min_data_in_leaf': 40, 'feature_fraction': 0.8357507730632086, 'bagging_fraction': 0.8872501404267586, 'bagging_freq': 3, 'lambda_l1': 5.1998117470614075e-06, 'lambda_l2': 0.0002495346832039776}. Best is trial 26 with value: 0.5355135757329541.\n",
      "[I 2024-06-24 20:59:35,628] Trial 35 finished with value: 0.5326246417044711 and parameters: {'boosting_type': 'gbdt', 'eta': 0.13704092249785477, 'num_leaves': 46, 'min_data_in_leaf': 50, 'feature_fraction': 0.7570249413044001, 'bagging_fraction': 0.9333006563672711, 'bagging_freq': 4, 'lambda_l1': 1.79358160084383e-05, 'lambda_l2': 2.3058030524005834e-05}. Best is trial 26 with value: 0.5355135757329541.\n",
      "/home/sleepwalker/.local/lib/python3.10/site-packages/lightgbm/callback.py:325: UserWarning: Early stopping is not available in dart mode\n",
      "  _log_warning('Early stopping is not available in dart mode')\n",
      "[I 2024-06-24 21:00:51,327] Trial 36 finished with value: 0.4779154535400727 and parameters: {'boosting_type': 'dart', 'eta': 0.022406694353905975, 'num_leaves': 47, 'min_data_in_leaf': 50, 'feature_fraction': 0.755507762553513, 'bagging_fraction': 0.9394068499548028, 'bagging_freq': 4, 'lambda_l1': 3.052432096354745e-05, 'lambda_l2': 0.0001622674150449319}. Best is trial 26 with value: 0.5355135757329541.\n",
      "[I 2024-06-24 21:01:48,823] Trial 37 finished with value: 0.406098359175751 and parameters: {'boosting_type': 'gbdt', 'eta': 0.004089779227658497, 'num_leaves': 27, 'min_data_in_leaf': 50, 'feature_fraction': 0.8619743280087492, 'bagging_fraction': 0.99943881847449, 'bagging_freq': 4, 'lambda_l1': 1.6303309261226694e-05, 'lambda_l2': 0.0009630404894427542}. Best is trial 26 with value: 0.5355135757329541.\n",
      "[I 2024-06-24 21:02:20,388] Trial 38 finished with value: 0.5252894576477758 and parameters: {'boosting_type': 'gbdt', 'eta': 0.368160654410502, 'num_leaves': 37, 'min_data_in_leaf': 50, 'feature_fraction': 0.7676116405325878, 'bagging_fraction': 0.9372454889108385, 'bagging_freq': 5, 'lambda_l1': 0.000327279577400391, 'lambda_l2': 0.008715040653705916}. Best is trial 26 with value: 0.5355135757329541.\n",
      "/home/sleepwalker/.local/lib/python3.10/site-packages/lightgbm/callback.py:325: UserWarning: Early stopping is not available in dart mode\n",
      "  _log_warning('Early stopping is not available in dart mode')\n",
      "[I 2024-06-24 21:03:34,622] Trial 39 finished with value: 0.49865709707269734 and parameters: {'boosting_type': 'dart', 'eta': 0.06574731769126639, 'num_leaves': 33, 'min_data_in_leaf': 0, 'feature_fraction': 0.7158135047910396, 'bagging_fraction': 0.736935541882985, 'bagging_freq': 4, 'lambda_l1': 0.00026464153772406257, 'lambda_l2': 1.2282279797520214e-05}. Best is trial 26 with value: 0.5355135757329541.\n",
      "[I 2024-06-24 21:04:10,344] Trial 40 finished with value: 0.26639131514207687 and parameters: {'boosting_type': 'gbdt', 'eta': 1.4089399603700425e-06, 'num_leaves': 11, 'min_data_in_leaf': 50, 'feature_fraction': 0.8505231478909017, 'bagging_fraction': 0.8597649889620607, 'bagging_freq': 4, 'lambda_l1': 7.883068202579476e-05, 'lambda_l2': 6.658205049423914e-05}. Best is trial 26 with value: 0.5355135757329541.\n",
      "[I 2024-06-24 21:05:11,991] Trial 41 finished with value: 0.26639131514207687 and parameters: {'boosting_type': 'gbdt', 'eta': 3.014327116647346e-07, 'num_leaves': 45, 'min_data_in_leaf': 40, 'feature_fraction': 0.6763935781153876, 'bagging_fraction': 0.918134701021555, 'bagging_freq': 4, 'lambda_l1': 0.011918981812919009, 'lambda_l2': 0.00028576671840931377}. Best is trial 26 with value: 0.5355135757329541.\n",
      "[I 2024-06-24 21:06:10,642] Trial 42 finished with value: 0.5316767102263751 and parameters: {'boosting_type': 'gbdt', 'eta': 0.1395356428821528, 'num_leaves': 42, 'min_data_in_leaf': 40, 'feature_fraction': 0.8922397043007413, 'bagging_fraction': 0.8099389335648075, 'bagging_freq': 3, 'lambda_l1': 2.2747947939636616e-06, 'lambda_l2': 1.9275987521468896e-05}. Best is trial 26 with value: 0.5355135757329541.\n",
      "[I 2024-06-24 21:06:49,249] Trial 43 finished with value: 0.5219039880831471 and parameters: {'boosting_type': 'gbdt', 'eta': 0.3101279043190196, 'num_leaves': 47, 'min_data_in_leaf': 50, 'feature_fraction': 0.8986097919525537, 'bagging_fraction': 0.8719993222495765, 'bagging_freq': 3, 'lambda_l1': 1.9174283518209885e-06, 'lambda_l2': 1.456120871910454e-06}. Best is trial 26 with value: 0.5355135757329541.\n",
      "[I 2024-06-24 21:07:51,053] Trial 44 finished with value: 0.4947525221748256 and parameters: {'boosting_type': 'gbdt', 'eta': 0.020464810743523243, 'num_leaves': 40, 'min_data_in_leaf': 50, 'feature_fraction': 0.8251094613551107, 'bagging_fraction': 0.8082419206241575, 'bagging_freq': 2, 'lambda_l1': 2.8281540035667803e-07, 'lambda_l2': 1.2331065887582402e-05}. Best is trial 26 with value: 0.5355135757329541.\n",
      "[I 2024-06-24 21:08:53,107] Trial 45 finished with value: 0.5219039880831471 and parameters: {'boosting_type': 'gbdt', 'eta': 0.053974260919911206, 'num_leaves': 48, 'min_data_in_leaf': 40, 'feature_fraction': 0.8945387242749848, 'bagging_fraction': 0.6356010538600335, 'bagging_freq': 4, 'lambda_l1': 6.456394432328505e-05, 'lambda_l2': 8.515939539486055e-05}. Best is trial 26 with value: 0.5355135757329541.\n",
      "/home/sleepwalker/.local/lib/python3.10/site-packages/lightgbm/callback.py:325: UserWarning: Early stopping is not available in dart mode\n",
      "  _log_warning('Early stopping is not available in dart mode')\n",
      "[I 2024-06-24 21:10:01,279] Trial 46 finished with value: 0.5323538041393008 and parameters: {'boosting_type': 'dart', 'eta': 0.4158239419068827, 'num_leaves': 41, 'min_data_in_leaf': 50, 'feature_fraction': 0.7833163993573687, 'bagging_fraction': 0.9625972580712738, 'bagging_freq': 3, 'lambda_l1': 3.767038412231925e-06, 'lambda_l2': 5.9871786088218426e-06}. Best is trial 26 with value: 0.5355135757329541.\n",
      "/home/sleepwalker/.local/lib/python3.10/site-packages/lightgbm/callback.py:325: UserWarning: Early stopping is not available in dart mode\n",
      "  _log_warning('Early stopping is not available in dart mode')\n",
      "[I 2024-06-24 21:11:07,827] Trial 47 finished with value: 0.5162841086058636 and parameters: {'boosting_type': 'dart', 'eta': 0.9067861792301748, 'num_leaves': 41, 'min_data_in_leaf': 50, 'feature_fraction': 0.7864259425907213, 'bagging_fraction': 0.9835160372536718, 'bagging_freq': 2, 'lambda_l1': 2.038089887057209, 'lambda_l2': 6.895635945658592e-06}. Best is trial 26 with value: 0.5355135757329541.\n",
      "/home/sleepwalker/.local/lib/python3.10/site-packages/lightgbm/callback.py:325: UserWarning: Early stopping is not available in dart mode\n",
      "  _log_warning('Early stopping is not available in dart mode')\n",
      "[I 2024-06-24 21:12:23,850] Trial 48 finished with value: 0.5245672241406549 and parameters: {'boosting_type': 'dart', 'eta': 0.5870486675826595, 'num_leaves': 38, 'min_data_in_leaf': 50, 'feature_fraction': 0.8668166985363299, 'bagging_fraction': 0.960995692802216, 'bagging_freq': 2, 'lambda_l1': 0.33352419262544214, 'lambda_l2': 1.6553415736184302e-06}. Best is trial 26 with value: 0.5355135757329541.\n",
      "/home/sleepwalker/.local/lib/python3.10/site-packages/lightgbm/callback.py:325: UserWarning: Early stopping is not available in dart mode\n",
      "  _log_warning('Early stopping is not available in dart mode')\n",
      "[I 2024-06-24 21:13:35,982] Trial 49 finished with value: 0.530254813009231 and parameters: {'boosting_type': 'dart', 'eta': 0.2857161361714405, 'num_leaves': 46, 'min_data_in_leaf': 10, 'feature_fraction': 0.7341358836830325, 'bagging_fraction': 0.9227272601063243, 'bagging_freq': 1, 'lambda_l1': 4.725083817908443e-06, 'lambda_l2': 0.0029879433490863742}. Best is trial 26 with value: 0.5355135757329541.\n",
      "/home/sleepwalker/.local/lib/python3.10/site-packages/lightgbm/callback.py:325: UserWarning: Early stopping is not available in dart mode\n",
      "  _log_warning('Early stopping is not available in dart mode')\n",
      "[I 2024-06-24 21:14:46,318] Trial 50 finished with value: 0.4797210373078746 and parameters: {'boosting_type': 'dart', 'eta': 0.021606259933617693, 'num_leaves': 50, 'min_data_in_leaf': 20, 'feature_fraction': 0.6746549694247824, 'bagging_fraction': 0.7425740282736982, 'bagging_freq': 4, 'lambda_l1': 0.0006981147005472673, 'lambda_l2': 4.941108193996311e-06}. Best is trial 26 with value: 0.5355135757329541.\n",
      "/home/sleepwalker/.local/lib/python3.10/site-packages/lightgbm/callback.py:325: UserWarning: Early stopping is not available in dart mode\n",
      "  _log_warning('Early stopping is not available in dart mode')\n",
      "[I 2024-06-24 21:15:49,372] Trial 51 finished with value: 0.5294423003137202 and parameters: {'boosting_type': 'dart', 'eta': 0.4562365908897075, 'num_leaves': 32, 'min_data_in_leaf': 50, 'feature_fraction': 0.7794798242076573, 'bagging_fraction': 0.959398724821602, 'bagging_freq': 3, 'lambda_l1': 9.314907133645572e-05, 'lambda_l2': 0.0005840657920370235}. Best is trial 26 with value: 0.5355135757329541.\n",
      "[I 2024-06-24 21:16:50,807] Trial 52 finished with value: 0.5331211772406166 and parameters: {'boosting_type': 'gbdt', 'eta': 0.1285964524366015, 'num_leaves': 45, 'min_data_in_leaf': 40, 'feature_fraction': 0.8764348283538125, 'bagging_fraction': 0.883061871115287, 'bagging_freq': 3, 'lambda_l1': 1.8149003389940474e-07, 'lambda_l2': 4.516869550317678e-05}. Best is trial 26 with value: 0.5355135757329541.\n",
      "[I 2024-06-24 21:17:56,349] Trial 53 finished with value: 0.5180671225765681 and parameters: {'boosting_type': 'gbdt', 'eta': 0.04553624038082267, 'num_leaves': 45, 'min_data_in_leaf': 40, 'feature_fraction': 0.8117245467920136, 'bagging_fraction': 0.8898631348168451, 'bagging_freq': 3, 'lambda_l1': 2.0103241335366867e-07, 'lambda_l2': 0.00011066930538912305}. Best is trial 26 with value: 0.5355135757329541.\n",
      "/home/sleepwalker/.local/lib/python3.10/site-packages/lightgbm/callback.py:325: UserWarning: Early stopping is not available in dart mode\n",
      "  _log_warning('Early stopping is not available in dart mode')\n",
      "[I 2024-06-24 21:19:18,937] Trial 54 finished with value: 0.510528810345995 and parameters: {'boosting_type': 'dart', 'eta': 0.09049934629515576, 'num_leaves': 48, 'min_data_in_leaf': 50, 'feature_fraction': 0.8746628776260816, 'bagging_fraction': 0.8818206286385928, 'bagging_freq': 4, 'lambda_l1': 2.318327509210398e-06, 'lambda_l2': 1.171282567167457e-06}. Best is trial 26 with value: 0.5355135757329541.\n",
      "[I 2024-06-24 21:20:08,795] Trial 55 finished with value: 0.5353104475590764 and parameters: {'boosting_type': 'gbdt', 'eta': 0.16585747223081354, 'num_leaves': 38, 'min_data_in_leaf': 40, 'feature_fraction': 0.7446601597669449, 'bagging_fraction': 0.8587601701941999, 'bagging_freq': 3, 'lambda_l1': 2.0826499913533733e-05, 'lambda_l2': 4.346577948916771e-05}. Best is trial 26 with value: 0.5355135757329541.\n",
      "[I 2024-06-24 21:21:18,829] Trial 56 finished with value: 0.26639131514207687 and parameters: {'boosting_type': 'gbdt', 'eta': 0.0005230131042629567, 'num_leaves': 38, 'min_data_in_leaf': 30, 'feature_fraction': 0.716653656731337, 'bagging_fraction': 0.8578619204288729, 'bagging_freq': 2, 'lambda_l1': 2.071922888117455e-05, 'lambda_l2': 5.4941185239230985e-05}. Best is trial 26 with value: 0.5355135757329541.\n",
      "[I 2024-06-24 21:21:39,024] Trial 57 finished with value: 0.49757374681201616 and parameters: {'boosting_type': 'gbdt', 'eta': 0.9788085486855177, 'num_leaves': 15, 'min_data_in_leaf': 50, 'feature_fraction': 0.7568865243190293, 'bagging_fraction': 0.9691942729145513, 'bagging_freq': 2, 'lambda_l1': 8.590353607854451e-06, 'lambda_l2': 0.0005154855823539725}. Best is trial 26 with value: 0.5355135757329541.\n",
      "[I 2024-06-24 21:22:06,918] Trial 58 finished with value: 0.5174125984607398 and parameters: {'boosting_type': 'gbdt', 'eta': 0.23765776641281602, 'num_leaves': 36, 'min_data_in_leaf': 40, 'feature_fraction': 0.6969172311483744, 'bagging_fraction': 0.40847050818723046, 'bagging_freq': 3, 'lambda_l1': 1.3689035664910535e-07, 'lambda_l2': 5.104643449853936e-06}. Best is trial 26 with value: 0.5355135757329541.\n",
      "/home/sleepwalker/.local/lib/python3.10/site-packages/lightgbm/callback.py:325: UserWarning: Early stopping is not available in dart mode\n",
      "  _log_warning('Early stopping is not available in dart mode')\n",
      "[I 2024-06-24 21:23:10,409] Trial 59 finished with value: 0.4434513733721534 and parameters: {'boosting_type': 'dart', 'eta': 0.00810583568217872, 'num_leaves': 40, 'min_data_in_leaf': 50, 'feature_fraction': 0.5805961359310754, 'bagging_fraction': 0.9179239282646837, 'bagging_freq': 5, 'lambda_l1': 3.433782572903992e-07, 'lambda_l2': 0.0001761033500271939}. Best is trial 26 with value: 0.5355135757329541.\n",
      "[I 2024-06-24 21:24:13,181] Trial 60 finished with value: 0.26639131514207687 and parameters: {'boosting_type': 'gbdt', 'eta': 3.1617753537169076e-05, 'num_leaves': 44, 'min_data_in_leaf': 40, 'feature_fraction': 0.7357147740736892, 'bagging_fraction': 0.9353493871946865, 'bagging_freq': 7, 'lambda_l1': 0.0001658758471029286, 'lambda_l2': 0.03956323893584863}. Best is trial 26 with value: 0.5355135757329541.\n",
      "[I 2024-06-24 21:24:57,718] Trial 61 finished with value: 0.5129212088383326 and parameters: {'boosting_type': 'gbdt', 'eta': 0.034776638034405324, 'num_leaves': 44, 'min_data_in_leaf': 30, 'feature_fraction': 0.6155363237495667, 'bagging_fraction': 0.4937506723218195, 'bagging_freq': 3, 'lambda_l1': 9.960221831603425e-06, 'lambda_l2': 3.976598336960957e-05}. Best is trial 26 with value: 0.5355135757329541.\n",
      "[I 2024-06-24 21:26:16,655] Trial 62 finished with value: 0.5308641975308642 and parameters: {'boosting_type': 'gbdt', 'eta': 0.10451368557515966, 'num_leaves': 41, 'min_data_in_leaf': 40, 'feature_fraction': 0.847810478817399, 'bagging_fraction': 0.867877441584467, 'bagging_freq': 3, 'lambda_l1': 1.5293803009834068e-06, 'lambda_l2': 1.2273837827014208e-05}. Best is trial 26 with value: 0.5355135757329541.\n",
      "[I 2024-06-24 21:27:18,517] Trial 63 finished with value: 0.5311801746902295 and parameters: {'boosting_type': 'gbdt', 'eta': 0.1685345344046815, 'num_leaves': 47, 'min_data_in_leaf': 40, 'feature_fraction': 0.8180987703194752, 'bagging_fraction': 0.8282312431079673, 'bagging_freq': 3, 'lambda_l1': 4.103342395016011e-05, 'lambda_l2': 1.9585142378086463e-05}. Best is trial 26 with value: 0.5355135757329541.\n",
      "[I 2024-06-24 21:27:38,989] Trial 64 finished with value: 0.5078655742884871 and parameters: {'boosting_type': 'gbdt', 'eta': 0.5537659719545334, 'num_leaves': 42, 'min_data_in_leaf': 50, 'feature_fraction': 0.9502610276618696, 'bagging_fraction': 0.7937751940614625, 'bagging_freq': 3, 'lambda_l1': 2.9313744064878983e-08, 'lambda_l2': 2.631853799054114e-06}. Best is trial 26 with value: 0.5355135757329541.\n",
      "[I 2024-06-24 21:28:32,742] Trial 65 finished with value: 0.5272530299952604 and parameters: {'boosting_type': 'gbdt', 'eta': 0.0706932102730059, 'num_leaves': 39, 'min_data_in_leaf': 40, 'feature_fraction': 0.790689076205269, 'bagging_fraction': 0.7463811543155914, 'bagging_freq': 2, 'lambda_l1': 3.0073891663926215e-06, 'lambda_l2': 0.00010869220870777613}. Best is trial 26 with value: 0.5355135757329541.\n",
      "[I 2024-06-24 21:29:28,553] Trial 66 finished with value: 0.5342722368925903 and parameters: {'boosting_type': 'gbdt', 'eta': 0.14966311663814094, 'num_leaves': 45, 'min_data_in_leaf': 30, 'feature_fraction': 0.7719352160774443, 'bagging_fraction': 0.8469173363704627, 'bagging_freq': 4, 'lambda_l1': 3.947663253873602e-07, 'lambda_l2': 4.840678651804872e-05}. Best is trial 26 with value: 0.5355135757329541.\n",
      "[I 2024-06-24 21:30:33,438] Trial 67 finished with value: 0.4879590132484709 and parameters: {'boosting_type': 'gbdt', 'eta': 0.014980977653927472, 'num_leaves': 45, 'min_data_in_leaf': 20, 'feature_fraction': 0.7459962546581551, 'bagging_fraction': 0.9031940681190923, 'bagging_freq': 4, 'lambda_l1': 9.36973697242849e-08, 'lambda_l2': 0.0004277593674147849}. Best is trial 26 with value: 0.5355135757329541.\n",
      "[I 2024-06-24 21:30:57,707] Trial 68 finished with value: 0.5150201999684023 and parameters: {'boosting_type': 'gbdt', 'eta': 0.4394752923446641, 'num_leaves': 49, 'min_data_in_leaf': 30, 'feature_fraction': 0.7751859278098728, 'bagging_fraction': 0.8464318855549599, 'bagging_freq': 5, 'lambda_l1': 4.2826211465883667e-07, 'lambda_l2': 4.974409009722644e-05}. Best is trial 26 with value: 0.5355135757329541.\n",
      "[I 2024-06-24 21:32:07,670] Trial 69 finished with value: 0.5123343941137969 and parameters: {'boosting_type': 'gbdt', 'eta': 0.03645546888345256, 'num_leaves': 48, 'min_data_in_leaf': 30, 'feature_fraction': 0.8023346897356252, 'bagging_fraction': 0.9538830326826754, 'bagging_freq': 4, 'lambda_l1': 1.0061834991733535e-06, 'lambda_l2': 7.190082867747318e-08}. Best is trial 26 with value: 0.5355135757329541.\n",
      "[I 2024-06-24 21:33:00,431] Trial 70 finished with value: 0.5360552508632948 and parameters: {'boosting_type': 'gbdt', 'eta': 0.1788056306137465, 'num_leaves': 46, 'min_data_in_leaf': 50, 'feature_fraction': 0.6912219810888475, 'bagging_fraction': 0.981859546023039, 'bagging_freq': 4, 'lambda_l1': 5.279524203599129e-06, 'lambda_l2': 9.244959331553632e-06}. Best is trial 70 with value: 0.5360552508632948.\n",
      "[I 2024-06-24 21:33:43,804] Trial 71 finished with value: 0.5314058726612048 and parameters: {'boosting_type': 'gbdt', 'eta': 0.22269132685028115, 'num_leaves': 30, 'min_data_in_leaf': 50, 'feature_fraction': 0.6931864485056687, 'bagging_fraction': 0.9790998150812334, 'bagging_freq': 4, 'lambda_l1': 5.876994925413869e-06, 'lambda_l2': 8.498905794365386e-07}. Best is trial 70 with value: 0.5360552508632948.\n",
      "[I 2024-06-24 21:34:43,473] Trial 72 finished with value: 0.5293971607195251 and parameters: {'boosting_type': 'gbdt', 'eta': 0.07805594428824365, 'num_leaves': 46, 'min_data_in_leaf': 50, 'feature_fraction': 0.7282486845102186, 'bagging_fraction': 0.9048898657464376, 'bagging_freq': 4, 'lambda_l1': 2.6522282045408775e-05, 'lambda_l2': 7.463908857213544e-06}. Best is trial 70 with value: 0.5360552508632948.\n",
      "[I 2024-06-24 21:35:41,401] Trial 73 finished with value: 0.5336628523709572 and parameters: {'boosting_type': 'gbdt', 'eta': 0.16829400330617428, 'num_leaves': 44, 'min_data_in_leaf': 50, 'feature_fraction': 0.8316511421577861, 'bagging_fraction': 0.941522769130899, 'bagging_freq': 4, 'lambda_l1': 0.0001322114216671682, 'lambda_l2': 2.9563515024846636e-06}. Best is trial 70 with value: 0.5360552508632948.\n",
      "[I 2024-06-24 21:35:58,709] Trial 74 finished with value: 0.4782088609023405 and parameters: {'boosting_type': 'gbdt', 'eta': 0.2117062104303059, 'num_leaves': 2, 'min_data_in_leaf': 50, 'feature_fraction': 0.6781532578356633, 'bagging_fraction': 0.9458554608402826, 'bagging_freq': 4, 'lambda_l1': 4.8024280526853756e-08, 'lambda_l2': 3.9106111035472075e-06}. Best is trial 70 with value: 0.5360552508632948.\n",
      "[I 2024-06-24 21:37:04,183] Trial 75 finished with value: 0.43112826415690525 and parameters: {'boosting_type': 'gbdt', 'eta': 0.004708426557400892, 'num_leaves': 44, 'min_data_in_leaf': 50, 'feature_fraction': 0.7506312549414703, 'bagging_fraction': 0.9832293085354303, 'bagging_freq': 5, 'lambda_l1': 1.4208318015121146e-05, 'lambda_l2': 1.032345577453926e-05}. Best is trial 70 with value: 0.5360552508632948.\n",
      "[I 2024-06-24 21:37:30,058] Trial 76 finished with value: 0.5209109170108561 and parameters: {'boosting_type': 'gbdt', 'eta': 0.3884047396072564, 'num_leaves': 43, 'min_data_in_leaf': 50, 'feature_fraction': 0.628957301005589, 'bagging_fraction': 0.9166918385235321, 'bagging_freq': 5, 'lambda_l1': 0.00014262441809827198, 'lambda_l2': 1.934750285377002e-06}. Best is trial 70 with value: 0.5360552508632948.\n",
      "[I 2024-06-24 21:38:27,943] Trial 77 finished with value: 0.5112736136502133 and parameters: {'boosting_type': 'gbdt', 'eta': 0.03871086931497702, 'num_leaves': 36, 'min_data_in_leaf': 50, 'feature_fraction': 0.7665344887690908, 'bagging_fraction': 0.9248603699656541, 'bagging_freq': 4, 'lambda_l1': 1.0633715975289842e-06, 'lambda_l2': 0.0009769137183630301}. Best is trial 70 with value: 0.5360552508632948.\n",
      "/home/sleepwalker/.local/lib/python3.10/site-packages/lightgbm/callback.py:325: UserWarning: Early stopping is not available in dart mode\n",
      "  _log_warning('Early stopping is not available in dart mode')\n",
      "[I 2024-06-24 21:39:44,454] Trial 78 finished with value: 0.5187216466923963 and parameters: {'boosting_type': 'dart', 'eta': 0.13212067234209637, 'num_leaves': 41, 'min_data_in_leaf': 30, 'feature_fraction': 0.840461423312437, 'bagging_fraction': 0.9985700935691941, 'bagging_freq': 4, 'lambda_l1': 0.0006050226888127935, 'lambda_l2': 0.00017153221203157216}. Best is trial 70 with value: 0.5360552508632948.\n",
      "[I 2024-06-24 21:40:44,163] Trial 79 finished with value: 0.5268919132416999 and parameters: {'boosting_type': 'gbdt', 'eta': 0.07095932130950161, 'num_leaves': 39, 'min_data_in_leaf': 40, 'feature_fraction': 0.805180353683907, 'bagging_fraction': 0.8791601849409271, 'bagging_freq': 3, 'lambda_l1': 0.0027700545502552156, 'lambda_l2': 3.175704919965723e-06}. Best is trial 70 with value: 0.5360552508632948.\n",
      "[I 2024-06-24 21:41:12,592] Trial 80 finished with value: 0.26639131514207687 and parameters: {'boosting_type': 'gbdt', 'eta': 9.600607221039325e-05, 'num_leaves': 6, 'min_data_in_leaf': 50, 'feature_fraction': 0.7212651723946132, 'bagging_fraction': 0.9761603590447976, 'bagging_freq': 4, 'lambda_l1': 5.211180736004747e-07, 'lambda_l2': 3.041137848328e-05}. Best is trial 70 with value: 0.5360552508632948.\n",
      "[I 2024-06-24 21:41:31,658] Trial 81 finished with value: 0.5040738483761031 and parameters: {'boosting_type': 'gbdt', 'eta': 0.7010099657799861, 'num_leaves': 34, 'min_data_in_leaf': 50, 'feature_fraction': 0.783635310185088, 'bagging_fraction': 0.9461350704484071, 'bagging_freq': 5, 'lambda_l1': 3.425760755919674e-06, 'lambda_l2': 1.4666223455106794e-05}. Best is trial 70 with value: 0.5360552508632948.\n",
      "[I 2024-06-24 21:42:33,879] Trial 82 finished with value: 0.5330760376464215 and parameters: {'boosting_type': 'gbdt', 'eta': 0.15822184466155736, 'num_leaves': 49, 'min_data_in_leaf': 50, 'feature_fraction': 0.8232330655930198, 'bagging_fraction': 0.8923118771331041, 'bagging_freq': 3, 'lambda_l1': 4.5469704908499215e-05, 'lambda_l2': 6.923072193280953e-05}. Best is trial 70 with value: 0.5360552508632948.\n",
      "[I 2024-06-24 21:42:54,315] Trial 83 finished with value: 0.5053377570135644 and parameters: {'boosting_type': 'gbdt', 'eta': 0.32412907948968805, 'num_leaves': 46, 'min_data_in_leaf': 0, 'feature_fraction': 0.8530040213974974, 'bagging_fraction': 0.8920086405642659, 'bagging_freq': 3, 'lambda_l1': 6.537744738110499e-05, 'lambda_l2': 8.874070614816747e-05}. Best is trial 70 with value: 0.5360552508632948.\n",
      "[I 2024-06-24 21:43:56,492] Trial 84 finished with value: 0.5337757013564448 and parameters: {'boosting_type': 'gbdt', 'eta': 0.15364424826988374, 'num_leaves': 49, 'min_data_in_leaf': 50, 'feature_fraction': 0.8333304064155941, 'bagging_fraction': 0.9310471682989064, 'bagging_freq': 3, 'lambda_l1': 1.0355052497445357e-05, 'lambda_l2': 6.965102173555329e-06}. Best is trial 70 with value: 0.5360552508632948.\n",
      "[I 2024-06-24 21:45:01,268] Trial 85 finished with value: 0.5333243054144943 and parameters: {'boosting_type': 'gbdt', 'eta': 0.15805838508711914, 'num_leaves': 48, 'min_data_in_leaf': 50, 'feature_fraction': 0.8787662881499306, 'bagging_fraction': 0.9288004789235091, 'bagging_freq': 4, 'lambda_l1': 9.90043218986868e-06, 'lambda_l2': 4.343893096285957e-05}. Best is trial 70 with value: 0.5360552508632948.\n",
      "[I 2024-06-24 21:46:13,238] Trial 86 finished with value: 0.48565689394452344 and parameters: {'boosting_type': 'gbdt', 'eta': 0.01355212907566977, 'num_leaves': 49, 'min_data_in_leaf': 50, 'feature_fraction': 0.8779852390434529, 'bagging_fraction': 0.8538367333763547, 'bagging_freq': 3, 'lambda_l1': 7.728731107029708e-06, 'lambda_l2': 0.0002521791206613686}. Best is trial 70 with value: 0.5360552508632948.\n",
      "[I 2024-06-24 21:47:16,175] Trial 87 finished with value: 0.5042544067528832 and parameters: {'boosting_type': 'gbdt', 'eta': 0.028059148966644912, 'num_leaves': 47, 'min_data_in_leaf': 50, 'feature_fraction': 0.8310342338883085, 'bagging_fraction': 0.9107049065050208, 'bagging_freq': 4, 'lambda_l1': 8.271253753766862, 'lambda_l2': 5.217416632174531e-05}. Best is trial 70 with value: 0.5360552508632948.\n",
      "[I 2024-06-24 21:48:21,079] Trial 88 finished with value: 0.5312704538786196 and parameters: {'boosting_type': 'gbdt', 'eta': 0.170805768195216, 'num_leaves': 49, 'min_data_in_leaf': 40, 'feature_fraction': 0.9152846198517861, 'bagging_fraction': 0.8939089246500111, 'bagging_freq': 3, 'lambda_l1': 4.379581281656913e-05, 'lambda_l2': 0.003806805488921129}. Best is trial 70 with value: 0.5360552508632948.\n",
      "[I 2024-06-24 21:49:29,350] Trial 89 finished with value: 0.5196921479675898 and parameters: {'boosting_type': 'gbdt', 'eta': 0.04907907034865265, 'num_leaves': 47, 'min_data_in_leaf': 10, 'feature_fraction': 0.8597246412148055, 'bagging_fraction': 0.83934285834657, 'bagging_freq': 4, 'lambda_l1': 0.0017809425180265424, 'lambda_l2': 8.771238097116548e-06}. Best is trial 70 with value: 0.5360552508632948.\n",
      "[I 2024-06-24 21:50:31,556] Trial 90 finished with value: 0.5304353713860113 and parameters: {'boosting_type': 'gbdt', 'eta': 0.08756092366132805, 'num_leaves': 45, 'min_data_in_leaf': 50, 'feature_fraction': 0.8277205854169718, 'bagging_fraction': 0.866969372490583, 'bagging_freq': 3, 'lambda_l1': 1.7918594476698548e-07, 'lambda_l2': 3.1030756846008147e-05}. Best is trial 70 with value: 0.5360552508632948.\n",
      "[I 2024-06-24 21:51:27,889] Trial 91 finished with value: 0.5286523574153068 and parameters: {'boosting_type': 'gbdt', 'eta': 0.24572308512804633, 'num_leaves': 50, 'min_data_in_leaf': 50, 'feature_fraction': 0.886600284955263, 'bagging_fraction': 0.9310813623378732, 'bagging_freq': 4, 'lambda_l1': 0.0003639621594949168, 'lambda_l2': 0.00014917038344470043}. Best is trial 70 with value: 0.5360552508632948.\n",
      "[I 2024-06-24 21:52:28,927] Trial 92 finished with value: 0.5327826302841537 and parameters: {'boosting_type': 'gbdt', 'eta': 0.16671951257566853, 'num_leaves': 48, 'min_data_in_leaf': 50, 'feature_fraction': 0.8683256728125461, 'bagging_fraction': 0.949936161287645, 'bagging_freq': 4, 'lambda_l1': 1.4788078444550846e-05, 'lambda_l2': 1.8644301032492014e-05}. Best is trial 70 with value: 0.5360552508632948.\n",
      "[I 2024-06-24 21:52:49,850] Trial 93 finished with value: 0.5021779854199111 and parameters: {'boosting_type': 'gbdt', 'eta': 0.6328386613616512, 'num_leaves': 48, 'min_data_in_leaf': 50, 'feature_fraction': 0.8766042915184901, 'bagging_fraction': 0.9513449642850365, 'bagging_freq': 4, 'lambda_l1': 1.2864262840948717e-05, 'lambda_l2': 6.86024719491843e-05}. Best is trial 70 with value: 0.5360552508632948.\n",
      "[I 2024-06-24 21:53:53,723] Trial 94 finished with value: 0.5214300223440991 and parameters: {'boosting_type': 'gbdt', 'eta': 0.057165648805843454, 'num_leaves': 44, 'min_data_in_leaf': 50, 'feature_fraction': 0.8443718743811791, 'bagging_fraction': 0.8780961382321841, 'bagging_freq': 4, 'lambda_l1': 0.00011821556223158028, 'lambda_l2': 3.6940836542643915e-05}. Best is trial 70 with value: 0.5360552508632948.\n",
      "[I 2024-06-24 21:54:54,505] Trial 95 finished with value: 0.534430225472273 and parameters: {'boosting_type': 'gbdt', 'eta': 0.17292376629085449, 'num_leaves': 43, 'min_data_in_leaf': 50, 'feature_fraction': 0.9446415945275466, 'bagging_fraction': 0.903708279541259, 'bagging_freq': 3, 'lambda_l1': 2.0225042826347036e-05, 'lambda_l2': 1.5942533599092525e-05}. Best is trial 70 with value: 0.5360552508632948.\n",
      "[I 2024-06-24 21:55:44,815] Trial 96 finished with value: 0.5289683345746722 and parameters: {'boosting_type': 'gbdt', 'eta': 0.10754506653775438, 'num_leaves': 23, 'min_data_in_leaf': 50, 'feature_fraction': 0.9650701119534161, 'bagging_fraction': 0.8997390851394272, 'bagging_freq': 3, 'lambda_l1': 2.6573657165804685e-05, 'lambda_l2': 9.833249539586123e-07}. Best is trial 70 with value: 0.5360552508632948.\n",
      "[I 2024-06-24 21:56:13,377] Trial 97 finished with value: 0.5137337215338434 and parameters: {'boosting_type': 'gbdt', 'eta': 0.30886314614239757, 'num_leaves': 43, 'min_data_in_leaf': 40, 'feature_fraction': 0.9056067950763107, 'bagging_fraction': 0.551340874852079, 'bagging_freq': 3, 'lambda_l1': 5.138232110296726e-05, 'lambda_l2': 0.00037701888969612907}. Best is trial 70 with value: 0.5360552508632948.\n",
      "[I 2024-06-24 21:57:21,681] Trial 98 finished with value: 0.26639131514207687 and parameters: {'boosting_type': 'gbdt', 'eta': 8.347850233425656e-08, 'num_leaves': 46, 'min_data_in_leaf': 50, 'feature_fraction': 0.8144516245833144, 'bagging_fraction': 0.9228802094424449, 'bagging_freq': 2, 'lambda_l1': 1.54868613721704e-06, 'lambda_l2': 6.2036026570442905e-06}. Best is trial 70 with value: 0.5360552508632948.\n",
      "[I 2024-06-24 21:58:22,203] Trial 99 finished with value: 0.502990498115422 and parameters: {'boosting_type': 'gbdt', 'eta': 0.02767462206748452, 'num_leaves': 42, 'min_data_in_leaf': 50, 'feature_fraction': 0.9427858059620352, 'bagging_fraction': 0.6110269079730511, 'bagging_freq': 3, 'lambda_l1': 6.334186081508795e-06, 'lambda_l2': 2.378993515667405e-06}. Best is trial 70 with value: 0.5360552508632948.\n",
      "[I 2024-06-24 21:59:05,491] Trial 100 finished with value: 0.26639131514207687 and parameters: {'boosting_type': 'gbdt', 'eta': 3.991826120591312e-06, 'num_leaves': 45, 'min_data_in_leaf': 40, 'feature_fraction': 0.41213605930049024, 'bagging_fraction': 0.7991907429815641, 'bagging_freq': 3, 'lambda_l1': 2.3786657257471852e-05, 'lambda_l2': 3.1897735995914863e-07}. Best is trial 70 with value: 0.5360552508632948.\n",
      "[I 2024-06-24 21:59:30,529] Trial 101 finished with value: 0.5103482519692149 and parameters: {'boosting_type': 'gbdt', 'eta': 0.49480039199923403, 'num_leaves': 49, 'min_data_in_leaf': 50, 'feature_fraction': 0.9388585014450168, 'bagging_fraction': 0.8365285029791811, 'bagging_freq': 2, 'lambda_l1': 9.468566451891747e-08, 'lambda_l2': 0.0001124287388204137}. Best is trial 70 with value: 0.5360552508632948.\n",
      "[I 2024-06-24 22:00:31,397] Trial 102 finished with value: 0.5335951429796646 and parameters: {'boosting_type': 'gbdt', 'eta': 0.16660460357090992, 'num_leaves': 47, 'min_data_in_leaf': 50, 'feature_fraction': 0.8680810827099346, 'bagging_fraction': 0.9367879996259197, 'bagging_freq': 4, 'lambda_l1': 9.826410351528779e-06, 'lambda_l2': 2.3487799027864897e-05}. Best is trial 70 with value: 0.5360552508632948.\n",
      "[I 2024-06-24 22:01:37,422] Trial 103 finished with value: 0.5342948066896879 and parameters: {'boosting_type': 'gbdt', 'eta': 0.12478103012409346, 'num_leaves': 47, 'min_data_in_leaf': 50, 'feature_fraction': 0.9016048445503779, 'bagging_fraction': 0.8845064032410712, 'bagging_freq': 3, 'lambda_l1': 0.00018936053582321497, 'lambda_l2': 1.4561851539095381e-05}. Best is trial 70 with value: 0.5360552508632948.\n",
      "[I 2024-06-24 22:02:48,353] Trial 104 finished with value: 0.5299839754440607 and parameters: {'boosting_type': 'gbdt', 'eta': 0.08677823679414359, 'num_leaves': 43, 'min_data_in_leaf': 50, 'feature_fraction': 0.994718915893115, 'bagging_fraction': 0.9121817172876768, 'bagging_freq': 4, 'lambda_l1': 9.467253237055899e-05, 'lambda_l2': 1.5164878618698544e-05}. Best is trial 70 with value: 0.5360552508632948.\n"
     ]
    },
    {
     "name": "stdout",
     "output_type": "stream",
     "text": [
      "Best hyperparameters:  {'boosting_type': 'gbdt', 'eta': 0.1788056306137465, 'num_leaves': 46, 'min_data_in_leaf': 50, 'feature_fraction': 0.6912219810888475, 'bagging_fraction': 0.981859546023039, 'bagging_freq': 4, 'lambda_l1': 5.279524203599129e-06, 'lambda_l2': 9.244959331553632e-06}\n",
      "Best score:  0.5360552508632948\n"
     ]
    }
   ],
   "source": [
    "study_name = \"all_in_one_baseline\"\n",
    "\n",
    "study = project_api.train_lgb(\n",
    "    study_name=study_name,\n",
    "    X_train=X_all_train,\n",
    "    y_train=y_train,\n",
    "    X_test=X_all_test,\n",
    "    y_test=y_test,\n",
    ")"
   ]
  },
  {
   "cell_type": "markdown",
   "metadata": {},
   "source": [
    "## Dataset combination summary\n",
    "\n",
    "| Dataset                                                     | Accuracy | Delta  |\n",
    "| ----------------------------------------------------------- | -------- | ------ |\n",
    "| **baseline**: fe (814 features)                             | 46.99%   | 0      |\n",
    "| bnum (2719 features)                                        | 39.67%   | -7.32% |\n",
    "| dpi (2888 features)                                         | 50.39%   | 3.4%   |\n",
    "| fe (814 features) + bnum (300 features)                     | 48.43%   | 1.44%  |\n",
    "| fe (814 features) + dpi (200 features)                      | 53.13%   | 6.14%  |\n",
    "| fe (75 features) + bnum (300 features) + dpi (200 features) | 53.61%   | 6.62%  |\n"
   ]
  }
 ],
 "metadata": {
  "kernelspec": {
   "display_name": "Python 3 (ipykernel)",
   "language": "python",
   "name": "python3"
  },
  "language_info": {
   "codemirror_mode": {
    "name": "ipython",
    "version": 3
   },
   "file_extension": ".py",
   "mimetype": "text/x-python",
   "name": "python",
   "nbconvert_exporter": "python",
   "pygments_lexer": "ipython3",
   "version": "3.10.12"
  }
 },
 "nbformat": 4,
 "nbformat_minor": 2
}

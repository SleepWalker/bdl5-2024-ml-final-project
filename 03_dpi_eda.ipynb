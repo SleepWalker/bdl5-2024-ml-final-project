{
 "cells": [
  {
   "cell_type": "markdown",
   "metadata": {},
   "source": [
    "## EDA of dpi dataset (application usage data)\n",
    "\n",
    "Examine data from `dpi` dataset and decide what extra features can we get.\n"
   ]
  },
  {
   "cell_type": "code",
   "execution_count": 1,
   "metadata": {},
   "outputs": [],
   "source": [
    "import pandas as pd\n",
    "import numpy as np\n",
    "from utils import eda\n",
    "import plotly.express as px"
   ]
  },
  {
   "cell_type": "code",
   "execution_count": 2,
   "metadata": {},
   "outputs": [],
   "source": [
    "RANDOM_SEED = 42\n",
    "TARGET_KEY = \"target\""
   ]
  },
  {
   "cell_type": "code",
   "execution_count": 3,
   "metadata": {},
   "outputs": [],
   "source": [
    "df_train_targets = pd.read_parquet(\n",
    "    \"./data/train_fe/\",\n",
    "    columns=[TARGET_KEY],\n",
    ")"
   ]
  },
  {
   "cell_type": "code",
   "execution_count": 8,
   "metadata": {},
   "outputs": [
    {
     "name": "stdout",
     "output_type": "stream",
     "text": [
      "<class 'pandas.core.frame.DataFrame'>\n",
      "Index: 7058446 entries, 1525928 to 131296645\n",
      "Data columns (total 5 columns):\n",
      " #   Column               Dtype  \n",
      "---  ------               -----  \n",
      " 0   Application          int16  \n",
      " 1   SUM_of_Duration_sec  float16\n",
      " 2   SUM_of_Volume_kb     float16\n",
      " 3   SUM_of_Count_events  float16\n",
      " 4   MAX_of_day_cnt       float16\n",
      "dtypes: float16(4), int16(1)\n",
      "memory usage: 94.2 MB\n",
      "None\n"
     ]
    },
    {
     "data": {
      "text/html": [
       "<div>\n",
       "<style scoped>\n",
       "    .dataframe tbody tr th:only-of-type {\n",
       "        vertical-align: middle;\n",
       "    }\n",
       "\n",
       "    .dataframe tbody tr th {\n",
       "        vertical-align: top;\n",
       "    }\n",
       "\n",
       "    .dataframe thead th {\n",
       "        text-align: right;\n",
       "    }\n",
       "</style>\n",
       "<table border=\"1\" class=\"dataframe\">\n",
       "  <thead>\n",
       "    <tr style=\"text-align: right;\">\n",
       "      <th></th>\n",
       "      <th>Application</th>\n",
       "      <th>SUM_of_Duration_sec</th>\n",
       "      <th>SUM_of_Volume_kb</th>\n",
       "      <th>SUM_of_Count_events</th>\n",
       "      <th>MAX_of_day_cnt</th>\n",
       "    </tr>\n",
       "    <tr>\n",
       "      <th>abon_id</th>\n",
       "      <th></th>\n",
       "      <th></th>\n",
       "      <th></th>\n",
       "      <th></th>\n",
       "      <th></th>\n",
       "    </tr>\n",
       "  </thead>\n",
       "  <tbody>\n",
       "    <tr>\n",
       "      <th>1525928</th>\n",
       "      <td>115</td>\n",
       "      <td>45.375000</td>\n",
       "      <td>109.500000</td>\n",
       "      <td>27.015625</td>\n",
       "      <td>3.0</td>\n",
       "    </tr>\n",
       "    <tr>\n",
       "      <th>1525928</th>\n",
       "      <td>175</td>\n",
       "      <td>41.125000</td>\n",
       "      <td>54.187500</td>\n",
       "      <td>14.421875</td>\n",
       "      <td>5.0</td>\n",
       "    </tr>\n",
       "    <tr>\n",
       "      <th>1525928</th>\n",
       "      <td>240</td>\n",
       "      <td>103.750000</td>\n",
       "      <td>144.125000</td>\n",
       "      <td>59.968750</td>\n",
       "      <td>16.0</td>\n",
       "    </tr>\n",
       "    <tr>\n",
       "      <th>1525928</th>\n",
       "      <td>246</td>\n",
       "      <td>18.296875</td>\n",
       "      <td>1.418945</td>\n",
       "      <td>1.480469</td>\n",
       "      <td>1.0</td>\n",
       "    </tr>\n",
       "    <tr>\n",
       "      <th>1525928</th>\n",
       "      <td>254</td>\n",
       "      <td>57.656250</td>\n",
       "      <td>74.750000</td>\n",
       "      <td>28.531250</td>\n",
       "      <td>19.0</td>\n",
       "    </tr>\n",
       "    <tr>\n",
       "      <th>...</th>\n",
       "      <td>...</td>\n",
       "      <td>...</td>\n",
       "      <td>...</td>\n",
       "      <td>...</td>\n",
       "      <td>...</td>\n",
       "    </tr>\n",
       "    <tr>\n",
       "      <th>131296645</th>\n",
       "      <td>1127</td>\n",
       "      <td>15.984375</td>\n",
       "      <td>5.457031</td>\n",
       "      <td>1.480469</td>\n",
       "      <td>1.0</td>\n",
       "    </tr>\n",
       "    <tr>\n",
       "      <th>131296645</th>\n",
       "      <td>1353</td>\n",
       "      <td>1.480469</td>\n",
       "      <td>5.886719</td>\n",
       "      <td>1.480469</td>\n",
       "      <td>1.0</td>\n",
       "    </tr>\n",
       "    <tr>\n",
       "      <th>131296645</th>\n",
       "      <td>1373</td>\n",
       "      <td>25.484375</td>\n",
       "      <td>21.109375</td>\n",
       "      <td>4.785156</td>\n",
       "      <td>2.0</td>\n",
       "    </tr>\n",
       "    <tr>\n",
       "      <th>131296645</th>\n",
       "      <td>1462</td>\n",
       "      <td>20.203125</td>\n",
       "      <td>85.500000</td>\n",
       "      <td>9.671875</td>\n",
       "      <td>1.0</td>\n",
       "    </tr>\n",
       "    <tr>\n",
       "      <th>131296645</th>\n",
       "      <td>2046</td>\n",
       "      <td>29.890625</td>\n",
       "      <td>61.718750</td>\n",
       "      <td>26.500000</td>\n",
       "      <td>3.0</td>\n",
       "    </tr>\n",
       "  </tbody>\n",
       "</table>\n",
       "<p>7058446 rows × 5 columns</p>\n",
       "</div>"
      ],
      "text/plain": [
       "           Application  SUM_of_Duration_sec  SUM_of_Volume_kb  \\\n",
       "abon_id                                                         \n",
       "1525928            115            45.375000        109.500000   \n",
       "1525928            175            41.125000         54.187500   \n",
       "1525928            240           103.750000        144.125000   \n",
       "1525928            246            18.296875          1.418945   \n",
       "1525928            254            57.656250         74.750000   \n",
       "...                ...                  ...               ...   \n",
       "131296645         1127            15.984375          5.457031   \n",
       "131296645         1353             1.480469          5.886719   \n",
       "131296645         1373            25.484375         21.109375   \n",
       "131296645         1462            20.203125         85.500000   \n",
       "131296645         2046            29.890625         61.718750   \n",
       "\n",
       "           SUM_of_Count_events  MAX_of_day_cnt  \n",
       "abon_id                                         \n",
       "1525928              27.015625             3.0  \n",
       "1525928              14.421875             5.0  \n",
       "1525928              59.968750            16.0  \n",
       "1525928               1.480469             1.0  \n",
       "1525928              28.531250            19.0  \n",
       "...                        ...             ...  \n",
       "131296645             1.480469             1.0  \n",
       "131296645             1.480469             1.0  \n",
       "131296645             4.785156             2.0  \n",
       "131296645             9.671875             1.0  \n",
       "131296645            26.500000             3.0  \n",
       "\n",
       "[7058446 rows x 5 columns]"
      ]
     },
     "execution_count": 8,
     "metadata": {},
     "output_type": "execute_result"
    }
   ],
   "source": [
    "df_train_dpi = pd.read_parquet(\"./data/train_dpi\")\n",
    "\n",
    "print(df_train_dpi.info())\n",
    "df_train_dpi"
   ]
  },
  {
   "cell_type": "code",
   "execution_count": 9,
   "metadata": {},
   "outputs": [
    {
     "name": "stdout",
     "output_type": "stream",
     "text": [
      "Missing values report:\n",
      "No missing values found!\n"
     ]
    },
    {
     "data": {
      "text/html": [
       "<div>\n",
       "<style scoped>\n",
       "    .dataframe tbody tr th:only-of-type {\n",
       "        vertical-align: middle;\n",
       "    }\n",
       "\n",
       "    .dataframe tbody tr th {\n",
       "        vertical-align: top;\n",
       "    }\n",
       "\n",
       "    .dataframe thead th {\n",
       "        text-align: right;\n",
       "    }\n",
       "</style>\n",
       "<table border=\"1\" class=\"dataframe\">\n",
       "  <thead>\n",
       "    <tr style=\"text-align: right;\">\n",
       "      <th></th>\n",
       "      <th>Total</th>\n",
       "      <th>Rate</th>\n",
       "    </tr>\n",
       "  </thead>\n",
       "  <tbody>\n",
       "  </tbody>\n",
       "</table>\n",
       "</div>"
      ],
      "text/plain": [
       "Empty DataFrame\n",
       "Columns: [Total, Rate]\n",
       "Index: []"
      ]
     },
     "execution_count": 9,
     "metadata": {},
     "output_type": "execute_result"
    }
   ],
   "source": [
    "eda.print_missing(df_train_dpi)"
   ]
  },
  {
   "cell_type": "code",
   "execution_count": 10,
   "metadata": {},
   "outputs": [
    {
     "name": "stdout",
     "output_type": "stream",
     "text": [
      "Unique values report:\n",
      "                       uniq      rate\n",
      "MAX_of_day_cnt           30  0.000004\n",
      "Application             751  0.000106\n",
      "SUM_of_Count_events    2843  0.000403\n",
      "SUM_of_Duration_sec    3378  0.000479\n",
      "SUM_of_Volume_kb       6877  0.000974\n",
      "abon_id              119799  0.016972\n",
      "Total rows: 7058446\n"
     ]
    }
   ],
   "source": [
    "df_train_dpi[\"abon_id\"] = df_train_dpi.index\n",
    "eda.print_uniq(df_train_dpi)"
   ]
  }
 ],
 "metadata": {
  "kernelspec": {
   "display_name": "Python 3",
   "language": "python",
   "name": "python3"
  },
  "language_info": {
   "codemirror_mode": {
    "name": "ipython",
    "version": 3
   },
   "file_extension": ".py",
   "mimetype": "text/x-python",
   "name": "python",
   "nbconvert_exporter": "python",
   "pygments_lexer": "ipython3",
   "version": "3.10.12"
  }
 },
 "nbformat": 4,
 "nbformat_minor": 2
}

{
 "cells": [
  {
   "cell_type": "markdown",
   "metadata": {},
   "source": [
    "# Test fe dataset in combination with bnum\n",
    "\n",
    "In this notebook we will test how the two datasets fe and bnum work together to train a model. We will compare two strategies:\n",
    "\n",
    "- train model on bnum dataset and use it as feature for fe dataset and then train the final model on that dataset\n",
    "- add bnum features to fe dataset and train one model for all features\n",
    "\n",
    "We also want to compare 40 and 300 columns of bnum dataset to findout which will give us a better compromise.\n",
    "\n",
    "## TLDR\n",
    "\n",
    "- using predictions as features shows slightly worse results (`0.4734` vs `0.4756`). Probably because this reduces information available for model\n",
    "- combining top300 bnum features produces better results then top40 (`0.4843` vs `0.4756`)\n",
    "- combining two datasets delivered 1.4% improvement over baseline model `0.4843` vs `0.4699`.\n"
   ]
  },
  {
   "cell_type": "code",
   "execution_count": 1,
   "metadata": {},
   "outputs": [],
   "source": [
    "import pandas as pd\n",
    "import project.bnum as bnum\n",
    "import project.project_api as project_api\n",
    "import utils.model_lgb as model_lgb"
   ]
  },
  {
   "cell_type": "code",
   "execution_count": 2,
   "metadata": {},
   "outputs": [],
   "source": [
    "RANDOM_SEED = 42\n",
    "TARGET_KEY = \"target\"\n",
    "\n",
    "train_fe_path = \"./data/train_fe\"\n",
    "test_fe_path = \"./data/test_fe\"\n",
    "train_bnum_path = \"./data/train_bnum\"\n",
    "test_bnum_path = \"./data/test_bnum\"\n",
    "bnum_selection_path = \"./data/bnum_initial_names.json\"\n",
    "top40_features_path = \"./data/bnum_top40_features.json\"\n",
    "top300_features_path = \"./data/bnum_top300_features.json\""
   ]
  },
  {
   "cell_type": "markdown",
   "metadata": {},
   "source": [
    "Load `fe` dataset:\n"
   ]
  },
  {
   "cell_type": "code",
   "execution_count": 3,
   "metadata": {},
   "outputs": [
    {
     "name": "stdout",
     "output_type": "stream",
     "text": [
      "Train X: (146953, 815)\n",
      "Train y: (146953,)\n",
      "Test X: (44307, 815)\n",
      "Test y: (44307,)\n"
     ]
    }
   ],
   "source": [
    "df_train = pd.read_parquet(train_fe_path)\n",
    "df_test = pd.read_parquet(test_fe_path)\n",
    "\n",
    "X_train = df_train.drop(columns=[TARGET_KEY])\n",
    "# lgb requires zero-based classes\n",
    "y_train = df_train[TARGET_KEY] - 1\n",
    "X_test = df_test.drop(columns=[TARGET_KEY])\n",
    "# lgb requires zero-based classes\n",
    "y_test = df_test[TARGET_KEY] - 1\n",
    "\n",
    "del df_train\n",
    "del df_test\n",
    "\n",
    "print(f\"Train X: {X_train.shape}\")\n",
    "print(f\"Train y: {y_train.shape}\")\n",
    "print(f\"Test X: {X_test.shape}\")\n",
    "print(f\"Test y: {y_test.shape}\")"
   ]
  },
  {
   "cell_type": "markdown",
   "metadata": {},
   "source": [
    "Load `bnum` dataset:\n"
   ]
  },
  {
   "cell_type": "code",
   "execution_count": 4,
   "metadata": {},
   "outputs": [],
   "source": [
    "# just reuse previous dataset but select only top features\n",
    "X_bnum40_train, y_bnum40_train = bnum.preprocess(\n",
    "    name=\"bnum_initial_train\",\n",
    "    bnum_path=train_bnum_path,\n",
    "    fe_path=train_fe_path,\n",
    "    bnum_selection_path=bnum_selection_path,\n",
    "    feature_selection_path=top40_features_path,\n",
    ")\n",
    "X_bnum40_test, y_bnum40_test = bnum.preprocess(\n",
    "    name=\"bnum_initial_test\",\n",
    "    bnum_path=test_bnum_path,\n",
    "    fe_path=test_fe_path,\n",
    "    bnum_selection_path=bnum_selection_path,\n",
    "    feature_selection_path=top40_features_path,\n",
    ")"
   ]
  },
  {
   "cell_type": "code",
   "execution_count": 5,
   "metadata": {},
   "outputs": [],
   "source": [
    "# lgb_top300 = model_lgb.load(\"2024_06_12_bnum_top300_acc_3934\")\n",
    "lgb_top40_pred, _ = model_lgb.load(\"2024_06_12_bnum_top40_acc_351\")\n",
    "\n",
    "bnum40_train_preds = lgb_top40_pred(X_bnum40_train)\n",
    "bnum40_test_preds = lgb_top40_pred(X_bnum40_test)"
   ]
  },
  {
   "cell_type": "code",
   "execution_count": 6,
   "metadata": {},
   "outputs": [],
   "source": [
    "X_train_with_top40_preds = X_train.merge(\n",
    "    pd.DataFrame(\n",
    "        {\"bnum_class\": bnum40_train_preds},\n",
    "        index=X_bnum40_train.index,\n",
    "    ),\n",
    "    how=\"left\",\n",
    "    left_index=True,\n",
    "    right_index=True,\n",
    ").fillna(-1)\n",
    "X_test_with_top40_preds = X_test.merge(\n",
    "    pd.DataFrame(\n",
    "        {\"bnum_class\": bnum40_test_preds},\n",
    "        index=X_bnum40_test.index,\n",
    "    ),\n",
    "    how=\"left\",\n",
    "    left_index=True,\n",
    "    right_index=True,\n",
    ").fillna(-1)"
   ]
  },
  {
   "cell_type": "code",
   "execution_count": 7,
   "metadata": {},
   "outputs": [
    {
     "name": "stderr",
     "output_type": "stream",
     "text": [
      "[I 2024-07-08 17:48:34,538] Using an existing study with name 'test_fe_with_bnum_top40_preds' instead of creating a new one.\n"
     ]
    },
    {
     "name": "stdout",
     "output_type": "stream",
     "text": [
      "Best hyperparameters:  {'eta': 0.15834994984280545, 'boosting_type': 'gbdt', 'lambda_l1': 0.000299385503046467, 'lambda_l2': 2.458176583063629, 'num_leaves': 22, 'min_data_in_leaf': 50, 'feature_fraction': 0.9569277875988987, 'bagging_fraction': 0.9432542035138796, 'bagging_freq': 3}\n",
      "Best score:  0.4734240639176654\n"
     ]
    }
   ],
   "source": [
    "# Best hyperparameters:  {'eta': 0.15834994984280545, 'boosting_type': 'gbdt', 'lambda_l1': 0.000299385503046467, 'lambda_l2': 2.458176583063629, 'num_leaves': 22, 'min_data_in_leaf': 50, 'feature_fraction': 0.9569277875988987, 'bagging_fraction': 0.9432542035138796, 'bagging_freq': 3}\n",
    "# Best score:  0.4734240639176654\n",
    "study_name = \"test_fe_with_bnum_top40_preds\"\n",
    "\n",
    "study = project_api.train_lgb(\n",
    "    study_name=study_name,\n",
    "    X_train=X_train_with_top40_preds,\n",
    "    y_train=y_train,\n",
    "    X_test=X_test_with_top40_preds,\n",
    "    y_test=y_test,\n",
    ")"
   ]
  },
  {
   "cell_type": "code",
   "execution_count": 8,
   "metadata": {},
   "outputs": [],
   "source": [
    "X_train_with_top40_features = X_train.merge(\n",
    "    X_bnum40_train,\n",
    "    how=\"left\",\n",
    "    left_index=True,\n",
    "    right_index=True,\n",
    ").fillna(-1)\n",
    "X_test_with_top40_features = X_test.merge(\n",
    "    X_bnum40_test,\n",
    "    how=\"left\",\n",
    "    left_index=True,\n",
    "    right_index=True,\n",
    ").fillna(-1)"
   ]
  },
  {
   "cell_type": "code",
   "execution_count": 9,
   "metadata": {},
   "outputs": [
    {
     "name": "stderr",
     "output_type": "stream",
     "text": [
      "[I 2024-07-08 17:48:36,585] Using an existing study with name 'test_fe_with_bnum_top40_features' instead of creating a new one.\n"
     ]
    },
    {
     "name": "stdout",
     "output_type": "stream",
     "text": [
      "Best hyperparameters:  {'eta': 0.20698979175140425, 'boosting_type': 'gbdt', 'lambda_l1': 1.3608943424323632e-07, 'lambda_l2': 6.894263711482318e-08, 'num_leaves': 12, 'min_data_in_leaf': 50, 'feature_fraction': 0.9391108952876936, 'bagging_fraction': 0.8290092482261175, 'bagging_freq': 6}\n",
      "Best score:  0.4755907644390277\n"
     ]
    }
   ],
   "source": [
    "# Best hyperparameters:  {'eta': 0.20698979175140425, 'boosting_type': 'gbdt', 'lambda_l1': 1.3608943424323632e-07, 'lambda_l2': 6.894263711482318e-08, 'num_leaves': 12, 'min_data_in_leaf': 50, 'feature_fraction': 0.9391108952876936, 'bagging_fraction': 0.8290092482261175, 'bagging_freq': 6}\n",
    "# Best score:  0.4755907644390277\n",
    "study_name = \"test_fe_with_bnum_top40_features\"\n",
    "\n",
    "study = project_api.train_lgb(\n",
    "    study_name=study_name,\n",
    "    X_train=X_train_with_top40_features,\n",
    "    y_train=y_train,\n",
    "    X_test=X_test_with_top40_features,\n",
    "    y_test=y_test,\n",
    ")"
   ]
  },
  {
   "cell_type": "code",
   "execution_count": 10,
   "metadata": {},
   "outputs": [],
   "source": [
    "# just reuse previous dataset but select only top features\n",
    "X_bnum300_train, y_bnum300_train = bnum.preprocess(\n",
    "    name=\"bnum_initial_train\",\n",
    "    bnum_path=train_bnum_path,\n",
    "    fe_path=train_fe_path,\n",
    "    bnum_selection_path=bnum_selection_path,\n",
    "    feature_selection_path=top300_features_path,\n",
    ")\n",
    "X_bnum300_test, y_bnum300_test = bnum.preprocess(\n",
    "    name=\"bnum_initial_test\",\n",
    "    bnum_path=test_bnum_path,\n",
    "    fe_path=test_fe_path,\n",
    "    bnum_selection_path=bnum_selection_path,\n",
    "    feature_selection_path=top300_features_path,\n",
    ")\n",
    "\n",
    "X_train_with_top300_features = X_train.merge(\n",
    "    X_bnum300_train,\n",
    "    how=\"left\",\n",
    "    left_index=True,\n",
    "    right_index=True,\n",
    ").fillna(-1)\n",
    "X_test_with_top300_features = X_test.merge(\n",
    "    X_bnum300_test,\n",
    "    how=\"left\",\n",
    "    left_index=True,\n",
    "    right_index=True,\n",
    ").fillna(-1)"
   ]
  },
  {
   "cell_type": "code",
   "execution_count": 11,
   "metadata": {},
   "outputs": [
    {
     "name": "stderr",
     "output_type": "stream",
     "text": [
      "[I 2024-07-08 17:48:41,058] Using an existing study with name 'test_fe_with_bnum_top300_features' instead of creating a new one.\n"
     ]
    },
    {
     "name": "stdout",
     "output_type": "stream",
     "text": [
      "Best hyperparameters:  {'eta': 0.14136817539870614, 'boosting_type': 'gbdt', 'lambda_l1': 0.9466691463188805, 'lambda_l2': 6.022126036738851e-06, 'num_leaves': 28, 'min_data_in_leaf': 50, 'feature_fraction': 0.9163666848899368, 'bagging_fraction': 0.9234875985008758, 'bagging_freq': 4}\n",
      "Best score:  0.484302706118672\n"
     ]
    }
   ],
   "source": [
    "# Best hyperparameters:  {'eta': 0.14136817539870614, 'boosting_type': 'gbdt', 'lambda_l1': 0.9466691463188805, 'lambda_l2': 6.022126036738851e-06, 'num_leaves': 28, 'min_data_in_leaf': 50, 'feature_fraction': 0.9163666848899368, 'bagging_fraction': 0.9234875985008758, 'bagging_freq': 4}\n",
    "# Best score:  0.484302706118672\n",
    "study_name = \"test_fe_with_bnum_top300_features\"\n",
    "\n",
    "study = project_api.train_lgb(\n",
    "    study_name=study_name,\n",
    "    X_train=X_train_with_top300_features,\n",
    "    y_train=y_train,\n",
    "    X_test=X_test_with_top300_features,\n",
    "    y_test=y_test,\n",
    ")"
   ]
  },
  {
   "cell_type": "markdown",
   "metadata": {},
   "source": [
    "## Conclusion\n",
    "\n",
    "We've got 1.4% improvement over baseline model `0.4843` vs `0.4699`.\n"
   ]
  }
 ],
 "metadata": {
  "kernelspec": {
   "display_name": "Python 3 (ipykernel)",
   "language": "python",
   "name": "python3"
  },
  "language_info": {
   "codemirror_mode": {
    "name": "ipython",
    "version": 3
   },
   "file_extension": ".py",
   "mimetype": "text/x-python",
   "name": "python",
   "nbconvert_exporter": "python",
   "pygments_lexer": "ipython3",
   "version": "3.10.12"
  }
 },
 "nbformat": 4,
 "nbformat_minor": 2
}
